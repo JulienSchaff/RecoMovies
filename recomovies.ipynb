{
 "cells": [
  {
   "cell_type": "code",
   "outputs": [],
   "source": [
    "import numpy as np\n",
    "import pandas as pd\n",
    "import tensorflow as tf\n",
    "\n",
    "from sklearn.preprocessing import MinMaxScaler\n",
    "from sklearn.model_selection import train_test_split\n",
    "from sklearn.metrics.pairwise import cosine_similarity"
   ],
   "metadata": {
    "collapsed": false,
    "ExecuteTime": {
     "end_time": "2024-07-07T20:24:22.784230600Z",
     "start_time": "2024-07-07T20:24:18.746170400Z"
    }
   },
   "id": "60eaee8e91644d75",
   "execution_count": 1
  },
  {
   "cell_type": "markdown",
   "source": [
    "### Data loading\n",
    "\n",
    "We will only use the MovieLens 1M dataset for this project, as we will use the movies genres as features.\n",
    "The IMDb dataset does not provide the ratings of movies, and genres are already present in the MovieLens dataset.\n",
    "\n",
    "Moreover, the IMDb dataset has much more movies than the MovieLens dataset, and we wouldn't be able to do anything with them.\n",
    "\n",
    "We could use the IMDb dataset to get cast information, but this would increase the dimension of the features way to much for a recommendation system like this to be efficient."
   ],
   "metadata": {
    "collapsed": false
   },
   "id": "89d47293363ec318"
  },
  {
   "cell_type": "code",
   "outputs": [],
   "source": [
    "df_movies = pd.read_csv(\"ml-1m/movies.dat\", sep=\"::\", engine=\"python\", encoding='latin-1', names=['movieId', 'title', 'genres'])\n",
    "df_ratings = pd.read_csv(\"ml-1m/ratings.dat\", sep=\"::\", engine=\"python\", encoding='latin-1', names=['userId', 'movieId', 'rating', 'timestamp'])\n",
    "df_users = pd.read_csv(\"ml-1m/users.dat\", sep=\"::\", engine=\"python\", encoding='latin-1', names=['userId', 'gender', 'age', 'occupation', 'zip'])"
   ],
   "metadata": {
    "collapsed": false,
    "ExecuteTime": {
     "end_time": "2024-07-07T20:24:26.337325500Z",
     "start_time": "2024-07-07T20:24:22.787231800Z"
    }
   },
   "id": "b30c84a55e769d6",
   "execution_count": 2
  },
  {
   "cell_type": "markdown",
   "source": [
    "Clean the movies dataframe"
   ],
   "metadata": {
    "collapsed": false
   },
   "id": "c413859e5670f9ef"
  },
  {
   "cell_type": "code",
   "outputs": [
    {
     "data": {
      "text/plain": "      movieId                        title                        genres\n0           1                    toy story   Animation|Children's|Comedy\n1           2                      jumanji  Adventure|Children's|Fantasy\n2           3             grumpier old men                Comedy|Romance\n3           4            waiting to exhale                  Comedy|Drama\n4           5  father of the bride part ii                        Comedy\n...       ...                          ...                           ...\n3878     3948             meet the parents                        Comedy\n3879     3949          requiem for a dream                         Drama\n3880     3950                    tigerland                         Drama\n3881     3951             two family house                         Drama\n3882     3952                the contender                Drama|Thriller\n\n[3883 rows x 3 columns]",
      "text/html": "<div>\n<style scoped>\n    .dataframe tbody tr th:only-of-type {\n        vertical-align: middle;\n    }\n\n    .dataframe tbody tr th {\n        vertical-align: top;\n    }\n\n    .dataframe thead th {\n        text-align: right;\n    }\n</style>\n<table border=\"1\" class=\"dataframe\">\n  <thead>\n    <tr style=\"text-align: right;\">\n      <th></th>\n      <th>movieId</th>\n      <th>title</th>\n      <th>genres</th>\n    </tr>\n  </thead>\n  <tbody>\n    <tr>\n      <th>0</th>\n      <td>1</td>\n      <td>toy story</td>\n      <td>Animation|Children's|Comedy</td>\n    </tr>\n    <tr>\n      <th>1</th>\n      <td>2</td>\n      <td>jumanji</td>\n      <td>Adventure|Children's|Fantasy</td>\n    </tr>\n    <tr>\n      <th>2</th>\n      <td>3</td>\n      <td>grumpier old men</td>\n      <td>Comedy|Romance</td>\n    </tr>\n    <tr>\n      <th>3</th>\n      <td>4</td>\n      <td>waiting to exhale</td>\n      <td>Comedy|Drama</td>\n    </tr>\n    <tr>\n      <th>4</th>\n      <td>5</td>\n      <td>father of the bride part ii</td>\n      <td>Comedy</td>\n    </tr>\n    <tr>\n      <th>...</th>\n      <td>...</td>\n      <td>...</td>\n      <td>...</td>\n    </tr>\n    <tr>\n      <th>3878</th>\n      <td>3948</td>\n      <td>meet the parents</td>\n      <td>Comedy</td>\n    </tr>\n    <tr>\n      <th>3879</th>\n      <td>3949</td>\n      <td>requiem for a dream</td>\n      <td>Drama</td>\n    </tr>\n    <tr>\n      <th>3880</th>\n      <td>3950</td>\n      <td>tigerland</td>\n      <td>Drama</td>\n    </tr>\n    <tr>\n      <th>3881</th>\n      <td>3951</td>\n      <td>two family house</td>\n      <td>Drama</td>\n    </tr>\n    <tr>\n      <th>3882</th>\n      <td>3952</td>\n      <td>the contender</td>\n      <td>Drama|Thriller</td>\n    </tr>\n  </tbody>\n</table>\n<p>3883 rows × 3 columns</p>\n</div>"
     },
     "execution_count": 3,
     "metadata": {},
     "output_type": "execute_result"
    }
   ],
   "source": [
    "# Remove the year from the title\n",
    "def remove_year(title):\n",
    "    if title.split(\" \")[-1].startswith(\"(\"):\n",
    "        title = (\" \".join(title.split(\" \")[:-1])).strip()\n",
    "    return title\n",
    "\n",
    "def reorder_title(title):\n",
    "    if title.split(',')[-1].strip() in ['The', 'A', 'An']:\n",
    "        title = (title.split(',')[-1].strip() + \" \" + \" \".join(title.split(',')[:-1])).strip()\n",
    "    return title\n",
    "\n",
    "def lower_case(title):\n",
    "    return title.lower()\n",
    "\n",
    "def clean_title(title):\n",
    "    title = remove_year(title)\n",
    "    title = reorder_title(title)\n",
    "    title = lower_case(title)\n",
    "    return title\n",
    "\n",
    "df_movies['title'] = df_movies['title'].apply(clean_title)\n",
    "\n",
    "df_movies"
   ],
   "metadata": {
    "collapsed": false,
    "ExecuteTime": {
     "end_time": "2024-07-07T20:24:26.423324800Z",
     "start_time": "2024-07-07T20:24:26.350326700Z"
    }
   },
   "id": "c7e0f27b499f6b60",
   "execution_count": 3
  },
  {
   "cell_type": "code",
   "outputs": [
    {
     "data": {
      "text/plain": "      movieId                        title  Action  Adventure  Animation  \\\n0           1                    toy story       0          0          1   \n1           2                      jumanji       0          1          0   \n2           3             grumpier old men       0          0          0   \n3           4            waiting to exhale       0          0          0   \n4           5  father of the bride part ii       0          0          0   \n...       ...                          ...     ...        ...        ...   \n3878     3948             meet the parents       0          0          0   \n3879     3949          requiem for a dream       0          0          0   \n3880     3950                    tigerland       0          0          0   \n3881     3951             two family house       0          0          0   \n3882     3952                the contender       0          0          0   \n\n      Children's  Comedy  Crime  Documentary  Drama  Fantasy  Film-Noir  \\\n0              1       1      0            0      0        0          0   \n1              1       0      0            0      0        1          0   \n2              0       1      0            0      0        0          0   \n3              0       1      0            0      1        0          0   \n4              0       1      0            0      0        0          0   \n...          ...     ...    ...          ...    ...      ...        ...   \n3878           0       1      0            0      0        0          0   \n3879           0       0      0            0      1        0          0   \n3880           0       0      0            0      1        0          0   \n3881           0       0      0            0      1        0          0   \n3882           0       0      0            0      1        0          0   \n\n      Horror  Musical  Mystery  Romance  Sci-Fi  Thriller  War  Western  \n0          0        0        0        0       0         0    0        0  \n1          0        0        0        0       0         0    0        0  \n2          0        0        0        1       0         0    0        0  \n3          0        0        0        0       0         0    0        0  \n4          0        0        0        0       0         0    0        0  \n...      ...      ...      ...      ...     ...       ...  ...      ...  \n3878       0        0        0        0       0         0    0        0  \n3879       0        0        0        0       0         0    0        0  \n3880       0        0        0        0       0         0    0        0  \n3881       0        0        0        0       0         0    0        0  \n3882       0        0        0        0       0         1    0        0  \n\n[3883 rows x 20 columns]",
      "text/html": "<div>\n<style scoped>\n    .dataframe tbody tr th:only-of-type {\n        vertical-align: middle;\n    }\n\n    .dataframe tbody tr th {\n        vertical-align: top;\n    }\n\n    .dataframe thead th {\n        text-align: right;\n    }\n</style>\n<table border=\"1\" class=\"dataframe\">\n  <thead>\n    <tr style=\"text-align: right;\">\n      <th></th>\n      <th>movieId</th>\n      <th>title</th>\n      <th>Action</th>\n      <th>Adventure</th>\n      <th>Animation</th>\n      <th>Children's</th>\n      <th>Comedy</th>\n      <th>Crime</th>\n      <th>Documentary</th>\n      <th>Drama</th>\n      <th>Fantasy</th>\n      <th>Film-Noir</th>\n      <th>Horror</th>\n      <th>Musical</th>\n      <th>Mystery</th>\n      <th>Romance</th>\n      <th>Sci-Fi</th>\n      <th>Thriller</th>\n      <th>War</th>\n      <th>Western</th>\n    </tr>\n  </thead>\n  <tbody>\n    <tr>\n      <th>0</th>\n      <td>1</td>\n      <td>toy story</td>\n      <td>0</td>\n      <td>0</td>\n      <td>1</td>\n      <td>1</td>\n      <td>1</td>\n      <td>0</td>\n      <td>0</td>\n      <td>0</td>\n      <td>0</td>\n      <td>0</td>\n      <td>0</td>\n      <td>0</td>\n      <td>0</td>\n      <td>0</td>\n      <td>0</td>\n      <td>0</td>\n      <td>0</td>\n      <td>0</td>\n    </tr>\n    <tr>\n      <th>1</th>\n      <td>2</td>\n      <td>jumanji</td>\n      <td>0</td>\n      <td>1</td>\n      <td>0</td>\n      <td>1</td>\n      <td>0</td>\n      <td>0</td>\n      <td>0</td>\n      <td>0</td>\n      <td>1</td>\n      <td>0</td>\n      <td>0</td>\n      <td>0</td>\n      <td>0</td>\n      <td>0</td>\n      <td>0</td>\n      <td>0</td>\n      <td>0</td>\n      <td>0</td>\n    </tr>\n    <tr>\n      <th>2</th>\n      <td>3</td>\n      <td>grumpier old men</td>\n      <td>0</td>\n      <td>0</td>\n      <td>0</td>\n      <td>0</td>\n      <td>1</td>\n      <td>0</td>\n      <td>0</td>\n      <td>0</td>\n      <td>0</td>\n      <td>0</td>\n      <td>0</td>\n      <td>0</td>\n      <td>0</td>\n      <td>1</td>\n      <td>0</td>\n      <td>0</td>\n      <td>0</td>\n      <td>0</td>\n    </tr>\n    <tr>\n      <th>3</th>\n      <td>4</td>\n      <td>waiting to exhale</td>\n      <td>0</td>\n      <td>0</td>\n      <td>0</td>\n      <td>0</td>\n      <td>1</td>\n      <td>0</td>\n      <td>0</td>\n      <td>1</td>\n      <td>0</td>\n      <td>0</td>\n      <td>0</td>\n      <td>0</td>\n      <td>0</td>\n      <td>0</td>\n      <td>0</td>\n      <td>0</td>\n      <td>0</td>\n      <td>0</td>\n    </tr>\n    <tr>\n      <th>4</th>\n      <td>5</td>\n      <td>father of the bride part ii</td>\n      <td>0</td>\n      <td>0</td>\n      <td>0</td>\n      <td>0</td>\n      <td>1</td>\n      <td>0</td>\n      <td>0</td>\n      <td>0</td>\n      <td>0</td>\n      <td>0</td>\n      <td>0</td>\n      <td>0</td>\n      <td>0</td>\n      <td>0</td>\n      <td>0</td>\n      <td>0</td>\n      <td>0</td>\n      <td>0</td>\n    </tr>\n    <tr>\n      <th>...</th>\n      <td>...</td>\n      <td>...</td>\n      <td>...</td>\n      <td>...</td>\n      <td>...</td>\n      <td>...</td>\n      <td>...</td>\n      <td>...</td>\n      <td>...</td>\n      <td>...</td>\n      <td>...</td>\n      <td>...</td>\n      <td>...</td>\n      <td>...</td>\n      <td>...</td>\n      <td>...</td>\n      <td>...</td>\n      <td>...</td>\n      <td>...</td>\n      <td>...</td>\n    </tr>\n    <tr>\n      <th>3878</th>\n      <td>3948</td>\n      <td>meet the parents</td>\n      <td>0</td>\n      <td>0</td>\n      <td>0</td>\n      <td>0</td>\n      <td>1</td>\n      <td>0</td>\n      <td>0</td>\n      <td>0</td>\n      <td>0</td>\n      <td>0</td>\n      <td>0</td>\n      <td>0</td>\n      <td>0</td>\n      <td>0</td>\n      <td>0</td>\n      <td>0</td>\n      <td>0</td>\n      <td>0</td>\n    </tr>\n    <tr>\n      <th>3879</th>\n      <td>3949</td>\n      <td>requiem for a dream</td>\n      <td>0</td>\n      <td>0</td>\n      <td>0</td>\n      <td>0</td>\n      <td>0</td>\n      <td>0</td>\n      <td>0</td>\n      <td>1</td>\n      <td>0</td>\n      <td>0</td>\n      <td>0</td>\n      <td>0</td>\n      <td>0</td>\n      <td>0</td>\n      <td>0</td>\n      <td>0</td>\n      <td>0</td>\n      <td>0</td>\n    </tr>\n    <tr>\n      <th>3880</th>\n      <td>3950</td>\n      <td>tigerland</td>\n      <td>0</td>\n      <td>0</td>\n      <td>0</td>\n      <td>0</td>\n      <td>0</td>\n      <td>0</td>\n      <td>0</td>\n      <td>1</td>\n      <td>0</td>\n      <td>0</td>\n      <td>0</td>\n      <td>0</td>\n      <td>0</td>\n      <td>0</td>\n      <td>0</td>\n      <td>0</td>\n      <td>0</td>\n      <td>0</td>\n    </tr>\n    <tr>\n      <th>3881</th>\n      <td>3951</td>\n      <td>two family house</td>\n      <td>0</td>\n      <td>0</td>\n      <td>0</td>\n      <td>0</td>\n      <td>0</td>\n      <td>0</td>\n      <td>0</td>\n      <td>1</td>\n      <td>0</td>\n      <td>0</td>\n      <td>0</td>\n      <td>0</td>\n      <td>0</td>\n      <td>0</td>\n      <td>0</td>\n      <td>0</td>\n      <td>0</td>\n      <td>0</td>\n    </tr>\n    <tr>\n      <th>3882</th>\n      <td>3952</td>\n      <td>the contender</td>\n      <td>0</td>\n      <td>0</td>\n      <td>0</td>\n      <td>0</td>\n      <td>0</td>\n      <td>0</td>\n      <td>0</td>\n      <td>1</td>\n      <td>0</td>\n      <td>0</td>\n      <td>0</td>\n      <td>0</td>\n      <td>0</td>\n      <td>0</td>\n      <td>0</td>\n      <td>1</td>\n      <td>0</td>\n      <td>0</td>\n    </tr>\n  </tbody>\n</table>\n<p>3883 rows × 20 columns</p>\n</div>"
     },
     "execution_count": 4,
     "metadata": {},
     "output_type": "execute_result"
    }
   ],
   "source": [
    "# Explode the 'genres' column\n",
    "\n",
    "df_movies['genres'] = df_movies['genres'].str.split('|')\n",
    "\n",
    "df_movies_exploded = df_movies.explode('genres')\n",
    "\n",
    "df_movies_one_hot = pd.get_dummies(df_movies_exploded['genres'])\n",
    "\n",
    "df_movies_one_hot_grouped = df_movies_one_hot.groupby(df_movies_exploded.index).sum()\n",
    "\n",
    "df_movies_combined = pd.concat([df_movies.drop(columns=['genres']), df_movies_one_hot_grouped], axis=1)\n",
    "\n",
    "df_movies_combined"
   ],
   "metadata": {
    "collapsed": false,
    "ExecuteTime": {
     "end_time": "2024-07-07T20:24:26.442324600Z",
     "start_time": "2024-07-07T20:24:26.375330600Z"
    }
   },
   "id": "81fae07091caa6d5",
   "execution_count": 4
  },
  {
   "cell_type": "code",
   "outputs": [
    {
     "data": {
      "text/plain": "         userId  movieId  rating\n0             1     1193       5\n1             1      661       3\n2             1      914       3\n3             1     3408       4\n4             1     2355       5\n...         ...      ...     ...\n1000204    6040     1091       1\n1000205    6040     1094       5\n1000206    6040      562       5\n1000207    6040     1096       4\n1000208    6040     1097       4\n\n[1000209 rows x 3 columns]",
      "text/html": "<div>\n<style scoped>\n    .dataframe tbody tr th:only-of-type {\n        vertical-align: middle;\n    }\n\n    .dataframe tbody tr th {\n        vertical-align: top;\n    }\n\n    .dataframe thead th {\n        text-align: right;\n    }\n</style>\n<table border=\"1\" class=\"dataframe\">\n  <thead>\n    <tr style=\"text-align: right;\">\n      <th></th>\n      <th>userId</th>\n      <th>movieId</th>\n      <th>rating</th>\n    </tr>\n  </thead>\n  <tbody>\n    <tr>\n      <th>0</th>\n      <td>1</td>\n      <td>1193</td>\n      <td>5</td>\n    </tr>\n    <tr>\n      <th>1</th>\n      <td>1</td>\n      <td>661</td>\n      <td>3</td>\n    </tr>\n    <tr>\n      <th>2</th>\n      <td>1</td>\n      <td>914</td>\n      <td>3</td>\n    </tr>\n    <tr>\n      <th>3</th>\n      <td>1</td>\n      <td>3408</td>\n      <td>4</td>\n    </tr>\n    <tr>\n      <th>4</th>\n      <td>1</td>\n      <td>2355</td>\n      <td>5</td>\n    </tr>\n    <tr>\n      <th>...</th>\n      <td>...</td>\n      <td>...</td>\n      <td>...</td>\n    </tr>\n    <tr>\n      <th>1000204</th>\n      <td>6040</td>\n      <td>1091</td>\n      <td>1</td>\n    </tr>\n    <tr>\n      <th>1000205</th>\n      <td>6040</td>\n      <td>1094</td>\n      <td>5</td>\n    </tr>\n    <tr>\n      <th>1000206</th>\n      <td>6040</td>\n      <td>562</td>\n      <td>5</td>\n    </tr>\n    <tr>\n      <th>1000207</th>\n      <td>6040</td>\n      <td>1096</td>\n      <td>4</td>\n    </tr>\n    <tr>\n      <th>1000208</th>\n      <td>6040</td>\n      <td>1097</td>\n      <td>4</td>\n    </tr>\n  </tbody>\n</table>\n<p>1000209 rows × 3 columns</p>\n</div>"
     },
     "execution_count": 5,
     "metadata": {},
     "output_type": "execute_result"
    }
   ],
   "source": [
    "df_ratings = df_ratings.drop(columns=[\"timestamp\"])\n",
    "\n",
    "df_ratings"
   ],
   "metadata": {
    "collapsed": false,
    "ExecuteTime": {
     "end_time": "2024-07-07T20:24:26.445329800Z",
     "start_time": "2024-07-07T20:24:26.402328Z"
    }
   },
   "id": "19cae1bb25e27311",
   "execution_count": 5
  },
  {
   "cell_type": "code",
   "outputs": [],
   "source": [
    "df_users = df_users.drop(columns=[\"gender\", \"age\", \"occupation\", \"zip\"])"
   ],
   "metadata": {
    "collapsed": false,
    "ExecuteTime": {
     "end_time": "2024-07-07T20:24:26.458326100Z",
     "start_time": "2024-07-07T20:24:26.417333Z"
    }
   },
   "id": "131fe4b70dd765b7",
   "execution_count": 6
  },
  {
   "cell_type": "code",
   "outputs": [
    {
     "data": {
      "text/plain": "        userId  movieId  rating  \\\n0         2458      748       3   \n1         2344     1197       5   \n2         3746     3608       3   \n3         3573      260       5   \n4         3593       21       3   \n...        ...      ...     ...   \n999995    1357     1969       2   \n999996    5653     3078       4   \n999997    5667     3072       4   \n999998    1800     3527       3   \n999999    3842     2747       4   \n\n                                                    title  Action  Adventure  \\\n0                                             the arrival       1          0   \n1                                      the princess bride       1          1   \n2                                 pee-wee's big adventure       0          0   \n3                      star wars: episode iv - a new hope       1          1   \n4                                              get shorty       1          0   \n...                                                   ...     ...        ...   \n999995  a nightmare on elm street part 2: freddy's rev...       0          0   \n999996                                    liberty heights       0          0   \n999997                                         moonstruck       0          0   \n999998                                           predator       1          0   \n999999                         the little shop of horrors       0          0   \n\n        Animation  Children's  Comedy  Crime  ...  Fantasy  Film-Noir  Horror  \\\n0               0           0       0      0  ...        0          0       0   \n1               0           0       1      0  ...        0          0       0   \n2               0           0       1      0  ...        0          0       0   \n3               0           0       0      0  ...        1          0       0   \n4               0           0       1      0  ...        0          0       0   \n...           ...         ...     ...    ...  ...      ...        ...     ...   \n999995          0           0       0      0  ...        0          0       1   \n999996          0           0       0      0  ...        0          0       0   \n999997          0           0       1      0  ...        0          0       0   \n999998          0           0       0      0  ...        0          0       0   \n999999          0           0       1      0  ...        0          0       1   \n\n        Musical  Mystery  Romance  Sci-Fi  Thriller  War  Western  \n0             0        0        0       1         1    0        0  \n1             0        0        1       0         0    0        0  \n2             0        0        0       0         0    0        0  \n3             0        0        0       1         0    0        0  \n4             0        0        0       0         0    0        0  \n...         ...      ...      ...     ...       ...  ...      ...  \n999995        0        0        0       0         0    0        0  \n999996        0        0        0       0         0    0        0  \n999997        0        0        0       0         0    0        0  \n999998        0        0        0       1         1    0        0  \n999999        0        0        0       0         0    0        0  \n\n[1000000 rows x 22 columns]",
      "text/html": "<div>\n<style scoped>\n    .dataframe tbody tr th:only-of-type {\n        vertical-align: middle;\n    }\n\n    .dataframe tbody tr th {\n        vertical-align: top;\n    }\n\n    .dataframe thead th {\n        text-align: right;\n    }\n</style>\n<table border=\"1\" class=\"dataframe\">\n  <thead>\n    <tr style=\"text-align: right;\">\n      <th></th>\n      <th>userId</th>\n      <th>movieId</th>\n      <th>rating</th>\n      <th>title</th>\n      <th>Action</th>\n      <th>Adventure</th>\n      <th>Animation</th>\n      <th>Children's</th>\n      <th>Comedy</th>\n      <th>Crime</th>\n      <th>...</th>\n      <th>Fantasy</th>\n      <th>Film-Noir</th>\n      <th>Horror</th>\n      <th>Musical</th>\n      <th>Mystery</th>\n      <th>Romance</th>\n      <th>Sci-Fi</th>\n      <th>Thriller</th>\n      <th>War</th>\n      <th>Western</th>\n    </tr>\n  </thead>\n  <tbody>\n    <tr>\n      <th>0</th>\n      <td>2458</td>\n      <td>748</td>\n      <td>3</td>\n      <td>the arrival</td>\n      <td>1</td>\n      <td>0</td>\n      <td>0</td>\n      <td>0</td>\n      <td>0</td>\n      <td>0</td>\n      <td>...</td>\n      <td>0</td>\n      <td>0</td>\n      <td>0</td>\n      <td>0</td>\n      <td>0</td>\n      <td>0</td>\n      <td>1</td>\n      <td>1</td>\n      <td>0</td>\n      <td>0</td>\n    </tr>\n    <tr>\n      <th>1</th>\n      <td>2344</td>\n      <td>1197</td>\n      <td>5</td>\n      <td>the princess bride</td>\n      <td>1</td>\n      <td>1</td>\n      <td>0</td>\n      <td>0</td>\n      <td>1</td>\n      <td>0</td>\n      <td>...</td>\n      <td>0</td>\n      <td>0</td>\n      <td>0</td>\n      <td>0</td>\n      <td>0</td>\n      <td>1</td>\n      <td>0</td>\n      <td>0</td>\n      <td>0</td>\n      <td>0</td>\n    </tr>\n    <tr>\n      <th>2</th>\n      <td>3746</td>\n      <td>3608</td>\n      <td>3</td>\n      <td>pee-wee's big adventure</td>\n      <td>0</td>\n      <td>0</td>\n      <td>0</td>\n      <td>0</td>\n      <td>1</td>\n      <td>0</td>\n      <td>...</td>\n      <td>0</td>\n      <td>0</td>\n      <td>0</td>\n      <td>0</td>\n      <td>0</td>\n      <td>0</td>\n      <td>0</td>\n      <td>0</td>\n      <td>0</td>\n      <td>0</td>\n    </tr>\n    <tr>\n      <th>3</th>\n      <td>3573</td>\n      <td>260</td>\n      <td>5</td>\n      <td>star wars: episode iv - a new hope</td>\n      <td>1</td>\n      <td>1</td>\n      <td>0</td>\n      <td>0</td>\n      <td>0</td>\n      <td>0</td>\n      <td>...</td>\n      <td>1</td>\n      <td>0</td>\n      <td>0</td>\n      <td>0</td>\n      <td>0</td>\n      <td>0</td>\n      <td>1</td>\n      <td>0</td>\n      <td>0</td>\n      <td>0</td>\n    </tr>\n    <tr>\n      <th>4</th>\n      <td>3593</td>\n      <td>21</td>\n      <td>3</td>\n      <td>get shorty</td>\n      <td>1</td>\n      <td>0</td>\n      <td>0</td>\n      <td>0</td>\n      <td>1</td>\n      <td>0</td>\n      <td>...</td>\n      <td>0</td>\n      <td>0</td>\n      <td>0</td>\n      <td>0</td>\n      <td>0</td>\n      <td>0</td>\n      <td>0</td>\n      <td>0</td>\n      <td>0</td>\n      <td>0</td>\n    </tr>\n    <tr>\n      <th>...</th>\n      <td>...</td>\n      <td>...</td>\n      <td>...</td>\n      <td>...</td>\n      <td>...</td>\n      <td>...</td>\n      <td>...</td>\n      <td>...</td>\n      <td>...</td>\n      <td>...</td>\n      <td>...</td>\n      <td>...</td>\n      <td>...</td>\n      <td>...</td>\n      <td>...</td>\n      <td>...</td>\n      <td>...</td>\n      <td>...</td>\n      <td>...</td>\n      <td>...</td>\n      <td>...</td>\n    </tr>\n    <tr>\n      <th>999995</th>\n      <td>1357</td>\n      <td>1969</td>\n      <td>2</td>\n      <td>a nightmare on elm street part 2: freddy's rev...</td>\n      <td>0</td>\n      <td>0</td>\n      <td>0</td>\n      <td>0</td>\n      <td>0</td>\n      <td>0</td>\n      <td>...</td>\n      <td>0</td>\n      <td>0</td>\n      <td>1</td>\n      <td>0</td>\n      <td>0</td>\n      <td>0</td>\n      <td>0</td>\n      <td>0</td>\n      <td>0</td>\n      <td>0</td>\n    </tr>\n    <tr>\n      <th>999996</th>\n      <td>5653</td>\n      <td>3078</td>\n      <td>4</td>\n      <td>liberty heights</td>\n      <td>0</td>\n      <td>0</td>\n      <td>0</td>\n      <td>0</td>\n      <td>0</td>\n      <td>0</td>\n      <td>...</td>\n      <td>0</td>\n      <td>0</td>\n      <td>0</td>\n      <td>0</td>\n      <td>0</td>\n      <td>0</td>\n      <td>0</td>\n      <td>0</td>\n      <td>0</td>\n      <td>0</td>\n    </tr>\n    <tr>\n      <th>999997</th>\n      <td>5667</td>\n      <td>3072</td>\n      <td>4</td>\n      <td>moonstruck</td>\n      <td>0</td>\n      <td>0</td>\n      <td>0</td>\n      <td>0</td>\n      <td>1</td>\n      <td>0</td>\n      <td>...</td>\n      <td>0</td>\n      <td>0</td>\n      <td>0</td>\n      <td>0</td>\n      <td>0</td>\n      <td>0</td>\n      <td>0</td>\n      <td>0</td>\n      <td>0</td>\n      <td>0</td>\n    </tr>\n    <tr>\n      <th>999998</th>\n      <td>1800</td>\n      <td>3527</td>\n      <td>3</td>\n      <td>predator</td>\n      <td>1</td>\n      <td>0</td>\n      <td>0</td>\n      <td>0</td>\n      <td>0</td>\n      <td>0</td>\n      <td>...</td>\n      <td>0</td>\n      <td>0</td>\n      <td>0</td>\n      <td>0</td>\n      <td>0</td>\n      <td>0</td>\n      <td>1</td>\n      <td>1</td>\n      <td>0</td>\n      <td>0</td>\n    </tr>\n    <tr>\n      <th>999999</th>\n      <td>3842</td>\n      <td>2747</td>\n      <td>4</td>\n      <td>the little shop of horrors</td>\n      <td>0</td>\n      <td>0</td>\n      <td>0</td>\n      <td>0</td>\n      <td>1</td>\n      <td>0</td>\n      <td>...</td>\n      <td>0</td>\n      <td>0</td>\n      <td>1</td>\n      <td>0</td>\n      <td>0</td>\n      <td>0</td>\n      <td>0</td>\n      <td>0</td>\n      <td>0</td>\n      <td>0</td>\n    </tr>\n  </tbody>\n</table>\n<p>1000000 rows × 22 columns</p>\n</div>"
     },
     "execution_count": 7,
     "metadata": {},
     "output_type": "execute_result"
    }
   ],
   "source": [
    "df_ratings_sample = df_ratings.sample(n=1_000_000)\n",
    "\n",
    "df = pd.merge(df_ratings_sample, df_movies_combined, on='movieId')\n",
    "\n",
    "df"
   ],
   "metadata": {
    "collapsed": false,
    "ExecuteTime": {
     "end_time": "2024-07-07T20:24:27.179348500Z",
     "start_time": "2024-07-07T20:24:26.433329300Z"
    }
   },
   "id": "71cd604f1b795385",
   "execution_count": 7
  },
  {
   "cell_type": "code",
   "outputs": [
    {
     "data": {
      "text/plain": "        userId  movieId  rating  \\\n0         2458      748       3   \n1         2344     1197       5   \n2         3746     3608       3   \n3         3573      260       5   \n4         3593       21       3   \n...        ...      ...     ...   \n999995    1357     1969       2   \n999996    5653     3078       4   \n999997    5667     3072       4   \n999998    1800     3527       3   \n999999    3842     2747       4   \n\n                                                    title  Action  Adventure  \\\n0                                             the arrival       3          0   \n1                                      the princess bride       5          5   \n2                                 pee-wee's big adventure       0          0   \n3                      star wars: episode iv - a new hope       5          5   \n4                                              get shorty       3          0   \n...                                                   ...     ...        ...   \n999995  a nightmare on elm street part 2: freddy's rev...       0          0   \n999996                                    liberty heights       0          0   \n999997                                         moonstruck       0          0   \n999998                                           predator       3          0   \n999999                         the little shop of horrors       0          0   \n\n        Animation  Children's  Comedy  Crime  ...  Fantasy  Film-Noir  Horror  \\\n0               0           0       0      0  ...        0          0       0   \n1               0           0       5      0  ...        0          0       0   \n2               0           0       3      0  ...        0          0       0   \n3               0           0       0      0  ...        5          0       0   \n4               0           0       3      0  ...        0          0       0   \n...           ...         ...     ...    ...  ...      ...        ...     ...   \n999995          0           0       0      0  ...        0          0       2   \n999996          0           0       0      0  ...        0          0       0   \n999997          0           0       4      0  ...        0          0       0   \n999998          0           0       0      0  ...        0          0       0   \n999999          0           0       4      0  ...        0          0       4   \n\n        Musical  Mystery  Romance  Sci-Fi  Thriller  War  Western  \n0             0        0        0       3         3    0        0  \n1             0        0        5       0         0    0        0  \n2             0        0        0       0         0    0        0  \n3             0        0        0       5         0    0        0  \n4             0        0        0       0         0    0        0  \n...         ...      ...      ...     ...       ...  ...      ...  \n999995        0        0        0       0         0    0        0  \n999996        0        0        0       0         0    0        0  \n999997        0        0        0       0         0    0        0  \n999998        0        0        0       3         3    0        0  \n999999        0        0        0       0         0    0        0  \n\n[1000000 rows x 22 columns]",
      "text/html": "<div>\n<style scoped>\n    .dataframe tbody tr th:only-of-type {\n        vertical-align: middle;\n    }\n\n    .dataframe tbody tr th {\n        vertical-align: top;\n    }\n\n    .dataframe thead th {\n        text-align: right;\n    }\n</style>\n<table border=\"1\" class=\"dataframe\">\n  <thead>\n    <tr style=\"text-align: right;\">\n      <th></th>\n      <th>userId</th>\n      <th>movieId</th>\n      <th>rating</th>\n      <th>title</th>\n      <th>Action</th>\n      <th>Adventure</th>\n      <th>Animation</th>\n      <th>Children's</th>\n      <th>Comedy</th>\n      <th>Crime</th>\n      <th>...</th>\n      <th>Fantasy</th>\n      <th>Film-Noir</th>\n      <th>Horror</th>\n      <th>Musical</th>\n      <th>Mystery</th>\n      <th>Romance</th>\n      <th>Sci-Fi</th>\n      <th>Thriller</th>\n      <th>War</th>\n      <th>Western</th>\n    </tr>\n  </thead>\n  <tbody>\n    <tr>\n      <th>0</th>\n      <td>2458</td>\n      <td>748</td>\n      <td>3</td>\n      <td>the arrival</td>\n      <td>3</td>\n      <td>0</td>\n      <td>0</td>\n      <td>0</td>\n      <td>0</td>\n      <td>0</td>\n      <td>...</td>\n      <td>0</td>\n      <td>0</td>\n      <td>0</td>\n      <td>0</td>\n      <td>0</td>\n      <td>0</td>\n      <td>3</td>\n      <td>3</td>\n      <td>0</td>\n      <td>0</td>\n    </tr>\n    <tr>\n      <th>1</th>\n      <td>2344</td>\n      <td>1197</td>\n      <td>5</td>\n      <td>the princess bride</td>\n      <td>5</td>\n      <td>5</td>\n      <td>0</td>\n      <td>0</td>\n      <td>5</td>\n      <td>0</td>\n      <td>...</td>\n      <td>0</td>\n      <td>0</td>\n      <td>0</td>\n      <td>0</td>\n      <td>0</td>\n      <td>5</td>\n      <td>0</td>\n      <td>0</td>\n      <td>0</td>\n      <td>0</td>\n    </tr>\n    <tr>\n      <th>2</th>\n      <td>3746</td>\n      <td>3608</td>\n      <td>3</td>\n      <td>pee-wee's big adventure</td>\n      <td>0</td>\n      <td>0</td>\n      <td>0</td>\n      <td>0</td>\n      <td>3</td>\n      <td>0</td>\n      <td>...</td>\n      <td>0</td>\n      <td>0</td>\n      <td>0</td>\n      <td>0</td>\n      <td>0</td>\n      <td>0</td>\n      <td>0</td>\n      <td>0</td>\n      <td>0</td>\n      <td>0</td>\n    </tr>\n    <tr>\n      <th>3</th>\n      <td>3573</td>\n      <td>260</td>\n      <td>5</td>\n      <td>star wars: episode iv - a new hope</td>\n      <td>5</td>\n      <td>5</td>\n      <td>0</td>\n      <td>0</td>\n      <td>0</td>\n      <td>0</td>\n      <td>...</td>\n      <td>5</td>\n      <td>0</td>\n      <td>0</td>\n      <td>0</td>\n      <td>0</td>\n      <td>0</td>\n      <td>5</td>\n      <td>0</td>\n      <td>0</td>\n      <td>0</td>\n    </tr>\n    <tr>\n      <th>4</th>\n      <td>3593</td>\n      <td>21</td>\n      <td>3</td>\n      <td>get shorty</td>\n      <td>3</td>\n      <td>0</td>\n      <td>0</td>\n      <td>0</td>\n      <td>3</td>\n      <td>0</td>\n      <td>...</td>\n      <td>0</td>\n      <td>0</td>\n      <td>0</td>\n      <td>0</td>\n      <td>0</td>\n      <td>0</td>\n      <td>0</td>\n      <td>0</td>\n      <td>0</td>\n      <td>0</td>\n    </tr>\n    <tr>\n      <th>...</th>\n      <td>...</td>\n      <td>...</td>\n      <td>...</td>\n      <td>...</td>\n      <td>...</td>\n      <td>...</td>\n      <td>...</td>\n      <td>...</td>\n      <td>...</td>\n      <td>...</td>\n      <td>...</td>\n      <td>...</td>\n      <td>...</td>\n      <td>...</td>\n      <td>...</td>\n      <td>...</td>\n      <td>...</td>\n      <td>...</td>\n      <td>...</td>\n      <td>...</td>\n      <td>...</td>\n    </tr>\n    <tr>\n      <th>999995</th>\n      <td>1357</td>\n      <td>1969</td>\n      <td>2</td>\n      <td>a nightmare on elm street part 2: freddy's rev...</td>\n      <td>0</td>\n      <td>0</td>\n      <td>0</td>\n      <td>0</td>\n      <td>0</td>\n      <td>0</td>\n      <td>...</td>\n      <td>0</td>\n      <td>0</td>\n      <td>2</td>\n      <td>0</td>\n      <td>0</td>\n      <td>0</td>\n      <td>0</td>\n      <td>0</td>\n      <td>0</td>\n      <td>0</td>\n    </tr>\n    <tr>\n      <th>999996</th>\n      <td>5653</td>\n      <td>3078</td>\n      <td>4</td>\n      <td>liberty heights</td>\n      <td>0</td>\n      <td>0</td>\n      <td>0</td>\n      <td>0</td>\n      <td>0</td>\n      <td>0</td>\n      <td>...</td>\n      <td>0</td>\n      <td>0</td>\n      <td>0</td>\n      <td>0</td>\n      <td>0</td>\n      <td>0</td>\n      <td>0</td>\n      <td>0</td>\n      <td>0</td>\n      <td>0</td>\n    </tr>\n    <tr>\n      <th>999997</th>\n      <td>5667</td>\n      <td>3072</td>\n      <td>4</td>\n      <td>moonstruck</td>\n      <td>0</td>\n      <td>0</td>\n      <td>0</td>\n      <td>0</td>\n      <td>4</td>\n      <td>0</td>\n      <td>...</td>\n      <td>0</td>\n      <td>0</td>\n      <td>0</td>\n      <td>0</td>\n      <td>0</td>\n      <td>0</td>\n      <td>0</td>\n      <td>0</td>\n      <td>0</td>\n      <td>0</td>\n    </tr>\n    <tr>\n      <th>999998</th>\n      <td>1800</td>\n      <td>3527</td>\n      <td>3</td>\n      <td>predator</td>\n      <td>3</td>\n      <td>0</td>\n      <td>0</td>\n      <td>0</td>\n      <td>0</td>\n      <td>0</td>\n      <td>...</td>\n      <td>0</td>\n      <td>0</td>\n      <td>0</td>\n      <td>0</td>\n      <td>0</td>\n      <td>0</td>\n      <td>3</td>\n      <td>3</td>\n      <td>0</td>\n      <td>0</td>\n    </tr>\n    <tr>\n      <th>999999</th>\n      <td>3842</td>\n      <td>2747</td>\n      <td>4</td>\n      <td>the little shop of horrors</td>\n      <td>0</td>\n      <td>0</td>\n      <td>0</td>\n      <td>0</td>\n      <td>4</td>\n      <td>0</td>\n      <td>...</td>\n      <td>0</td>\n      <td>0</td>\n      <td>4</td>\n      <td>0</td>\n      <td>0</td>\n      <td>0</td>\n      <td>0</td>\n      <td>0</td>\n      <td>0</td>\n      <td>0</td>\n    </tr>\n  </tbody>\n</table>\n<p>1000000 rows × 22 columns</p>\n</div>"
     },
     "execution_count": 8,
     "metadata": {},
     "output_type": "execute_result"
    }
   ],
   "source": [
    "# We weight the genres by the rating value    \n",
    "genres = list(df.columns[4:])\n",
    "for genre in genres:\n",
    "    df[genre] = df[genre] * df['rating']\n",
    "\n",
    "df    "
   ],
   "metadata": {
    "collapsed": false,
    "ExecuteTime": {
     "end_time": "2024-07-07T20:24:27.467327Z",
     "start_time": "2024-07-07T20:24:26.926327300Z"
    }
   },
   "id": "7e51e64489bd536a",
   "execution_count": 8
  },
  {
   "cell_type": "code",
   "outputs": [
    {
     "data": {
      "text/plain": "        userId  movieId  rating    Action  Adventure  Animation  Children's  \\\n0         2458      748       3  3.982456   4.291667   3.800000    3.600000   \n1         2344     1197       5  3.483871   3.459459   3.750000    3.250000   \n2         3746     3608       3  3.744000   3.718750   2.250000    3.272727   \n3         3573      260       5  3.933333   4.000000   3.166667    2.857143   \n4         3593       21       3  3.166667   2.400000   3.000000    3.166667   \n...        ...      ...     ...       ...        ...        ...         ...   \n999995    1357     1969       2  2.722222   2.714286   3.000000    3.000000   \n999996    5653     3078       4  3.466667   3.705882   3.000000    3.750000   \n999997    5667     3072       4  3.741379   3.388889   3.857143    3.666667   \n999998    1800     3527       3  3.209790   3.480769   3.550000    3.208333   \n999999    3842     2747       4  3.097561   3.314815   3.636364    3.838710   \n\n          Comedy     Crime  Documentary  ...   Fantasy  Film-Noir    Horror  \\\n0       3.288660  3.272727     1.000000  ...  4.000000   0.000000  4.272727   \n1       3.360825  3.800000     0.000000  ...  3.818182   4.000000  3.200000   \n2       3.635659  3.941176     4.000000  ...  3.866667   3.000000  3.320000   \n3       2.300000  0.000000     0.000000  ...  3.250000   0.000000  2.500000   \n4       3.377049  5.000000     0.000000  ...  0.000000   0.000000  3.000000   \n...          ...       ...          ...  ...       ...        ...       ...   \n999995  2.760000  3.000000     0.000000  ...  0.000000   0.000000  2.779070   \n999996  3.842857  4.615385     3.666667  ...  4.000000   4.333333  2.750000   \n999997  3.728814  3.878788     4.000000  ...  3.555556   4.363636  4.363636   \n999998  3.841463  3.968750     5.000000  ...  2.625000   4.750000  3.375000   \n999999  3.759124  3.836066     3.000000  ...  3.937500   4.642857  3.465347   \n\n         Musical   Mystery   Romance    Sci-Fi  Thriller       War   Western  \n0       3.333333  3.500000  3.772727  3.975000  3.666667  4.000000  4.000000  \n1       3.200000  3.750000  3.650000  3.397436  3.578947  3.125000  3.923077  \n2       3.625000  4.153846  3.822222  3.636364  3.606557  4.320000  4.052632  \n3       3.000000  0.000000  5.000000  3.789474  3.500000  4.166667  0.000000  \n4       3.000000  0.000000  3.500000  2.500000  3.000000  5.000000  0.000000  \n...          ...       ...       ...       ...       ...       ...       ...  \n999995  3.000000  2.500000  5.000000  2.906250  2.583333  5.000000  0.000000  \n999996  4.111111  4.000000  4.166667  3.285714  3.683333  4.000000  3.888889  \n999997  3.842105  4.428571  3.600000  4.043478  4.000000  3.966667  4.090909  \n999998  3.300000  3.250000  3.500000  3.243902  3.278689  4.142857  3.000000  \n999999  3.545455  3.777778  3.632353  3.342857  3.554688  3.241379  3.500000  \n\n[1000000 rows x 21 columns]",
      "text/html": "<div>\n<style scoped>\n    .dataframe tbody tr th:only-of-type {\n        vertical-align: middle;\n    }\n\n    .dataframe tbody tr th {\n        vertical-align: top;\n    }\n\n    .dataframe thead th {\n        text-align: right;\n    }\n</style>\n<table border=\"1\" class=\"dataframe\">\n  <thead>\n    <tr style=\"text-align: right;\">\n      <th></th>\n      <th>userId</th>\n      <th>movieId</th>\n      <th>rating</th>\n      <th>Action</th>\n      <th>Adventure</th>\n      <th>Animation</th>\n      <th>Children's</th>\n      <th>Comedy</th>\n      <th>Crime</th>\n      <th>Documentary</th>\n      <th>...</th>\n      <th>Fantasy</th>\n      <th>Film-Noir</th>\n      <th>Horror</th>\n      <th>Musical</th>\n      <th>Mystery</th>\n      <th>Romance</th>\n      <th>Sci-Fi</th>\n      <th>Thriller</th>\n      <th>War</th>\n      <th>Western</th>\n    </tr>\n  </thead>\n  <tbody>\n    <tr>\n      <th>0</th>\n      <td>2458</td>\n      <td>748</td>\n      <td>3</td>\n      <td>3.982456</td>\n      <td>4.291667</td>\n      <td>3.800000</td>\n      <td>3.600000</td>\n      <td>3.288660</td>\n      <td>3.272727</td>\n      <td>1.000000</td>\n      <td>...</td>\n      <td>4.000000</td>\n      <td>0.000000</td>\n      <td>4.272727</td>\n      <td>3.333333</td>\n      <td>3.500000</td>\n      <td>3.772727</td>\n      <td>3.975000</td>\n      <td>3.666667</td>\n      <td>4.000000</td>\n      <td>4.000000</td>\n    </tr>\n    <tr>\n      <th>1</th>\n      <td>2344</td>\n      <td>1197</td>\n      <td>5</td>\n      <td>3.483871</td>\n      <td>3.459459</td>\n      <td>3.750000</td>\n      <td>3.250000</td>\n      <td>3.360825</td>\n      <td>3.800000</td>\n      <td>0.000000</td>\n      <td>...</td>\n      <td>3.818182</td>\n      <td>4.000000</td>\n      <td>3.200000</td>\n      <td>3.200000</td>\n      <td>3.750000</td>\n      <td>3.650000</td>\n      <td>3.397436</td>\n      <td>3.578947</td>\n      <td>3.125000</td>\n      <td>3.923077</td>\n    </tr>\n    <tr>\n      <th>2</th>\n      <td>3746</td>\n      <td>3608</td>\n      <td>3</td>\n      <td>3.744000</td>\n      <td>3.718750</td>\n      <td>2.250000</td>\n      <td>3.272727</td>\n      <td>3.635659</td>\n      <td>3.941176</td>\n      <td>4.000000</td>\n      <td>...</td>\n      <td>3.866667</td>\n      <td>3.000000</td>\n      <td>3.320000</td>\n      <td>3.625000</td>\n      <td>4.153846</td>\n      <td>3.822222</td>\n      <td>3.636364</td>\n      <td>3.606557</td>\n      <td>4.320000</td>\n      <td>4.052632</td>\n    </tr>\n    <tr>\n      <th>3</th>\n      <td>3573</td>\n      <td>260</td>\n      <td>5</td>\n      <td>3.933333</td>\n      <td>4.000000</td>\n      <td>3.166667</td>\n      <td>2.857143</td>\n      <td>2.300000</td>\n      <td>0.000000</td>\n      <td>0.000000</td>\n      <td>...</td>\n      <td>3.250000</td>\n      <td>0.000000</td>\n      <td>2.500000</td>\n      <td>3.000000</td>\n      <td>0.000000</td>\n      <td>5.000000</td>\n      <td>3.789474</td>\n      <td>3.500000</td>\n      <td>4.166667</td>\n      <td>0.000000</td>\n    </tr>\n    <tr>\n      <th>4</th>\n      <td>3593</td>\n      <td>21</td>\n      <td>3</td>\n      <td>3.166667</td>\n      <td>2.400000</td>\n      <td>3.000000</td>\n      <td>3.166667</td>\n      <td>3.377049</td>\n      <td>5.000000</td>\n      <td>0.000000</td>\n      <td>...</td>\n      <td>0.000000</td>\n      <td>0.000000</td>\n      <td>3.000000</td>\n      <td>3.000000</td>\n      <td>0.000000</td>\n      <td>3.500000</td>\n      <td>2.500000</td>\n      <td>3.000000</td>\n      <td>5.000000</td>\n      <td>0.000000</td>\n    </tr>\n    <tr>\n      <th>...</th>\n      <td>...</td>\n      <td>...</td>\n      <td>...</td>\n      <td>...</td>\n      <td>...</td>\n      <td>...</td>\n      <td>...</td>\n      <td>...</td>\n      <td>...</td>\n      <td>...</td>\n      <td>...</td>\n      <td>...</td>\n      <td>...</td>\n      <td>...</td>\n      <td>...</td>\n      <td>...</td>\n      <td>...</td>\n      <td>...</td>\n      <td>...</td>\n      <td>...</td>\n      <td>...</td>\n    </tr>\n    <tr>\n      <th>999995</th>\n      <td>1357</td>\n      <td>1969</td>\n      <td>2</td>\n      <td>2.722222</td>\n      <td>2.714286</td>\n      <td>3.000000</td>\n      <td>3.000000</td>\n      <td>2.760000</td>\n      <td>3.000000</td>\n      <td>0.000000</td>\n      <td>...</td>\n      <td>0.000000</td>\n      <td>0.000000</td>\n      <td>2.779070</td>\n      <td>3.000000</td>\n      <td>2.500000</td>\n      <td>5.000000</td>\n      <td>2.906250</td>\n      <td>2.583333</td>\n      <td>5.000000</td>\n      <td>0.000000</td>\n    </tr>\n    <tr>\n      <th>999996</th>\n      <td>5653</td>\n      <td>3078</td>\n      <td>4</td>\n      <td>3.466667</td>\n      <td>3.705882</td>\n      <td>3.000000</td>\n      <td>3.750000</td>\n      <td>3.842857</td>\n      <td>4.615385</td>\n      <td>3.666667</td>\n      <td>...</td>\n      <td>4.000000</td>\n      <td>4.333333</td>\n      <td>2.750000</td>\n      <td>4.111111</td>\n      <td>4.000000</td>\n      <td>4.166667</td>\n      <td>3.285714</td>\n      <td>3.683333</td>\n      <td>4.000000</td>\n      <td>3.888889</td>\n    </tr>\n    <tr>\n      <th>999997</th>\n      <td>5667</td>\n      <td>3072</td>\n      <td>4</td>\n      <td>3.741379</td>\n      <td>3.388889</td>\n      <td>3.857143</td>\n      <td>3.666667</td>\n      <td>3.728814</td>\n      <td>3.878788</td>\n      <td>4.000000</td>\n      <td>...</td>\n      <td>3.555556</td>\n      <td>4.363636</td>\n      <td>4.363636</td>\n      <td>3.842105</td>\n      <td>4.428571</td>\n      <td>3.600000</td>\n      <td>4.043478</td>\n      <td>4.000000</td>\n      <td>3.966667</td>\n      <td>4.090909</td>\n    </tr>\n    <tr>\n      <th>999998</th>\n      <td>1800</td>\n      <td>3527</td>\n      <td>3</td>\n      <td>3.209790</td>\n      <td>3.480769</td>\n      <td>3.550000</td>\n      <td>3.208333</td>\n      <td>3.841463</td>\n      <td>3.968750</td>\n      <td>5.000000</td>\n      <td>...</td>\n      <td>2.625000</td>\n      <td>4.750000</td>\n      <td>3.375000</td>\n      <td>3.300000</td>\n      <td>3.250000</td>\n      <td>3.500000</td>\n      <td>3.243902</td>\n      <td>3.278689</td>\n      <td>4.142857</td>\n      <td>3.000000</td>\n    </tr>\n    <tr>\n      <th>999999</th>\n      <td>3842</td>\n      <td>2747</td>\n      <td>4</td>\n      <td>3.097561</td>\n      <td>3.314815</td>\n      <td>3.636364</td>\n      <td>3.838710</td>\n      <td>3.759124</td>\n      <td>3.836066</td>\n      <td>3.000000</td>\n      <td>...</td>\n      <td>3.937500</td>\n      <td>4.642857</td>\n      <td>3.465347</td>\n      <td>3.545455</td>\n      <td>3.777778</td>\n      <td>3.632353</td>\n      <td>3.342857</td>\n      <td>3.554688</td>\n      <td>3.241379</td>\n      <td>3.500000</td>\n    </tr>\n  </tbody>\n</table>\n<p>1000000 rows × 21 columns</p>\n</div>"
     },
     "execution_count": 9,
     "metadata": {},
     "output_type": "execute_result"
    }
   ],
   "source": [
    "# We normalize the genres\n",
    "genre_sum = df.groupby('userId')[genres].sum()\n",
    "genre_count = df.groupby('userId')[genres].apply(lambda x: (x > 0).sum())\n",
    "genre_norm = genre_sum.div(genre_count, axis=0).fillna(0)\n",
    "\n",
    "df_features_users = pd.merge(df_ratings_sample, genre_norm, on='userId')\n",
    "\n",
    "df_features_users"
   ],
   "metadata": {
    "collapsed": false,
    "ExecuteTime": {
     "end_time": "2024-07-07T20:24:31.959326300Z",
     "start_time": "2024-07-07T20:24:27.459328100Z"
    }
   },
   "id": "fb3aa01b49429cf",
   "execution_count": 9
  },
  {
   "cell_type": "code",
   "outputs": [],
   "source": [
    "df_features_movies = pd.merge(df_ratings_sample, df_movies_combined, on='movieId').drop(columns=['rating'])\n",
    "\n",
    "df_ratings = df_features_users[['userId', 'movieId', 'rating']]\n",
    "\n",
    "df_features_users = df_features_users.drop(columns=['rating'])"
   ],
   "metadata": {
    "collapsed": false,
    "ExecuteTime": {
     "end_time": "2024-07-07T20:24:32.211820Z",
     "start_time": "2024-07-07T20:24:31.964327500Z"
    }
   },
   "id": "c9623fa25a138fc9",
   "execution_count": 10
  },
  {
   "cell_type": "code",
   "outputs": [
    {
     "data": {
      "text/plain": "        userId  movieId                                              title  \\\n0         2458      748                                        the arrival   \n1         2344     1197                                 the princess bride   \n2         3746     3608                            pee-wee's big adventure   \n3         3573      260                 star wars: episode iv - a new hope   \n4         3593       21                                         get shorty   \n...        ...      ...                                                ...   \n999995    1357     1969  a nightmare on elm street part 2: freddy's rev...   \n999996    5653     3078                                    liberty heights   \n999997    5667     3072                                         moonstruck   \n999998    1800     3527                                           predator   \n999999    3842     2747                         the little shop of horrors   \n\n        Action  Adventure  Animation  Children's  Comedy  Crime  Documentary  \\\n0            1          0          0           0       0      0            0   \n1            1          1          0           0       1      0            0   \n2            0          0          0           0       1      0            0   \n3            1          1          0           0       0      0            0   \n4            1          0          0           0       1      0            0   \n...        ...        ...        ...         ...     ...    ...          ...   \n999995       0          0          0           0       0      0            0   \n999996       0          0          0           0       0      0            0   \n999997       0          0          0           0       1      0            0   \n999998       1          0          0           0       0      0            0   \n999999       0          0          0           0       1      0            0   \n\n        ...  Fantasy  Film-Noir  Horror  Musical  Mystery  Romance  Sci-Fi  \\\n0       ...        0          0       0        0        0        0       1   \n1       ...        0          0       0        0        0        1       0   \n2       ...        0          0       0        0        0        0       0   \n3       ...        1          0       0        0        0        0       1   \n4       ...        0          0       0        0        0        0       0   \n...     ...      ...        ...     ...      ...      ...      ...     ...   \n999995  ...        0          0       1        0        0        0       0   \n999996  ...        0          0       0        0        0        0       0   \n999997  ...        0          0       0        0        0        0       0   \n999998  ...        0          0       0        0        0        0       1   \n999999  ...        0          0       1        0        0        0       0   \n\n        Thriller  War  Western  \n0              1    0        0  \n1              0    0        0  \n2              0    0        0  \n3              0    0        0  \n4              0    0        0  \n...          ...  ...      ...  \n999995         0    0        0  \n999996         0    0        0  \n999997         0    0        0  \n999998         1    0        0  \n999999         0    0        0  \n\n[1000000 rows x 21 columns]",
      "text/html": "<div>\n<style scoped>\n    .dataframe tbody tr th:only-of-type {\n        vertical-align: middle;\n    }\n\n    .dataframe tbody tr th {\n        vertical-align: top;\n    }\n\n    .dataframe thead th {\n        text-align: right;\n    }\n</style>\n<table border=\"1\" class=\"dataframe\">\n  <thead>\n    <tr style=\"text-align: right;\">\n      <th></th>\n      <th>userId</th>\n      <th>movieId</th>\n      <th>title</th>\n      <th>Action</th>\n      <th>Adventure</th>\n      <th>Animation</th>\n      <th>Children's</th>\n      <th>Comedy</th>\n      <th>Crime</th>\n      <th>Documentary</th>\n      <th>...</th>\n      <th>Fantasy</th>\n      <th>Film-Noir</th>\n      <th>Horror</th>\n      <th>Musical</th>\n      <th>Mystery</th>\n      <th>Romance</th>\n      <th>Sci-Fi</th>\n      <th>Thriller</th>\n      <th>War</th>\n      <th>Western</th>\n    </tr>\n  </thead>\n  <tbody>\n    <tr>\n      <th>0</th>\n      <td>2458</td>\n      <td>748</td>\n      <td>the arrival</td>\n      <td>1</td>\n      <td>0</td>\n      <td>0</td>\n      <td>0</td>\n      <td>0</td>\n      <td>0</td>\n      <td>0</td>\n      <td>...</td>\n      <td>0</td>\n      <td>0</td>\n      <td>0</td>\n      <td>0</td>\n      <td>0</td>\n      <td>0</td>\n      <td>1</td>\n      <td>1</td>\n      <td>0</td>\n      <td>0</td>\n    </tr>\n    <tr>\n      <th>1</th>\n      <td>2344</td>\n      <td>1197</td>\n      <td>the princess bride</td>\n      <td>1</td>\n      <td>1</td>\n      <td>0</td>\n      <td>0</td>\n      <td>1</td>\n      <td>0</td>\n      <td>0</td>\n      <td>...</td>\n      <td>0</td>\n      <td>0</td>\n      <td>0</td>\n      <td>0</td>\n      <td>0</td>\n      <td>1</td>\n      <td>0</td>\n      <td>0</td>\n      <td>0</td>\n      <td>0</td>\n    </tr>\n    <tr>\n      <th>2</th>\n      <td>3746</td>\n      <td>3608</td>\n      <td>pee-wee's big adventure</td>\n      <td>0</td>\n      <td>0</td>\n      <td>0</td>\n      <td>0</td>\n      <td>1</td>\n      <td>0</td>\n      <td>0</td>\n      <td>...</td>\n      <td>0</td>\n      <td>0</td>\n      <td>0</td>\n      <td>0</td>\n      <td>0</td>\n      <td>0</td>\n      <td>0</td>\n      <td>0</td>\n      <td>0</td>\n      <td>0</td>\n    </tr>\n    <tr>\n      <th>3</th>\n      <td>3573</td>\n      <td>260</td>\n      <td>star wars: episode iv - a new hope</td>\n      <td>1</td>\n      <td>1</td>\n      <td>0</td>\n      <td>0</td>\n      <td>0</td>\n      <td>0</td>\n      <td>0</td>\n      <td>...</td>\n      <td>1</td>\n      <td>0</td>\n      <td>0</td>\n      <td>0</td>\n      <td>0</td>\n      <td>0</td>\n      <td>1</td>\n      <td>0</td>\n      <td>0</td>\n      <td>0</td>\n    </tr>\n    <tr>\n      <th>4</th>\n      <td>3593</td>\n      <td>21</td>\n      <td>get shorty</td>\n      <td>1</td>\n      <td>0</td>\n      <td>0</td>\n      <td>0</td>\n      <td>1</td>\n      <td>0</td>\n      <td>0</td>\n      <td>...</td>\n      <td>0</td>\n      <td>0</td>\n      <td>0</td>\n      <td>0</td>\n      <td>0</td>\n      <td>0</td>\n      <td>0</td>\n      <td>0</td>\n      <td>0</td>\n      <td>0</td>\n    </tr>\n    <tr>\n      <th>...</th>\n      <td>...</td>\n      <td>...</td>\n      <td>...</td>\n      <td>...</td>\n      <td>...</td>\n      <td>...</td>\n      <td>...</td>\n      <td>...</td>\n      <td>...</td>\n      <td>...</td>\n      <td>...</td>\n      <td>...</td>\n      <td>...</td>\n      <td>...</td>\n      <td>...</td>\n      <td>...</td>\n      <td>...</td>\n      <td>...</td>\n      <td>...</td>\n      <td>...</td>\n      <td>...</td>\n    </tr>\n    <tr>\n      <th>999995</th>\n      <td>1357</td>\n      <td>1969</td>\n      <td>a nightmare on elm street part 2: freddy's rev...</td>\n      <td>0</td>\n      <td>0</td>\n      <td>0</td>\n      <td>0</td>\n      <td>0</td>\n      <td>0</td>\n      <td>0</td>\n      <td>...</td>\n      <td>0</td>\n      <td>0</td>\n      <td>1</td>\n      <td>0</td>\n      <td>0</td>\n      <td>0</td>\n      <td>0</td>\n      <td>0</td>\n      <td>0</td>\n      <td>0</td>\n    </tr>\n    <tr>\n      <th>999996</th>\n      <td>5653</td>\n      <td>3078</td>\n      <td>liberty heights</td>\n      <td>0</td>\n      <td>0</td>\n      <td>0</td>\n      <td>0</td>\n      <td>0</td>\n      <td>0</td>\n      <td>0</td>\n      <td>...</td>\n      <td>0</td>\n      <td>0</td>\n      <td>0</td>\n      <td>0</td>\n      <td>0</td>\n      <td>0</td>\n      <td>0</td>\n      <td>0</td>\n      <td>0</td>\n      <td>0</td>\n    </tr>\n    <tr>\n      <th>999997</th>\n      <td>5667</td>\n      <td>3072</td>\n      <td>moonstruck</td>\n      <td>0</td>\n      <td>0</td>\n      <td>0</td>\n      <td>0</td>\n      <td>1</td>\n      <td>0</td>\n      <td>0</td>\n      <td>...</td>\n      <td>0</td>\n      <td>0</td>\n      <td>0</td>\n      <td>0</td>\n      <td>0</td>\n      <td>0</td>\n      <td>0</td>\n      <td>0</td>\n      <td>0</td>\n      <td>0</td>\n    </tr>\n    <tr>\n      <th>999998</th>\n      <td>1800</td>\n      <td>3527</td>\n      <td>predator</td>\n      <td>1</td>\n      <td>0</td>\n      <td>0</td>\n      <td>0</td>\n      <td>0</td>\n      <td>0</td>\n      <td>0</td>\n      <td>...</td>\n      <td>0</td>\n      <td>0</td>\n      <td>0</td>\n      <td>0</td>\n      <td>0</td>\n      <td>0</td>\n      <td>1</td>\n      <td>1</td>\n      <td>0</td>\n      <td>0</td>\n    </tr>\n    <tr>\n      <th>999999</th>\n      <td>3842</td>\n      <td>2747</td>\n      <td>the little shop of horrors</td>\n      <td>0</td>\n      <td>0</td>\n      <td>0</td>\n      <td>0</td>\n      <td>1</td>\n      <td>0</td>\n      <td>0</td>\n      <td>...</td>\n      <td>0</td>\n      <td>0</td>\n      <td>1</td>\n      <td>0</td>\n      <td>0</td>\n      <td>0</td>\n      <td>0</td>\n      <td>0</td>\n      <td>0</td>\n      <td>0</td>\n    </tr>\n  </tbody>\n</table>\n<p>1000000 rows × 21 columns</p>\n</div>"
     },
     "execution_count": 11,
     "metadata": {},
     "output_type": "execute_result"
    }
   ],
   "source": [
    "df_features_movies"
   ],
   "metadata": {
    "collapsed": false,
    "ExecuteTime": {
     "end_time": "2024-07-07T20:24:32.465460400Z",
     "start_time": "2024-07-07T20:24:32.215822900Z"
    }
   },
   "id": "4caba84bfa41f3a",
   "execution_count": 11
  },
  {
   "cell_type": "code",
   "outputs": [
    {
     "data": {
      "text/plain": "        userId  movieId    Action  Adventure  Animation  Children's    Comedy  \\\n0         2458      748  3.982456   4.291667   3.800000    3.600000  3.288660   \n1         2344     1197  3.483871   3.459459   3.750000    3.250000  3.360825   \n2         3746     3608  3.744000   3.718750   2.250000    3.272727  3.635659   \n3         3573      260  3.933333   4.000000   3.166667    2.857143  2.300000   \n4         3593       21  3.166667   2.400000   3.000000    3.166667  3.377049   \n...        ...      ...       ...        ...        ...         ...       ...   \n999995    1357     1969  2.722222   2.714286   3.000000    3.000000  2.760000   \n999996    5653     3078  3.466667   3.705882   3.000000    3.750000  3.842857   \n999997    5667     3072  3.741379   3.388889   3.857143    3.666667  3.728814   \n999998    1800     3527  3.209790   3.480769   3.550000    3.208333  3.841463   \n999999    3842     2747  3.097561   3.314815   3.636364    3.838710  3.759124   \n\n           Crime  Documentary     Drama   Fantasy  Film-Noir    Horror  \\\n0       3.272727     1.000000  3.133333  4.000000   0.000000  4.272727   \n1       3.800000     0.000000  3.484848  3.818182   4.000000  3.200000   \n2       3.941176     4.000000  4.116071  3.866667   3.000000  3.320000   \n3       0.000000     0.000000  3.200000  3.250000   0.000000  2.500000   \n4       5.000000     0.000000  3.600000  0.000000   0.000000  3.000000   \n...          ...          ...       ...       ...        ...       ...   \n999995  3.000000     0.000000  3.777778  0.000000   0.000000  2.779070   \n999996  4.615385     3.666667  4.072581  4.000000   4.333333  2.750000   \n999997  3.878788     4.000000  4.071942  3.555556   4.363636  4.363636   \n999998  3.968750     5.000000  4.206349  2.625000   4.750000  3.375000   \n999999  3.836066     3.000000  3.949367  3.937500   4.642857  3.465347   \n\n         Musical   Mystery   Romance    Sci-Fi  Thriller       War   Western  \n0       3.333333  3.500000  3.772727  3.975000  3.666667  4.000000  4.000000  \n1       3.200000  3.750000  3.650000  3.397436  3.578947  3.125000  3.923077  \n2       3.625000  4.153846  3.822222  3.636364  3.606557  4.320000  4.052632  \n3       3.000000  0.000000  5.000000  3.789474  3.500000  4.166667  0.000000  \n4       3.000000  0.000000  3.500000  2.500000  3.000000  5.000000  0.000000  \n...          ...       ...       ...       ...       ...       ...       ...  \n999995  3.000000  2.500000  5.000000  2.906250  2.583333  5.000000  0.000000  \n999996  4.111111  4.000000  4.166667  3.285714  3.683333  4.000000  3.888889  \n999997  3.842105  4.428571  3.600000  4.043478  4.000000  3.966667  4.090909  \n999998  3.300000  3.250000  3.500000  3.243902  3.278689  4.142857  3.000000  \n999999  3.545455  3.777778  3.632353  3.342857  3.554688  3.241379  3.500000  \n\n[1000000 rows x 20 columns]",
      "text/html": "<div>\n<style scoped>\n    .dataframe tbody tr th:only-of-type {\n        vertical-align: middle;\n    }\n\n    .dataframe tbody tr th {\n        vertical-align: top;\n    }\n\n    .dataframe thead th {\n        text-align: right;\n    }\n</style>\n<table border=\"1\" class=\"dataframe\">\n  <thead>\n    <tr style=\"text-align: right;\">\n      <th></th>\n      <th>userId</th>\n      <th>movieId</th>\n      <th>Action</th>\n      <th>Adventure</th>\n      <th>Animation</th>\n      <th>Children's</th>\n      <th>Comedy</th>\n      <th>Crime</th>\n      <th>Documentary</th>\n      <th>Drama</th>\n      <th>Fantasy</th>\n      <th>Film-Noir</th>\n      <th>Horror</th>\n      <th>Musical</th>\n      <th>Mystery</th>\n      <th>Romance</th>\n      <th>Sci-Fi</th>\n      <th>Thriller</th>\n      <th>War</th>\n      <th>Western</th>\n    </tr>\n  </thead>\n  <tbody>\n    <tr>\n      <th>0</th>\n      <td>2458</td>\n      <td>748</td>\n      <td>3.982456</td>\n      <td>4.291667</td>\n      <td>3.800000</td>\n      <td>3.600000</td>\n      <td>3.288660</td>\n      <td>3.272727</td>\n      <td>1.000000</td>\n      <td>3.133333</td>\n      <td>4.000000</td>\n      <td>0.000000</td>\n      <td>4.272727</td>\n      <td>3.333333</td>\n      <td>3.500000</td>\n      <td>3.772727</td>\n      <td>3.975000</td>\n      <td>3.666667</td>\n      <td>4.000000</td>\n      <td>4.000000</td>\n    </tr>\n    <tr>\n      <th>1</th>\n      <td>2344</td>\n      <td>1197</td>\n      <td>3.483871</td>\n      <td>3.459459</td>\n      <td>3.750000</td>\n      <td>3.250000</td>\n      <td>3.360825</td>\n      <td>3.800000</td>\n      <td>0.000000</td>\n      <td>3.484848</td>\n      <td>3.818182</td>\n      <td>4.000000</td>\n      <td>3.200000</td>\n      <td>3.200000</td>\n      <td>3.750000</td>\n      <td>3.650000</td>\n      <td>3.397436</td>\n      <td>3.578947</td>\n      <td>3.125000</td>\n      <td>3.923077</td>\n    </tr>\n    <tr>\n      <th>2</th>\n      <td>3746</td>\n      <td>3608</td>\n      <td>3.744000</td>\n      <td>3.718750</td>\n      <td>2.250000</td>\n      <td>3.272727</td>\n      <td>3.635659</td>\n      <td>3.941176</td>\n      <td>4.000000</td>\n      <td>4.116071</td>\n      <td>3.866667</td>\n      <td>3.000000</td>\n      <td>3.320000</td>\n      <td>3.625000</td>\n      <td>4.153846</td>\n      <td>3.822222</td>\n      <td>3.636364</td>\n      <td>3.606557</td>\n      <td>4.320000</td>\n      <td>4.052632</td>\n    </tr>\n    <tr>\n      <th>3</th>\n      <td>3573</td>\n      <td>260</td>\n      <td>3.933333</td>\n      <td>4.000000</td>\n      <td>3.166667</td>\n      <td>2.857143</td>\n      <td>2.300000</td>\n      <td>0.000000</td>\n      <td>0.000000</td>\n      <td>3.200000</td>\n      <td>3.250000</td>\n      <td>0.000000</td>\n      <td>2.500000</td>\n      <td>3.000000</td>\n      <td>0.000000</td>\n      <td>5.000000</td>\n      <td>3.789474</td>\n      <td>3.500000</td>\n      <td>4.166667</td>\n      <td>0.000000</td>\n    </tr>\n    <tr>\n      <th>4</th>\n      <td>3593</td>\n      <td>21</td>\n      <td>3.166667</td>\n      <td>2.400000</td>\n      <td>3.000000</td>\n      <td>3.166667</td>\n      <td>3.377049</td>\n      <td>5.000000</td>\n      <td>0.000000</td>\n      <td>3.600000</td>\n      <td>0.000000</td>\n      <td>0.000000</td>\n      <td>3.000000</td>\n      <td>3.000000</td>\n      <td>0.000000</td>\n      <td>3.500000</td>\n      <td>2.500000</td>\n      <td>3.000000</td>\n      <td>5.000000</td>\n      <td>0.000000</td>\n    </tr>\n    <tr>\n      <th>...</th>\n      <td>...</td>\n      <td>...</td>\n      <td>...</td>\n      <td>...</td>\n      <td>...</td>\n      <td>...</td>\n      <td>...</td>\n      <td>...</td>\n      <td>...</td>\n      <td>...</td>\n      <td>...</td>\n      <td>...</td>\n      <td>...</td>\n      <td>...</td>\n      <td>...</td>\n      <td>...</td>\n      <td>...</td>\n      <td>...</td>\n      <td>...</td>\n      <td>...</td>\n    </tr>\n    <tr>\n      <th>999995</th>\n      <td>1357</td>\n      <td>1969</td>\n      <td>2.722222</td>\n      <td>2.714286</td>\n      <td>3.000000</td>\n      <td>3.000000</td>\n      <td>2.760000</td>\n      <td>3.000000</td>\n      <td>0.000000</td>\n      <td>3.777778</td>\n      <td>0.000000</td>\n      <td>0.000000</td>\n      <td>2.779070</td>\n      <td>3.000000</td>\n      <td>2.500000</td>\n      <td>5.000000</td>\n      <td>2.906250</td>\n      <td>2.583333</td>\n      <td>5.000000</td>\n      <td>0.000000</td>\n    </tr>\n    <tr>\n      <th>999996</th>\n      <td>5653</td>\n      <td>3078</td>\n      <td>3.466667</td>\n      <td>3.705882</td>\n      <td>3.000000</td>\n      <td>3.750000</td>\n      <td>3.842857</td>\n      <td>4.615385</td>\n      <td>3.666667</td>\n      <td>4.072581</td>\n      <td>4.000000</td>\n      <td>4.333333</td>\n      <td>2.750000</td>\n      <td>4.111111</td>\n      <td>4.000000</td>\n      <td>4.166667</td>\n      <td>3.285714</td>\n      <td>3.683333</td>\n      <td>4.000000</td>\n      <td>3.888889</td>\n    </tr>\n    <tr>\n      <th>999997</th>\n      <td>5667</td>\n      <td>3072</td>\n      <td>3.741379</td>\n      <td>3.388889</td>\n      <td>3.857143</td>\n      <td>3.666667</td>\n      <td>3.728814</td>\n      <td>3.878788</td>\n      <td>4.000000</td>\n      <td>4.071942</td>\n      <td>3.555556</td>\n      <td>4.363636</td>\n      <td>4.363636</td>\n      <td>3.842105</td>\n      <td>4.428571</td>\n      <td>3.600000</td>\n      <td>4.043478</td>\n      <td>4.000000</td>\n      <td>3.966667</td>\n      <td>4.090909</td>\n    </tr>\n    <tr>\n      <th>999998</th>\n      <td>1800</td>\n      <td>3527</td>\n      <td>3.209790</td>\n      <td>3.480769</td>\n      <td>3.550000</td>\n      <td>3.208333</td>\n      <td>3.841463</td>\n      <td>3.968750</td>\n      <td>5.000000</td>\n      <td>4.206349</td>\n      <td>2.625000</td>\n      <td>4.750000</td>\n      <td>3.375000</td>\n      <td>3.300000</td>\n      <td>3.250000</td>\n      <td>3.500000</td>\n      <td>3.243902</td>\n      <td>3.278689</td>\n      <td>4.142857</td>\n      <td>3.000000</td>\n    </tr>\n    <tr>\n      <th>999999</th>\n      <td>3842</td>\n      <td>2747</td>\n      <td>3.097561</td>\n      <td>3.314815</td>\n      <td>3.636364</td>\n      <td>3.838710</td>\n      <td>3.759124</td>\n      <td>3.836066</td>\n      <td>3.000000</td>\n      <td>3.949367</td>\n      <td>3.937500</td>\n      <td>4.642857</td>\n      <td>3.465347</td>\n      <td>3.545455</td>\n      <td>3.777778</td>\n      <td>3.632353</td>\n      <td>3.342857</td>\n      <td>3.554688</td>\n      <td>3.241379</td>\n      <td>3.500000</td>\n    </tr>\n  </tbody>\n</table>\n<p>1000000 rows × 20 columns</p>\n</div>"
     },
     "execution_count": 12,
     "metadata": {},
     "output_type": "execute_result"
    }
   ],
   "source": [
    "df_features_users"
   ],
   "metadata": {
    "collapsed": false,
    "ExecuteTime": {
     "end_time": "2024-07-07T20:24:32.498498100Z",
     "start_time": "2024-07-07T20:24:32.464458900Z"
    }
   },
   "id": "30691a5035d8f53f",
   "execution_count": 12
  },
  {
   "cell_type": "code",
   "outputs": [
    {
     "name": "stderr",
     "output_type": "stream",
     "text": [
      "C:\\Users\\jujus\\AppData\\Local\\Temp\\ipykernel_13880\\3202688722.py:3: SettingWithCopyWarning: \n",
      "A value is trying to be set on a copy of a slice from a DataFrame.\n",
      "Try using .loc[row_indexer,col_indexer] = value instead\n",
      "\n",
      "See the caveats in the documentation: https://pandas.pydata.org/pandas-docs/stable/user_guide/indexing.html#returning-a-view-versus-a-copy\n",
      "  df_ratings[\"rating\"] = scalerTarget.transform(df_ratings[\"rating\"].to_numpy().reshape(-1, 1))\n"
     ]
    },
    {
     "data": {
      "text/plain": "        userId  movieId  rating\n0         2458      748     0.0\n1         2344     1197     1.0\n2         3746     3608     0.0\n3         3573      260     1.0\n4         3593       21     0.0\n...        ...      ...     ...\n999995    1357     1969    -0.5\n999996    5653     3078     0.5\n999997    5667     3072     0.5\n999998    1800     3527     0.0\n999999    3842     2747     0.5\n\n[1000000 rows x 3 columns]",
      "text/html": "<div>\n<style scoped>\n    .dataframe tbody tr th:only-of-type {\n        vertical-align: middle;\n    }\n\n    .dataframe tbody tr th {\n        vertical-align: top;\n    }\n\n    .dataframe thead th {\n        text-align: right;\n    }\n</style>\n<table border=\"1\" class=\"dataframe\">\n  <thead>\n    <tr style=\"text-align: right;\">\n      <th></th>\n      <th>userId</th>\n      <th>movieId</th>\n      <th>rating</th>\n    </tr>\n  </thead>\n  <tbody>\n    <tr>\n      <th>0</th>\n      <td>2458</td>\n      <td>748</td>\n      <td>0.0</td>\n    </tr>\n    <tr>\n      <th>1</th>\n      <td>2344</td>\n      <td>1197</td>\n      <td>1.0</td>\n    </tr>\n    <tr>\n      <th>2</th>\n      <td>3746</td>\n      <td>3608</td>\n      <td>0.0</td>\n    </tr>\n    <tr>\n      <th>3</th>\n      <td>3573</td>\n      <td>260</td>\n      <td>1.0</td>\n    </tr>\n    <tr>\n      <th>4</th>\n      <td>3593</td>\n      <td>21</td>\n      <td>0.0</td>\n    </tr>\n    <tr>\n      <th>...</th>\n      <td>...</td>\n      <td>...</td>\n      <td>...</td>\n    </tr>\n    <tr>\n      <th>999995</th>\n      <td>1357</td>\n      <td>1969</td>\n      <td>-0.5</td>\n    </tr>\n    <tr>\n      <th>999996</th>\n      <td>5653</td>\n      <td>3078</td>\n      <td>0.5</td>\n    </tr>\n    <tr>\n      <th>999997</th>\n      <td>5667</td>\n      <td>3072</td>\n      <td>0.5</td>\n    </tr>\n    <tr>\n      <th>999998</th>\n      <td>1800</td>\n      <td>3527</td>\n      <td>0.0</td>\n    </tr>\n    <tr>\n      <th>999999</th>\n      <td>3842</td>\n      <td>2747</td>\n      <td>0.5</td>\n    </tr>\n  </tbody>\n</table>\n<p>1000000 rows × 3 columns</p>\n</div>"
     },
     "execution_count": 13,
     "metadata": {},
     "output_type": "execute_result"
    }
   ],
   "source": [
    "scalerTarget = MinMaxScaler((-1, 1))\n",
    "scalerTarget.fit(df_ratings[\"rating\"].to_numpy().reshape(-1, 1))\n",
    "df_ratings[\"rating\"] = scalerTarget.transform(df_ratings[\"rating\"].to_numpy().reshape(-1, 1))\n",
    "\n",
    "df_ratings"
   ],
   "metadata": {
    "collapsed": false,
    "ExecuteTime": {
     "end_time": "2024-07-07T20:24:32.639546100Z",
     "start_time": "2024-07-07T20:24:32.484461600Z"
    }
   },
   "id": "caa14affc57e4b7e",
   "execution_count": 13
  },
  {
   "cell_type": "code",
   "outputs": [
    {
     "name": "stdout",
     "output_type": "stream",
     "text": [
      "        userId  movieId    Action  Adventure  Animation  Children's    Comedy  \\\n",
      "771718     424       44  3.518797   3.701493   4.162791    3.843373  3.613333   \n",
      "521462     411     1703  3.357143   3.290323   3.307692    3.216216  3.214035   \n",
      "137361    2627     2011  2.774510   2.871795   3.769231    3.588235  3.232394   \n",
      "404985    2941     2081  3.354839   3.363636   3.950000    3.586207  3.550459   \n",
      "910092    1521      307  3.181818   3.000000   0.000000    0.000000  3.000000   \n",
      "...        ...      ...       ...        ...        ...         ...       ...   \n",
      "491263     823     1916  3.714286   4.200000   3.000000    3.666667  3.851485   \n",
      "791624     850      800  3.106667   2.914286   3.687500    3.523810  3.459627   \n",
      "470924    1264       16  3.360406   3.479592   3.666667    3.486486  3.731343   \n",
      "491755    3860     1927  3.571429   3.517241   3.571429    3.111111  3.466667   \n",
      "128037    3390     2069  4.333333   3.555556   4.636364    4.357143  4.196429   \n",
      "\n",
      "           Crime  Documentary     Drama   Fantasy  Film-Noir    Horror  \\\n",
      "771718  3.909091     4.300000  4.005013  3.833333   4.684211  3.279793   \n",
      "521462  3.250000     2.666667  3.392593  3.238095   3.333333  2.450000   \n",
      "137361  3.270588     3.750000  3.355769  3.000000   3.760000  2.886364   \n",
      "404985  3.928571     4.333333  3.671642  3.440000   4.615385  2.256410   \n",
      "910092  2.687500     0.000000  3.512821  4.000000   2.500000  1.500000   \n",
      "...          ...          ...       ...       ...        ...       ...   \n",
      "491263  3.700000     4.333333  3.891892  4.000000   4.000000  3.000000   \n",
      "791624  3.775000     4.153846  3.677966  2.777778   3.928571  3.605263   \n",
      "470924  3.603175     4.133333  3.775000  3.222222   3.900000  3.307692   \n",
      "491755  4.000000     3.000000  3.886792  3.714286   4.000000  3.200000   \n",
      "128037  4.500000     4.500000  4.148936  5.000000   4.500000  4.750000   \n",
      "\n",
      "         Musical   Mystery   Romance    Sci-Fi  Thriller       War   Western  \n",
      "771718  4.090909  3.773585  3.843972  3.730061  3.745370  3.957143  3.928571  \n",
      "521462  3.729167  3.588235  3.319444  3.285714  3.125000  3.966667  3.466667  \n",
      "137361  3.200000  3.411765  3.261905  2.977778  3.303922  3.172414  3.166667  \n",
      "404985  3.631579  4.052632  3.397849  3.309278  3.578947  3.735294  4.000000  \n",
      "910092  0.000000  2.782609  3.000000  3.000000  2.937500  2.000000  0.000000  \n",
      "...          ...       ...       ...       ...       ...       ...       ...  \n",
      "491263  5.000000  3.666667  4.058824  4.666667  3.714286  4.000000  4.000000  \n",
      "791624  3.678571  3.875000  3.268657  3.196429  3.418605  3.606061  3.250000  \n",
      "470924  3.631579  3.405405  3.414634  3.346457  3.282051  3.725806  3.500000  \n",
      "491755  3.500000  5.000000  3.937500  3.430769  3.608696  3.898734  3.500000  \n",
      "128037  4.333333  4.538462  4.260000  4.500000  4.434783  4.368421  3.500000  \n",
      "\n",
      "[800000 rows x 20 columns]\n",
      "        userId  movieId                           title  Action  Adventure  \\\n",
      "771718     424       44                   mortal kombat       1          1   \n",
      "521462     411     1703            for richer or poorer       0          0   \n",
      "137361    2627     2011      back to the future part ii       0          0   \n",
      "404985    2941     2081              the little mermaid       0          0   \n",
      "910092    1521      307              three colors: blue       0          0   \n",
      "...        ...      ...                             ...     ...        ...   \n",
      "491263     823     1916                      buffalo 66       1          0   \n",
      "791624     850      800                       lone star       0          0   \n",
      "470924    1264       16                          casino       0          0   \n",
      "491755    3860     1927  all quiet on the western front       0          0   \n",
      "128037    3390     2069           the trip to bountiful       0          0   \n",
      "\n",
      "        Animation  Children's  Comedy  Crime  Documentary  ...  Fantasy  \\\n",
      "771718          0           0       0      0            0  ...        0   \n",
      "521462          0           0       1      0            0  ...        0   \n",
      "137361          0           0       1      0            0  ...        0   \n",
      "404985          1           1       1      0            0  ...        0   \n",
      "910092          0           0       0      0            0  ...        0   \n",
      "...           ...         ...     ...    ...          ...  ...      ...   \n",
      "491263          0           0       1      0            0  ...        0   \n",
      "791624          0           0       0      0            0  ...        0   \n",
      "470924          0           0       0      0            0  ...        0   \n",
      "491755          0           0       0      0            0  ...        0   \n",
      "128037          0           0       0      0            0  ...        0   \n",
      "\n",
      "        Film-Noir  Horror  Musical  Mystery  Romance  Sci-Fi  Thriller  War  \\\n",
      "771718          0       0        0        0        0       0         0    0   \n",
      "521462          0       0        0        0        0       0         0    0   \n",
      "137361          0       0        0        0        0       1         0    0   \n",
      "404985          0       0        1        0        1       0         0    0   \n",
      "910092          0       0        0        0        0       0         0    0   \n",
      "...           ...     ...      ...      ...      ...     ...       ...  ...   \n",
      "491263          0       0        0        0        0       0         0    0   \n",
      "791624          0       0        0        1        0       0         0    0   \n",
      "470924          0       0        0        0        0       0         1    0   \n",
      "491755          0       0        0        0        0       0         0    1   \n",
      "128037          0       0        0        0        0       0         0    0   \n",
      "\n",
      "        Western  \n",
      "771718        0  \n",
      "521462        0  \n",
      "137361        0  \n",
      "404985        0  \n",
      "910092        0  \n",
      "...         ...  \n",
      "491263        0  \n",
      "791624        0  \n",
      "470924        0  \n",
      "491755        0  \n",
      "128037        0  \n",
      "\n",
      "[800000 rows x 21 columns]\n",
      "        userId  movieId  rating\n",
      "771718     424       44    -0.5\n",
      "521462     411     1703     0.0\n",
      "137361    2627     2011    -0.5\n",
      "404985    2941     2081     0.0\n",
      "910092    1521      307     1.0\n",
      "...        ...      ...     ...\n",
      "491263     823     1916     0.5\n",
      "791624     850      800     0.5\n",
      "470924    1264       16     0.5\n",
      "491755    3860     1927     1.0\n",
      "128037    3390     2069     0.5\n",
      "\n",
      "[800000 rows x 3 columns]\n"
     ]
    }
   ],
   "source": [
    "user_train, user_test = train_test_split(\n",
    "    df_features_users, train_size=0.80, shuffle=True, random_state=1\n",
    ")\n",
    "\n",
    "movie_train, movie_test = train_test_split(\n",
    "    df_features_movies, train_size=0.80, shuffle=True, random_state=1\n",
    ")\n",
    "\n",
    "rating_train, rating_test = train_test_split(\n",
    "    df_ratings, train_size=0.80, shuffle=True, random_state=1\n",
    ")\n",
    "\n",
    "print(user_train)\n",
    "print(movie_train)\n",
    "print(rating_train)"
   ],
   "metadata": {
    "collapsed": false,
    "ExecuteTime": {
     "end_time": "2024-07-07T20:24:33.224542300Z",
     "start_time": "2024-07-07T20:24:32.512540200Z"
    }
   },
   "id": "6a925197162ce7b2",
   "execution_count": 14
  },
  {
   "cell_type": "markdown",
   "source": [
    "The goal of this project is to build a recommendation system.\n",
    "The recommendation will do the following:\n",
    "- based on 2 users, recommend a movie that the two users could both like\n",
    "\n",
    "The 2 users can be either ids or simply made up users from preferences.\n",
    "\n",
    "Here is the plan:\n",
    "- We create a movie-movie similarity matrix\n",
    "- We build a new common-user that will have the average features of the two users\n",
    "- We get N movies that are the most similar to the movies that the two users have in common\n",
    "- We estimate the rating of the common-user for each of these N movies (using the neural network)\n",
    "- We recommend the movie with the highest estimated rating\n"
   ],
   "metadata": {
    "collapsed": false
   },
   "id": "145d1032c05431e"
  },
  {
   "cell_type": "markdown",
   "source": [
    "Building the movie-movie similarity matrix"
   ],
   "metadata": {
    "collapsed": false
   },
   "id": "b6381ce9ea0aa042"
  },
  {
   "cell_type": "code",
   "outputs": [
    {
     "data": {
      "text/plain": "         Action  Adventure  Animation  Children's  Comedy  Crime  Documentary  \\\nmovieId                                                                         \n748           1          0          0           0       0      0            0   \n1197          1          1          0           0       1      0            0   \n3608          0          0          0           0       1      0            0   \n260           1          1          0           0       0      0            0   \n21            1          0          0           0       1      0            0   \n...         ...        ...        ...         ...     ...    ...          ...   \n1714          0          0          0           0       0      0            0   \n1852          0          0          0           0       0      0            0   \n641           0          0          0           0       1      0            0   \n576           0          0          0           0       1      0            0   \n1843          0          0          0           1       1      0            0   \n\n         Drama  Fantasy  Film-Noir  Horror  Musical  Mystery  Romance  Sci-Fi  \\\nmovieId                                                                         \n748          0        0          0       0        0        0        0       1   \n1197         0        0          0       0        0        0        1       0   \n3608         0        0          0       0        0        0        0       0   \n260          0        1          0       0        0        0        0       1   \n21           1        0          0       0        0        0        0       0   \n...        ...      ...        ...     ...      ...      ...      ...     ...   \n1714         0        0          0       0        0        0        1       0   \n1852         1        0          0       0        0        0        0       0   \n641          0        0          0       0        0        0        0       0   \n576          0        0          0       0        0        0        0       0   \n1843         0        0          0       0        0        0        0       0   \n\n         Thriller  War  Western  \nmovieId                          \n748             1    0        0  \n1197            0    0        0  \n3608            0    0        0  \n260             0    0        0  \n21              0    0        0  \n...           ...  ...      ...  \n1714            0    0        0  \n1852            1    0        0  \n641             0    0        0  \n576             0    0        0  \n1843            0    0        0  \n\n[3706 rows x 18 columns]",
      "text/html": "<div>\n<style scoped>\n    .dataframe tbody tr th:only-of-type {\n        vertical-align: middle;\n    }\n\n    .dataframe tbody tr th {\n        vertical-align: top;\n    }\n\n    .dataframe thead th {\n        text-align: right;\n    }\n</style>\n<table border=\"1\" class=\"dataframe\">\n  <thead>\n    <tr style=\"text-align: right;\">\n      <th></th>\n      <th>Action</th>\n      <th>Adventure</th>\n      <th>Animation</th>\n      <th>Children's</th>\n      <th>Comedy</th>\n      <th>Crime</th>\n      <th>Documentary</th>\n      <th>Drama</th>\n      <th>Fantasy</th>\n      <th>Film-Noir</th>\n      <th>Horror</th>\n      <th>Musical</th>\n      <th>Mystery</th>\n      <th>Romance</th>\n      <th>Sci-Fi</th>\n      <th>Thriller</th>\n      <th>War</th>\n      <th>Western</th>\n    </tr>\n    <tr>\n      <th>movieId</th>\n      <th></th>\n      <th></th>\n      <th></th>\n      <th></th>\n      <th></th>\n      <th></th>\n      <th></th>\n      <th></th>\n      <th></th>\n      <th></th>\n      <th></th>\n      <th></th>\n      <th></th>\n      <th></th>\n      <th></th>\n      <th></th>\n      <th></th>\n      <th></th>\n    </tr>\n  </thead>\n  <tbody>\n    <tr>\n      <th>748</th>\n      <td>1</td>\n      <td>0</td>\n      <td>0</td>\n      <td>0</td>\n      <td>0</td>\n      <td>0</td>\n      <td>0</td>\n      <td>0</td>\n      <td>0</td>\n      <td>0</td>\n      <td>0</td>\n      <td>0</td>\n      <td>0</td>\n      <td>0</td>\n      <td>1</td>\n      <td>1</td>\n      <td>0</td>\n      <td>0</td>\n    </tr>\n    <tr>\n      <th>1197</th>\n      <td>1</td>\n      <td>1</td>\n      <td>0</td>\n      <td>0</td>\n      <td>1</td>\n      <td>0</td>\n      <td>0</td>\n      <td>0</td>\n      <td>0</td>\n      <td>0</td>\n      <td>0</td>\n      <td>0</td>\n      <td>0</td>\n      <td>1</td>\n      <td>0</td>\n      <td>0</td>\n      <td>0</td>\n      <td>0</td>\n    </tr>\n    <tr>\n      <th>3608</th>\n      <td>0</td>\n      <td>0</td>\n      <td>0</td>\n      <td>0</td>\n      <td>1</td>\n      <td>0</td>\n      <td>0</td>\n      <td>0</td>\n      <td>0</td>\n      <td>0</td>\n      <td>0</td>\n      <td>0</td>\n      <td>0</td>\n      <td>0</td>\n      <td>0</td>\n      <td>0</td>\n      <td>0</td>\n      <td>0</td>\n    </tr>\n    <tr>\n      <th>260</th>\n      <td>1</td>\n      <td>1</td>\n      <td>0</td>\n      <td>0</td>\n      <td>0</td>\n      <td>0</td>\n      <td>0</td>\n      <td>0</td>\n      <td>1</td>\n      <td>0</td>\n      <td>0</td>\n      <td>0</td>\n      <td>0</td>\n      <td>0</td>\n      <td>1</td>\n      <td>0</td>\n      <td>0</td>\n      <td>0</td>\n    </tr>\n    <tr>\n      <th>21</th>\n      <td>1</td>\n      <td>0</td>\n      <td>0</td>\n      <td>0</td>\n      <td>1</td>\n      <td>0</td>\n      <td>0</td>\n      <td>1</td>\n      <td>0</td>\n      <td>0</td>\n      <td>0</td>\n      <td>0</td>\n      <td>0</td>\n      <td>0</td>\n      <td>0</td>\n      <td>0</td>\n      <td>0</td>\n      <td>0</td>\n    </tr>\n    <tr>\n      <th>...</th>\n      <td>...</td>\n      <td>...</td>\n      <td>...</td>\n      <td>...</td>\n      <td>...</td>\n      <td>...</td>\n      <td>...</td>\n      <td>...</td>\n      <td>...</td>\n      <td>...</td>\n      <td>...</td>\n      <td>...</td>\n      <td>...</td>\n      <td>...</td>\n      <td>...</td>\n      <td>...</td>\n      <td>...</td>\n      <td>...</td>\n    </tr>\n    <tr>\n      <th>1714</th>\n      <td>0</td>\n      <td>0</td>\n      <td>0</td>\n      <td>0</td>\n      <td>0</td>\n      <td>0</td>\n      <td>0</td>\n      <td>0</td>\n      <td>0</td>\n      <td>0</td>\n      <td>0</td>\n      <td>0</td>\n      <td>0</td>\n      <td>1</td>\n      <td>0</td>\n      <td>0</td>\n      <td>0</td>\n      <td>0</td>\n    </tr>\n    <tr>\n      <th>1852</th>\n      <td>0</td>\n      <td>0</td>\n      <td>0</td>\n      <td>0</td>\n      <td>0</td>\n      <td>0</td>\n      <td>0</td>\n      <td>1</td>\n      <td>0</td>\n      <td>0</td>\n      <td>0</td>\n      <td>0</td>\n      <td>0</td>\n      <td>0</td>\n      <td>0</td>\n      <td>1</td>\n      <td>0</td>\n      <td>0</td>\n    </tr>\n    <tr>\n      <th>641</th>\n      <td>0</td>\n      <td>0</td>\n      <td>0</td>\n      <td>0</td>\n      <td>1</td>\n      <td>0</td>\n      <td>0</td>\n      <td>0</td>\n      <td>0</td>\n      <td>0</td>\n      <td>0</td>\n      <td>0</td>\n      <td>0</td>\n      <td>0</td>\n      <td>0</td>\n      <td>0</td>\n      <td>0</td>\n      <td>0</td>\n    </tr>\n    <tr>\n      <th>576</th>\n      <td>0</td>\n      <td>0</td>\n      <td>0</td>\n      <td>0</td>\n      <td>1</td>\n      <td>0</td>\n      <td>0</td>\n      <td>0</td>\n      <td>0</td>\n      <td>0</td>\n      <td>0</td>\n      <td>0</td>\n      <td>0</td>\n      <td>0</td>\n      <td>0</td>\n      <td>0</td>\n      <td>0</td>\n      <td>0</td>\n    </tr>\n    <tr>\n      <th>1843</th>\n      <td>0</td>\n      <td>0</td>\n      <td>0</td>\n      <td>1</td>\n      <td>1</td>\n      <td>0</td>\n      <td>0</td>\n      <td>0</td>\n      <td>0</td>\n      <td>0</td>\n      <td>0</td>\n      <td>0</td>\n      <td>0</td>\n      <td>0</td>\n      <td>0</td>\n      <td>0</td>\n      <td>0</td>\n      <td>0</td>\n    </tr>\n  </tbody>\n</table>\n<p>3706 rows × 18 columns</p>\n</div>"
     },
     "execution_count": 15,
     "metadata": {},
     "output_type": "execute_result"
    }
   ],
   "source": [
    "# Remove the userId column, and remove duplicated movieIds\n",
    "df_features_movies = df_features_movies.drop(columns=['userId']).drop_duplicates(subset=['movieId'])\n",
    "\n",
    "# Remove the title column and reset index to movieId\n",
    "df_features_movies = df_features_movies.drop(columns=['title']).set_index('movieId')\n",
    "\n",
    "df_features_movies"
   ],
   "metadata": {
    "collapsed": false,
    "ExecuteTime": {
     "end_time": "2024-07-07T20:24:33.325549100Z",
     "start_time": "2024-07-07T20:24:33.226543900Z"
    }
   },
   "id": "ab3ec6f1e974eb4f",
   "execution_count": 15
  },
  {
   "cell_type": "code",
   "outputs": [
    {
     "data": {
      "text/plain": "movieId      748       1197      3608      260       21        2683      3069  \\\nmovieId                                                                         \n748      1.000000  0.288675  0.000000  0.577350  0.333333  0.000000  0.000000   \n1197     0.288675  1.000000  0.500000  0.500000  0.577350  0.500000  0.000000   \n3608     0.000000  0.500000  1.000000  0.000000  0.577350  1.000000  0.000000   \n260      0.577350  0.500000  0.000000  1.000000  0.288675  0.000000  0.000000   \n21       0.333333  0.577350  0.577350  0.288675  1.000000  0.577350  0.577350   \n...           ...       ...       ...       ...       ...       ...       ...   \n1714     0.000000  0.500000  0.000000  0.000000  0.000000  0.000000  0.000000   \n1852     0.408248  0.000000  0.000000  0.000000  0.408248  0.000000  0.707107   \n641      0.000000  0.500000  1.000000  0.000000  0.577350  1.000000  0.000000   \n576      0.000000  0.500000  1.000000  0.000000  0.577350  1.000000  0.000000   \n1843     0.000000  0.353553  0.707107  0.000000  0.408248  0.707107  0.000000   \n\nmovieId      317       2826      2871  ...      3291      3321      789   \\\nmovieId                                ...                                 \n748      0.000000  0.666667  0.408248  ...  0.577350  0.000000  0.000000   \n1197     0.288675  0.288675  0.353553  ...  0.000000  0.500000  0.000000   \n3608     0.577350  0.000000  0.000000  ...  0.000000  1.000000  0.000000   \n260      0.288675  0.288675  0.353553  ...  0.000000  0.000000  0.000000   \n21       0.333333  0.333333  0.000000  ...  0.000000  0.577350  0.577350   \n...           ...       ...       ...  ...       ...       ...       ...   \n1714     0.000000  0.000000  0.000000  ...  0.000000  0.000000  0.000000   \n1852     0.000000  0.408248  0.500000  ...  0.707107  0.000000  0.707107   \n641      0.577350  0.000000  0.000000  ...  0.000000  1.000000  0.000000   \n576      0.577350  0.000000  0.000000  ...  0.000000  1.000000  0.000000   \n1843     0.816497  0.000000  0.000000  ...  0.000000  0.707107  0.000000   \n\nmovieId      1115      2742  1714      1852      641       576       1843  \nmovieId                                                                    \n748      0.000000  0.000000   0.0  0.408248  0.000000  0.000000  0.000000  \n1197     0.353553  0.353553   0.5  0.000000  0.500000  0.500000  0.353553  \n3608     0.707107  0.707107   0.0  0.000000  1.000000  1.000000  0.707107  \n260      0.000000  0.000000   0.0  0.000000  0.000000  0.000000  0.000000  \n21       0.816497  0.816497   0.0  0.408248  0.577350  0.577350  0.408248  \n...           ...       ...   ...       ...       ...       ...       ...  \n1714     0.000000  0.000000   1.0  0.000000  0.000000  0.000000  0.000000  \n1852     0.500000  0.500000   0.0  1.000000  0.000000  0.000000  0.000000  \n641      0.707107  0.707107   0.0  0.000000  1.000000  1.000000  0.707107  \n576      0.707107  0.707107   0.0  0.000000  1.000000  1.000000  0.707107  \n1843     0.500000  0.500000   0.0  0.000000  0.707107  0.707107  1.000000  \n\n[3706 rows x 3706 columns]",
      "text/html": "<div>\n<style scoped>\n    .dataframe tbody tr th:only-of-type {\n        vertical-align: middle;\n    }\n\n    .dataframe tbody tr th {\n        vertical-align: top;\n    }\n\n    .dataframe thead th {\n        text-align: right;\n    }\n</style>\n<table border=\"1\" class=\"dataframe\">\n  <thead>\n    <tr style=\"text-align: right;\">\n      <th>movieId</th>\n      <th>748</th>\n      <th>1197</th>\n      <th>3608</th>\n      <th>260</th>\n      <th>21</th>\n      <th>2683</th>\n      <th>3069</th>\n      <th>317</th>\n      <th>2826</th>\n      <th>2871</th>\n      <th>...</th>\n      <th>3291</th>\n      <th>3321</th>\n      <th>789</th>\n      <th>1115</th>\n      <th>2742</th>\n      <th>1714</th>\n      <th>1852</th>\n      <th>641</th>\n      <th>576</th>\n      <th>1843</th>\n    </tr>\n    <tr>\n      <th>movieId</th>\n      <th></th>\n      <th></th>\n      <th></th>\n      <th></th>\n      <th></th>\n      <th></th>\n      <th></th>\n      <th></th>\n      <th></th>\n      <th></th>\n      <th></th>\n      <th></th>\n      <th></th>\n      <th></th>\n      <th></th>\n      <th></th>\n      <th></th>\n      <th></th>\n      <th></th>\n      <th></th>\n      <th></th>\n    </tr>\n  </thead>\n  <tbody>\n    <tr>\n      <th>748</th>\n      <td>1.000000</td>\n      <td>0.288675</td>\n      <td>0.000000</td>\n      <td>0.577350</td>\n      <td>0.333333</td>\n      <td>0.000000</td>\n      <td>0.000000</td>\n      <td>0.000000</td>\n      <td>0.666667</td>\n      <td>0.408248</td>\n      <td>...</td>\n      <td>0.577350</td>\n      <td>0.000000</td>\n      <td>0.000000</td>\n      <td>0.000000</td>\n      <td>0.000000</td>\n      <td>0.0</td>\n      <td>0.408248</td>\n      <td>0.000000</td>\n      <td>0.000000</td>\n      <td>0.000000</td>\n    </tr>\n    <tr>\n      <th>1197</th>\n      <td>0.288675</td>\n      <td>1.000000</td>\n      <td>0.500000</td>\n      <td>0.500000</td>\n      <td>0.577350</td>\n      <td>0.500000</td>\n      <td>0.000000</td>\n      <td>0.288675</td>\n      <td>0.288675</td>\n      <td>0.353553</td>\n      <td>...</td>\n      <td>0.000000</td>\n      <td>0.500000</td>\n      <td>0.000000</td>\n      <td>0.353553</td>\n      <td>0.353553</td>\n      <td>0.5</td>\n      <td>0.000000</td>\n      <td>0.500000</td>\n      <td>0.500000</td>\n      <td>0.353553</td>\n    </tr>\n    <tr>\n      <th>3608</th>\n      <td>0.000000</td>\n      <td>0.500000</td>\n      <td>1.000000</td>\n      <td>0.000000</td>\n      <td>0.577350</td>\n      <td>1.000000</td>\n      <td>0.000000</td>\n      <td>0.577350</td>\n      <td>0.000000</td>\n      <td>0.000000</td>\n      <td>...</td>\n      <td>0.000000</td>\n      <td>1.000000</td>\n      <td>0.000000</td>\n      <td>0.707107</td>\n      <td>0.707107</td>\n      <td>0.0</td>\n      <td>0.000000</td>\n      <td>1.000000</td>\n      <td>1.000000</td>\n      <td>0.707107</td>\n    </tr>\n    <tr>\n      <th>260</th>\n      <td>0.577350</td>\n      <td>0.500000</td>\n      <td>0.000000</td>\n      <td>1.000000</td>\n      <td>0.288675</td>\n      <td>0.000000</td>\n      <td>0.000000</td>\n      <td>0.288675</td>\n      <td>0.288675</td>\n      <td>0.353553</td>\n      <td>...</td>\n      <td>0.000000</td>\n      <td>0.000000</td>\n      <td>0.000000</td>\n      <td>0.000000</td>\n      <td>0.000000</td>\n      <td>0.0</td>\n      <td>0.000000</td>\n      <td>0.000000</td>\n      <td>0.000000</td>\n      <td>0.000000</td>\n    </tr>\n    <tr>\n      <th>21</th>\n      <td>0.333333</td>\n      <td>0.577350</td>\n      <td>0.577350</td>\n      <td>0.288675</td>\n      <td>1.000000</td>\n      <td>0.577350</td>\n      <td>0.577350</td>\n      <td>0.333333</td>\n      <td>0.333333</td>\n      <td>0.000000</td>\n      <td>...</td>\n      <td>0.000000</td>\n      <td>0.577350</td>\n      <td>0.577350</td>\n      <td>0.816497</td>\n      <td>0.816497</td>\n      <td>0.0</td>\n      <td>0.408248</td>\n      <td>0.577350</td>\n      <td>0.577350</td>\n      <td>0.408248</td>\n    </tr>\n    <tr>\n      <th>...</th>\n      <td>...</td>\n      <td>...</td>\n      <td>...</td>\n      <td>...</td>\n      <td>...</td>\n      <td>...</td>\n      <td>...</td>\n      <td>...</td>\n      <td>...</td>\n      <td>...</td>\n      <td>...</td>\n      <td>...</td>\n      <td>...</td>\n      <td>...</td>\n      <td>...</td>\n      <td>...</td>\n      <td>...</td>\n      <td>...</td>\n      <td>...</td>\n      <td>...</td>\n      <td>...</td>\n    </tr>\n    <tr>\n      <th>1714</th>\n      <td>0.000000</td>\n      <td>0.500000</td>\n      <td>0.000000</td>\n      <td>0.000000</td>\n      <td>0.000000</td>\n      <td>0.000000</td>\n      <td>0.000000</td>\n      <td>0.000000</td>\n      <td>0.000000</td>\n      <td>0.000000</td>\n      <td>...</td>\n      <td>0.000000</td>\n      <td>0.000000</td>\n      <td>0.000000</td>\n      <td>0.000000</td>\n      <td>0.000000</td>\n      <td>1.0</td>\n      <td>0.000000</td>\n      <td>0.000000</td>\n      <td>0.000000</td>\n      <td>0.000000</td>\n    </tr>\n    <tr>\n      <th>1852</th>\n      <td>0.408248</td>\n      <td>0.000000</td>\n      <td>0.000000</td>\n      <td>0.000000</td>\n      <td>0.408248</td>\n      <td>0.000000</td>\n      <td>0.707107</td>\n      <td>0.000000</td>\n      <td>0.408248</td>\n      <td>0.500000</td>\n      <td>...</td>\n      <td>0.707107</td>\n      <td>0.000000</td>\n      <td>0.707107</td>\n      <td>0.500000</td>\n      <td>0.500000</td>\n      <td>0.0</td>\n      <td>1.000000</td>\n      <td>0.000000</td>\n      <td>0.000000</td>\n      <td>0.000000</td>\n    </tr>\n    <tr>\n      <th>641</th>\n      <td>0.000000</td>\n      <td>0.500000</td>\n      <td>1.000000</td>\n      <td>0.000000</td>\n      <td>0.577350</td>\n      <td>1.000000</td>\n      <td>0.000000</td>\n      <td>0.577350</td>\n      <td>0.000000</td>\n      <td>0.000000</td>\n      <td>...</td>\n      <td>0.000000</td>\n      <td>1.000000</td>\n      <td>0.000000</td>\n      <td>0.707107</td>\n      <td>0.707107</td>\n      <td>0.0</td>\n      <td>0.000000</td>\n      <td>1.000000</td>\n      <td>1.000000</td>\n      <td>0.707107</td>\n    </tr>\n    <tr>\n      <th>576</th>\n      <td>0.000000</td>\n      <td>0.500000</td>\n      <td>1.000000</td>\n      <td>0.000000</td>\n      <td>0.577350</td>\n      <td>1.000000</td>\n      <td>0.000000</td>\n      <td>0.577350</td>\n      <td>0.000000</td>\n      <td>0.000000</td>\n      <td>...</td>\n      <td>0.000000</td>\n      <td>1.000000</td>\n      <td>0.000000</td>\n      <td>0.707107</td>\n      <td>0.707107</td>\n      <td>0.0</td>\n      <td>0.000000</td>\n      <td>1.000000</td>\n      <td>1.000000</td>\n      <td>0.707107</td>\n    </tr>\n    <tr>\n      <th>1843</th>\n      <td>0.000000</td>\n      <td>0.353553</td>\n      <td>0.707107</td>\n      <td>0.000000</td>\n      <td>0.408248</td>\n      <td>0.707107</td>\n      <td>0.000000</td>\n      <td>0.816497</td>\n      <td>0.000000</td>\n      <td>0.000000</td>\n      <td>...</td>\n      <td>0.000000</td>\n      <td>0.707107</td>\n      <td>0.000000</td>\n      <td>0.500000</td>\n      <td>0.500000</td>\n      <td>0.0</td>\n      <td>0.000000</td>\n      <td>0.707107</td>\n      <td>0.707107</td>\n      <td>1.000000</td>\n    </tr>\n  </tbody>\n</table>\n<p>3706 rows × 3706 columns</p>\n</div>"
     },
     "execution_count": 16,
     "metadata": {},
     "output_type": "execute_result"
    }
   ],
   "source": [
    "# Compute the cosine similarity between the movies\n",
    "movie_similarity = cosine_similarity(df_features_movies)\n",
    "\n",
    "movie_similarity = pd.DataFrame(movie_similarity, index=df_features_movies.index, columns=df_features_movies.index)\n",
    "\n",
    "movie_similarity"
   ],
   "metadata": {
    "collapsed": false,
    "ExecuteTime": {
     "end_time": "2024-07-07T20:24:33.630541800Z",
     "start_time": "2024-07-07T20:24:33.322539200Z"
    }
   },
   "id": "38fb1749c0fb1a65",
   "execution_count": 16
  },
  {
   "cell_type": "code",
   "outputs": [
    {
     "data": {
      "text/plain": "movieId\n3751    1.000000\n2354    1.000000\n1064    1.000000\n2355    1.000000\n3754    1.000000\n2141    1.000000\n3611    1.000000\n2142    1.000000\n3114    1.000000\n588     0.866025\nName: 1, dtype: float64"
     },
     "execution_count": 17,
     "metadata": {},
     "output_type": "execute_result"
    }
   ],
   "source": [
    "# Function that returns the n most similar movies to a given movie (but not the movie itself)\n",
    "def get_similar_movies(movieId, n):\n",
    "    result = movie_similarity.loc[movieId].sort_values(ascending=False).head(n+1)\n",
    "    try:\n",
    "        result = result.drop(movieId)\n",
    "    except:\n",
    "        pass\n",
    "    return result.head(n)\n",
    "\n",
    "get_similar_movies(1, 10)"
   ],
   "metadata": {
    "collapsed": false,
    "ExecuteTime": {
     "end_time": "2024-07-07T20:24:33.634539500Z",
     "start_time": "2024-07-07T20:24:33.431543600Z"
    }
   },
   "id": "d5f0f56497a9f1c1",
   "execution_count": 17
  },
  {
   "cell_type": "markdown",
   "source": [
    "Getting a common user"
   ],
   "metadata": {
    "collapsed": false
   },
   "id": "74673bffec7f6188"
  },
  {
   "cell_type": "code",
   "outputs": [
    {
     "data": {
      "text/plain": "          Action  Adventure  Animation  Children's    Comedy     Crime  \\\nuserId                                                                   \n2458    3.982456   4.291667   3.800000    3.600000  3.288660  3.272727   \n2344    3.483871   3.459459   3.750000    3.250000  3.360825  3.800000   \n3746    3.744000   3.718750   2.250000    3.272727  3.635659  3.941176   \n3573    3.933333   4.000000   3.166667    2.857143  2.300000  0.000000   \n3593    3.166667   2.400000   3.000000    3.166667  3.377049  5.000000   \n...          ...        ...        ...         ...       ...       ...   \n277     3.888889   3.625000   0.000000    0.000000  3.500000  4.000000   \n5145    2.333333   3.000000   0.000000    4.000000  3.250000  0.000000   \n947     3.000000   3.000000   0.000000    0.000000  3.230769  0.000000   \n3298    4.500000   5.000000   5.000000    5.000000  4.421053  5.000000   \n3623    3.666667   3.333333   3.000000    0.000000  2.000000  3.800000   \n\n        Documentary     Drama   Fantasy  Film-Noir    Horror   Musical  \\\nuserId                                                                   \n2458            1.0  3.133333  4.000000        0.0  4.272727  3.333333   \n2344            0.0  3.484848  3.818182        4.0  3.200000  3.200000   \n3746            4.0  4.116071  3.866667        3.0  3.320000  3.625000   \n3573            0.0  3.200000  3.250000        0.0  2.500000  3.000000   \n3593            0.0  3.600000  0.000000        0.0  3.000000  3.000000   \n...             ...       ...       ...        ...       ...       ...   \n277             0.0  3.571429  4.000000        0.0  0.000000  0.000000   \n5145            0.0  3.857143  0.000000        0.0  3.000000  0.000000   \n947             0.0  3.333333  2.500000        0.0  0.000000  0.000000   \n3298            0.0  4.666667  0.000000        0.0  4.000000  0.000000   \n3623            0.0  3.750000  0.000000        4.0  2.500000  0.000000   \n\n         Mystery   Romance    Sci-Fi  Thriller       War   Western  \nuserId                                                              \n2458    3.500000  3.772727  3.975000  3.666667  4.000000  4.000000  \n2344    3.750000  3.650000  3.397436  3.578947  3.125000  3.923077  \n3746    4.153846  3.822222  3.636364  3.606557  4.320000  4.052632  \n3573    0.000000  5.000000  3.789474  3.500000  4.166667  0.000000  \n3593    0.000000  3.500000  2.500000  3.000000  5.000000  0.000000  \n...          ...       ...       ...       ...       ...       ...  \n277     0.000000  3.600000  3.875000  4.166667  4.000000  0.000000  \n5145    3.000000  3.000000  3.000000  2.750000  3.000000  0.000000  \n947     0.000000  3.000000  0.000000  1.000000  0.000000  0.000000  \n3298    5.000000  4.000000  4.000000  4.666667  0.000000  0.000000  \n3623    4.500000  3.500000  4.000000  3.500000  4.000000  0.000000  \n\n[6040 rows x 18 columns]",
      "text/html": "<div>\n<style scoped>\n    .dataframe tbody tr th:only-of-type {\n        vertical-align: middle;\n    }\n\n    .dataframe tbody tr th {\n        vertical-align: top;\n    }\n\n    .dataframe thead th {\n        text-align: right;\n    }\n</style>\n<table border=\"1\" class=\"dataframe\">\n  <thead>\n    <tr style=\"text-align: right;\">\n      <th></th>\n      <th>Action</th>\n      <th>Adventure</th>\n      <th>Animation</th>\n      <th>Children's</th>\n      <th>Comedy</th>\n      <th>Crime</th>\n      <th>Documentary</th>\n      <th>Drama</th>\n      <th>Fantasy</th>\n      <th>Film-Noir</th>\n      <th>Horror</th>\n      <th>Musical</th>\n      <th>Mystery</th>\n      <th>Romance</th>\n      <th>Sci-Fi</th>\n      <th>Thriller</th>\n      <th>War</th>\n      <th>Western</th>\n    </tr>\n    <tr>\n      <th>userId</th>\n      <th></th>\n      <th></th>\n      <th></th>\n      <th></th>\n      <th></th>\n      <th></th>\n      <th></th>\n      <th></th>\n      <th></th>\n      <th></th>\n      <th></th>\n      <th></th>\n      <th></th>\n      <th></th>\n      <th></th>\n      <th></th>\n      <th></th>\n      <th></th>\n    </tr>\n  </thead>\n  <tbody>\n    <tr>\n      <th>2458</th>\n      <td>3.982456</td>\n      <td>4.291667</td>\n      <td>3.800000</td>\n      <td>3.600000</td>\n      <td>3.288660</td>\n      <td>3.272727</td>\n      <td>1.0</td>\n      <td>3.133333</td>\n      <td>4.000000</td>\n      <td>0.0</td>\n      <td>4.272727</td>\n      <td>3.333333</td>\n      <td>3.500000</td>\n      <td>3.772727</td>\n      <td>3.975000</td>\n      <td>3.666667</td>\n      <td>4.000000</td>\n      <td>4.000000</td>\n    </tr>\n    <tr>\n      <th>2344</th>\n      <td>3.483871</td>\n      <td>3.459459</td>\n      <td>3.750000</td>\n      <td>3.250000</td>\n      <td>3.360825</td>\n      <td>3.800000</td>\n      <td>0.0</td>\n      <td>3.484848</td>\n      <td>3.818182</td>\n      <td>4.0</td>\n      <td>3.200000</td>\n      <td>3.200000</td>\n      <td>3.750000</td>\n      <td>3.650000</td>\n      <td>3.397436</td>\n      <td>3.578947</td>\n      <td>3.125000</td>\n      <td>3.923077</td>\n    </tr>\n    <tr>\n      <th>3746</th>\n      <td>3.744000</td>\n      <td>3.718750</td>\n      <td>2.250000</td>\n      <td>3.272727</td>\n      <td>3.635659</td>\n      <td>3.941176</td>\n      <td>4.0</td>\n      <td>4.116071</td>\n      <td>3.866667</td>\n      <td>3.0</td>\n      <td>3.320000</td>\n      <td>3.625000</td>\n      <td>4.153846</td>\n      <td>3.822222</td>\n      <td>3.636364</td>\n      <td>3.606557</td>\n      <td>4.320000</td>\n      <td>4.052632</td>\n    </tr>\n    <tr>\n      <th>3573</th>\n      <td>3.933333</td>\n      <td>4.000000</td>\n      <td>3.166667</td>\n      <td>2.857143</td>\n      <td>2.300000</td>\n      <td>0.000000</td>\n      <td>0.0</td>\n      <td>3.200000</td>\n      <td>3.250000</td>\n      <td>0.0</td>\n      <td>2.500000</td>\n      <td>3.000000</td>\n      <td>0.000000</td>\n      <td>5.000000</td>\n      <td>3.789474</td>\n      <td>3.500000</td>\n      <td>4.166667</td>\n      <td>0.000000</td>\n    </tr>\n    <tr>\n      <th>3593</th>\n      <td>3.166667</td>\n      <td>2.400000</td>\n      <td>3.000000</td>\n      <td>3.166667</td>\n      <td>3.377049</td>\n      <td>5.000000</td>\n      <td>0.0</td>\n      <td>3.600000</td>\n      <td>0.000000</td>\n      <td>0.0</td>\n      <td>3.000000</td>\n      <td>3.000000</td>\n      <td>0.000000</td>\n      <td>3.500000</td>\n      <td>2.500000</td>\n      <td>3.000000</td>\n      <td>5.000000</td>\n      <td>0.000000</td>\n    </tr>\n    <tr>\n      <th>...</th>\n      <td>...</td>\n      <td>...</td>\n      <td>...</td>\n      <td>...</td>\n      <td>...</td>\n      <td>...</td>\n      <td>...</td>\n      <td>...</td>\n      <td>...</td>\n      <td>...</td>\n      <td>...</td>\n      <td>...</td>\n      <td>...</td>\n      <td>...</td>\n      <td>...</td>\n      <td>...</td>\n      <td>...</td>\n      <td>...</td>\n    </tr>\n    <tr>\n      <th>277</th>\n      <td>3.888889</td>\n      <td>3.625000</td>\n      <td>0.000000</td>\n      <td>0.000000</td>\n      <td>3.500000</td>\n      <td>4.000000</td>\n      <td>0.0</td>\n      <td>3.571429</td>\n      <td>4.000000</td>\n      <td>0.0</td>\n      <td>0.000000</td>\n      <td>0.000000</td>\n      <td>0.000000</td>\n      <td>3.600000</td>\n      <td>3.875000</td>\n      <td>4.166667</td>\n      <td>4.000000</td>\n      <td>0.000000</td>\n    </tr>\n    <tr>\n      <th>5145</th>\n      <td>2.333333</td>\n      <td>3.000000</td>\n      <td>0.000000</td>\n      <td>4.000000</td>\n      <td>3.250000</td>\n      <td>0.000000</td>\n      <td>0.0</td>\n      <td>3.857143</td>\n      <td>0.000000</td>\n      <td>0.0</td>\n      <td>3.000000</td>\n      <td>0.000000</td>\n      <td>3.000000</td>\n      <td>3.000000</td>\n      <td>3.000000</td>\n      <td>2.750000</td>\n      <td>3.000000</td>\n      <td>0.000000</td>\n    </tr>\n    <tr>\n      <th>947</th>\n      <td>3.000000</td>\n      <td>3.000000</td>\n      <td>0.000000</td>\n      <td>0.000000</td>\n      <td>3.230769</td>\n      <td>0.000000</td>\n      <td>0.0</td>\n      <td>3.333333</td>\n      <td>2.500000</td>\n      <td>0.0</td>\n      <td>0.000000</td>\n      <td>0.000000</td>\n      <td>0.000000</td>\n      <td>3.000000</td>\n      <td>0.000000</td>\n      <td>1.000000</td>\n      <td>0.000000</td>\n      <td>0.000000</td>\n    </tr>\n    <tr>\n      <th>3298</th>\n      <td>4.500000</td>\n      <td>5.000000</td>\n      <td>5.000000</td>\n      <td>5.000000</td>\n      <td>4.421053</td>\n      <td>5.000000</td>\n      <td>0.0</td>\n      <td>4.666667</td>\n      <td>0.000000</td>\n      <td>0.0</td>\n      <td>4.000000</td>\n      <td>0.000000</td>\n      <td>5.000000</td>\n      <td>4.000000</td>\n      <td>4.000000</td>\n      <td>4.666667</td>\n      <td>0.000000</td>\n      <td>0.000000</td>\n    </tr>\n    <tr>\n      <th>3623</th>\n      <td>3.666667</td>\n      <td>3.333333</td>\n      <td>3.000000</td>\n      <td>0.000000</td>\n      <td>2.000000</td>\n      <td>3.800000</td>\n      <td>0.0</td>\n      <td>3.750000</td>\n      <td>0.000000</td>\n      <td>4.0</td>\n      <td>2.500000</td>\n      <td>0.000000</td>\n      <td>4.500000</td>\n      <td>3.500000</td>\n      <td>4.000000</td>\n      <td>3.500000</td>\n      <td>4.000000</td>\n      <td>0.000000</td>\n    </tr>\n  </tbody>\n</table>\n<p>6040 rows × 18 columns</p>\n</div>"
     },
     "execution_count": 18,
     "metadata": {},
     "output_type": "execute_result"
    }
   ],
   "source": [
    "# Remove the movieId column, and remove duplicated userIds\n",
    "df_features_users = df_features_users.drop(columns=['movieId']).drop_duplicates(subset=['userId'])\n",
    "\n",
    "# Reset index to userId\n",
    "df_features_users = df_features_users.set_index('userId')\n",
    "\n",
    "df_features_users"
   ],
   "metadata": {
    "collapsed": false,
    "ExecuteTime": {
     "end_time": "2024-07-07T20:24:33.774538100Z",
     "start_time": "2024-07-07T20:24:33.448540500Z"
    }
   },
   "id": "e292b6e44f94fb7f",
   "execution_count": 18
  },
  {
   "cell_type": "code",
   "outputs": [
    {
     "data": {
      "text/plain": "Action         3.850000\nAdventure      3.868421\nAnimation      2.055556\nChildren's     2.125000\nComedy         3.851429\nCrime          3.791667\nDocumentary    0.000000\nDrama          4.163653\nFantasy        3.500000\nFilm-Noir      2.000000\nHorror         1.500000\nMusical        2.142857\nMystery        1.666667\nRomance        3.687500\nSci-Fi         3.960784\nThriller       3.575269\nWar            4.366667\nWestern        2.166667\ndtype: float64"
     },
     "execution_count": 19,
     "metadata": {},
     "output_type": "execute_result"
    }
   ],
   "source": [
    "# Function that returns the average features of two users\n",
    "def get_common_user(user_id1, user_id2):\n",
    "    return (df_features_users.loc[user_id1] + df_features_users.loc[user_id2]) / 2\n",
    "\n",
    "def get_common_user_from_preferences(user1_preferences, user2_preferences):\n",
    "    return (user1_preferences + user2_preferences) / 2\n",
    "\n",
    "get_common_user(1, 2)"
   ],
   "metadata": {
    "collapsed": false,
    "ExecuteTime": {
     "end_time": "2024-07-07T20:24:33.775538400Z",
     "start_time": "2024-07-07T20:24:33.542539800Z"
    }
   },
   "id": "8218799c44e68172",
   "execution_count": 19
  },
  {
   "cell_type": "markdown",
   "source": [
    "## The Neural Network model"
   ],
   "metadata": {
    "collapsed": false
   },
   "id": "405b26a1b37c430a"
  },
  {
   "cell_type": "code",
   "outputs": [
    {
     "data": {
      "text/plain": "\u001B[1mModel: \"functional_2\"\u001B[0m\n",
      "text/html": "<pre style=\"white-space:pre;overflow-x:auto;line-height:normal;font-family:Menlo,'DejaVu Sans Mono',consolas,'Courier New',monospace\"><span style=\"font-weight: bold\">Model: \"functional_2\"</span>\n</pre>\n"
     },
     "metadata": {},
     "output_type": "display_data"
    },
    {
     "data": {
      "text/plain": "┏━━━━━━━━━━━━━━━━━━━━━┳━━━━━━━━━━━━━━━━━━━┳━━━━━━━━━━━━┳━━━━━━━━━━━━━━━━━━━┓\n┃\u001B[1m \u001B[0m\u001B[1mLayer (type)       \u001B[0m\u001B[1m \u001B[0m┃\u001B[1m \u001B[0m\u001B[1mOutput Shape     \u001B[0m\u001B[1m \u001B[0m┃\u001B[1m \u001B[0m\u001B[1m   Param #\u001B[0m\u001B[1m \u001B[0m┃\u001B[1m \u001B[0m\u001B[1mConnected to     \u001B[0m\u001B[1m \u001B[0m┃\n┡━━━━━━━━━━━━━━━━━━━━━╇━━━━━━━━━━━━━━━━━━━╇━━━━━━━━━━━━╇━━━━━━━━━━━━━━━━━━━┩\n│ input_layer         │ (\u001B[38;5;45mNone\u001B[0m, \u001B[38;5;34m18\u001B[0m)        │          \u001B[38;5;34m0\u001B[0m │ -                 │\n│ (\u001B[38;5;33mInputLayer\u001B[0m)        │                   │            │                   │\n├─────────────────────┼───────────────────┼────────────┼───────────────────┤\n│ input_layer_2       │ (\u001B[38;5;45mNone\u001B[0m, \u001B[38;5;34m18\u001B[0m)        │          \u001B[38;5;34m0\u001B[0m │ -                 │\n│ (\u001B[38;5;33mInputLayer\u001B[0m)        │                   │            │                   │\n├─────────────────────┼───────────────────┼────────────┼───────────────────┤\n│ sequential          │ (\u001B[38;5;45mNone\u001B[0m, \u001B[38;5;34m1\u001B[0m)         │     \u001B[38;5;34m13,313\u001B[0m │ input_layer[\u001B[38;5;34m0\u001B[0m][\u001B[38;5;34m0\u001B[0m] │\n│ (\u001B[38;5;33mSequential\u001B[0m)        │                   │            │                   │\n├─────────────────────┼───────────────────┼────────────┼───────────────────┤\n│ sequential_1        │ (\u001B[38;5;45mNone\u001B[0m, \u001B[38;5;34m1\u001B[0m)         │     \u001B[38;5;34m13,313\u001B[0m │ input_layer_2[\u001B[38;5;34m0\u001B[0m]… │\n│ (\u001B[38;5;33mSequential\u001B[0m)        │                   │            │                   │\n├─────────────────────┼───────────────────┼────────────┼───────────────────┤\n│ dot (\u001B[38;5;33mDot\u001B[0m)           │ (\u001B[38;5;45mNone\u001B[0m, \u001B[38;5;34m1\u001B[0m)         │          \u001B[38;5;34m0\u001B[0m │ sequential[\u001B[38;5;34m0\u001B[0m][\u001B[38;5;34m0\u001B[0m], │\n│                     │                   │            │ sequential_1[\u001B[38;5;34m0\u001B[0m][\u001B[38;5;34m…\u001B[0m │\n└─────────────────────┴───────────────────┴────────────┴───────────────────┘\n",
      "text/html": "<pre style=\"white-space:pre;overflow-x:auto;line-height:normal;font-family:Menlo,'DejaVu Sans Mono',consolas,'Courier New',monospace\">┏━━━━━━━━━━━━━━━━━━━━━┳━━━━━━━━━━━━━━━━━━━┳━━━━━━━━━━━━┳━━━━━━━━━━━━━━━━━━━┓\n┃<span style=\"font-weight: bold\"> Layer (type)        </span>┃<span style=\"font-weight: bold\"> Output Shape      </span>┃<span style=\"font-weight: bold\">    Param # </span>┃<span style=\"font-weight: bold\"> Connected to      </span>┃\n┡━━━━━━━━━━━━━━━━━━━━━╇━━━━━━━━━━━━━━━━━━━╇━━━━━━━━━━━━╇━━━━━━━━━━━━━━━━━━━┩\n│ input_layer         │ (<span style=\"color: #00d7ff; text-decoration-color: #00d7ff\">None</span>, <span style=\"color: #00af00; text-decoration-color: #00af00\">18</span>)        │          <span style=\"color: #00af00; text-decoration-color: #00af00\">0</span> │ -                 │\n│ (<span style=\"color: #0087ff; text-decoration-color: #0087ff\">InputLayer</span>)        │                   │            │                   │\n├─────────────────────┼───────────────────┼────────────┼───────────────────┤\n│ input_layer_2       │ (<span style=\"color: #00d7ff; text-decoration-color: #00d7ff\">None</span>, <span style=\"color: #00af00; text-decoration-color: #00af00\">18</span>)        │          <span style=\"color: #00af00; text-decoration-color: #00af00\">0</span> │ -                 │\n│ (<span style=\"color: #0087ff; text-decoration-color: #0087ff\">InputLayer</span>)        │                   │            │                   │\n├─────────────────────┼───────────────────┼────────────┼───────────────────┤\n│ sequential          │ (<span style=\"color: #00d7ff; text-decoration-color: #00d7ff\">None</span>, <span style=\"color: #00af00; text-decoration-color: #00af00\">1</span>)         │     <span style=\"color: #00af00; text-decoration-color: #00af00\">13,313</span> │ input_layer[<span style=\"color: #00af00; text-decoration-color: #00af00\">0</span>][<span style=\"color: #00af00; text-decoration-color: #00af00\">0</span>] │\n│ (<span style=\"color: #0087ff; text-decoration-color: #0087ff\">Sequential</span>)        │                   │            │                   │\n├─────────────────────┼───────────────────┼────────────┼───────────────────┤\n│ sequential_1        │ (<span style=\"color: #00d7ff; text-decoration-color: #00d7ff\">None</span>, <span style=\"color: #00af00; text-decoration-color: #00af00\">1</span>)         │     <span style=\"color: #00af00; text-decoration-color: #00af00\">13,313</span> │ input_layer_2[<span style=\"color: #00af00; text-decoration-color: #00af00\">0</span>]… │\n│ (<span style=\"color: #0087ff; text-decoration-color: #0087ff\">Sequential</span>)        │                   │            │                   │\n├─────────────────────┼───────────────────┼────────────┼───────────────────┤\n│ dot (<span style=\"color: #0087ff; text-decoration-color: #0087ff\">Dot</span>)           │ (<span style=\"color: #00d7ff; text-decoration-color: #00d7ff\">None</span>, <span style=\"color: #00af00; text-decoration-color: #00af00\">1</span>)         │          <span style=\"color: #00af00; text-decoration-color: #00af00\">0</span> │ sequential[<span style=\"color: #00af00; text-decoration-color: #00af00\">0</span>][<span style=\"color: #00af00; text-decoration-color: #00af00\">0</span>], │\n│                     │                   │            │ sequential_1[<span style=\"color: #00af00; text-decoration-color: #00af00\">0</span>][<span style=\"color: #00af00; text-decoration-color: #00af00\">…</span> │\n└─────────────────────┴───────────────────┴────────────┴───────────────────┘\n</pre>\n"
     },
     "metadata": {},
     "output_type": "display_data"
    },
    {
     "data": {
      "text/plain": "\u001B[1m Total params: \u001B[0m\u001B[38;5;34m26,626\u001B[0m (104.01 KB)\n",
      "text/html": "<pre style=\"white-space:pre;overflow-x:auto;line-height:normal;font-family:Menlo,'DejaVu Sans Mono',consolas,'Courier New',monospace\"><span style=\"font-weight: bold\"> Total params: </span><span style=\"color: #00af00; text-decoration-color: #00af00\">26,626</span> (104.01 KB)\n</pre>\n"
     },
     "metadata": {},
     "output_type": "display_data"
    },
    {
     "data": {
      "text/plain": "\u001B[1m Trainable params: \u001B[0m\u001B[38;5;34m26,626\u001B[0m (104.01 KB)\n",
      "text/html": "<pre style=\"white-space:pre;overflow-x:auto;line-height:normal;font-family:Menlo,'DejaVu Sans Mono',consolas,'Courier New',monospace\"><span style=\"font-weight: bold\"> Trainable params: </span><span style=\"color: #00af00; text-decoration-color: #00af00\">26,626</span> (104.01 KB)\n</pre>\n"
     },
     "metadata": {},
     "output_type": "display_data"
    },
    {
     "data": {
      "text/plain": "\u001B[1m Non-trainable params: \u001B[0m\u001B[38;5;34m0\u001B[0m (0.00 B)\n",
      "text/html": "<pre style=\"white-space:pre;overflow-x:auto;line-height:normal;font-family:Menlo,'DejaVu Sans Mono',consolas,'Courier New',monospace\"><span style=\"font-weight: bold\"> Non-trainable params: </span><span style=\"color: #00af00; text-decoration-color: #00af00\">0</span> (0.00 B)\n</pre>\n"
     },
     "metadata": {},
     "output_type": "display_data"
    }
   ],
   "source": [
    "user_NN = tf.keras.models.Sequential(\n",
    "    [\n",
    "        tf.keras.layers.Dense(128, activation='relu'),\n",
    "        tf.keras.layers.Dense(64, activation='relu'),\n",
    "        tf.keras.layers.Dense(32, activation='relu'),\n",
    "        tf.keras.layers.Dense(16, activation='relu'),\n",
    "        tf.keras.layers.Dense(1, activation='linear')\n",
    "    ]\n",
    ")\n",
    "\n",
    "movie_NN = tf.keras.models.Sequential(\n",
    "    [\n",
    "        tf.keras.layers.Dense(128, activation='relu'),\n",
    "        tf.keras.layers.Dense(64, activation='relu'),\n",
    "        tf.keras.layers.Dense(32, activation='relu'),\n",
    "        tf.keras.layers.Dense(16, activation='relu'),\n",
    "        tf.keras.layers.Dense(1, activation='linear')\n",
    "    ]\n",
    ")\n",
    "\n",
    "input_user = tf.keras.layers.Input(shape=(18,))\n",
    "vu = user_NN(input_user)\n",
    "\n",
    "input_movie = tf.keras.layers.Input(shape=(18,))\n",
    "vm = movie_NN(input_movie)\n",
    "\n",
    "dot = tf.keras.layers.Dot(axes=1)([vu, vm])\n",
    "\n",
    "model = tf.keras.models.Model(inputs=[input_user, input_movie], outputs=dot)\n",
    "\n",
    "model.compile(optimizer='adam', loss='mean_squared_error')\n",
    "\n",
    "model.summary()"
   ],
   "metadata": {
    "collapsed": false,
    "ExecuteTime": {
     "end_time": "2024-07-07T20:24:33.815539500Z",
     "start_time": "2024-07-07T20:24:33.559538100Z"
    }
   },
   "id": "654dc65ed2ad1ddb",
   "execution_count": 20
  },
  {
   "cell_type": "code",
   "outputs": [
    {
     "name": "stdout",
     "output_type": "stream",
     "text": [
      "Epoch 1/5\n",
      "\u001B[1m25000/25000\u001B[0m \u001B[32m━━━━━━━━━━━━━━━━━━━━\u001B[0m\u001B[37m\u001B[0m \u001B[1m36s\u001B[0m 1ms/step - loss: 0.2686 - val_loss: 0.2579\n",
      "Epoch 2/5\n",
      "\u001B[1m25000/25000\u001B[0m \u001B[32m━━━━━━━━━━━━━━━━━━━━\u001B[0m\u001B[37m\u001B[0m \u001B[1m37s\u001B[0m 1ms/step - loss: 0.2596 - val_loss: 0.2610\n",
      "Epoch 3/5\n",
      "\u001B[1m25000/25000\u001B[0m \u001B[32m━━━━━━━━━━━━━━━━━━━━\u001B[0m\u001B[37m\u001B[0m \u001B[1m36s\u001B[0m 1ms/step - loss: 0.2578 - val_loss: 0.2586\n",
      "Epoch 4/5\n",
      "\u001B[1m25000/25000\u001B[0m \u001B[32m━━━━━━━━━━━━━━━━━━━━\u001B[0m\u001B[37m\u001B[0m \u001B[1m35s\u001B[0m 1ms/step - loss: 0.2577 - val_loss: 0.2568\n",
      "Epoch 5/5\n",
      "\u001B[1m25000/25000\u001B[0m \u001B[32m━━━━━━━━━━━━━━━━━━━━\u001B[0m\u001B[37m\u001B[0m \u001B[1m36s\u001B[0m 1ms/step - loss: 0.2571 - val_loss: 0.2562\n"
     ]
    },
    {
     "data": {
      "text/plain": "<keras.src.callbacks.history.History at 0x19f961dd8e0>"
     },
     "execution_count": 21,
     "metadata": {},
     "output_type": "execute_result"
    }
   ],
   "source": [
    "# Train the model\n",
    "nb_epochs = 5\n",
    "\n",
    "model.fit(\n",
    "        [user_train.loc[:, \"Action\":].to_numpy(), movie_train.loc[:, \"Action\":].to_numpy()],\n",
    "        rating_train.loc[:, \"rating\":].to_numpy(),\n",
    "        epochs=nb_epochs,\n",
    "        validation_data=([user_test.loc[:, \"Action\":].to_numpy(), movie_test.loc[:, \"Action\":].to_numpy()], rating_test.loc[:, \"rating\":].to_numpy()),\n",
    "    )\n"
   ],
   "metadata": {
    "collapsed": false,
    "ExecuteTime": {
     "end_time": "2024-07-07T20:27:33.852454100Z",
     "start_time": "2024-07-07T20:24:33.716538700Z"
    }
   },
   "id": "9188cc1ab5668e97",
   "execution_count": 21
  },
  {
   "cell_type": "code",
   "outputs": [
    {
     "data": {
      "text/plain": "array([[3.563559]], dtype=float32)"
     },
     "execution_count": 22,
     "metadata": {},
     "output_type": "execute_result"
    }
   ],
   "source": [
    "def predict_rating(user, movie):\n",
    "    # If the input is a pandas series, we need to convert it to a dataframe with one row\n",
    "    if isinstance(user, pd.Series):\n",
    "        user = pd.DataFrame(user).T\n",
    "    if isinstance(movie, pd.Series):\n",
    "        movie = pd.DataFrame(movie).T\n",
    "    \n",
    "    # The movie input is a pandas series, we need to convert it to a dataframe with one row\n",
    "    prediction = model.predict([user.loc[:, \"Action\":].to_numpy().astype(np.float64), movie.loc[:, \"Action\":].to_numpy().astype(np.float64)], verbose=0)\n",
    "    prediction = scalerTarget.inverse_transform(prediction)\n",
    "    return prediction\n",
    "\n",
    "predict_rating(user_train.loc[1], movie_train.loc[1])"
   ],
   "metadata": {
    "collapsed": false,
    "ExecuteTime": {
     "end_time": "2024-07-07T20:27:34.005575400Z",
     "start_time": "2024-07-07T20:27:33.850451300Z"
    }
   },
   "id": "e035fe3270e8f1f2",
   "execution_count": 22
  },
  {
   "cell_type": "markdown",
   "source": [
    "## Evaluation of the model\n",
    "\n",
    "We put side by side the true rating and the predicted rating"
   ],
   "metadata": {
    "collapsed": false
   },
   "id": "1c591592b6279169"
  },
  {
   "cell_type": "code",
   "outputs": [
    {
     "name": "stdout",
     "output_type": "stream",
     "text": [
      "\u001B[1m6250/6250\u001B[0m \u001B[32m━━━━━━━━━━━━━━━━━━━━\u001B[0m\u001B[37m\u001B[0m \u001B[1m6s\u001B[0m 1ms/step\n"
     ]
    },
    {
     "data": {
      "text/plain": "        userId  movieId  rating  prediction\n276826    5483     1678     4.0    3.988578\n849425    3219      223     3.0    3.624578\n504499    2643     1246     5.0    3.422122\n601054    5020     2143     2.0    3.638400\n980221    5109     2080     4.0    3.830724\n...        ...      ...     ...         ...\n555867    4328      370     4.0    3.571474\n30004     5458     1883     4.0    3.598290\n124730    4934      580     4.0    3.309470\n195783    5475       50     4.0    4.274350\n32132     2079      832     4.0    3.855937\n\n[200000 rows x 4 columns]",
      "text/html": "<div>\n<style scoped>\n    .dataframe tbody tr th:only-of-type {\n        vertical-align: middle;\n    }\n\n    .dataframe tbody tr th {\n        vertical-align: top;\n    }\n\n    .dataframe thead th {\n        text-align: right;\n    }\n</style>\n<table border=\"1\" class=\"dataframe\">\n  <thead>\n    <tr style=\"text-align: right;\">\n      <th></th>\n      <th>userId</th>\n      <th>movieId</th>\n      <th>rating</th>\n      <th>prediction</th>\n    </tr>\n  </thead>\n  <tbody>\n    <tr>\n      <th>276826</th>\n      <td>5483</td>\n      <td>1678</td>\n      <td>4.0</td>\n      <td>3.988578</td>\n    </tr>\n    <tr>\n      <th>849425</th>\n      <td>3219</td>\n      <td>223</td>\n      <td>3.0</td>\n      <td>3.624578</td>\n    </tr>\n    <tr>\n      <th>504499</th>\n      <td>2643</td>\n      <td>1246</td>\n      <td>5.0</td>\n      <td>3.422122</td>\n    </tr>\n    <tr>\n      <th>601054</th>\n      <td>5020</td>\n      <td>2143</td>\n      <td>2.0</td>\n      <td>3.638400</td>\n    </tr>\n    <tr>\n      <th>980221</th>\n      <td>5109</td>\n      <td>2080</td>\n      <td>4.0</td>\n      <td>3.830724</td>\n    </tr>\n    <tr>\n      <th>...</th>\n      <td>...</td>\n      <td>...</td>\n      <td>...</td>\n      <td>...</td>\n    </tr>\n    <tr>\n      <th>555867</th>\n      <td>4328</td>\n      <td>370</td>\n      <td>4.0</td>\n      <td>3.571474</td>\n    </tr>\n    <tr>\n      <th>30004</th>\n      <td>5458</td>\n      <td>1883</td>\n      <td>4.0</td>\n      <td>3.598290</td>\n    </tr>\n    <tr>\n      <th>124730</th>\n      <td>4934</td>\n      <td>580</td>\n      <td>4.0</td>\n      <td>3.309470</td>\n    </tr>\n    <tr>\n      <th>195783</th>\n      <td>5475</td>\n      <td>50</td>\n      <td>4.0</td>\n      <td>4.274350</td>\n    </tr>\n    <tr>\n      <th>32132</th>\n      <td>2079</td>\n      <td>832</td>\n      <td>4.0</td>\n      <td>3.855937</td>\n    </tr>\n  </tbody>\n</table>\n<p>200000 rows × 4 columns</p>\n</div>"
     },
     "execution_count": 23,
     "metadata": {},
     "output_type": "execute_result"
    }
   ],
   "source": [
    "# Evaluate the model\n",
    "y_pred = model.predict([user_test.loc[:, \"Action\":].to_numpy(), movie_test.loc[:, \"Action\":].to_numpy()])\n",
    "y_pu = scalerTarget.inverse_transform(y_pred)\n",
    "y_true_u = scalerTarget.inverse_transform(rating_test[\"rating\"].to_numpy().reshape(-1, 1))\n",
    "result = rating_test.copy()\n",
    "result[\"rating\"] = y_true_u.flatten()\n",
    "result[\"prediction\"] = y_pu.flatten()\n",
    "\n",
    "result"
   ],
   "metadata": {
    "collapsed": false,
    "ExecuteTime": {
     "end_time": "2024-07-07T20:27:41.836705100Z",
     "start_time": "2024-07-07T20:27:34.009576600Z"
    }
   },
   "id": "7f76a2570385afdc",
   "execution_count": 23
  },
  {
   "cell_type": "code",
   "outputs": [
    {
     "name": "stdout",
     "output_type": "stream",
     "text": [
      "Standard deviation of the model:  1.0122766314683291\n"
     ]
    }
   ],
   "source": [
    "# Compute the standard deviation\n",
    "std = np.std(result[\"rating\"] - result[\"prediction\"])\n",
    "print(\"Standard deviation of the model: \", std)"
   ],
   "metadata": {
    "collapsed": false,
    "ExecuteTime": {
     "end_time": "2024-07-07T20:27:41.849724700Z",
     "start_time": "2024-07-07T20:27:41.831706800Z"
    }
   },
   "id": "95b920256e55c8c4",
   "execution_count": 24
  },
  {
   "cell_type": "markdown",
   "source": [
    "## Recommendation system"
   ],
   "metadata": {
    "collapsed": false
   },
   "id": "9f4d2be9583ac444"
  },
  {
   "cell_type": "code",
   "outputs": [
    {
     "data": {
      "text/plain": "[1282,\n 1032,\n 3724,\n 781,\n 3342,\n 783,\n 1936,\n 3602,\n 1299,\n 661,\n 3606,\n 918,\n 1178,\n 2971,\n 1951,\n 3749,\n 938,\n 3759,\n 2096,\n 3377,\n 2994,\n 3379,\n 308,\n 2104,\n 316,\n 1087,\n 3776,\n 3143,\n 2250,\n 1868,\n 1356,\n 1489,\n 594,\n 2641,\n 2643,\n 2642,\n 3675,\n 1371,\n 1375,\n 2528,\n 1376,\n 2275,\n 3053,\n 3315,\n 3571,\n 2934,\n 631,\n 121,\n 3196,\n 254]"
     },
     "execution_count": 25,
     "metadata": {},
     "output_type": "execute_result"
    }
   ],
   "source": [
    "# Function that returns the 100 most similar movies to the movies that two users have rated (50 each)\n",
    "def get_most_similars(user_id1, user_id2):\n",
    "    # Get the movies that user1 and user2 have rated the highest\n",
    "    user1_movies = df_ratings.loc[df_ratings['userId'] == user_id1].sort_values(by='rating', ascending=False).head(5)\n",
    "    user2_movies = df_ratings.loc[df_ratings['userId'] == user_id2].sort_values(by='rating', ascending=False).head(5)\n",
    "    \n",
    "    # Get the 10 most similar movies to each of the movies that user1 and user2 have rated\n",
    "    similar_movies = []\n",
    "    for movieId in user1_movies['movieId']:\n",
    "        similar_movies.extend(get_similar_movies(movieId, 10).index)\n",
    "    for movieId in user2_movies['movieId']:\n",
    "        similar_movies.extend(get_similar_movies(movieId, 10).index)\n",
    "    \n",
    "    if user_id1 == user_id2:\n",
    "        similar_movies = list(set(similar_movies))\n",
    "    else:\n",
    "        # Remove the movies that user1 and user2 have rated\n",
    "        similar_movies = list(set(similar_movies) - set(user1_movies['movieId']) - set(user2_movies['movieId']))\n",
    "    \n",
    "    return similar_movies\n",
    "\n",
    "get_most_similars(1, 2)"
   ],
   "metadata": {
    "collapsed": false,
    "ExecuteTime": {
     "end_time": "2024-07-07T20:27:41.919710300Z",
     "start_time": "2024-07-07T20:27:41.848706600Z"
    }
   },
   "id": "8dbe0fe54881ddb3",
   "execution_count": 25
  },
  {
   "cell_type": "code",
   "outputs": [
    {
     "data": {
      "text/plain": "   movieId      title                           genres\n0        1  toy story  [Animation, Children's, Comedy]",
      "text/html": "<div>\n<style scoped>\n    .dataframe tbody tr th:only-of-type {\n        vertical-align: middle;\n    }\n\n    .dataframe tbody tr th {\n        vertical-align: top;\n    }\n\n    .dataframe thead th {\n        text-align: right;\n    }\n</style>\n<table border=\"1\" class=\"dataframe\">\n  <thead>\n    <tr style=\"text-align: right;\">\n      <th></th>\n      <th>movieId</th>\n      <th>title</th>\n      <th>genres</th>\n    </tr>\n  </thead>\n  <tbody>\n    <tr>\n      <th>0</th>\n      <td>1</td>\n      <td>toy story</td>\n      <td>[Animation, Children's, Comedy]</td>\n    </tr>\n  </tbody>\n</table>\n</div>"
     },
     "execution_count": 26,
     "metadata": {},
     "output_type": "execute_result"
    }
   ],
   "source": [
    "# Function that returns the title of a movie given its movieId, to make the recommendation more user-friendly\n",
    "\n",
    "def get_movie_info(movieId):\n",
    "    return df_movies.loc[df_movies['movieId'] == movieId]\n",
    "\n",
    "get_movie_info(1)"
   ],
   "metadata": {
    "collapsed": false,
    "ExecuteTime": {
     "end_time": "2024-07-07T20:27:41.921802700Z",
     "start_time": "2024-07-07T20:27:41.878704800Z"
    }
   },
   "id": "decb630649942afe",
   "execution_count": 26
  },
  {
   "cell_type": "markdown",
   "source": [
    "#### Recommendation function for two users with ids"
   ],
   "metadata": {
    "collapsed": false
   },
   "id": "2011235a481fc269"
  },
  {
   "cell_type": "code",
   "outputs": [
    {
     "data": {
      "text/plain": "      movieId                                       title  \\\n1192     1210  star wars: episode vi - return of the jedi   \n\n                                         genres  \n1192  [Action, Adventure, Romance, Sci-Fi, War]  ",
      "text/html": "<div>\n<style scoped>\n    .dataframe tbody tr th:only-of-type {\n        vertical-align: middle;\n    }\n\n    .dataframe tbody tr th {\n        vertical-align: top;\n    }\n\n    .dataframe thead th {\n        text-align: right;\n    }\n</style>\n<table border=\"1\" class=\"dataframe\">\n  <thead>\n    <tr style=\"text-align: right;\">\n      <th></th>\n      <th>movieId</th>\n      <th>title</th>\n      <th>genres</th>\n    </tr>\n  </thead>\n  <tbody>\n    <tr>\n      <th>1192</th>\n      <td>1210</td>\n      <td>star wars: episode vi - return of the jedi</td>\n      <td>[Action, Adventure, Romance, Sci-Fi, War]</td>\n    </tr>\n  </tbody>\n</table>\n</div>"
     },
     "metadata": {},
     "output_type": "display_data"
    },
    {
     "data": {
      "text/plain": "Crime          4.622222\nHorror         4.500000\nMusical        4.500000\nWar            4.343750\nThriller       4.331418\nAction         4.269592\nSci-Fi         4.255263\nDrama          4.250000\nAdventure      4.032353\nComedy         3.785714\nFantasy        3.500000\nRomance        3.281250\nDocumentary    2.500000\nMystery        2.500000\nAnimation      2.300000\nChildren's     2.062500\nFilm-Noir      2.000000\nWestern        0.000000\ndtype: float64"
     },
     "metadata": {},
     "output_type": "display_data"
    }
   ],
   "source": [
    "# Recommandation function\n",
    "def recommand_common_movie_from_user_ids(user_id1, user_id2):\n",
    "    common_user = get_common_user(user_id1, user_id2)\n",
    "    most_similars = get_most_similars(user_id1, user_id2)\n",
    "    \n",
    "    best_movie = None\n",
    "    best_rating = -1\n",
    "    for movieId in most_similars:\n",
    "        rating = predict_rating(common_user, df_features_movies.loc[movieId])\n",
    "        if rating > best_rating:\n",
    "            best_rating = rating\n",
    "            best_movie = movieId\n",
    "            \n",
    "    return get_movie_info(best_movie)\n",
    "\n",
    "display(recommand_common_movie_from_user_ids(65, 756))\n",
    "display(get_common_user(65, 756).sort_values(ascending=False))"
   ],
   "metadata": {
    "collapsed": false,
    "ExecuteTime": {
     "end_time": "2024-07-07T20:27:46.987078Z",
     "start_time": "2024-07-07T20:27:41.894706200Z"
    }
   },
   "id": "868cc0cc8f7cfb95",
   "execution_count": 27
  },
  {
   "cell_type": "markdown",
   "source": [
    "#### Recommendation function for two made up users from their given preferences"
   ],
   "metadata": {
    "collapsed": false
   },
   "id": "d423dfa432edb01d"
  },
  {
   "cell_type": "code",
   "outputs": [],
   "source": [
    "# Now, we will create a function to build a user preferences dataframe\n",
    "def build_user_preferences(\n",
    "        Action = 0.0,\n",
    "        Adventure = 0.0,\n",
    "        Animation = 0.0,\n",
    "        Childrens = 0.0,\n",
    "        Comedy = 0.0,\n",
    "        Crime = 0.0,\n",
    "        Documentary = 0.0,\n",
    "        Drama = 0.0,\n",
    "        Fantasy = 0.0,\n",
    "        FilmNoir = 0.0,\n",
    "        Horror = 0.0,\n",
    "        Musical = 0.0,\n",
    "        Mystery = 0.0,\n",
    "        Romance = 0.0,\n",
    "        SciFi = 0.0,\n",
    "        Thriller = 0.0,\n",
    "        War = 0.0,\n",
    "        Western = 0.0\n",
    "):\n",
    "    user_prefs =  pd.DataFrame({\n",
    "        'Action': [Action],\n",
    "        'Adventure': [Adventure],\n",
    "        'Animation': [Animation],\n",
    "        'Childrens': [Childrens],\n",
    "        'Comedy': [Comedy],\n",
    "        'Crime': [Crime],\n",
    "        'Documentary': [Documentary],\n",
    "        'Drama': [Drama],\n",
    "        'Fantasy': [Fantasy],\n",
    "        'FilmNoir': [FilmNoir],\n",
    "        'Horror': [Horror],\n",
    "        'Musical': [Musical],\n",
    "        'Mystery': [Mystery],\n",
    "        'Romance': [Romance],\n",
    "        'SciFi': [SciFi],\n",
    "        'Thriller': [Thriller],\n",
    "        'War': [War],\n",
    "        'Western': [Western]\n",
    "    })\n",
    "    \n",
    "    user_prefs = (user_prefs - 2.5) / 2.5\n",
    "    \n",
    "    return user_prefs\n",
    "\n",
    "user_1 = build_user_preferences(Action=5, Adventure=5, SciFi=5)\n",
    "user_2 = build_user_preferences(Action=5, Adventure=5, SciFi=5)"
   ],
   "metadata": {
    "collapsed": false,
    "ExecuteTime": {
     "end_time": "2024-07-07T20:27:47.018079Z",
     "start_time": "2024-07-07T20:27:46.994079800Z"
    }
   },
   "id": "720ca1d2f675c658",
   "execution_count": 28
  },
  {
   "cell_type": "code",
   "outputs": [
    {
     "data": {
      "text/plain": "4991"
     },
     "execution_count": 29,
     "metadata": {},
     "output_type": "execute_result"
    }
   ],
   "source": [
    "# We need to create a function that gives the closest user to a given user preferences\n",
    "# We will use the cosine similarity for that\n",
    "\n",
    "def get_closest_user(user_preferences):\n",
    "    closest_user = None\n",
    "    closest_similarity = -1\n",
    "    for userId in df_features_users.index:\n",
    "        similarity = cosine_similarity(user_preferences, df_features_users.loc[userId].to_numpy().reshape(1, -1))\n",
    "        if similarity > closest_similarity:\n",
    "            closest_similarity = similarity\n",
    "            closest_user = userId\n",
    "            \n",
    "    return closest_user\n",
    "\n",
    "get_closest_user(user_1)"
   ],
   "metadata": {
    "collapsed": false,
    "ExecuteTime": {
     "end_time": "2024-07-07T20:27:49.203078500Z",
     "start_time": "2024-07-07T20:27:47.004079100Z"
    }
   },
   "id": "acd81e53b1dc2a5f",
   "execution_count": 29
  },
  {
   "cell_type": "code",
   "outputs": [
    {
     "data": {
      "text/plain": "     movieId            title   genres\n771      781  stealing beauty  [Drama]",
      "text/html": "<div>\n<style scoped>\n    .dataframe tbody tr th:only-of-type {\n        vertical-align: middle;\n    }\n\n    .dataframe tbody tr th {\n        vertical-align: top;\n    }\n\n    .dataframe thead th {\n        text-align: right;\n    }\n</style>\n<table border=\"1\" class=\"dataframe\">\n  <thead>\n    <tr style=\"text-align: right;\">\n      <th></th>\n      <th>movieId</th>\n      <th>title</th>\n      <th>genres</th>\n    </tr>\n  </thead>\n  <tbody>\n    <tr>\n      <th>771</th>\n      <td>781</td>\n      <td>stealing beauty</td>\n      <td>[Drama]</td>\n    </tr>\n  </tbody>\n</table>\n</div>"
     },
     "execution_count": 30,
     "metadata": {},
     "output_type": "execute_result"
    }
   ],
   "source": [
    "# Now we can create the recommendation function\n",
    "def recommand_common_movie_from_user_preferences(user1_preferences, user2_preferences):\n",
    "    closest_user_1 = get_closest_user(user1_preferences)\n",
    "    closest_user_2 = get_closest_user(user2_preferences)\n",
    "    \n",
    "    common_user = get_common_user_from_preferences(user1_preferences, user2_preferences)\n",
    "    most_similars = get_most_similars(closest_user_1, closest_user_2)\n",
    "    \n",
    "    best_movie = None\n",
    "    best_rating = -1\n",
    "    for movieId in most_similars:\n",
    "        rating = predict_rating(common_user, df_features_movies.loc[movieId])\n",
    "        if rating > best_rating:\n",
    "            best_rating = rating\n",
    "            best_movie = movieId\n",
    "            \n",
    "    return get_movie_info(best_movie)\n",
    "\n",
    "recommand_common_movie_from_user_preferences(user_1, user_2)"
   ],
   "metadata": {
    "collapsed": false,
    "ExecuteTime": {
     "end_time": "2024-07-07T20:27:53.748646200Z",
     "start_time": "2024-07-07T20:27:49.209081600Z"
    }
   },
   "id": "e4c0311ae458fba6",
   "execution_count": 30
  },
  {
   "cell_type": "markdown",
   "source": [
    "## Testing the recommendation system with random users\n",
    "We can now test the recommendation system with random users\n",
    "To see if the recommendation is relevant, we will display the preferences of the two users and the recommendation\n",
    "The recommendation should be a movie that is similar to the preferences of the two users\n",
    "If the 2 users prefer comedies, the recommendation should be a comedy, etc."
   ],
   "metadata": {
    "collapsed": false
   },
   "id": "e61193f5fd13fb21"
  },
  {
   "cell_type": "code",
   "outputs": [
    {
     "name": "stdout",
     "output_type": "stream",
     "text": [
      "User 1: \n"
     ]
    },
    {
     "data": {
      "text/plain": "   Action  Adventure  Animation  Childrens  Comedy  Crime  Documentary  Drama  \\\n0    -1.0        0.2       -0.2        0.2    -0.2   -0.2         -0.2    1.0   \n\n   Fantasy  FilmNoir  Horror  Musical  Mystery  Romance  SciFi  Thriller  War  \\\n0     -0.6       0.6    -0.6     -1.0     -0.2     -0.2    0.6      -0.6  0.2   \n\n   Western  \n0      0.2  ",
      "text/html": "<div>\n<style scoped>\n    .dataframe tbody tr th:only-of-type {\n        vertical-align: middle;\n    }\n\n    .dataframe tbody tr th {\n        vertical-align: top;\n    }\n\n    .dataframe thead th {\n        text-align: right;\n    }\n</style>\n<table border=\"1\" class=\"dataframe\">\n  <thead>\n    <tr style=\"text-align: right;\">\n      <th></th>\n      <th>Action</th>\n      <th>Adventure</th>\n      <th>Animation</th>\n      <th>Childrens</th>\n      <th>Comedy</th>\n      <th>Crime</th>\n      <th>Documentary</th>\n      <th>Drama</th>\n      <th>Fantasy</th>\n      <th>FilmNoir</th>\n      <th>Horror</th>\n      <th>Musical</th>\n      <th>Mystery</th>\n      <th>Romance</th>\n      <th>SciFi</th>\n      <th>Thriller</th>\n      <th>War</th>\n      <th>Western</th>\n    </tr>\n  </thead>\n  <tbody>\n    <tr>\n      <th>0</th>\n      <td>-1.0</td>\n      <td>0.2</td>\n      <td>-0.2</td>\n      <td>0.2</td>\n      <td>-0.2</td>\n      <td>-0.2</td>\n      <td>-0.2</td>\n      <td>1.0</td>\n      <td>-0.6</td>\n      <td>0.6</td>\n      <td>-0.6</td>\n      <td>-1.0</td>\n      <td>-0.2</td>\n      <td>-0.2</td>\n      <td>0.6</td>\n      <td>-0.6</td>\n      <td>0.2</td>\n      <td>0.2</td>\n    </tr>\n  </tbody>\n</table>\n</div>"
     },
     "metadata": {},
     "output_type": "display_data"
    },
    {
     "name": "stdout",
     "output_type": "stream",
     "text": [
      "User 2: \n"
     ]
    },
    {
     "data": {
      "text/plain": "   Action  Adventure  Animation  Childrens  Comedy  Crime  Documentary  Drama  \\\n0     1.0       -0.2       -1.0       -0.6    -0.2    0.6         -0.6   -1.0   \n\n   Fantasy  FilmNoir  Horror  Musical  Mystery  Romance  SciFi  Thriller  War  \\\n0     -1.0      -0.2     0.6     -0.2     -0.6     -1.0   -0.6      -1.0  1.0   \n\n   Western  \n0     -1.0  ",
      "text/html": "<div>\n<style scoped>\n    .dataframe tbody tr th:only-of-type {\n        vertical-align: middle;\n    }\n\n    .dataframe tbody tr th {\n        vertical-align: top;\n    }\n\n    .dataframe thead th {\n        text-align: right;\n    }\n</style>\n<table border=\"1\" class=\"dataframe\">\n  <thead>\n    <tr style=\"text-align: right;\">\n      <th></th>\n      <th>Action</th>\n      <th>Adventure</th>\n      <th>Animation</th>\n      <th>Childrens</th>\n      <th>Comedy</th>\n      <th>Crime</th>\n      <th>Documentary</th>\n      <th>Drama</th>\n      <th>Fantasy</th>\n      <th>FilmNoir</th>\n      <th>Horror</th>\n      <th>Musical</th>\n      <th>Mystery</th>\n      <th>Romance</th>\n      <th>SciFi</th>\n      <th>Thriller</th>\n      <th>War</th>\n      <th>Western</th>\n    </tr>\n  </thead>\n  <tbody>\n    <tr>\n      <th>0</th>\n      <td>1.0</td>\n      <td>-0.2</td>\n      <td>-1.0</td>\n      <td>-0.6</td>\n      <td>-0.2</td>\n      <td>0.6</td>\n      <td>-0.6</td>\n      <td>-1.0</td>\n      <td>-1.0</td>\n      <td>-0.2</td>\n      <td>0.6</td>\n      <td>-0.2</td>\n      <td>-0.6</td>\n      <td>-1.0</td>\n      <td>-0.6</td>\n      <td>-1.0</td>\n      <td>1.0</td>\n      <td>-1.0</td>\n    </tr>\n  </tbody>\n</table>\n</div>"
     },
     "metadata": {},
     "output_type": "display_data"
    },
    {
     "name": "stdout",
     "output_type": "stream",
     "text": [
      "Recommendation: \n"
     ]
    },
    {
     "data": {
      "text/plain": "      movieId          title           genres\n2499     2568  the mod squad  [Action, Crime]",
      "text/html": "<div>\n<style scoped>\n    .dataframe tbody tr th:only-of-type {\n        vertical-align: middle;\n    }\n\n    .dataframe tbody tr th {\n        vertical-align: top;\n    }\n\n    .dataframe thead th {\n        text-align: right;\n    }\n</style>\n<table border=\"1\" class=\"dataframe\">\n  <thead>\n    <tr style=\"text-align: right;\">\n      <th></th>\n      <th>movieId</th>\n      <th>title</th>\n      <th>genres</th>\n    </tr>\n  </thead>\n  <tbody>\n    <tr>\n      <th>2499</th>\n      <td>2568</td>\n      <td>the mod squad</td>\n      <td>[Action, Crime]</td>\n    </tr>\n  </tbody>\n</table>\n</div>"
     },
     "metadata": {},
     "output_type": "display_data"
    },
    {
     "name": "stdout",
     "output_type": "stream",
     "text": [
      " ----- \n",
      "User 1: \n"
     ]
    },
    {
     "data": {
      "text/plain": "   Action  Adventure  Animation  Childrens  Comedy  Crime  Documentary  Drama  \\\n0     0.6        1.0        1.0        1.0     0.6   -0.2         -0.2    0.2   \n\n   Fantasy  FilmNoir  Horror  Musical  Mystery  Romance  SciFi  Thriller  War  \\\n0      0.6       0.6    -0.6      1.0      0.6     -0.6   -0.6      -0.6 -0.6   \n\n   Western  \n0     -1.0  ",
      "text/html": "<div>\n<style scoped>\n    .dataframe tbody tr th:only-of-type {\n        vertical-align: middle;\n    }\n\n    .dataframe tbody tr th {\n        vertical-align: top;\n    }\n\n    .dataframe thead th {\n        text-align: right;\n    }\n</style>\n<table border=\"1\" class=\"dataframe\">\n  <thead>\n    <tr style=\"text-align: right;\">\n      <th></th>\n      <th>Action</th>\n      <th>Adventure</th>\n      <th>Animation</th>\n      <th>Childrens</th>\n      <th>Comedy</th>\n      <th>Crime</th>\n      <th>Documentary</th>\n      <th>Drama</th>\n      <th>Fantasy</th>\n      <th>FilmNoir</th>\n      <th>Horror</th>\n      <th>Musical</th>\n      <th>Mystery</th>\n      <th>Romance</th>\n      <th>SciFi</th>\n      <th>Thriller</th>\n      <th>War</th>\n      <th>Western</th>\n    </tr>\n  </thead>\n  <tbody>\n    <tr>\n      <th>0</th>\n      <td>0.6</td>\n      <td>1.0</td>\n      <td>1.0</td>\n      <td>1.0</td>\n      <td>0.6</td>\n      <td>-0.2</td>\n      <td>-0.2</td>\n      <td>0.2</td>\n      <td>0.6</td>\n      <td>0.6</td>\n      <td>-0.6</td>\n      <td>1.0</td>\n      <td>0.6</td>\n      <td>-0.6</td>\n      <td>-0.6</td>\n      <td>-0.6</td>\n      <td>-0.6</td>\n      <td>-1.0</td>\n    </tr>\n  </tbody>\n</table>\n</div>"
     },
     "metadata": {},
     "output_type": "display_data"
    },
    {
     "name": "stdout",
     "output_type": "stream",
     "text": [
      "User 2: \n"
     ]
    },
    {
     "data": {
      "text/plain": "   Action  Adventure  Animation  Childrens  Comedy  Crime  Documentary  Drama  \\\n0     0.6       -1.0       -0.2        0.6    -0.2    1.0          0.6   -0.6   \n\n   Fantasy  FilmNoir  Horror  Musical  Mystery  Romance  SciFi  Thriller  War  \\\n0      1.0      -0.2    -1.0     -0.6     -1.0      1.0    1.0      -0.6  0.6   \n\n   Western  \n0     -0.2  ",
      "text/html": "<div>\n<style scoped>\n    .dataframe tbody tr th:only-of-type {\n        vertical-align: middle;\n    }\n\n    .dataframe tbody tr th {\n        vertical-align: top;\n    }\n\n    .dataframe thead th {\n        text-align: right;\n    }\n</style>\n<table border=\"1\" class=\"dataframe\">\n  <thead>\n    <tr style=\"text-align: right;\">\n      <th></th>\n      <th>Action</th>\n      <th>Adventure</th>\n      <th>Animation</th>\n      <th>Childrens</th>\n      <th>Comedy</th>\n      <th>Crime</th>\n      <th>Documentary</th>\n      <th>Drama</th>\n      <th>Fantasy</th>\n      <th>FilmNoir</th>\n      <th>Horror</th>\n      <th>Musical</th>\n      <th>Mystery</th>\n      <th>Romance</th>\n      <th>SciFi</th>\n      <th>Thriller</th>\n      <th>War</th>\n      <th>Western</th>\n    </tr>\n  </thead>\n  <tbody>\n    <tr>\n      <th>0</th>\n      <td>0.6</td>\n      <td>-1.0</td>\n      <td>-0.2</td>\n      <td>0.6</td>\n      <td>-0.2</td>\n      <td>1.0</td>\n      <td>0.6</td>\n      <td>-0.6</td>\n      <td>1.0</td>\n      <td>-0.2</td>\n      <td>-1.0</td>\n      <td>-0.6</td>\n      <td>-1.0</td>\n      <td>1.0</td>\n      <td>1.0</td>\n      <td>-0.6</td>\n      <td>0.6</td>\n      <td>-0.2</td>\n    </tr>\n  </tbody>\n</table>\n</div>"
     },
     "metadata": {},
     "output_type": "display_data"
    },
    {
     "name": "stdout",
     "output_type": "stream",
     "text": [
      "Recommendation: \n"
     ]
    },
    {
     "data": {
      "text/plain": "     movieId                        title                   genres\n817      828  the adventures of pinocchio  [Adventure, Children's]",
      "text/html": "<div>\n<style scoped>\n    .dataframe tbody tr th:only-of-type {\n        vertical-align: middle;\n    }\n\n    .dataframe tbody tr th {\n        vertical-align: top;\n    }\n\n    .dataframe thead th {\n        text-align: right;\n    }\n</style>\n<table border=\"1\" class=\"dataframe\">\n  <thead>\n    <tr style=\"text-align: right;\">\n      <th></th>\n      <th>movieId</th>\n      <th>title</th>\n      <th>genres</th>\n    </tr>\n  </thead>\n  <tbody>\n    <tr>\n      <th>817</th>\n      <td>828</td>\n      <td>the adventures of pinocchio</td>\n      <td>[Adventure, Children's]</td>\n    </tr>\n  </tbody>\n</table>\n</div>"
     },
     "metadata": {},
     "output_type": "display_data"
    },
    {
     "name": "stdout",
     "output_type": "stream",
     "text": [
      " ----- \n",
      "User 1: \n"
     ]
    },
    {
     "data": {
      "text/plain": "   Action  Adventure  Animation  Childrens  Comedy  Crime  Documentary  Drama  \\\n0    -0.2        0.2       -0.2       -0.6    -0.2   -0.2         -1.0   -0.6   \n\n   Fantasy  FilmNoir  Horror  Musical  Mystery  Romance  SciFi  Thriller  War  \\\n0     -0.6      -0.6     0.2      1.0     -0.2      0.2   -0.2       0.2  1.0   \n\n   Western  \n0      0.6  ",
      "text/html": "<div>\n<style scoped>\n    .dataframe tbody tr th:only-of-type {\n        vertical-align: middle;\n    }\n\n    .dataframe tbody tr th {\n        vertical-align: top;\n    }\n\n    .dataframe thead th {\n        text-align: right;\n    }\n</style>\n<table border=\"1\" class=\"dataframe\">\n  <thead>\n    <tr style=\"text-align: right;\">\n      <th></th>\n      <th>Action</th>\n      <th>Adventure</th>\n      <th>Animation</th>\n      <th>Childrens</th>\n      <th>Comedy</th>\n      <th>Crime</th>\n      <th>Documentary</th>\n      <th>Drama</th>\n      <th>Fantasy</th>\n      <th>FilmNoir</th>\n      <th>Horror</th>\n      <th>Musical</th>\n      <th>Mystery</th>\n      <th>Romance</th>\n      <th>SciFi</th>\n      <th>Thriller</th>\n      <th>War</th>\n      <th>Western</th>\n    </tr>\n  </thead>\n  <tbody>\n    <tr>\n      <th>0</th>\n      <td>-0.2</td>\n      <td>0.2</td>\n      <td>-0.2</td>\n      <td>-0.6</td>\n      <td>-0.2</td>\n      <td>-0.2</td>\n      <td>-1.0</td>\n      <td>-0.6</td>\n      <td>-0.6</td>\n      <td>-0.6</td>\n      <td>0.2</td>\n      <td>1.0</td>\n      <td>-0.2</td>\n      <td>0.2</td>\n      <td>-0.2</td>\n      <td>0.2</td>\n      <td>1.0</td>\n      <td>0.6</td>\n    </tr>\n  </tbody>\n</table>\n</div>"
     },
     "metadata": {},
     "output_type": "display_data"
    },
    {
     "name": "stdout",
     "output_type": "stream",
     "text": [
      "User 2: \n"
     ]
    },
    {
     "data": {
      "text/plain": "   Action  Adventure  Animation  Childrens  Comedy  Crime  Documentary  Drama  \\\n0    -0.2       -1.0        0.2       -0.6    -0.6   -0.2         -1.0   -0.6   \n\n   Fantasy  FilmNoir  Horror  Musical  Mystery  Romance  SciFi  Thriller  War  \\\n0     -1.0       0.2    -0.6     -0.2      1.0     -0.2    0.2       0.2 -1.0   \n\n   Western  \n0      0.2  ",
      "text/html": "<div>\n<style scoped>\n    .dataframe tbody tr th:only-of-type {\n        vertical-align: middle;\n    }\n\n    .dataframe tbody tr th {\n        vertical-align: top;\n    }\n\n    .dataframe thead th {\n        text-align: right;\n    }\n</style>\n<table border=\"1\" class=\"dataframe\">\n  <thead>\n    <tr style=\"text-align: right;\">\n      <th></th>\n      <th>Action</th>\n      <th>Adventure</th>\n      <th>Animation</th>\n      <th>Childrens</th>\n      <th>Comedy</th>\n      <th>Crime</th>\n      <th>Documentary</th>\n      <th>Drama</th>\n      <th>Fantasy</th>\n      <th>FilmNoir</th>\n      <th>Horror</th>\n      <th>Musical</th>\n      <th>Mystery</th>\n      <th>Romance</th>\n      <th>SciFi</th>\n      <th>Thriller</th>\n      <th>War</th>\n      <th>Western</th>\n    </tr>\n  </thead>\n  <tbody>\n    <tr>\n      <th>0</th>\n      <td>-0.2</td>\n      <td>-1.0</td>\n      <td>0.2</td>\n      <td>-0.6</td>\n      <td>-0.6</td>\n      <td>-0.2</td>\n      <td>-1.0</td>\n      <td>-0.6</td>\n      <td>-1.0</td>\n      <td>0.2</td>\n      <td>-0.6</td>\n      <td>-0.2</td>\n      <td>1.0</td>\n      <td>-0.2</td>\n      <td>0.2</td>\n      <td>0.2</td>\n      <td>-1.0</td>\n      <td>0.2</td>\n    </tr>\n  </tbody>\n</table>\n</div>"
     },
     "metadata": {},
     "output_type": "display_data"
    },
    {
     "name": "stdout",
     "output_type": "stream",
     "text": [
      "Recommendation: \n"
     ]
    },
    {
     "data": {
      "text/plain": "      movieId            title              genres\n2752     2821  male and female  [Adventure, Drama]",
      "text/html": "<div>\n<style scoped>\n    .dataframe tbody tr th:only-of-type {\n        vertical-align: middle;\n    }\n\n    .dataframe tbody tr th {\n        vertical-align: top;\n    }\n\n    .dataframe thead th {\n        text-align: right;\n    }\n</style>\n<table border=\"1\" class=\"dataframe\">\n  <thead>\n    <tr style=\"text-align: right;\">\n      <th></th>\n      <th>movieId</th>\n      <th>title</th>\n      <th>genres</th>\n    </tr>\n  </thead>\n  <tbody>\n    <tr>\n      <th>2752</th>\n      <td>2821</td>\n      <td>male and female</td>\n      <td>[Adventure, Drama]</td>\n    </tr>\n  </tbody>\n</table>\n</div>"
     },
     "metadata": {},
     "output_type": "display_data"
    },
    {
     "name": "stdout",
     "output_type": "stream",
     "text": [
      " ----- \n",
      "User 1: \n"
     ]
    },
    {
     "data": {
      "text/plain": "   Action  Adventure  Animation  Childrens  Comedy  Crime  Documentary  Drama  \\\n0     1.0       -0.2        1.0       -0.2    -1.0    1.0         -1.0    0.6   \n\n   Fantasy  FilmNoir  Horror  Musical  Mystery  Romance  SciFi  Thriller  War  \\\n0     -1.0       1.0     0.2     -0.6     -0.2      1.0   -0.2      -0.2 -0.2   \n\n   Western  \n0     -1.0  ",
      "text/html": "<div>\n<style scoped>\n    .dataframe tbody tr th:only-of-type {\n        vertical-align: middle;\n    }\n\n    .dataframe tbody tr th {\n        vertical-align: top;\n    }\n\n    .dataframe thead th {\n        text-align: right;\n    }\n</style>\n<table border=\"1\" class=\"dataframe\">\n  <thead>\n    <tr style=\"text-align: right;\">\n      <th></th>\n      <th>Action</th>\n      <th>Adventure</th>\n      <th>Animation</th>\n      <th>Childrens</th>\n      <th>Comedy</th>\n      <th>Crime</th>\n      <th>Documentary</th>\n      <th>Drama</th>\n      <th>Fantasy</th>\n      <th>FilmNoir</th>\n      <th>Horror</th>\n      <th>Musical</th>\n      <th>Mystery</th>\n      <th>Romance</th>\n      <th>SciFi</th>\n      <th>Thriller</th>\n      <th>War</th>\n      <th>Western</th>\n    </tr>\n  </thead>\n  <tbody>\n    <tr>\n      <th>0</th>\n      <td>1.0</td>\n      <td>-0.2</td>\n      <td>1.0</td>\n      <td>-0.2</td>\n      <td>-1.0</td>\n      <td>1.0</td>\n      <td>-1.0</td>\n      <td>0.6</td>\n      <td>-1.0</td>\n      <td>1.0</td>\n      <td>0.2</td>\n      <td>-0.6</td>\n      <td>-0.2</td>\n      <td>1.0</td>\n      <td>-0.2</td>\n      <td>-0.2</td>\n      <td>-0.2</td>\n      <td>-1.0</td>\n    </tr>\n  </tbody>\n</table>\n</div>"
     },
     "metadata": {},
     "output_type": "display_data"
    },
    {
     "name": "stdout",
     "output_type": "stream",
     "text": [
      "User 2: \n"
     ]
    },
    {
     "data": {
      "text/plain": "   Action  Adventure  Animation  Childrens  Comedy  Crime  Documentary  Drama  \\\n0     0.2       -0.2       -0.2       -0.2    -0.2   -1.0          0.6   -1.0   \n\n   Fantasy  FilmNoir  Horror  Musical  Mystery  Romance  SciFi  Thriller  War  \\\n0      1.0      -1.0     0.2      1.0      0.6      1.0   -0.2       0.6 -1.0   \n\n   Western  \n0     -0.2  ",
      "text/html": "<div>\n<style scoped>\n    .dataframe tbody tr th:only-of-type {\n        vertical-align: middle;\n    }\n\n    .dataframe tbody tr th {\n        vertical-align: top;\n    }\n\n    .dataframe thead th {\n        text-align: right;\n    }\n</style>\n<table border=\"1\" class=\"dataframe\">\n  <thead>\n    <tr style=\"text-align: right;\">\n      <th></th>\n      <th>Action</th>\n      <th>Adventure</th>\n      <th>Animation</th>\n      <th>Childrens</th>\n      <th>Comedy</th>\n      <th>Crime</th>\n      <th>Documentary</th>\n      <th>Drama</th>\n      <th>Fantasy</th>\n      <th>FilmNoir</th>\n      <th>Horror</th>\n      <th>Musical</th>\n      <th>Mystery</th>\n      <th>Romance</th>\n      <th>SciFi</th>\n      <th>Thriller</th>\n      <th>War</th>\n      <th>Western</th>\n    </tr>\n  </thead>\n  <tbody>\n    <tr>\n      <th>0</th>\n      <td>0.2</td>\n      <td>-0.2</td>\n      <td>-0.2</td>\n      <td>-0.2</td>\n      <td>-0.2</td>\n      <td>-1.0</td>\n      <td>0.6</td>\n      <td>-1.0</td>\n      <td>1.0</td>\n      <td>-1.0</td>\n      <td>0.2</td>\n      <td>1.0</td>\n      <td>0.6</td>\n      <td>1.0</td>\n      <td>-0.2</td>\n      <td>0.6</td>\n      <td>-1.0</td>\n      <td>-0.2</td>\n    </tr>\n  </tbody>\n</table>\n</div>"
     },
     "metadata": {},
     "output_type": "display_data"
    },
    {
     "name": "stdout",
     "output_type": "stream",
     "text": [
      "Recommendation: \n"
     ]
    },
    {
     "data": {
      "text/plain": "      movieId         title           genres\n3647     3716  fatal beauty  [Action, Crime]",
      "text/html": "<div>\n<style scoped>\n    .dataframe tbody tr th:only-of-type {\n        vertical-align: middle;\n    }\n\n    .dataframe tbody tr th {\n        vertical-align: top;\n    }\n\n    .dataframe thead th {\n        text-align: right;\n    }\n</style>\n<table border=\"1\" class=\"dataframe\">\n  <thead>\n    <tr style=\"text-align: right;\">\n      <th></th>\n      <th>movieId</th>\n      <th>title</th>\n      <th>genres</th>\n    </tr>\n  </thead>\n  <tbody>\n    <tr>\n      <th>3647</th>\n      <td>3716</td>\n      <td>fatal beauty</td>\n      <td>[Action, Crime]</td>\n    </tr>\n  </tbody>\n</table>\n</div>"
     },
     "metadata": {},
     "output_type": "display_data"
    },
    {
     "name": "stdout",
     "output_type": "stream",
     "text": [
      " ----- \n",
      "User 1: \n"
     ]
    },
    {
     "data": {
      "text/plain": "   Action  Adventure  Animation  Childrens  Comedy  Crime  Documentary  Drama  \\\n0     0.6       -1.0        1.0       -0.6     0.2   -0.2          0.6   -0.2   \n\n   Fantasy  FilmNoir  Horror  Musical  Mystery  Romance  SciFi  Thriller  War  \\\n0     -0.6      -0.2     0.2      0.6      0.2     -1.0   -0.6      -0.6  0.6   \n\n   Western  \n0     -1.0  ",
      "text/html": "<div>\n<style scoped>\n    .dataframe tbody tr th:only-of-type {\n        vertical-align: middle;\n    }\n\n    .dataframe tbody tr th {\n        vertical-align: top;\n    }\n\n    .dataframe thead th {\n        text-align: right;\n    }\n</style>\n<table border=\"1\" class=\"dataframe\">\n  <thead>\n    <tr style=\"text-align: right;\">\n      <th></th>\n      <th>Action</th>\n      <th>Adventure</th>\n      <th>Animation</th>\n      <th>Childrens</th>\n      <th>Comedy</th>\n      <th>Crime</th>\n      <th>Documentary</th>\n      <th>Drama</th>\n      <th>Fantasy</th>\n      <th>FilmNoir</th>\n      <th>Horror</th>\n      <th>Musical</th>\n      <th>Mystery</th>\n      <th>Romance</th>\n      <th>SciFi</th>\n      <th>Thriller</th>\n      <th>War</th>\n      <th>Western</th>\n    </tr>\n  </thead>\n  <tbody>\n    <tr>\n      <th>0</th>\n      <td>0.6</td>\n      <td>-1.0</td>\n      <td>1.0</td>\n      <td>-0.6</td>\n      <td>0.2</td>\n      <td>-0.2</td>\n      <td>0.6</td>\n      <td>-0.2</td>\n      <td>-0.6</td>\n      <td>-0.2</td>\n      <td>0.2</td>\n      <td>0.6</td>\n      <td>0.2</td>\n      <td>-1.0</td>\n      <td>-0.6</td>\n      <td>-0.6</td>\n      <td>0.6</td>\n      <td>-1.0</td>\n    </tr>\n  </tbody>\n</table>\n</div>"
     },
     "metadata": {},
     "output_type": "display_data"
    },
    {
     "name": "stdout",
     "output_type": "stream",
     "text": [
      "User 2: \n"
     ]
    },
    {
     "data": {
      "text/plain": "   Action  Adventure  Animation  Childrens  Comedy  Crime  Documentary  Drama  \\\n0    -1.0        0.2        0.2       -0.6     1.0   -0.2          0.2    0.2   \n\n   Fantasy  FilmNoir  Horror  Musical  Mystery  Romance  SciFi  Thriller  War  \\\n0     -0.6       1.0    -0.2     -0.2     -0.6      0.6   -0.2       0.6 -0.6   \n\n   Western  \n0     -0.6  ",
      "text/html": "<div>\n<style scoped>\n    .dataframe tbody tr th:only-of-type {\n        vertical-align: middle;\n    }\n\n    .dataframe tbody tr th {\n        vertical-align: top;\n    }\n\n    .dataframe thead th {\n        text-align: right;\n    }\n</style>\n<table border=\"1\" class=\"dataframe\">\n  <thead>\n    <tr style=\"text-align: right;\">\n      <th></th>\n      <th>Action</th>\n      <th>Adventure</th>\n      <th>Animation</th>\n      <th>Childrens</th>\n      <th>Comedy</th>\n      <th>Crime</th>\n      <th>Documentary</th>\n      <th>Drama</th>\n      <th>Fantasy</th>\n      <th>FilmNoir</th>\n      <th>Horror</th>\n      <th>Musical</th>\n      <th>Mystery</th>\n      <th>Romance</th>\n      <th>SciFi</th>\n      <th>Thriller</th>\n      <th>War</th>\n      <th>Western</th>\n    </tr>\n  </thead>\n  <tbody>\n    <tr>\n      <th>0</th>\n      <td>-1.0</td>\n      <td>0.2</td>\n      <td>0.2</td>\n      <td>-0.6</td>\n      <td>1.0</td>\n      <td>-0.2</td>\n      <td>0.2</td>\n      <td>0.2</td>\n      <td>-0.6</td>\n      <td>1.0</td>\n      <td>-0.2</td>\n      <td>-0.2</td>\n      <td>-0.6</td>\n      <td>0.6</td>\n      <td>-0.2</td>\n      <td>0.6</td>\n      <td>-0.6</td>\n      <td>-0.6</td>\n    </tr>\n  </tbody>\n</table>\n</div>"
     },
     "metadata": {},
     "output_type": "display_data"
    },
    {
     "name": "stdout",
     "output_type": "stream",
     "text": [
      "Recommendation: \n"
     ]
    },
    {
     "data": {
      "text/plain": "      movieId     title    genres\n3643     3712  soapdish  [Comedy]",
      "text/html": "<div>\n<style scoped>\n    .dataframe tbody tr th:only-of-type {\n        vertical-align: middle;\n    }\n\n    .dataframe tbody tr th {\n        vertical-align: top;\n    }\n\n    .dataframe thead th {\n        text-align: right;\n    }\n</style>\n<table border=\"1\" class=\"dataframe\">\n  <thead>\n    <tr style=\"text-align: right;\">\n      <th></th>\n      <th>movieId</th>\n      <th>title</th>\n      <th>genres</th>\n    </tr>\n  </thead>\n  <tbody>\n    <tr>\n      <th>3643</th>\n      <td>3712</td>\n      <td>soapdish</td>\n      <td>[Comedy]</td>\n    </tr>\n  </tbody>\n</table>\n</div>"
     },
     "metadata": {},
     "output_type": "display_data"
    },
    {
     "name": "stdout",
     "output_type": "stream",
     "text": [
      " ----- \n",
      "User 1: \n"
     ]
    },
    {
     "data": {
      "text/plain": "   Action  Adventure  Animation  Childrens  Comedy  Crime  Documentary  Drama  \\\n0     0.6        0.6       -1.0       -0.2     1.0   -0.2         -1.0   -0.2   \n\n   Fantasy  FilmNoir  Horror  Musical  Mystery  Romance  SciFi  Thriller  War  \\\n0     -0.2      -0.6     0.2     -0.6     -0.6      0.6   -0.6       0.2 -0.6   \n\n   Western  \n0      0.2  ",
      "text/html": "<div>\n<style scoped>\n    .dataframe tbody tr th:only-of-type {\n        vertical-align: middle;\n    }\n\n    .dataframe tbody tr th {\n        vertical-align: top;\n    }\n\n    .dataframe thead th {\n        text-align: right;\n    }\n</style>\n<table border=\"1\" class=\"dataframe\">\n  <thead>\n    <tr style=\"text-align: right;\">\n      <th></th>\n      <th>Action</th>\n      <th>Adventure</th>\n      <th>Animation</th>\n      <th>Childrens</th>\n      <th>Comedy</th>\n      <th>Crime</th>\n      <th>Documentary</th>\n      <th>Drama</th>\n      <th>Fantasy</th>\n      <th>FilmNoir</th>\n      <th>Horror</th>\n      <th>Musical</th>\n      <th>Mystery</th>\n      <th>Romance</th>\n      <th>SciFi</th>\n      <th>Thriller</th>\n      <th>War</th>\n      <th>Western</th>\n    </tr>\n  </thead>\n  <tbody>\n    <tr>\n      <th>0</th>\n      <td>0.6</td>\n      <td>0.6</td>\n      <td>-1.0</td>\n      <td>-0.2</td>\n      <td>1.0</td>\n      <td>-0.2</td>\n      <td>-1.0</td>\n      <td>-0.2</td>\n      <td>-0.2</td>\n      <td>-0.6</td>\n      <td>0.2</td>\n      <td>-0.6</td>\n      <td>-0.6</td>\n      <td>0.6</td>\n      <td>-0.6</td>\n      <td>0.2</td>\n      <td>-0.6</td>\n      <td>0.2</td>\n    </tr>\n  </tbody>\n</table>\n</div>"
     },
     "metadata": {},
     "output_type": "display_data"
    },
    {
     "name": "stdout",
     "output_type": "stream",
     "text": [
      "User 2: \n"
     ]
    },
    {
     "data": {
      "text/plain": "   Action  Adventure  Animation  Childrens  Comedy  Crime  Documentary  Drama  \\\n0    -0.6        0.2        0.6       -0.2     1.0   -0.6          0.6    0.2   \n\n   Fantasy  FilmNoir  Horror  Musical  Mystery  Romance  SciFi  Thriller  War  \\\n0     -1.0       1.0     0.2     -0.2     -1.0      0.6   -0.6       1.0  0.2   \n\n   Western  \n0     -0.2  ",
      "text/html": "<div>\n<style scoped>\n    .dataframe tbody tr th:only-of-type {\n        vertical-align: middle;\n    }\n\n    .dataframe tbody tr th {\n        vertical-align: top;\n    }\n\n    .dataframe thead th {\n        text-align: right;\n    }\n</style>\n<table border=\"1\" class=\"dataframe\">\n  <thead>\n    <tr style=\"text-align: right;\">\n      <th></th>\n      <th>Action</th>\n      <th>Adventure</th>\n      <th>Animation</th>\n      <th>Childrens</th>\n      <th>Comedy</th>\n      <th>Crime</th>\n      <th>Documentary</th>\n      <th>Drama</th>\n      <th>Fantasy</th>\n      <th>FilmNoir</th>\n      <th>Horror</th>\n      <th>Musical</th>\n      <th>Mystery</th>\n      <th>Romance</th>\n      <th>SciFi</th>\n      <th>Thriller</th>\n      <th>War</th>\n      <th>Western</th>\n    </tr>\n  </thead>\n  <tbody>\n    <tr>\n      <th>0</th>\n      <td>-0.6</td>\n      <td>0.2</td>\n      <td>0.6</td>\n      <td>-0.2</td>\n      <td>1.0</td>\n      <td>-0.6</td>\n      <td>0.6</td>\n      <td>0.2</td>\n      <td>-1.0</td>\n      <td>1.0</td>\n      <td>0.2</td>\n      <td>-0.2</td>\n      <td>-1.0</td>\n      <td>0.6</td>\n      <td>-0.6</td>\n      <td>1.0</td>\n      <td>0.2</td>\n      <td>-0.2</td>\n    </tr>\n  </tbody>\n</table>\n</div>"
     },
     "metadata": {},
     "output_type": "display_data"
    },
    {
     "name": "stdout",
     "output_type": "stream",
     "text": [
      "Recommendation: \n"
     ]
    },
    {
     "data": {
      "text/plain": "      movieId                  title                        genres\n1825     1894  six days seven nights  [Adventure, Comedy, Romance]",
      "text/html": "<div>\n<style scoped>\n    .dataframe tbody tr th:only-of-type {\n        vertical-align: middle;\n    }\n\n    .dataframe tbody tr th {\n        vertical-align: top;\n    }\n\n    .dataframe thead th {\n        text-align: right;\n    }\n</style>\n<table border=\"1\" class=\"dataframe\">\n  <thead>\n    <tr style=\"text-align: right;\">\n      <th></th>\n      <th>movieId</th>\n      <th>title</th>\n      <th>genres</th>\n    </tr>\n  </thead>\n  <tbody>\n    <tr>\n      <th>1825</th>\n      <td>1894</td>\n      <td>six days seven nights</td>\n      <td>[Adventure, Comedy, Romance]</td>\n    </tr>\n  </tbody>\n</table>\n</div>"
     },
     "metadata": {},
     "output_type": "display_data"
    },
    {
     "name": "stdout",
     "output_type": "stream",
     "text": [
      " ----- \n",
      "User 1: \n"
     ]
    },
    {
     "data": {
      "text/plain": "   Action  Adventure  Animation  Childrens  Comedy  Crime  Documentary  Drama  \\\n0    -1.0       -0.6        0.6       -1.0     0.6   -0.2         -0.6    0.2   \n\n   Fantasy  FilmNoir  Horror  Musical  Mystery  Romance  SciFi  Thriller  War  \\\n0      0.6       0.2    -0.6      0.6     -0.6     -1.0   -0.2      -1.0 -0.2   \n\n   Western  \n0     -0.6  ",
      "text/html": "<div>\n<style scoped>\n    .dataframe tbody tr th:only-of-type {\n        vertical-align: middle;\n    }\n\n    .dataframe tbody tr th {\n        vertical-align: top;\n    }\n\n    .dataframe thead th {\n        text-align: right;\n    }\n</style>\n<table border=\"1\" class=\"dataframe\">\n  <thead>\n    <tr style=\"text-align: right;\">\n      <th></th>\n      <th>Action</th>\n      <th>Adventure</th>\n      <th>Animation</th>\n      <th>Childrens</th>\n      <th>Comedy</th>\n      <th>Crime</th>\n      <th>Documentary</th>\n      <th>Drama</th>\n      <th>Fantasy</th>\n      <th>FilmNoir</th>\n      <th>Horror</th>\n      <th>Musical</th>\n      <th>Mystery</th>\n      <th>Romance</th>\n      <th>SciFi</th>\n      <th>Thriller</th>\n      <th>War</th>\n      <th>Western</th>\n    </tr>\n  </thead>\n  <tbody>\n    <tr>\n      <th>0</th>\n      <td>-1.0</td>\n      <td>-0.6</td>\n      <td>0.6</td>\n      <td>-1.0</td>\n      <td>0.6</td>\n      <td>-0.2</td>\n      <td>-0.6</td>\n      <td>0.2</td>\n      <td>0.6</td>\n      <td>0.2</td>\n      <td>-0.6</td>\n      <td>0.6</td>\n      <td>-0.6</td>\n      <td>-1.0</td>\n      <td>-0.2</td>\n      <td>-1.0</td>\n      <td>-0.2</td>\n      <td>-0.6</td>\n    </tr>\n  </tbody>\n</table>\n</div>"
     },
     "metadata": {},
     "output_type": "display_data"
    },
    {
     "name": "stdout",
     "output_type": "stream",
     "text": [
      "User 2: \n"
     ]
    },
    {
     "data": {
      "text/plain": "   Action  Adventure  Animation  Childrens  Comedy  Crime  Documentary  Drama  \\\n0    -0.6        0.6       -0.2        1.0    -0.2   -0.6          0.6   -0.2   \n\n   Fantasy  FilmNoir  Horror  Musical  Mystery  Romance  SciFi  Thriller  War  \\\n0      0.2       0.2    -0.6     -0.6     -0.6      0.6    0.6       0.6 -0.2   \n\n   Western  \n0     -1.0  ",
      "text/html": "<div>\n<style scoped>\n    .dataframe tbody tr th:only-of-type {\n        vertical-align: middle;\n    }\n\n    .dataframe tbody tr th {\n        vertical-align: top;\n    }\n\n    .dataframe thead th {\n        text-align: right;\n    }\n</style>\n<table border=\"1\" class=\"dataframe\">\n  <thead>\n    <tr style=\"text-align: right;\">\n      <th></th>\n      <th>Action</th>\n      <th>Adventure</th>\n      <th>Animation</th>\n      <th>Childrens</th>\n      <th>Comedy</th>\n      <th>Crime</th>\n      <th>Documentary</th>\n      <th>Drama</th>\n      <th>Fantasy</th>\n      <th>FilmNoir</th>\n      <th>Horror</th>\n      <th>Musical</th>\n      <th>Mystery</th>\n      <th>Romance</th>\n      <th>SciFi</th>\n      <th>Thriller</th>\n      <th>War</th>\n      <th>Western</th>\n    </tr>\n  </thead>\n  <tbody>\n    <tr>\n      <th>0</th>\n      <td>-0.6</td>\n      <td>0.6</td>\n      <td>-0.2</td>\n      <td>1.0</td>\n      <td>-0.2</td>\n      <td>-0.6</td>\n      <td>0.6</td>\n      <td>-0.2</td>\n      <td>0.2</td>\n      <td>0.2</td>\n      <td>-0.6</td>\n      <td>-0.6</td>\n      <td>-0.6</td>\n      <td>0.6</td>\n      <td>0.6</td>\n      <td>0.6</td>\n      <td>-0.2</td>\n      <td>-1.0</td>\n    </tr>\n  </tbody>\n</table>\n</div>"
     },
     "metadata": {},
     "output_type": "display_data"
    },
    {
     "name": "stdout",
     "output_type": "stream",
     "text": [
      "Recommendation: \n"
     ]
    },
    {
     "data": {
      "text/plain": "      movieId        title                genres\n1983     2052  hocus pocus  [Children's, Comedy]",
      "text/html": "<div>\n<style scoped>\n    .dataframe tbody tr th:only-of-type {\n        vertical-align: middle;\n    }\n\n    .dataframe tbody tr th {\n        vertical-align: top;\n    }\n\n    .dataframe thead th {\n        text-align: right;\n    }\n</style>\n<table border=\"1\" class=\"dataframe\">\n  <thead>\n    <tr style=\"text-align: right;\">\n      <th></th>\n      <th>movieId</th>\n      <th>title</th>\n      <th>genres</th>\n    </tr>\n  </thead>\n  <tbody>\n    <tr>\n      <th>1983</th>\n      <td>2052</td>\n      <td>hocus pocus</td>\n      <td>[Children's, Comedy]</td>\n    </tr>\n  </tbody>\n</table>\n</div>"
     },
     "metadata": {},
     "output_type": "display_data"
    },
    {
     "name": "stdout",
     "output_type": "stream",
     "text": [
      " ----- \n",
      "User 1: \n"
     ]
    },
    {
     "data": {
      "text/plain": "   Action  Adventure  Animation  Childrens  Comedy  Crime  Documentary  Drama  \\\n0     0.2        1.0        1.0       -1.0    -0.2    0.6         -1.0   -0.2   \n\n   Fantasy  FilmNoir  Horror  Musical  Mystery  Romance  SciFi  Thriller  War  \\\n0     -0.6      -0.2     1.0     -0.2      1.0     -1.0    0.2       0.6  1.0   \n\n   Western  \n0      0.6  ",
      "text/html": "<div>\n<style scoped>\n    .dataframe tbody tr th:only-of-type {\n        vertical-align: middle;\n    }\n\n    .dataframe tbody tr th {\n        vertical-align: top;\n    }\n\n    .dataframe thead th {\n        text-align: right;\n    }\n</style>\n<table border=\"1\" class=\"dataframe\">\n  <thead>\n    <tr style=\"text-align: right;\">\n      <th></th>\n      <th>Action</th>\n      <th>Adventure</th>\n      <th>Animation</th>\n      <th>Childrens</th>\n      <th>Comedy</th>\n      <th>Crime</th>\n      <th>Documentary</th>\n      <th>Drama</th>\n      <th>Fantasy</th>\n      <th>FilmNoir</th>\n      <th>Horror</th>\n      <th>Musical</th>\n      <th>Mystery</th>\n      <th>Romance</th>\n      <th>SciFi</th>\n      <th>Thriller</th>\n      <th>War</th>\n      <th>Western</th>\n    </tr>\n  </thead>\n  <tbody>\n    <tr>\n      <th>0</th>\n      <td>0.2</td>\n      <td>1.0</td>\n      <td>1.0</td>\n      <td>-1.0</td>\n      <td>-0.2</td>\n      <td>0.6</td>\n      <td>-1.0</td>\n      <td>-0.2</td>\n      <td>-0.6</td>\n      <td>-0.2</td>\n      <td>1.0</td>\n      <td>-0.2</td>\n      <td>1.0</td>\n      <td>-1.0</td>\n      <td>0.2</td>\n      <td>0.6</td>\n      <td>1.0</td>\n      <td>0.6</td>\n    </tr>\n  </tbody>\n</table>\n</div>"
     },
     "metadata": {},
     "output_type": "display_data"
    },
    {
     "name": "stdout",
     "output_type": "stream",
     "text": [
      "User 2: \n"
     ]
    },
    {
     "data": {
      "text/plain": "   Action  Adventure  Animation  Childrens  Comedy  Crime  Documentary  Drama  \\\n0     0.6       -0.6       -1.0        0.6     1.0   -1.0         -0.6    1.0   \n\n   Fantasy  FilmNoir  Horror  Musical  Mystery  Romance  SciFi  Thriller  War  \\\n0      0.6      -0.6    -0.2      0.2      0.2      0.2    1.0      -0.6  0.2   \n\n   Western  \n0     -1.0  ",
      "text/html": "<div>\n<style scoped>\n    .dataframe tbody tr th:only-of-type {\n        vertical-align: middle;\n    }\n\n    .dataframe tbody tr th {\n        vertical-align: top;\n    }\n\n    .dataframe thead th {\n        text-align: right;\n    }\n</style>\n<table border=\"1\" class=\"dataframe\">\n  <thead>\n    <tr style=\"text-align: right;\">\n      <th></th>\n      <th>Action</th>\n      <th>Adventure</th>\n      <th>Animation</th>\n      <th>Childrens</th>\n      <th>Comedy</th>\n      <th>Crime</th>\n      <th>Documentary</th>\n      <th>Drama</th>\n      <th>Fantasy</th>\n      <th>FilmNoir</th>\n      <th>Horror</th>\n      <th>Musical</th>\n      <th>Mystery</th>\n      <th>Romance</th>\n      <th>SciFi</th>\n      <th>Thriller</th>\n      <th>War</th>\n      <th>Western</th>\n    </tr>\n  </thead>\n  <tbody>\n    <tr>\n      <th>0</th>\n      <td>0.6</td>\n      <td>-0.6</td>\n      <td>-1.0</td>\n      <td>0.6</td>\n      <td>1.0</td>\n      <td>-1.0</td>\n      <td>-0.6</td>\n      <td>1.0</td>\n      <td>0.6</td>\n      <td>-0.6</td>\n      <td>-0.2</td>\n      <td>0.2</td>\n      <td>0.2</td>\n      <td>0.2</td>\n      <td>1.0</td>\n      <td>-0.6</td>\n      <td>0.2</td>\n      <td>-1.0</td>\n    </tr>\n  </tbody>\n</table>\n</div>"
     },
     "metadata": {},
     "output_type": "display_data"
    },
    {
     "name": "stdout",
     "output_type": "stream",
     "text": [
      "Recommendation: \n"
     ]
    },
    {
     "data": {
      "text/plain": "      movieId      title            genres\n2700     2769  the yards  [Crime, Mystery]",
      "text/html": "<div>\n<style scoped>\n    .dataframe tbody tr th:only-of-type {\n        vertical-align: middle;\n    }\n\n    .dataframe tbody tr th {\n        vertical-align: top;\n    }\n\n    .dataframe thead th {\n        text-align: right;\n    }\n</style>\n<table border=\"1\" class=\"dataframe\">\n  <thead>\n    <tr style=\"text-align: right;\">\n      <th></th>\n      <th>movieId</th>\n      <th>title</th>\n      <th>genres</th>\n    </tr>\n  </thead>\n  <tbody>\n    <tr>\n      <th>2700</th>\n      <td>2769</td>\n      <td>the yards</td>\n      <td>[Crime, Mystery]</td>\n    </tr>\n  </tbody>\n</table>\n</div>"
     },
     "metadata": {},
     "output_type": "display_data"
    },
    {
     "name": "stdout",
     "output_type": "stream",
     "text": [
      " ----- \n",
      "User 1: \n"
     ]
    },
    {
     "data": {
      "text/plain": "   Action  Adventure  Animation  Childrens  Comedy  Crime  Documentary  Drama  \\\n0     1.0       -1.0       -1.0       -1.0     0.2    0.2         -0.6   -0.2   \n\n   Fantasy  FilmNoir  Horror  Musical  Mystery  Romance  SciFi  Thriller  War  \\\n0      0.2       0.2     0.6     -0.2     -0.2     -0.6    0.6       1.0 -1.0   \n\n   Western  \n0     -0.6  ",
      "text/html": "<div>\n<style scoped>\n    .dataframe tbody tr th:only-of-type {\n        vertical-align: middle;\n    }\n\n    .dataframe tbody tr th {\n        vertical-align: top;\n    }\n\n    .dataframe thead th {\n        text-align: right;\n    }\n</style>\n<table border=\"1\" class=\"dataframe\">\n  <thead>\n    <tr style=\"text-align: right;\">\n      <th></th>\n      <th>Action</th>\n      <th>Adventure</th>\n      <th>Animation</th>\n      <th>Childrens</th>\n      <th>Comedy</th>\n      <th>Crime</th>\n      <th>Documentary</th>\n      <th>Drama</th>\n      <th>Fantasy</th>\n      <th>FilmNoir</th>\n      <th>Horror</th>\n      <th>Musical</th>\n      <th>Mystery</th>\n      <th>Romance</th>\n      <th>SciFi</th>\n      <th>Thriller</th>\n      <th>War</th>\n      <th>Western</th>\n    </tr>\n  </thead>\n  <tbody>\n    <tr>\n      <th>0</th>\n      <td>1.0</td>\n      <td>-1.0</td>\n      <td>-1.0</td>\n      <td>-1.0</td>\n      <td>0.2</td>\n      <td>0.2</td>\n      <td>-0.6</td>\n      <td>-0.2</td>\n      <td>0.2</td>\n      <td>0.2</td>\n      <td>0.6</td>\n      <td>-0.2</td>\n      <td>-0.2</td>\n      <td>-0.6</td>\n      <td>0.6</td>\n      <td>1.0</td>\n      <td>-1.0</td>\n      <td>-0.6</td>\n    </tr>\n  </tbody>\n</table>\n</div>"
     },
     "metadata": {},
     "output_type": "display_data"
    },
    {
     "name": "stdout",
     "output_type": "stream",
     "text": [
      "User 2: \n"
     ]
    },
    {
     "data": {
      "text/plain": "   Action  Adventure  Animation  Childrens  Comedy  Crime  Documentary  Drama  \\\n0     0.2       -0.2        0.6       -1.0    -0.6   -0.6          0.6    0.2   \n\n   Fantasy  FilmNoir  Horror  Musical  Mystery  Romance  SciFi  Thriller  War  \\\n0      0.6       0.2    -0.6     -1.0      0.2     -1.0    1.0       0.2 -0.2   \n\n   Western  \n0      0.2  ",
      "text/html": "<div>\n<style scoped>\n    .dataframe tbody tr th:only-of-type {\n        vertical-align: middle;\n    }\n\n    .dataframe tbody tr th {\n        vertical-align: top;\n    }\n\n    .dataframe thead th {\n        text-align: right;\n    }\n</style>\n<table border=\"1\" class=\"dataframe\">\n  <thead>\n    <tr style=\"text-align: right;\">\n      <th></th>\n      <th>Action</th>\n      <th>Adventure</th>\n      <th>Animation</th>\n      <th>Childrens</th>\n      <th>Comedy</th>\n      <th>Crime</th>\n      <th>Documentary</th>\n      <th>Drama</th>\n      <th>Fantasy</th>\n      <th>FilmNoir</th>\n      <th>Horror</th>\n      <th>Musical</th>\n      <th>Mystery</th>\n      <th>Romance</th>\n      <th>SciFi</th>\n      <th>Thriller</th>\n      <th>War</th>\n      <th>Western</th>\n    </tr>\n  </thead>\n  <tbody>\n    <tr>\n      <th>0</th>\n      <td>0.2</td>\n      <td>-0.2</td>\n      <td>0.6</td>\n      <td>-1.0</td>\n      <td>-0.6</td>\n      <td>-0.6</td>\n      <td>0.6</td>\n      <td>0.2</td>\n      <td>0.6</td>\n      <td>0.2</td>\n      <td>-0.6</td>\n      <td>-1.0</td>\n      <td>0.2</td>\n      <td>-1.0</td>\n      <td>1.0</td>\n      <td>0.2</td>\n      <td>-0.2</td>\n      <td>0.2</td>\n    </tr>\n  </tbody>\n</table>\n</div>"
     },
     "metadata": {},
     "output_type": "display_data"
    },
    {
     "name": "stdout",
     "output_type": "stream",
     "text": [
      "Recommendation: \n"
     ]
    },
    {
     "data": {
      "text/plain": "      movieId            title                      genres\n3594     3663  puppet master 4  [Horror, Sci-Fi, Thriller]",
      "text/html": "<div>\n<style scoped>\n    .dataframe tbody tr th:only-of-type {\n        vertical-align: middle;\n    }\n\n    .dataframe tbody tr th {\n        vertical-align: top;\n    }\n\n    .dataframe thead th {\n        text-align: right;\n    }\n</style>\n<table border=\"1\" class=\"dataframe\">\n  <thead>\n    <tr style=\"text-align: right;\">\n      <th></th>\n      <th>movieId</th>\n      <th>title</th>\n      <th>genres</th>\n    </tr>\n  </thead>\n  <tbody>\n    <tr>\n      <th>3594</th>\n      <td>3663</td>\n      <td>puppet master 4</td>\n      <td>[Horror, Sci-Fi, Thriller]</td>\n    </tr>\n  </tbody>\n</table>\n</div>"
     },
     "metadata": {},
     "output_type": "display_data"
    },
    {
     "name": "stdout",
     "output_type": "stream",
     "text": [
      " ----- \n",
      "User 1: \n"
     ]
    },
    {
     "data": {
      "text/plain": "   Action  Adventure  Animation  Childrens  Comedy  Crime  Documentary  Drama  \\\n0     0.6       -0.2        1.0       -1.0     1.0    1.0          0.6    0.6   \n\n   Fantasy  FilmNoir  Horror  Musical  Mystery  Romance  SciFi  Thriller  War  \\\n0     -0.6      -0.2    -1.0      0.2     -0.6     -0.2    0.6       0.6 -0.6   \n\n   Western  \n0     -0.2  ",
      "text/html": "<div>\n<style scoped>\n    .dataframe tbody tr th:only-of-type {\n        vertical-align: middle;\n    }\n\n    .dataframe tbody tr th {\n        vertical-align: top;\n    }\n\n    .dataframe thead th {\n        text-align: right;\n    }\n</style>\n<table border=\"1\" class=\"dataframe\">\n  <thead>\n    <tr style=\"text-align: right;\">\n      <th></th>\n      <th>Action</th>\n      <th>Adventure</th>\n      <th>Animation</th>\n      <th>Childrens</th>\n      <th>Comedy</th>\n      <th>Crime</th>\n      <th>Documentary</th>\n      <th>Drama</th>\n      <th>Fantasy</th>\n      <th>FilmNoir</th>\n      <th>Horror</th>\n      <th>Musical</th>\n      <th>Mystery</th>\n      <th>Romance</th>\n      <th>SciFi</th>\n      <th>Thriller</th>\n      <th>War</th>\n      <th>Western</th>\n    </tr>\n  </thead>\n  <tbody>\n    <tr>\n      <th>0</th>\n      <td>0.6</td>\n      <td>-0.2</td>\n      <td>1.0</td>\n      <td>-1.0</td>\n      <td>1.0</td>\n      <td>1.0</td>\n      <td>0.6</td>\n      <td>0.6</td>\n      <td>-0.6</td>\n      <td>-0.2</td>\n      <td>-1.0</td>\n      <td>0.2</td>\n      <td>-0.6</td>\n      <td>-0.2</td>\n      <td>0.6</td>\n      <td>0.6</td>\n      <td>-0.6</td>\n      <td>-0.2</td>\n    </tr>\n  </tbody>\n</table>\n</div>"
     },
     "metadata": {},
     "output_type": "display_data"
    },
    {
     "name": "stdout",
     "output_type": "stream",
     "text": [
      "User 2: \n"
     ]
    },
    {
     "data": {
      "text/plain": "   Action  Adventure  Animation  Childrens  Comedy  Crime  Documentary  Drama  \\\n0     1.0       -0.6        0.2       -0.6     0.6   -0.6          1.0    1.0   \n\n   Fantasy  FilmNoir  Horror  Musical  Mystery  Romance  SciFi  Thriller  War  \\\n0     -0.6      -0.6     0.6      0.6     -0.6      1.0   -1.0      -1.0 -0.6   \n\n   Western  \n0     -1.0  ",
      "text/html": "<div>\n<style scoped>\n    .dataframe tbody tr th:only-of-type {\n        vertical-align: middle;\n    }\n\n    .dataframe tbody tr th {\n        vertical-align: top;\n    }\n\n    .dataframe thead th {\n        text-align: right;\n    }\n</style>\n<table border=\"1\" class=\"dataframe\">\n  <thead>\n    <tr style=\"text-align: right;\">\n      <th></th>\n      <th>Action</th>\n      <th>Adventure</th>\n      <th>Animation</th>\n      <th>Childrens</th>\n      <th>Comedy</th>\n      <th>Crime</th>\n      <th>Documentary</th>\n      <th>Drama</th>\n      <th>Fantasy</th>\n      <th>FilmNoir</th>\n      <th>Horror</th>\n      <th>Musical</th>\n      <th>Mystery</th>\n      <th>Romance</th>\n      <th>SciFi</th>\n      <th>Thriller</th>\n      <th>War</th>\n      <th>Western</th>\n    </tr>\n  </thead>\n  <tbody>\n    <tr>\n      <th>0</th>\n      <td>1.0</td>\n      <td>-0.6</td>\n      <td>0.2</td>\n      <td>-0.6</td>\n      <td>0.6</td>\n      <td>-0.6</td>\n      <td>1.0</td>\n      <td>1.0</td>\n      <td>-0.6</td>\n      <td>-0.6</td>\n      <td>0.6</td>\n      <td>0.6</td>\n      <td>-0.6</td>\n      <td>1.0</td>\n      <td>-1.0</td>\n      <td>-1.0</td>\n      <td>-0.6</td>\n      <td>-1.0</td>\n    </tr>\n  </tbody>\n</table>\n</div>"
     },
     "metadata": {},
     "output_type": "display_data"
    },
    {
     "name": "stdout",
     "output_type": "stream",
     "text": [
      "Recommendation: \n"
     ]
    },
    {
     "data": {
      "text/plain": "     movieId                title                          genres\n263      266  legends of the fall  [Drama, Romance, War, Western]",
      "text/html": "<div>\n<style scoped>\n    .dataframe tbody tr th:only-of-type {\n        vertical-align: middle;\n    }\n\n    .dataframe tbody tr th {\n        vertical-align: top;\n    }\n\n    .dataframe thead th {\n        text-align: right;\n    }\n</style>\n<table border=\"1\" class=\"dataframe\">\n  <thead>\n    <tr style=\"text-align: right;\">\n      <th></th>\n      <th>movieId</th>\n      <th>title</th>\n      <th>genres</th>\n    </tr>\n  </thead>\n  <tbody>\n    <tr>\n      <th>263</th>\n      <td>266</td>\n      <td>legends of the fall</td>\n      <td>[Drama, Romance, War, Western]</td>\n    </tr>\n  </tbody>\n</table>\n</div>"
     },
     "metadata": {},
     "output_type": "display_data"
    },
    {
     "name": "stdout",
     "output_type": "stream",
     "text": [
      " ----- \n"
     ]
    }
   ],
   "source": [
    "# We will create two random users and recommend a movie for them\n",
    "for i in range(10):\n",
    "    user_1 = build_user_preferences(\n",
    "        Action=np.random.randint(0, 6),\n",
    "        Adventure=np.random.randint(0, 6),\n",
    "        Animation=np.random.randint(0, 6),\n",
    "        Childrens=np.random.randint(0, 6),\n",
    "        Comedy=np.random.randint(0, 6),\n",
    "        Crime=np.random.randint(0, 6),\n",
    "        Documentary=np.random.randint(0, 6),\n",
    "        Drama=np.random.randint(0, 6),\n",
    "        Fantasy=np.random.randint(0, 6),\n",
    "        FilmNoir=np.random.randint(0, 6),\n",
    "        Horror=np.random.randint(0, 6),\n",
    "        Musical=np.random.randint(0, 6),\n",
    "        Mystery=np.random.randint(0, 6),\n",
    "        Romance=np.random.randint(0, 6),\n",
    "        SciFi=np.random.randint(0, 6),\n",
    "        Thriller=np.random.randint(0, 6),\n",
    "        War=np.random.randint(0, 6),\n",
    "        Western=np.random.randint(0, 6)\n",
    "    )\n",
    "    user_2 = build_user_preferences(\n",
    "        Action=np.random.randint(0, 6),\n",
    "        Adventure=np.random.randint(0, 6),\n",
    "        Animation=np.random.randint(0, 6),\n",
    "        Childrens=np.random.randint(0, 6),\n",
    "        Comedy=np.random.randint(0, 6),\n",
    "        Crime=np.random.randint(0, 6),\n",
    "        Documentary=np.random.randint(0, 6),\n",
    "        Drama=np.random.randint(0, 6),\n",
    "        Fantasy=np.random.randint(0, 6),\n",
    "        FilmNoir=np.random.randint(0, 6),\n",
    "        Horror=np.random.randint(0, 6),\n",
    "        Musical=np.random.randint(0, 6),\n",
    "        Mystery=np.random.randint(0, 6),\n",
    "        Romance=np.random.randint(0, 6),\n",
    "        SciFi=np.random.randint(0, 6),\n",
    "        Thriller=np.random.randint(0, 6),\n",
    "        War=np.random.randint(0, 6),\n",
    "        Western=np.random.randint(0, 6)\n",
    "    )\n",
    "    reco = recommand_common_movie_from_user_preferences(user_1, user_2)\n",
    "    print(\"User 1: \")\n",
    "    display(user_1)\n",
    "    print(\"User 2: \")\n",
    "    display(user_2)\n",
    "    print(\"Recommendation: \")\n",
    "    display(reco)\n",
    "    print(\" ----- \")"
   ],
   "metadata": {
    "collapsed": false,
    "ExecuteTime": {
     "end_time": "2024-07-07T20:29:05.394579500Z",
     "start_time": "2024-07-07T20:27:53.756651400Z"
    }
   },
   "id": "44aa5103f6527e10",
   "execution_count": 31
  },
  {
   "cell_type": "markdown",
   "source": [
    "## Conclusion\n",
    "\n",
    "We can see that the recommendation system works most of the time.\n",
    "But there are some rare cases where the recommendation is not relevant.\n",
    "\n",
    "We could try to improve the model by adding more layers or more neurons, but as the dataset is quite small, and the training time is already quite long, we will not have time to improve this model, unfortunately.\n",
    "\n",
    "Thus, using more features like the cast or directors would not really help, as adding to much dimension would make the model even worse."
   ],
   "metadata": {
    "collapsed": false
   },
   "id": "bd4730b789ddf398"
  }
 ],
 "metadata": {
  "kernelspec": {
   "display_name": "Python 3",
   "language": "python",
   "name": "python3"
  },
  "language_info": {
   "codemirror_mode": {
    "name": "ipython",
    "version": 2
   },
   "file_extension": ".py",
   "mimetype": "text/x-python",
   "name": "python",
   "nbconvert_exporter": "python",
   "pygments_lexer": "ipython2",
   "version": "2.7.6"
  }
 },
 "nbformat": 4,
 "nbformat_minor": 5
}
