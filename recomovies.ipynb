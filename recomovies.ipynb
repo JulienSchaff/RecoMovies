{
 "cells": [
  {
   "cell_type": "code",
   "outputs": [],
   "source": [
    "import numpy as np\n",
    "import pandas as pd\n",
    "import tensorflow as tf\n",
    "\n",
    "from sklearn.preprocessing import MinMaxScaler\n",
    "from sklearn.model_selection import train_test_split\n",
    "from sklearn.metrics.pairwise import cosine_similarity"
   ],
   "metadata": {
    "collapsed": false,
    "ExecuteTime": {
     "end_time": "2024-07-07T20:10:40.820234300Z",
     "start_time": "2024-07-07T20:10:37.571066900Z"
    }
   },
   "id": "60eaee8e91644d75",
   "execution_count": 1
  },
  {
   "cell_type": "markdown",
   "source": [
    "### Data loading\n",
    "\n",
    "We will only use the MovieLens 1M dataset for this project, as we will use the movies genres as features.\n",
    "The IMDb dataset does not provide the ratings of movies, and genres are already present in the MovieLens dataset.\n",
    "\n",
    "Moreover, the IMDb dataset has much more movies than the MovieLens dataset, and we wouldn't be able to do anything with them.\n",
    "\n",
    "We could use the IMDb dataset to get cast information, but this would increase the dimension of the features way to much for a recommendation system like this to be efficient."
   ],
   "metadata": {
    "collapsed": false
   },
   "id": "89d47293363ec318"
  },
  {
   "cell_type": "code",
   "outputs": [],
   "source": [
    "df_movies = pd.read_csv(\"ml-1m/movies.dat\", sep=\"::\", engine=\"python\", encoding='latin-1', names=['movieId', 'title', 'genres'])\n",
    "df_ratings = pd.read_csv(\"ml-1m/ratings.dat\", sep=\"::\", engine=\"python\", encoding='latin-1', names=['userId', 'movieId', 'rating', 'timestamp'])\n",
    "df_users = pd.read_csv(\"ml-1m/users.dat\", sep=\"::\", engine=\"python\", encoding='latin-1', names=['userId', 'gender', 'age', 'occupation', 'zip'])"
   ],
   "metadata": {
    "collapsed": false,
    "ExecuteTime": {
     "end_time": "2024-07-07T20:10:44.201504500Z",
     "start_time": "2024-07-07T20:10:40.822234800Z"
    }
   },
   "id": "b30c84a55e769d6",
   "execution_count": 2
  },
  {
   "cell_type": "markdown",
   "source": [
    "Clean the movies dataframe"
   ],
   "metadata": {
    "collapsed": false
   },
   "id": "c413859e5670f9ef"
  },
  {
   "cell_type": "code",
   "outputs": [
    {
     "data": {
      "text/plain": "      movieId                        title                        genres\n0           1                    toy story   Animation|Children's|Comedy\n1           2                      jumanji  Adventure|Children's|Fantasy\n2           3             grumpier old men                Comedy|Romance\n3           4            waiting to exhale                  Comedy|Drama\n4           5  father of the bride part ii                        Comedy\n...       ...                          ...                           ...\n3878     3948             meet the parents                        Comedy\n3879     3949          requiem for a dream                         Drama\n3880     3950                    tigerland                         Drama\n3881     3951             two family house                         Drama\n3882     3952                the contender                Drama|Thriller\n\n[3883 rows x 3 columns]",
      "text/html": "<div>\n<style scoped>\n    .dataframe tbody tr th:only-of-type {\n        vertical-align: middle;\n    }\n\n    .dataframe tbody tr th {\n        vertical-align: top;\n    }\n\n    .dataframe thead th {\n        text-align: right;\n    }\n</style>\n<table border=\"1\" class=\"dataframe\">\n  <thead>\n    <tr style=\"text-align: right;\">\n      <th></th>\n      <th>movieId</th>\n      <th>title</th>\n      <th>genres</th>\n    </tr>\n  </thead>\n  <tbody>\n    <tr>\n      <th>0</th>\n      <td>1</td>\n      <td>toy story</td>\n      <td>Animation|Children's|Comedy</td>\n    </tr>\n    <tr>\n      <th>1</th>\n      <td>2</td>\n      <td>jumanji</td>\n      <td>Adventure|Children's|Fantasy</td>\n    </tr>\n    <tr>\n      <th>2</th>\n      <td>3</td>\n      <td>grumpier old men</td>\n      <td>Comedy|Romance</td>\n    </tr>\n    <tr>\n      <th>3</th>\n      <td>4</td>\n      <td>waiting to exhale</td>\n      <td>Comedy|Drama</td>\n    </tr>\n    <tr>\n      <th>4</th>\n      <td>5</td>\n      <td>father of the bride part ii</td>\n      <td>Comedy</td>\n    </tr>\n    <tr>\n      <th>...</th>\n      <td>...</td>\n      <td>...</td>\n      <td>...</td>\n    </tr>\n    <tr>\n      <th>3878</th>\n      <td>3948</td>\n      <td>meet the parents</td>\n      <td>Comedy</td>\n    </tr>\n    <tr>\n      <th>3879</th>\n      <td>3949</td>\n      <td>requiem for a dream</td>\n      <td>Drama</td>\n    </tr>\n    <tr>\n      <th>3880</th>\n      <td>3950</td>\n      <td>tigerland</td>\n      <td>Drama</td>\n    </tr>\n    <tr>\n      <th>3881</th>\n      <td>3951</td>\n      <td>two family house</td>\n      <td>Drama</td>\n    </tr>\n    <tr>\n      <th>3882</th>\n      <td>3952</td>\n      <td>the contender</td>\n      <td>Drama|Thriller</td>\n    </tr>\n  </tbody>\n</table>\n<p>3883 rows × 3 columns</p>\n</div>"
     },
     "execution_count": 3,
     "metadata": {},
     "output_type": "execute_result"
    }
   ],
   "source": [
    "# Remove the year from the title\n",
    "def remove_year(title):\n",
    "    if title.split(\" \")[-1].startswith(\"(\"):\n",
    "        title = (\" \".join(title.split(\" \")[:-1])).strip()\n",
    "    return title\n",
    "\n",
    "def reorder_title(title):\n",
    "    if title.split(',')[-1].strip() in ['The', 'A', 'An']:\n",
    "        title = (title.split(',')[-1].strip() + \" \" + \" \".join(title.split(',')[:-1])).strip()\n",
    "    return title\n",
    "\n",
    "def lower_case(title):\n",
    "    return title.lower()\n",
    "\n",
    "def clean_title(title):\n",
    "    title = remove_year(title)\n",
    "    title = reorder_title(title)\n",
    "    title = lower_case(title)\n",
    "    return title\n",
    "\n",
    "df_movies['title'] = df_movies['title'].apply(clean_title)\n",
    "\n",
    "df_movies"
   ],
   "metadata": {
    "collapsed": false,
    "ExecuteTime": {
     "end_time": "2024-07-07T20:10:44.251508500Z",
     "start_time": "2024-07-07T20:10:44.204522500Z"
    }
   },
   "id": "c7e0f27b499f6b60",
   "execution_count": 3
  },
  {
   "cell_type": "code",
   "outputs": [
    {
     "data": {
      "text/plain": "      movieId                        title  Action  Adventure  Animation  \\\n0           1                    toy story       0          0          1   \n1           2                      jumanji       0          1          0   \n2           3             grumpier old men       0          0          0   \n3           4            waiting to exhale       0          0          0   \n4           5  father of the bride part ii       0          0          0   \n...       ...                          ...     ...        ...        ...   \n3878     3948             meet the parents       0          0          0   \n3879     3949          requiem for a dream       0          0          0   \n3880     3950                    tigerland       0          0          0   \n3881     3951             two family house       0          0          0   \n3882     3952                the contender       0          0          0   \n\n      Children's  Comedy  Crime  Documentary  Drama  Fantasy  Film-Noir  \\\n0              1       1      0            0      0        0          0   \n1              1       0      0            0      0        1          0   \n2              0       1      0            0      0        0          0   \n3              0       1      0            0      1        0          0   \n4              0       1      0            0      0        0          0   \n...          ...     ...    ...          ...    ...      ...        ...   \n3878           0       1      0            0      0        0          0   \n3879           0       0      0            0      1        0          0   \n3880           0       0      0            0      1        0          0   \n3881           0       0      0            0      1        0          0   \n3882           0       0      0            0      1        0          0   \n\n      Horror  Musical  Mystery  Romance  Sci-Fi  Thriller  War  Western  \n0          0        0        0        0       0         0    0        0  \n1          0        0        0        0       0         0    0        0  \n2          0        0        0        1       0         0    0        0  \n3          0        0        0        0       0         0    0        0  \n4          0        0        0        0       0         0    0        0  \n...      ...      ...      ...      ...     ...       ...  ...      ...  \n3878       0        0        0        0       0         0    0        0  \n3879       0        0        0        0       0         0    0        0  \n3880       0        0        0        0       0         0    0        0  \n3881       0        0        0        0       0         0    0        0  \n3882       0        0        0        0       0         1    0        0  \n\n[3883 rows x 20 columns]",
      "text/html": "<div>\n<style scoped>\n    .dataframe tbody tr th:only-of-type {\n        vertical-align: middle;\n    }\n\n    .dataframe tbody tr th {\n        vertical-align: top;\n    }\n\n    .dataframe thead th {\n        text-align: right;\n    }\n</style>\n<table border=\"1\" class=\"dataframe\">\n  <thead>\n    <tr style=\"text-align: right;\">\n      <th></th>\n      <th>movieId</th>\n      <th>title</th>\n      <th>Action</th>\n      <th>Adventure</th>\n      <th>Animation</th>\n      <th>Children's</th>\n      <th>Comedy</th>\n      <th>Crime</th>\n      <th>Documentary</th>\n      <th>Drama</th>\n      <th>Fantasy</th>\n      <th>Film-Noir</th>\n      <th>Horror</th>\n      <th>Musical</th>\n      <th>Mystery</th>\n      <th>Romance</th>\n      <th>Sci-Fi</th>\n      <th>Thriller</th>\n      <th>War</th>\n      <th>Western</th>\n    </tr>\n  </thead>\n  <tbody>\n    <tr>\n      <th>0</th>\n      <td>1</td>\n      <td>toy story</td>\n      <td>0</td>\n      <td>0</td>\n      <td>1</td>\n      <td>1</td>\n      <td>1</td>\n      <td>0</td>\n      <td>0</td>\n      <td>0</td>\n      <td>0</td>\n      <td>0</td>\n      <td>0</td>\n      <td>0</td>\n      <td>0</td>\n      <td>0</td>\n      <td>0</td>\n      <td>0</td>\n      <td>0</td>\n      <td>0</td>\n    </tr>\n    <tr>\n      <th>1</th>\n      <td>2</td>\n      <td>jumanji</td>\n      <td>0</td>\n      <td>1</td>\n      <td>0</td>\n      <td>1</td>\n      <td>0</td>\n      <td>0</td>\n      <td>0</td>\n      <td>0</td>\n      <td>1</td>\n      <td>0</td>\n      <td>0</td>\n      <td>0</td>\n      <td>0</td>\n      <td>0</td>\n      <td>0</td>\n      <td>0</td>\n      <td>0</td>\n      <td>0</td>\n    </tr>\n    <tr>\n      <th>2</th>\n      <td>3</td>\n      <td>grumpier old men</td>\n      <td>0</td>\n      <td>0</td>\n      <td>0</td>\n      <td>0</td>\n      <td>1</td>\n      <td>0</td>\n      <td>0</td>\n      <td>0</td>\n      <td>0</td>\n      <td>0</td>\n      <td>0</td>\n      <td>0</td>\n      <td>0</td>\n      <td>1</td>\n      <td>0</td>\n      <td>0</td>\n      <td>0</td>\n      <td>0</td>\n    </tr>\n    <tr>\n      <th>3</th>\n      <td>4</td>\n      <td>waiting to exhale</td>\n      <td>0</td>\n      <td>0</td>\n      <td>0</td>\n      <td>0</td>\n      <td>1</td>\n      <td>0</td>\n      <td>0</td>\n      <td>1</td>\n      <td>0</td>\n      <td>0</td>\n      <td>0</td>\n      <td>0</td>\n      <td>0</td>\n      <td>0</td>\n      <td>0</td>\n      <td>0</td>\n      <td>0</td>\n      <td>0</td>\n    </tr>\n    <tr>\n      <th>4</th>\n      <td>5</td>\n      <td>father of the bride part ii</td>\n      <td>0</td>\n      <td>0</td>\n      <td>0</td>\n      <td>0</td>\n      <td>1</td>\n      <td>0</td>\n      <td>0</td>\n      <td>0</td>\n      <td>0</td>\n      <td>0</td>\n      <td>0</td>\n      <td>0</td>\n      <td>0</td>\n      <td>0</td>\n      <td>0</td>\n      <td>0</td>\n      <td>0</td>\n      <td>0</td>\n    </tr>\n    <tr>\n      <th>...</th>\n      <td>...</td>\n      <td>...</td>\n      <td>...</td>\n      <td>...</td>\n      <td>...</td>\n      <td>...</td>\n      <td>...</td>\n      <td>...</td>\n      <td>...</td>\n      <td>...</td>\n      <td>...</td>\n      <td>...</td>\n      <td>...</td>\n      <td>...</td>\n      <td>...</td>\n      <td>...</td>\n      <td>...</td>\n      <td>...</td>\n      <td>...</td>\n      <td>...</td>\n    </tr>\n    <tr>\n      <th>3878</th>\n      <td>3948</td>\n      <td>meet the parents</td>\n      <td>0</td>\n      <td>0</td>\n      <td>0</td>\n      <td>0</td>\n      <td>1</td>\n      <td>0</td>\n      <td>0</td>\n      <td>0</td>\n      <td>0</td>\n      <td>0</td>\n      <td>0</td>\n      <td>0</td>\n      <td>0</td>\n      <td>0</td>\n      <td>0</td>\n      <td>0</td>\n      <td>0</td>\n      <td>0</td>\n    </tr>\n    <tr>\n      <th>3879</th>\n      <td>3949</td>\n      <td>requiem for a dream</td>\n      <td>0</td>\n      <td>0</td>\n      <td>0</td>\n      <td>0</td>\n      <td>0</td>\n      <td>0</td>\n      <td>0</td>\n      <td>1</td>\n      <td>0</td>\n      <td>0</td>\n      <td>0</td>\n      <td>0</td>\n      <td>0</td>\n      <td>0</td>\n      <td>0</td>\n      <td>0</td>\n      <td>0</td>\n      <td>0</td>\n    </tr>\n    <tr>\n      <th>3880</th>\n      <td>3950</td>\n      <td>tigerland</td>\n      <td>0</td>\n      <td>0</td>\n      <td>0</td>\n      <td>0</td>\n      <td>0</td>\n      <td>0</td>\n      <td>0</td>\n      <td>1</td>\n      <td>0</td>\n      <td>0</td>\n      <td>0</td>\n      <td>0</td>\n      <td>0</td>\n      <td>0</td>\n      <td>0</td>\n      <td>0</td>\n      <td>0</td>\n      <td>0</td>\n    </tr>\n    <tr>\n      <th>3881</th>\n      <td>3951</td>\n      <td>two family house</td>\n      <td>0</td>\n      <td>0</td>\n      <td>0</td>\n      <td>0</td>\n      <td>0</td>\n      <td>0</td>\n      <td>0</td>\n      <td>1</td>\n      <td>0</td>\n      <td>0</td>\n      <td>0</td>\n      <td>0</td>\n      <td>0</td>\n      <td>0</td>\n      <td>0</td>\n      <td>0</td>\n      <td>0</td>\n      <td>0</td>\n    </tr>\n    <tr>\n      <th>3882</th>\n      <td>3952</td>\n      <td>the contender</td>\n      <td>0</td>\n      <td>0</td>\n      <td>0</td>\n      <td>0</td>\n      <td>0</td>\n      <td>0</td>\n      <td>0</td>\n      <td>1</td>\n      <td>0</td>\n      <td>0</td>\n      <td>0</td>\n      <td>0</td>\n      <td>0</td>\n      <td>0</td>\n      <td>0</td>\n      <td>1</td>\n      <td>0</td>\n      <td>0</td>\n    </tr>\n  </tbody>\n</table>\n<p>3883 rows × 20 columns</p>\n</div>"
     },
     "execution_count": 4,
     "metadata": {},
     "output_type": "execute_result"
    }
   ],
   "source": [
    "# Explode the 'genres' column\n",
    "\n",
    "df_movies['genres'] = df_movies['genres'].str.split('|')\n",
    "\n",
    "df_movies_exploded = df_movies.explode('genres')\n",
    "\n",
    "df_movies_one_hot = pd.get_dummies(df_movies_exploded['genres'])\n",
    "\n",
    "df_movies_one_hot_grouped = df_movies_one_hot.groupby(df_movies_exploded.index).sum()\n",
    "\n",
    "df_movies_combined = pd.concat([df_movies.drop(columns=['genres']), df_movies_one_hot_grouped], axis=1)\n",
    "\n",
    "df_movies_combined"
   ],
   "metadata": {
    "collapsed": false,
    "ExecuteTime": {
     "end_time": "2024-07-07T20:10:44.335508700Z",
     "start_time": "2024-07-07T20:10:44.239507900Z"
    }
   },
   "id": "81fae07091caa6d5",
   "execution_count": 4
  },
  {
   "cell_type": "code",
   "outputs": [
    {
     "data": {
      "text/plain": "         userId  movieId  rating\n0             1     1193       5\n1             1      661       3\n2             1      914       3\n3             1     3408       4\n4             1     2355       5\n...         ...      ...     ...\n1000204    6040     1091       1\n1000205    6040     1094       5\n1000206    6040      562       5\n1000207    6040     1096       4\n1000208    6040     1097       4\n\n[1000209 rows x 3 columns]",
      "text/html": "<div>\n<style scoped>\n    .dataframe tbody tr th:only-of-type {\n        vertical-align: middle;\n    }\n\n    .dataframe tbody tr th {\n        vertical-align: top;\n    }\n\n    .dataframe thead th {\n        text-align: right;\n    }\n</style>\n<table border=\"1\" class=\"dataframe\">\n  <thead>\n    <tr style=\"text-align: right;\">\n      <th></th>\n      <th>userId</th>\n      <th>movieId</th>\n      <th>rating</th>\n    </tr>\n  </thead>\n  <tbody>\n    <tr>\n      <th>0</th>\n      <td>1</td>\n      <td>1193</td>\n      <td>5</td>\n    </tr>\n    <tr>\n      <th>1</th>\n      <td>1</td>\n      <td>661</td>\n      <td>3</td>\n    </tr>\n    <tr>\n      <th>2</th>\n      <td>1</td>\n      <td>914</td>\n      <td>3</td>\n    </tr>\n    <tr>\n      <th>3</th>\n      <td>1</td>\n      <td>3408</td>\n      <td>4</td>\n    </tr>\n    <tr>\n      <th>4</th>\n      <td>1</td>\n      <td>2355</td>\n      <td>5</td>\n    </tr>\n    <tr>\n      <th>...</th>\n      <td>...</td>\n      <td>...</td>\n      <td>...</td>\n    </tr>\n    <tr>\n      <th>1000204</th>\n      <td>6040</td>\n      <td>1091</td>\n      <td>1</td>\n    </tr>\n    <tr>\n      <th>1000205</th>\n      <td>6040</td>\n      <td>1094</td>\n      <td>5</td>\n    </tr>\n    <tr>\n      <th>1000206</th>\n      <td>6040</td>\n      <td>562</td>\n      <td>5</td>\n    </tr>\n    <tr>\n      <th>1000207</th>\n      <td>6040</td>\n      <td>1096</td>\n      <td>4</td>\n    </tr>\n    <tr>\n      <th>1000208</th>\n      <td>6040</td>\n      <td>1097</td>\n      <td>4</td>\n    </tr>\n  </tbody>\n</table>\n<p>1000209 rows × 3 columns</p>\n</div>"
     },
     "execution_count": 5,
     "metadata": {},
     "output_type": "execute_result"
    }
   ],
   "source": [
    "df_ratings = df_ratings.drop(columns=[\"timestamp\"])\n",
    "\n",
    "df_ratings"
   ],
   "metadata": {
    "collapsed": false,
    "ExecuteTime": {
     "end_time": "2024-07-07T20:10:44.338512900Z",
     "start_time": "2024-07-07T20:10:44.265507800Z"
    }
   },
   "id": "19cae1bb25e27311",
   "execution_count": 5
  },
  {
   "cell_type": "code",
   "outputs": [],
   "source": [
    "df_users = df_users.drop(columns=[\"gender\", \"age\", \"occupation\", \"zip\"])"
   ],
   "metadata": {
    "collapsed": false,
    "ExecuteTime": {
     "end_time": "2024-07-07T20:10:44.381504300Z",
     "start_time": "2024-07-07T20:10:44.298506400Z"
    }
   },
   "id": "131fe4b70dd765b7",
   "execution_count": 6
  },
  {
   "cell_type": "code",
   "outputs": [
    {
     "data": {
      "text/plain": "        userId  movieId  rating                                      title  \\\n0          770      437       1                        cops and robbersons   \n1         1591     2628       4  star wars: episode i - the phantom menace   \n2         1181      373       3                              red rock west   \n3         1077     1617       4                          l.a. confidential   \n4         4802     3160       5                                   magnolia   \n...        ...      ...     ...                                        ...   \n999995     862     1617       3                          l.a. confidential   \n999996    4251     2797       2                                        big   \n999997     204     1396       4                                   sneakers   \n999998    5047     1917       3                                 armageddon   \n999999    3157      364       3                              the lion king   \n\n        Action  Adventure  Animation  Children's  Comedy  Crime  ...  Fantasy  \\\n0            0          0          0           0       1      0  ...        0   \n1            1          1          0           0       0      0  ...        1   \n2            0          0          0           0       0      0  ...        0   \n3            0          0          0           0       0      1  ...        0   \n4            0          0          0           0       0      0  ...        0   \n...        ...        ...        ...         ...     ...    ...  ...      ...   \n999995       0          0          0           0       0      1  ...        0   \n999996       0          0          0           0       1      0  ...        1   \n999997       0          0          0           0       0      1  ...        0   \n999998       1          1          0           0       0      0  ...        0   \n999999       0          0          1           1       0      0  ...        0   \n\n        Film-Noir  Horror  Musical  Mystery  Romance  Sci-Fi  Thriller  War  \\\n0               0       0        0        0        0       0         0    0   \n1               0       0        0        0        0       1         0    0   \n2               0       0        0        0        0       0         1    0   \n3               1       0        0        1        0       0         1    0   \n4               0       0        0        0        0       0         0    0   \n...           ...     ...      ...      ...      ...     ...       ...  ...   \n999995          1       0        0        1        0       0         1    0   \n999996          0       0        0        0        0       0         0    0   \n999997          0       0        0        0        0       1         0    0   \n999998          0       0        0        0        0       1         1    0   \n999999          0       0        1        0        0       0         0    0   \n\n        Western  \n0             0  \n1             0  \n2             0  \n3             0  \n4             0  \n...         ...  \n999995        0  \n999996        0  \n999997        0  \n999998        0  \n999999        0  \n\n[1000000 rows x 22 columns]",
      "text/html": "<div>\n<style scoped>\n    .dataframe tbody tr th:only-of-type {\n        vertical-align: middle;\n    }\n\n    .dataframe tbody tr th {\n        vertical-align: top;\n    }\n\n    .dataframe thead th {\n        text-align: right;\n    }\n</style>\n<table border=\"1\" class=\"dataframe\">\n  <thead>\n    <tr style=\"text-align: right;\">\n      <th></th>\n      <th>userId</th>\n      <th>movieId</th>\n      <th>rating</th>\n      <th>title</th>\n      <th>Action</th>\n      <th>Adventure</th>\n      <th>Animation</th>\n      <th>Children's</th>\n      <th>Comedy</th>\n      <th>Crime</th>\n      <th>...</th>\n      <th>Fantasy</th>\n      <th>Film-Noir</th>\n      <th>Horror</th>\n      <th>Musical</th>\n      <th>Mystery</th>\n      <th>Romance</th>\n      <th>Sci-Fi</th>\n      <th>Thriller</th>\n      <th>War</th>\n      <th>Western</th>\n    </tr>\n  </thead>\n  <tbody>\n    <tr>\n      <th>0</th>\n      <td>770</td>\n      <td>437</td>\n      <td>1</td>\n      <td>cops and robbersons</td>\n      <td>0</td>\n      <td>0</td>\n      <td>0</td>\n      <td>0</td>\n      <td>1</td>\n      <td>0</td>\n      <td>...</td>\n      <td>0</td>\n      <td>0</td>\n      <td>0</td>\n      <td>0</td>\n      <td>0</td>\n      <td>0</td>\n      <td>0</td>\n      <td>0</td>\n      <td>0</td>\n      <td>0</td>\n    </tr>\n    <tr>\n      <th>1</th>\n      <td>1591</td>\n      <td>2628</td>\n      <td>4</td>\n      <td>star wars: episode i - the phantom menace</td>\n      <td>1</td>\n      <td>1</td>\n      <td>0</td>\n      <td>0</td>\n      <td>0</td>\n      <td>0</td>\n      <td>...</td>\n      <td>1</td>\n      <td>0</td>\n      <td>0</td>\n      <td>0</td>\n      <td>0</td>\n      <td>0</td>\n      <td>1</td>\n      <td>0</td>\n      <td>0</td>\n      <td>0</td>\n    </tr>\n    <tr>\n      <th>2</th>\n      <td>1181</td>\n      <td>373</td>\n      <td>3</td>\n      <td>red rock west</td>\n      <td>0</td>\n      <td>0</td>\n      <td>0</td>\n      <td>0</td>\n      <td>0</td>\n      <td>0</td>\n      <td>...</td>\n      <td>0</td>\n      <td>0</td>\n      <td>0</td>\n      <td>0</td>\n      <td>0</td>\n      <td>0</td>\n      <td>0</td>\n      <td>1</td>\n      <td>0</td>\n      <td>0</td>\n    </tr>\n    <tr>\n      <th>3</th>\n      <td>1077</td>\n      <td>1617</td>\n      <td>4</td>\n      <td>l.a. confidential</td>\n      <td>0</td>\n      <td>0</td>\n      <td>0</td>\n      <td>0</td>\n      <td>0</td>\n      <td>1</td>\n      <td>...</td>\n      <td>0</td>\n      <td>1</td>\n      <td>0</td>\n      <td>0</td>\n      <td>1</td>\n      <td>0</td>\n      <td>0</td>\n      <td>1</td>\n      <td>0</td>\n      <td>0</td>\n    </tr>\n    <tr>\n      <th>4</th>\n      <td>4802</td>\n      <td>3160</td>\n      <td>5</td>\n      <td>magnolia</td>\n      <td>0</td>\n      <td>0</td>\n      <td>0</td>\n      <td>0</td>\n      <td>0</td>\n      <td>0</td>\n      <td>...</td>\n      <td>0</td>\n      <td>0</td>\n      <td>0</td>\n      <td>0</td>\n      <td>0</td>\n      <td>0</td>\n      <td>0</td>\n      <td>0</td>\n      <td>0</td>\n      <td>0</td>\n    </tr>\n    <tr>\n      <th>...</th>\n      <td>...</td>\n      <td>...</td>\n      <td>...</td>\n      <td>...</td>\n      <td>...</td>\n      <td>...</td>\n      <td>...</td>\n      <td>...</td>\n      <td>...</td>\n      <td>...</td>\n      <td>...</td>\n      <td>...</td>\n      <td>...</td>\n      <td>...</td>\n      <td>...</td>\n      <td>...</td>\n      <td>...</td>\n      <td>...</td>\n      <td>...</td>\n      <td>...</td>\n      <td>...</td>\n    </tr>\n    <tr>\n      <th>999995</th>\n      <td>862</td>\n      <td>1617</td>\n      <td>3</td>\n      <td>l.a. confidential</td>\n      <td>0</td>\n      <td>0</td>\n      <td>0</td>\n      <td>0</td>\n      <td>0</td>\n      <td>1</td>\n      <td>...</td>\n      <td>0</td>\n      <td>1</td>\n      <td>0</td>\n      <td>0</td>\n      <td>1</td>\n      <td>0</td>\n      <td>0</td>\n      <td>1</td>\n      <td>0</td>\n      <td>0</td>\n    </tr>\n    <tr>\n      <th>999996</th>\n      <td>4251</td>\n      <td>2797</td>\n      <td>2</td>\n      <td>big</td>\n      <td>0</td>\n      <td>0</td>\n      <td>0</td>\n      <td>0</td>\n      <td>1</td>\n      <td>0</td>\n      <td>...</td>\n      <td>1</td>\n      <td>0</td>\n      <td>0</td>\n      <td>0</td>\n      <td>0</td>\n      <td>0</td>\n      <td>0</td>\n      <td>0</td>\n      <td>0</td>\n      <td>0</td>\n    </tr>\n    <tr>\n      <th>999997</th>\n      <td>204</td>\n      <td>1396</td>\n      <td>4</td>\n      <td>sneakers</td>\n      <td>0</td>\n      <td>0</td>\n      <td>0</td>\n      <td>0</td>\n      <td>0</td>\n      <td>1</td>\n      <td>...</td>\n      <td>0</td>\n      <td>0</td>\n      <td>0</td>\n      <td>0</td>\n      <td>0</td>\n      <td>0</td>\n      <td>1</td>\n      <td>0</td>\n      <td>0</td>\n      <td>0</td>\n    </tr>\n    <tr>\n      <th>999998</th>\n      <td>5047</td>\n      <td>1917</td>\n      <td>3</td>\n      <td>armageddon</td>\n      <td>1</td>\n      <td>1</td>\n      <td>0</td>\n      <td>0</td>\n      <td>0</td>\n      <td>0</td>\n      <td>...</td>\n      <td>0</td>\n      <td>0</td>\n      <td>0</td>\n      <td>0</td>\n      <td>0</td>\n      <td>0</td>\n      <td>1</td>\n      <td>1</td>\n      <td>0</td>\n      <td>0</td>\n    </tr>\n    <tr>\n      <th>999999</th>\n      <td>3157</td>\n      <td>364</td>\n      <td>3</td>\n      <td>the lion king</td>\n      <td>0</td>\n      <td>0</td>\n      <td>1</td>\n      <td>1</td>\n      <td>0</td>\n      <td>0</td>\n      <td>...</td>\n      <td>0</td>\n      <td>0</td>\n      <td>0</td>\n      <td>1</td>\n      <td>0</td>\n      <td>0</td>\n      <td>0</td>\n      <td>0</td>\n      <td>0</td>\n      <td>0</td>\n    </tr>\n  </tbody>\n</table>\n<p>1000000 rows × 22 columns</p>\n</div>"
     },
     "execution_count": 7,
     "metadata": {},
     "output_type": "execute_result"
    }
   ],
   "source": [
    "df_ratings_sample = df_ratings.sample(n=1_000_000)\n",
    "\n",
    "df = pd.merge(df_ratings_sample, df_movies_combined, on='movieId')\n",
    "\n",
    "df"
   ],
   "metadata": {
    "collapsed": false,
    "ExecuteTime": {
     "end_time": "2024-07-07T20:10:44.809511700Z",
     "start_time": "2024-07-07T20:10:44.313506200Z"
    }
   },
   "id": "71cd604f1b795385",
   "execution_count": 7
  },
  {
   "cell_type": "code",
   "outputs": [
    {
     "data": {
      "text/plain": "        userId  movieId  rating                                      title  \\\n0          770      437       1                        cops and robbersons   \n1         1591     2628       4  star wars: episode i - the phantom menace   \n2         1181      373       3                              red rock west   \n3         1077     1617       4                          l.a. confidential   \n4         4802     3160       5                                   magnolia   \n...        ...      ...     ...                                        ...   \n999995     862     1617       3                          l.a. confidential   \n999996    4251     2797       2                                        big   \n999997     204     1396       4                                   sneakers   \n999998    5047     1917       3                                 armageddon   \n999999    3157      364       3                              the lion king   \n\n        Action  Adventure  Animation  Children's  Comedy  Crime  ...  Fantasy  \\\n0            0          0          0           0       1      0  ...        0   \n1            4          4          0           0       0      0  ...        4   \n2            0          0          0           0       0      0  ...        0   \n3            0          0          0           0       0      4  ...        0   \n4            0          0          0           0       0      0  ...        0   \n...        ...        ...        ...         ...     ...    ...  ...      ...   \n999995       0          0          0           0       0      3  ...        0   \n999996       0          0          0           0       2      0  ...        2   \n999997       0          0          0           0       0      4  ...        0   \n999998       3          3          0           0       0      0  ...        0   \n999999       0          0          3           3       0      0  ...        0   \n\n        Film-Noir  Horror  Musical  Mystery  Romance  Sci-Fi  Thriller  War  \\\n0               0       0        0        0        0       0         0    0   \n1               0       0        0        0        0       4         0    0   \n2               0       0        0        0        0       0         3    0   \n3               4       0        0        4        0       0         4    0   \n4               0       0        0        0        0       0         0    0   \n...           ...     ...      ...      ...      ...     ...       ...  ...   \n999995          3       0        0        3        0       0         3    0   \n999996          0       0        0        0        0       0         0    0   \n999997          0       0        0        0        0       4         0    0   \n999998          0       0        0        0        0       3         3    0   \n999999          0       0        3        0        0       0         0    0   \n\n        Western  \n0             0  \n1             0  \n2             0  \n3             0  \n4             0  \n...         ...  \n999995        0  \n999996        0  \n999997        0  \n999998        0  \n999999        0  \n\n[1000000 rows x 22 columns]",
      "text/html": "<div>\n<style scoped>\n    .dataframe tbody tr th:only-of-type {\n        vertical-align: middle;\n    }\n\n    .dataframe tbody tr th {\n        vertical-align: top;\n    }\n\n    .dataframe thead th {\n        text-align: right;\n    }\n</style>\n<table border=\"1\" class=\"dataframe\">\n  <thead>\n    <tr style=\"text-align: right;\">\n      <th></th>\n      <th>userId</th>\n      <th>movieId</th>\n      <th>rating</th>\n      <th>title</th>\n      <th>Action</th>\n      <th>Adventure</th>\n      <th>Animation</th>\n      <th>Children's</th>\n      <th>Comedy</th>\n      <th>Crime</th>\n      <th>...</th>\n      <th>Fantasy</th>\n      <th>Film-Noir</th>\n      <th>Horror</th>\n      <th>Musical</th>\n      <th>Mystery</th>\n      <th>Romance</th>\n      <th>Sci-Fi</th>\n      <th>Thriller</th>\n      <th>War</th>\n      <th>Western</th>\n    </tr>\n  </thead>\n  <tbody>\n    <tr>\n      <th>0</th>\n      <td>770</td>\n      <td>437</td>\n      <td>1</td>\n      <td>cops and robbersons</td>\n      <td>0</td>\n      <td>0</td>\n      <td>0</td>\n      <td>0</td>\n      <td>1</td>\n      <td>0</td>\n      <td>...</td>\n      <td>0</td>\n      <td>0</td>\n      <td>0</td>\n      <td>0</td>\n      <td>0</td>\n      <td>0</td>\n      <td>0</td>\n      <td>0</td>\n      <td>0</td>\n      <td>0</td>\n    </tr>\n    <tr>\n      <th>1</th>\n      <td>1591</td>\n      <td>2628</td>\n      <td>4</td>\n      <td>star wars: episode i - the phantom menace</td>\n      <td>4</td>\n      <td>4</td>\n      <td>0</td>\n      <td>0</td>\n      <td>0</td>\n      <td>0</td>\n      <td>...</td>\n      <td>4</td>\n      <td>0</td>\n      <td>0</td>\n      <td>0</td>\n      <td>0</td>\n      <td>0</td>\n      <td>4</td>\n      <td>0</td>\n      <td>0</td>\n      <td>0</td>\n    </tr>\n    <tr>\n      <th>2</th>\n      <td>1181</td>\n      <td>373</td>\n      <td>3</td>\n      <td>red rock west</td>\n      <td>0</td>\n      <td>0</td>\n      <td>0</td>\n      <td>0</td>\n      <td>0</td>\n      <td>0</td>\n      <td>...</td>\n      <td>0</td>\n      <td>0</td>\n      <td>0</td>\n      <td>0</td>\n      <td>0</td>\n      <td>0</td>\n      <td>0</td>\n      <td>3</td>\n      <td>0</td>\n      <td>0</td>\n    </tr>\n    <tr>\n      <th>3</th>\n      <td>1077</td>\n      <td>1617</td>\n      <td>4</td>\n      <td>l.a. confidential</td>\n      <td>0</td>\n      <td>0</td>\n      <td>0</td>\n      <td>0</td>\n      <td>0</td>\n      <td>4</td>\n      <td>...</td>\n      <td>0</td>\n      <td>4</td>\n      <td>0</td>\n      <td>0</td>\n      <td>4</td>\n      <td>0</td>\n      <td>0</td>\n      <td>4</td>\n      <td>0</td>\n      <td>0</td>\n    </tr>\n    <tr>\n      <th>4</th>\n      <td>4802</td>\n      <td>3160</td>\n      <td>5</td>\n      <td>magnolia</td>\n      <td>0</td>\n      <td>0</td>\n      <td>0</td>\n      <td>0</td>\n      <td>0</td>\n      <td>0</td>\n      <td>...</td>\n      <td>0</td>\n      <td>0</td>\n      <td>0</td>\n      <td>0</td>\n      <td>0</td>\n      <td>0</td>\n      <td>0</td>\n      <td>0</td>\n      <td>0</td>\n      <td>0</td>\n    </tr>\n    <tr>\n      <th>...</th>\n      <td>...</td>\n      <td>...</td>\n      <td>...</td>\n      <td>...</td>\n      <td>...</td>\n      <td>...</td>\n      <td>...</td>\n      <td>...</td>\n      <td>...</td>\n      <td>...</td>\n      <td>...</td>\n      <td>...</td>\n      <td>...</td>\n      <td>...</td>\n      <td>...</td>\n      <td>...</td>\n      <td>...</td>\n      <td>...</td>\n      <td>...</td>\n      <td>...</td>\n      <td>...</td>\n    </tr>\n    <tr>\n      <th>999995</th>\n      <td>862</td>\n      <td>1617</td>\n      <td>3</td>\n      <td>l.a. confidential</td>\n      <td>0</td>\n      <td>0</td>\n      <td>0</td>\n      <td>0</td>\n      <td>0</td>\n      <td>3</td>\n      <td>...</td>\n      <td>0</td>\n      <td>3</td>\n      <td>0</td>\n      <td>0</td>\n      <td>3</td>\n      <td>0</td>\n      <td>0</td>\n      <td>3</td>\n      <td>0</td>\n      <td>0</td>\n    </tr>\n    <tr>\n      <th>999996</th>\n      <td>4251</td>\n      <td>2797</td>\n      <td>2</td>\n      <td>big</td>\n      <td>0</td>\n      <td>0</td>\n      <td>0</td>\n      <td>0</td>\n      <td>2</td>\n      <td>0</td>\n      <td>...</td>\n      <td>2</td>\n      <td>0</td>\n      <td>0</td>\n      <td>0</td>\n      <td>0</td>\n      <td>0</td>\n      <td>0</td>\n      <td>0</td>\n      <td>0</td>\n      <td>0</td>\n    </tr>\n    <tr>\n      <th>999997</th>\n      <td>204</td>\n      <td>1396</td>\n      <td>4</td>\n      <td>sneakers</td>\n      <td>0</td>\n      <td>0</td>\n      <td>0</td>\n      <td>0</td>\n      <td>0</td>\n      <td>4</td>\n      <td>...</td>\n      <td>0</td>\n      <td>0</td>\n      <td>0</td>\n      <td>0</td>\n      <td>0</td>\n      <td>0</td>\n      <td>4</td>\n      <td>0</td>\n      <td>0</td>\n      <td>0</td>\n    </tr>\n    <tr>\n      <th>999998</th>\n      <td>5047</td>\n      <td>1917</td>\n      <td>3</td>\n      <td>armageddon</td>\n      <td>3</td>\n      <td>3</td>\n      <td>0</td>\n      <td>0</td>\n      <td>0</td>\n      <td>0</td>\n      <td>...</td>\n      <td>0</td>\n      <td>0</td>\n      <td>0</td>\n      <td>0</td>\n      <td>0</td>\n      <td>0</td>\n      <td>3</td>\n      <td>3</td>\n      <td>0</td>\n      <td>0</td>\n    </tr>\n    <tr>\n      <th>999999</th>\n      <td>3157</td>\n      <td>364</td>\n      <td>3</td>\n      <td>the lion king</td>\n      <td>0</td>\n      <td>0</td>\n      <td>3</td>\n      <td>3</td>\n      <td>0</td>\n      <td>0</td>\n      <td>...</td>\n      <td>0</td>\n      <td>0</td>\n      <td>0</td>\n      <td>3</td>\n      <td>0</td>\n      <td>0</td>\n      <td>0</td>\n      <td>0</td>\n      <td>0</td>\n      <td>0</td>\n    </tr>\n  </tbody>\n</table>\n<p>1000000 rows × 22 columns</p>\n</div>"
     },
     "execution_count": 8,
     "metadata": {},
     "output_type": "execute_result"
    }
   ],
   "source": [
    "# We weight the genres by the rating value    \n",
    "genres = list(df.columns[4:])\n",
    "for genre in genres:\n",
    "    df[genre] = df[genre] * df['rating']\n",
    "\n",
    "df    "
   ],
   "metadata": {
    "collapsed": false,
    "ExecuteTime": {
     "end_time": "2024-07-07T20:10:45.317571800Z",
     "start_time": "2024-07-07T20:10:44.790508600Z"
    }
   },
   "id": "7e51e64489bd536a",
   "execution_count": 8
  },
  {
   "cell_type": "code",
   "outputs": [
    {
     "data": {
      "text/plain": "        userId  movieId  rating    Action  Adventure  Animation  Children's  \\\n0          770      437       1  2.946721   2.900901   3.268293    2.493976   \n1         1591     2628       4  4.285714   4.000000   3.800000    3.700000   \n2         1181      373       3  2.802941   2.735849   2.736842    2.417910   \n3         1077     1617       4  4.019231   3.785714   2.727273    3.000000   \n4         4802     3160       5  3.735043   3.830986   3.705882    3.500000   \n...        ...      ...     ...       ...        ...        ...         ...   \n999995     862     1617       3  3.333333   3.500000   3.666667    2.500000   \n999996    4251     2797       2  3.466667   3.285714   3.000000    3.000000   \n999997     204     1396       4  3.582822   3.520833   3.380952    3.528302   \n999998    5047     1917       3  3.026667   3.114286   2.600000    2.600000   \n999999    3157      364       3  3.610169   3.500000   3.583333    3.466667   \n\n          Comedy     Crime  Documentary  ...   Fantasy  Film-Noir    Horror  \\\n0       2.799479  3.389831     3.000000  ...  2.642857   2.857143  2.847826   \n1       4.155039  4.450000     5.000000  ...  3.666667   5.000000  3.846154   \n2       2.739872  2.946903     2.809524  ...  2.514286   3.354839  2.590361   \n3       3.617647  4.138889     4.000000  ...  2.666667   4.235294  4.240000   \n4       4.106481  4.016667     5.000000  ...  4.333333   4.350000  3.816327   \n...          ...       ...          ...  ...       ...        ...       ...   \n999995  3.517857  3.750000     4.000000  ...  4.000000   3.000000  3.750000   \n999996  3.465517  4.200000     0.000000  ...  3.250000   4.000000  3.000000   \n999997  3.528571  3.606061     3.000000  ...  3.782609   3.000000  3.666667   \n999998  3.201389  3.733333     4.000000  ...  3.666667   4.666667  2.800000   \n999999  3.565789  3.500000     0.000000  ...  3.454545   2.500000  3.428571   \n\n         Musical   Mystery   Romance    Sci-Fi  Thriller       War   Western  \n0       3.090909  3.529412  2.880000  2.831858  3.114504  3.228571  3.600000  \n1       4.000000  4.333333  4.437500  4.188679  4.521739  4.666667  3.750000  \n2       3.000000  2.833333  2.719577  2.809816  2.900000  3.020408  2.872340  \n3       3.333333  4.333333  3.892857  4.000000  4.127273  4.142857  4.214286  \n4       3.913043  4.064516  3.975610  3.793103  4.009615  4.294118  4.166667  \n...          ...       ...       ...       ...       ...       ...       ...  \n999995  4.000000  3.666667  3.400000  3.666667  3.833333  3.666667  0.000000  \n999996  0.000000  3.555556  3.500000  3.333333  3.880000  3.666667  0.000000  \n999997  3.800000  3.200000  3.610169  3.468354  3.701149  4.071429  3.571429  \n999998  3.285714  4.350000  3.702703  3.403846  3.659341  3.909091  3.250000  \n999999  3.500000  3.250000  3.142857  3.469388  3.500000  3.777778  4.000000  \n\n[1000000 rows x 21 columns]",
      "text/html": "<div>\n<style scoped>\n    .dataframe tbody tr th:only-of-type {\n        vertical-align: middle;\n    }\n\n    .dataframe tbody tr th {\n        vertical-align: top;\n    }\n\n    .dataframe thead th {\n        text-align: right;\n    }\n</style>\n<table border=\"1\" class=\"dataframe\">\n  <thead>\n    <tr style=\"text-align: right;\">\n      <th></th>\n      <th>userId</th>\n      <th>movieId</th>\n      <th>rating</th>\n      <th>Action</th>\n      <th>Adventure</th>\n      <th>Animation</th>\n      <th>Children's</th>\n      <th>Comedy</th>\n      <th>Crime</th>\n      <th>Documentary</th>\n      <th>...</th>\n      <th>Fantasy</th>\n      <th>Film-Noir</th>\n      <th>Horror</th>\n      <th>Musical</th>\n      <th>Mystery</th>\n      <th>Romance</th>\n      <th>Sci-Fi</th>\n      <th>Thriller</th>\n      <th>War</th>\n      <th>Western</th>\n    </tr>\n  </thead>\n  <tbody>\n    <tr>\n      <th>0</th>\n      <td>770</td>\n      <td>437</td>\n      <td>1</td>\n      <td>2.946721</td>\n      <td>2.900901</td>\n      <td>3.268293</td>\n      <td>2.493976</td>\n      <td>2.799479</td>\n      <td>3.389831</td>\n      <td>3.000000</td>\n      <td>...</td>\n      <td>2.642857</td>\n      <td>2.857143</td>\n      <td>2.847826</td>\n      <td>3.090909</td>\n      <td>3.529412</td>\n      <td>2.880000</td>\n      <td>2.831858</td>\n      <td>3.114504</td>\n      <td>3.228571</td>\n      <td>3.600000</td>\n    </tr>\n    <tr>\n      <th>1</th>\n      <td>1591</td>\n      <td>2628</td>\n      <td>4</td>\n      <td>4.285714</td>\n      <td>4.000000</td>\n      <td>3.800000</td>\n      <td>3.700000</td>\n      <td>4.155039</td>\n      <td>4.450000</td>\n      <td>5.000000</td>\n      <td>...</td>\n      <td>3.666667</td>\n      <td>5.000000</td>\n      <td>3.846154</td>\n      <td>4.000000</td>\n      <td>4.333333</td>\n      <td>4.437500</td>\n      <td>4.188679</td>\n      <td>4.521739</td>\n      <td>4.666667</td>\n      <td>3.750000</td>\n    </tr>\n    <tr>\n      <th>2</th>\n      <td>1181</td>\n      <td>373</td>\n      <td>3</td>\n      <td>2.802941</td>\n      <td>2.735849</td>\n      <td>2.736842</td>\n      <td>2.417910</td>\n      <td>2.739872</td>\n      <td>2.946903</td>\n      <td>2.809524</td>\n      <td>...</td>\n      <td>2.514286</td>\n      <td>3.354839</td>\n      <td>2.590361</td>\n      <td>3.000000</td>\n      <td>2.833333</td>\n      <td>2.719577</td>\n      <td>2.809816</td>\n      <td>2.900000</td>\n      <td>3.020408</td>\n      <td>2.872340</td>\n    </tr>\n    <tr>\n      <th>3</th>\n      <td>1077</td>\n      <td>1617</td>\n      <td>4</td>\n      <td>4.019231</td>\n      <td>3.785714</td>\n      <td>2.727273</td>\n      <td>3.000000</td>\n      <td>3.617647</td>\n      <td>4.138889</td>\n      <td>4.000000</td>\n      <td>...</td>\n      <td>2.666667</td>\n      <td>4.235294</td>\n      <td>4.240000</td>\n      <td>3.333333</td>\n      <td>4.333333</td>\n      <td>3.892857</td>\n      <td>4.000000</td>\n      <td>4.127273</td>\n      <td>4.142857</td>\n      <td>4.214286</td>\n    </tr>\n    <tr>\n      <th>4</th>\n      <td>4802</td>\n      <td>3160</td>\n      <td>5</td>\n      <td>3.735043</td>\n      <td>3.830986</td>\n      <td>3.705882</td>\n      <td>3.500000</td>\n      <td>4.106481</td>\n      <td>4.016667</td>\n      <td>5.000000</td>\n      <td>...</td>\n      <td>4.333333</td>\n      <td>4.350000</td>\n      <td>3.816327</td>\n      <td>3.913043</td>\n      <td>4.064516</td>\n      <td>3.975610</td>\n      <td>3.793103</td>\n      <td>4.009615</td>\n      <td>4.294118</td>\n      <td>4.166667</td>\n    </tr>\n    <tr>\n      <th>...</th>\n      <td>...</td>\n      <td>...</td>\n      <td>...</td>\n      <td>...</td>\n      <td>...</td>\n      <td>...</td>\n      <td>...</td>\n      <td>...</td>\n      <td>...</td>\n      <td>...</td>\n      <td>...</td>\n      <td>...</td>\n      <td>...</td>\n      <td>...</td>\n      <td>...</td>\n      <td>...</td>\n      <td>...</td>\n      <td>...</td>\n      <td>...</td>\n      <td>...</td>\n      <td>...</td>\n    </tr>\n    <tr>\n      <th>999995</th>\n      <td>862</td>\n      <td>1617</td>\n      <td>3</td>\n      <td>3.333333</td>\n      <td>3.500000</td>\n      <td>3.666667</td>\n      <td>2.500000</td>\n      <td>3.517857</td>\n      <td>3.750000</td>\n      <td>4.000000</td>\n      <td>...</td>\n      <td>4.000000</td>\n      <td>3.000000</td>\n      <td>3.750000</td>\n      <td>4.000000</td>\n      <td>3.666667</td>\n      <td>3.400000</td>\n      <td>3.666667</td>\n      <td>3.833333</td>\n      <td>3.666667</td>\n      <td>0.000000</td>\n    </tr>\n    <tr>\n      <th>999996</th>\n      <td>4251</td>\n      <td>2797</td>\n      <td>2</td>\n      <td>3.466667</td>\n      <td>3.285714</td>\n      <td>3.000000</td>\n      <td>3.000000</td>\n      <td>3.465517</td>\n      <td>4.200000</td>\n      <td>0.000000</td>\n      <td>...</td>\n      <td>3.250000</td>\n      <td>4.000000</td>\n      <td>3.000000</td>\n      <td>0.000000</td>\n      <td>3.555556</td>\n      <td>3.500000</td>\n      <td>3.333333</td>\n      <td>3.880000</td>\n      <td>3.666667</td>\n      <td>0.000000</td>\n    </tr>\n    <tr>\n      <th>999997</th>\n      <td>204</td>\n      <td>1396</td>\n      <td>4</td>\n      <td>3.582822</td>\n      <td>3.520833</td>\n      <td>3.380952</td>\n      <td>3.528302</td>\n      <td>3.528571</td>\n      <td>3.606061</td>\n      <td>3.000000</td>\n      <td>...</td>\n      <td>3.782609</td>\n      <td>3.000000</td>\n      <td>3.666667</td>\n      <td>3.800000</td>\n      <td>3.200000</td>\n      <td>3.610169</td>\n      <td>3.468354</td>\n      <td>3.701149</td>\n      <td>4.071429</td>\n      <td>3.571429</td>\n    </tr>\n    <tr>\n      <th>999998</th>\n      <td>5047</td>\n      <td>1917</td>\n      <td>3</td>\n      <td>3.026667</td>\n      <td>3.114286</td>\n      <td>2.600000</td>\n      <td>2.600000</td>\n      <td>3.201389</td>\n      <td>3.733333</td>\n      <td>4.000000</td>\n      <td>...</td>\n      <td>3.666667</td>\n      <td>4.666667</td>\n      <td>2.800000</td>\n      <td>3.285714</td>\n      <td>4.350000</td>\n      <td>3.702703</td>\n      <td>3.403846</td>\n      <td>3.659341</td>\n      <td>3.909091</td>\n      <td>3.250000</td>\n    </tr>\n    <tr>\n      <th>999999</th>\n      <td>3157</td>\n      <td>364</td>\n      <td>3</td>\n      <td>3.610169</td>\n      <td>3.500000</td>\n      <td>3.583333</td>\n      <td>3.466667</td>\n      <td>3.565789</td>\n      <td>3.500000</td>\n      <td>0.000000</td>\n      <td>...</td>\n      <td>3.454545</td>\n      <td>2.500000</td>\n      <td>3.428571</td>\n      <td>3.500000</td>\n      <td>3.250000</td>\n      <td>3.142857</td>\n      <td>3.469388</td>\n      <td>3.500000</td>\n      <td>3.777778</td>\n      <td>4.000000</td>\n    </tr>\n  </tbody>\n</table>\n<p>1000000 rows × 21 columns</p>\n</div>"
     },
     "execution_count": 9,
     "metadata": {},
     "output_type": "execute_result"
    }
   ],
   "source": [
    "# We normalize the genres\n",
    "genre_sum = df.groupby('userId')[genres].sum()\n",
    "genre_count = df.groupby('userId')[genres].apply(lambda x: (x > 0).sum())\n",
    "genre_norm = genre_sum.div(genre_count, axis=0).fillna(0)\n",
    "\n",
    "df_features_users = pd.merge(df_ratings_sample, genre_norm, on='userId')\n",
    "\n",
    "df_features_users"
   ],
   "metadata": {
    "collapsed": false,
    "ExecuteTime": {
     "end_time": "2024-07-07T20:10:49.510506200Z",
     "start_time": "2024-07-07T20:10:45.314508900Z"
    }
   },
   "id": "fb3aa01b49429cf",
   "execution_count": 9
  },
  {
   "cell_type": "code",
   "outputs": [],
   "source": [
    "df_features_movies = pd.merge(df_ratings_sample, df_movies_combined, on='movieId').drop(columns=['rating'])\n",
    "\n",
    "df_ratings = df_features_users[['userId', 'movieId', 'rating']]\n",
    "\n",
    "df_features_users = df_features_users.drop(columns=['rating'])"
   ],
   "metadata": {
    "collapsed": false,
    "ExecuteTime": {
     "end_time": "2024-07-07T20:10:49.759354300Z",
     "start_time": "2024-07-07T20:10:49.506505900Z"
    }
   },
   "id": "c9623fa25a138fc9",
   "execution_count": 10
  },
  {
   "cell_type": "code",
   "outputs": [
    {
     "data": {
      "text/plain": "        userId  movieId                                      title  Action  \\\n0          770      437                        cops and robbersons       0   \n1         1591     2628  star wars: episode i - the phantom menace       1   \n2         1181      373                              red rock west       0   \n3         1077     1617                          l.a. confidential       0   \n4         4802     3160                                   magnolia       0   \n...        ...      ...                                        ...     ...   \n999995     862     1617                          l.a. confidential       0   \n999996    4251     2797                                        big       0   \n999997     204     1396                                   sneakers       0   \n999998    5047     1917                                 armageddon       1   \n999999    3157      364                              the lion king       0   \n\n        Adventure  Animation  Children's  Comedy  Crime  Documentary  ...  \\\n0               0          0           0       1      0            0  ...   \n1               1          0           0       0      0            0  ...   \n2               0          0           0       0      0            0  ...   \n3               0          0           0       0      1            0  ...   \n4               0          0           0       0      0            0  ...   \n...           ...        ...         ...     ...    ...          ...  ...   \n999995          0          0           0       0      1            0  ...   \n999996          0          0           0       1      0            0  ...   \n999997          0          0           0       0      1            0  ...   \n999998          1          0           0       0      0            0  ...   \n999999          0          1           1       0      0            0  ...   \n\n        Fantasy  Film-Noir  Horror  Musical  Mystery  Romance  Sci-Fi  \\\n0             0          0       0        0        0        0       0   \n1             1          0       0        0        0        0       1   \n2             0          0       0        0        0        0       0   \n3             0          1       0        0        1        0       0   \n4             0          0       0        0        0        0       0   \n...         ...        ...     ...      ...      ...      ...     ...   \n999995        0          1       0        0        1        0       0   \n999996        1          0       0        0        0        0       0   \n999997        0          0       0        0        0        0       1   \n999998        0          0       0        0        0        0       1   \n999999        0          0       0        1        0        0       0   \n\n        Thriller  War  Western  \n0              0    0        0  \n1              0    0        0  \n2              1    0        0  \n3              1    0        0  \n4              0    0        0  \n...          ...  ...      ...  \n999995         1    0        0  \n999996         0    0        0  \n999997         0    0        0  \n999998         1    0        0  \n999999         0    0        0  \n\n[1000000 rows x 21 columns]",
      "text/html": "<div>\n<style scoped>\n    .dataframe tbody tr th:only-of-type {\n        vertical-align: middle;\n    }\n\n    .dataframe tbody tr th {\n        vertical-align: top;\n    }\n\n    .dataframe thead th {\n        text-align: right;\n    }\n</style>\n<table border=\"1\" class=\"dataframe\">\n  <thead>\n    <tr style=\"text-align: right;\">\n      <th></th>\n      <th>userId</th>\n      <th>movieId</th>\n      <th>title</th>\n      <th>Action</th>\n      <th>Adventure</th>\n      <th>Animation</th>\n      <th>Children's</th>\n      <th>Comedy</th>\n      <th>Crime</th>\n      <th>Documentary</th>\n      <th>...</th>\n      <th>Fantasy</th>\n      <th>Film-Noir</th>\n      <th>Horror</th>\n      <th>Musical</th>\n      <th>Mystery</th>\n      <th>Romance</th>\n      <th>Sci-Fi</th>\n      <th>Thriller</th>\n      <th>War</th>\n      <th>Western</th>\n    </tr>\n  </thead>\n  <tbody>\n    <tr>\n      <th>0</th>\n      <td>770</td>\n      <td>437</td>\n      <td>cops and robbersons</td>\n      <td>0</td>\n      <td>0</td>\n      <td>0</td>\n      <td>0</td>\n      <td>1</td>\n      <td>0</td>\n      <td>0</td>\n      <td>...</td>\n      <td>0</td>\n      <td>0</td>\n      <td>0</td>\n      <td>0</td>\n      <td>0</td>\n      <td>0</td>\n      <td>0</td>\n      <td>0</td>\n      <td>0</td>\n      <td>0</td>\n    </tr>\n    <tr>\n      <th>1</th>\n      <td>1591</td>\n      <td>2628</td>\n      <td>star wars: episode i - the phantom menace</td>\n      <td>1</td>\n      <td>1</td>\n      <td>0</td>\n      <td>0</td>\n      <td>0</td>\n      <td>0</td>\n      <td>0</td>\n      <td>...</td>\n      <td>1</td>\n      <td>0</td>\n      <td>0</td>\n      <td>0</td>\n      <td>0</td>\n      <td>0</td>\n      <td>1</td>\n      <td>0</td>\n      <td>0</td>\n      <td>0</td>\n    </tr>\n    <tr>\n      <th>2</th>\n      <td>1181</td>\n      <td>373</td>\n      <td>red rock west</td>\n      <td>0</td>\n      <td>0</td>\n      <td>0</td>\n      <td>0</td>\n      <td>0</td>\n      <td>0</td>\n      <td>0</td>\n      <td>...</td>\n      <td>0</td>\n      <td>0</td>\n      <td>0</td>\n      <td>0</td>\n      <td>0</td>\n      <td>0</td>\n      <td>0</td>\n      <td>1</td>\n      <td>0</td>\n      <td>0</td>\n    </tr>\n    <tr>\n      <th>3</th>\n      <td>1077</td>\n      <td>1617</td>\n      <td>l.a. confidential</td>\n      <td>0</td>\n      <td>0</td>\n      <td>0</td>\n      <td>0</td>\n      <td>0</td>\n      <td>1</td>\n      <td>0</td>\n      <td>...</td>\n      <td>0</td>\n      <td>1</td>\n      <td>0</td>\n      <td>0</td>\n      <td>1</td>\n      <td>0</td>\n      <td>0</td>\n      <td>1</td>\n      <td>0</td>\n      <td>0</td>\n    </tr>\n    <tr>\n      <th>4</th>\n      <td>4802</td>\n      <td>3160</td>\n      <td>magnolia</td>\n      <td>0</td>\n      <td>0</td>\n      <td>0</td>\n      <td>0</td>\n      <td>0</td>\n      <td>0</td>\n      <td>0</td>\n      <td>...</td>\n      <td>0</td>\n      <td>0</td>\n      <td>0</td>\n      <td>0</td>\n      <td>0</td>\n      <td>0</td>\n      <td>0</td>\n      <td>0</td>\n      <td>0</td>\n      <td>0</td>\n    </tr>\n    <tr>\n      <th>...</th>\n      <td>...</td>\n      <td>...</td>\n      <td>...</td>\n      <td>...</td>\n      <td>...</td>\n      <td>...</td>\n      <td>...</td>\n      <td>...</td>\n      <td>...</td>\n      <td>...</td>\n      <td>...</td>\n      <td>...</td>\n      <td>...</td>\n      <td>...</td>\n      <td>...</td>\n      <td>...</td>\n      <td>...</td>\n      <td>...</td>\n      <td>...</td>\n      <td>...</td>\n      <td>...</td>\n    </tr>\n    <tr>\n      <th>999995</th>\n      <td>862</td>\n      <td>1617</td>\n      <td>l.a. confidential</td>\n      <td>0</td>\n      <td>0</td>\n      <td>0</td>\n      <td>0</td>\n      <td>0</td>\n      <td>1</td>\n      <td>0</td>\n      <td>...</td>\n      <td>0</td>\n      <td>1</td>\n      <td>0</td>\n      <td>0</td>\n      <td>1</td>\n      <td>0</td>\n      <td>0</td>\n      <td>1</td>\n      <td>0</td>\n      <td>0</td>\n    </tr>\n    <tr>\n      <th>999996</th>\n      <td>4251</td>\n      <td>2797</td>\n      <td>big</td>\n      <td>0</td>\n      <td>0</td>\n      <td>0</td>\n      <td>0</td>\n      <td>1</td>\n      <td>0</td>\n      <td>0</td>\n      <td>...</td>\n      <td>1</td>\n      <td>0</td>\n      <td>0</td>\n      <td>0</td>\n      <td>0</td>\n      <td>0</td>\n      <td>0</td>\n      <td>0</td>\n      <td>0</td>\n      <td>0</td>\n    </tr>\n    <tr>\n      <th>999997</th>\n      <td>204</td>\n      <td>1396</td>\n      <td>sneakers</td>\n      <td>0</td>\n      <td>0</td>\n      <td>0</td>\n      <td>0</td>\n      <td>0</td>\n      <td>1</td>\n      <td>0</td>\n      <td>...</td>\n      <td>0</td>\n      <td>0</td>\n      <td>0</td>\n      <td>0</td>\n      <td>0</td>\n      <td>0</td>\n      <td>1</td>\n      <td>0</td>\n      <td>0</td>\n      <td>0</td>\n    </tr>\n    <tr>\n      <th>999998</th>\n      <td>5047</td>\n      <td>1917</td>\n      <td>armageddon</td>\n      <td>1</td>\n      <td>1</td>\n      <td>0</td>\n      <td>0</td>\n      <td>0</td>\n      <td>0</td>\n      <td>0</td>\n      <td>...</td>\n      <td>0</td>\n      <td>0</td>\n      <td>0</td>\n      <td>0</td>\n      <td>0</td>\n      <td>0</td>\n      <td>1</td>\n      <td>1</td>\n      <td>0</td>\n      <td>0</td>\n    </tr>\n    <tr>\n      <th>999999</th>\n      <td>3157</td>\n      <td>364</td>\n      <td>the lion king</td>\n      <td>0</td>\n      <td>0</td>\n      <td>1</td>\n      <td>1</td>\n      <td>0</td>\n      <td>0</td>\n      <td>0</td>\n      <td>...</td>\n      <td>0</td>\n      <td>0</td>\n      <td>0</td>\n      <td>1</td>\n      <td>0</td>\n      <td>0</td>\n      <td>0</td>\n      <td>0</td>\n      <td>0</td>\n      <td>0</td>\n    </tr>\n  </tbody>\n</table>\n<p>1000000 rows × 21 columns</p>\n</div>"
     },
     "execution_count": 11,
     "metadata": {},
     "output_type": "execute_result"
    }
   ],
   "source": [
    "df_features_movies"
   ],
   "metadata": {
    "collapsed": false,
    "ExecuteTime": {
     "end_time": "2024-07-07T20:10:49.995441600Z",
     "start_time": "2024-07-07T20:10:49.759354300Z"
    }
   },
   "id": "4caba84bfa41f3a",
   "execution_count": 11
  },
  {
   "cell_type": "code",
   "outputs": [
    {
     "data": {
      "text/plain": "        userId  movieId    Action  Adventure  Animation  Children's    Comedy  \\\n0          770      437  2.946721   2.900901   3.268293    2.493976  2.799479   \n1         1591     2628  4.285714   4.000000   3.800000    3.700000  4.155039   \n2         1181      373  2.802941   2.735849   2.736842    2.417910  2.739872   \n3         1077     1617  4.019231   3.785714   2.727273    3.000000  3.617647   \n4         4802     3160  3.735043   3.830986   3.705882    3.500000  4.106481   \n...        ...      ...       ...        ...        ...         ...       ...   \n999995     862     1617  3.333333   3.500000   3.666667    2.500000  3.517857   \n999996    4251     2797  3.466667   3.285714   3.000000    3.000000  3.465517   \n999997     204     1396  3.582822   3.520833   3.380952    3.528302  3.528571   \n999998    5047     1917  3.026667   3.114286   2.600000    2.600000  3.201389   \n999999    3157      364  3.610169   3.500000   3.583333    3.466667  3.565789   \n\n           Crime  Documentary     Drama   Fantasy  Film-Noir    Horror  \\\n0       3.389831     3.000000  3.068027  2.642857   2.857143  2.847826   \n1       4.450000     5.000000  4.573333  3.666667   5.000000  3.846154   \n2       2.946903     2.809524  2.904362  2.514286   3.354839  2.590361   \n3       4.138889     4.000000  4.125828  2.666667   4.235294  4.240000   \n4       4.016667     5.000000  4.198413  4.333333   4.350000  3.816327   \n...          ...          ...       ...       ...        ...       ...   \n999995  3.750000     4.000000  3.741935  4.000000   3.000000  3.750000   \n999996  4.200000     0.000000  3.647059  3.250000   4.000000  3.000000   \n999997  3.606061     3.000000  3.676829  3.782609   3.000000  3.666667   \n999998  3.733333     4.000000  4.094828  3.666667   4.666667  2.800000   \n999999  3.500000     0.000000  3.433333  3.454545   2.500000  3.428571   \n\n         Musical   Mystery   Romance    Sci-Fi  Thriller       War   Western  \n0       3.090909  3.529412  2.880000  2.831858  3.114504  3.228571  3.600000  \n1       4.000000  4.333333  4.437500  4.188679  4.521739  4.666667  3.750000  \n2       3.000000  2.833333  2.719577  2.809816  2.900000  3.020408  2.872340  \n3       3.333333  4.333333  3.892857  4.000000  4.127273  4.142857  4.214286  \n4       3.913043  4.064516  3.975610  3.793103  4.009615  4.294118  4.166667  \n...          ...       ...       ...       ...       ...       ...       ...  \n999995  4.000000  3.666667  3.400000  3.666667  3.833333  3.666667  0.000000  \n999996  0.000000  3.555556  3.500000  3.333333  3.880000  3.666667  0.000000  \n999997  3.800000  3.200000  3.610169  3.468354  3.701149  4.071429  3.571429  \n999998  3.285714  4.350000  3.702703  3.403846  3.659341  3.909091  3.250000  \n999999  3.500000  3.250000  3.142857  3.469388  3.500000  3.777778  4.000000  \n\n[1000000 rows x 20 columns]",
      "text/html": "<div>\n<style scoped>\n    .dataframe tbody tr th:only-of-type {\n        vertical-align: middle;\n    }\n\n    .dataframe tbody tr th {\n        vertical-align: top;\n    }\n\n    .dataframe thead th {\n        text-align: right;\n    }\n</style>\n<table border=\"1\" class=\"dataframe\">\n  <thead>\n    <tr style=\"text-align: right;\">\n      <th></th>\n      <th>userId</th>\n      <th>movieId</th>\n      <th>Action</th>\n      <th>Adventure</th>\n      <th>Animation</th>\n      <th>Children's</th>\n      <th>Comedy</th>\n      <th>Crime</th>\n      <th>Documentary</th>\n      <th>Drama</th>\n      <th>Fantasy</th>\n      <th>Film-Noir</th>\n      <th>Horror</th>\n      <th>Musical</th>\n      <th>Mystery</th>\n      <th>Romance</th>\n      <th>Sci-Fi</th>\n      <th>Thriller</th>\n      <th>War</th>\n      <th>Western</th>\n    </tr>\n  </thead>\n  <tbody>\n    <tr>\n      <th>0</th>\n      <td>770</td>\n      <td>437</td>\n      <td>2.946721</td>\n      <td>2.900901</td>\n      <td>3.268293</td>\n      <td>2.493976</td>\n      <td>2.799479</td>\n      <td>3.389831</td>\n      <td>3.000000</td>\n      <td>3.068027</td>\n      <td>2.642857</td>\n      <td>2.857143</td>\n      <td>2.847826</td>\n      <td>3.090909</td>\n      <td>3.529412</td>\n      <td>2.880000</td>\n      <td>2.831858</td>\n      <td>3.114504</td>\n      <td>3.228571</td>\n      <td>3.600000</td>\n    </tr>\n    <tr>\n      <th>1</th>\n      <td>1591</td>\n      <td>2628</td>\n      <td>4.285714</td>\n      <td>4.000000</td>\n      <td>3.800000</td>\n      <td>3.700000</td>\n      <td>4.155039</td>\n      <td>4.450000</td>\n      <td>5.000000</td>\n      <td>4.573333</td>\n      <td>3.666667</td>\n      <td>5.000000</td>\n      <td>3.846154</td>\n      <td>4.000000</td>\n      <td>4.333333</td>\n      <td>4.437500</td>\n      <td>4.188679</td>\n      <td>4.521739</td>\n      <td>4.666667</td>\n      <td>3.750000</td>\n    </tr>\n    <tr>\n      <th>2</th>\n      <td>1181</td>\n      <td>373</td>\n      <td>2.802941</td>\n      <td>2.735849</td>\n      <td>2.736842</td>\n      <td>2.417910</td>\n      <td>2.739872</td>\n      <td>2.946903</td>\n      <td>2.809524</td>\n      <td>2.904362</td>\n      <td>2.514286</td>\n      <td>3.354839</td>\n      <td>2.590361</td>\n      <td>3.000000</td>\n      <td>2.833333</td>\n      <td>2.719577</td>\n      <td>2.809816</td>\n      <td>2.900000</td>\n      <td>3.020408</td>\n      <td>2.872340</td>\n    </tr>\n    <tr>\n      <th>3</th>\n      <td>1077</td>\n      <td>1617</td>\n      <td>4.019231</td>\n      <td>3.785714</td>\n      <td>2.727273</td>\n      <td>3.000000</td>\n      <td>3.617647</td>\n      <td>4.138889</td>\n      <td>4.000000</td>\n      <td>4.125828</td>\n      <td>2.666667</td>\n      <td>4.235294</td>\n      <td>4.240000</td>\n      <td>3.333333</td>\n      <td>4.333333</td>\n      <td>3.892857</td>\n      <td>4.000000</td>\n      <td>4.127273</td>\n      <td>4.142857</td>\n      <td>4.214286</td>\n    </tr>\n    <tr>\n      <th>4</th>\n      <td>4802</td>\n      <td>3160</td>\n      <td>3.735043</td>\n      <td>3.830986</td>\n      <td>3.705882</td>\n      <td>3.500000</td>\n      <td>4.106481</td>\n      <td>4.016667</td>\n      <td>5.000000</td>\n      <td>4.198413</td>\n      <td>4.333333</td>\n      <td>4.350000</td>\n      <td>3.816327</td>\n      <td>3.913043</td>\n      <td>4.064516</td>\n      <td>3.975610</td>\n      <td>3.793103</td>\n      <td>4.009615</td>\n      <td>4.294118</td>\n      <td>4.166667</td>\n    </tr>\n    <tr>\n      <th>...</th>\n      <td>...</td>\n      <td>...</td>\n      <td>...</td>\n      <td>...</td>\n      <td>...</td>\n      <td>...</td>\n      <td>...</td>\n      <td>...</td>\n      <td>...</td>\n      <td>...</td>\n      <td>...</td>\n      <td>...</td>\n      <td>...</td>\n      <td>...</td>\n      <td>...</td>\n      <td>...</td>\n      <td>...</td>\n      <td>...</td>\n      <td>...</td>\n      <td>...</td>\n    </tr>\n    <tr>\n      <th>999995</th>\n      <td>862</td>\n      <td>1617</td>\n      <td>3.333333</td>\n      <td>3.500000</td>\n      <td>3.666667</td>\n      <td>2.500000</td>\n      <td>3.517857</td>\n      <td>3.750000</td>\n      <td>4.000000</td>\n      <td>3.741935</td>\n      <td>4.000000</td>\n      <td>3.000000</td>\n      <td>3.750000</td>\n      <td>4.000000</td>\n      <td>3.666667</td>\n      <td>3.400000</td>\n      <td>3.666667</td>\n      <td>3.833333</td>\n      <td>3.666667</td>\n      <td>0.000000</td>\n    </tr>\n    <tr>\n      <th>999996</th>\n      <td>4251</td>\n      <td>2797</td>\n      <td>3.466667</td>\n      <td>3.285714</td>\n      <td>3.000000</td>\n      <td>3.000000</td>\n      <td>3.465517</td>\n      <td>4.200000</td>\n      <td>0.000000</td>\n      <td>3.647059</td>\n      <td>3.250000</td>\n      <td>4.000000</td>\n      <td>3.000000</td>\n      <td>0.000000</td>\n      <td>3.555556</td>\n      <td>3.500000</td>\n      <td>3.333333</td>\n      <td>3.880000</td>\n      <td>3.666667</td>\n      <td>0.000000</td>\n    </tr>\n    <tr>\n      <th>999997</th>\n      <td>204</td>\n      <td>1396</td>\n      <td>3.582822</td>\n      <td>3.520833</td>\n      <td>3.380952</td>\n      <td>3.528302</td>\n      <td>3.528571</td>\n      <td>3.606061</td>\n      <td>3.000000</td>\n      <td>3.676829</td>\n      <td>3.782609</td>\n      <td>3.000000</td>\n      <td>3.666667</td>\n      <td>3.800000</td>\n      <td>3.200000</td>\n      <td>3.610169</td>\n      <td>3.468354</td>\n      <td>3.701149</td>\n      <td>4.071429</td>\n      <td>3.571429</td>\n    </tr>\n    <tr>\n      <th>999998</th>\n      <td>5047</td>\n      <td>1917</td>\n      <td>3.026667</td>\n      <td>3.114286</td>\n      <td>2.600000</td>\n      <td>2.600000</td>\n      <td>3.201389</td>\n      <td>3.733333</td>\n      <td>4.000000</td>\n      <td>4.094828</td>\n      <td>3.666667</td>\n      <td>4.666667</td>\n      <td>2.800000</td>\n      <td>3.285714</td>\n      <td>4.350000</td>\n      <td>3.702703</td>\n      <td>3.403846</td>\n      <td>3.659341</td>\n      <td>3.909091</td>\n      <td>3.250000</td>\n    </tr>\n    <tr>\n      <th>999999</th>\n      <td>3157</td>\n      <td>364</td>\n      <td>3.610169</td>\n      <td>3.500000</td>\n      <td>3.583333</td>\n      <td>3.466667</td>\n      <td>3.565789</td>\n      <td>3.500000</td>\n      <td>0.000000</td>\n      <td>3.433333</td>\n      <td>3.454545</td>\n      <td>2.500000</td>\n      <td>3.428571</td>\n      <td>3.500000</td>\n      <td>3.250000</td>\n      <td>3.142857</td>\n      <td>3.469388</td>\n      <td>3.500000</td>\n      <td>3.777778</td>\n      <td>4.000000</td>\n    </tr>\n  </tbody>\n</table>\n<p>1000000 rows × 20 columns</p>\n</div>"
     },
     "execution_count": 12,
     "metadata": {},
     "output_type": "execute_result"
    }
   ],
   "source": [
    "df_features_users"
   ],
   "metadata": {
    "collapsed": false,
    "ExecuteTime": {
     "end_time": "2024-07-07T20:10:50.054441700Z",
     "start_time": "2024-07-07T20:10:49.996443800Z"
    }
   },
   "id": "30691a5035d8f53f",
   "execution_count": 12
  },
  {
   "cell_type": "code",
   "outputs": [
    {
     "name": "stderr",
     "output_type": "stream",
     "text": [
      "C:\\Users\\jujus\\AppData\\Local\\Temp\\ipykernel_9552\\3202688722.py:3: SettingWithCopyWarning: \n",
      "A value is trying to be set on a copy of a slice from a DataFrame.\n",
      "Try using .loc[row_indexer,col_indexer] = value instead\n",
      "\n",
      "See the caveats in the documentation: https://pandas.pydata.org/pandas-docs/stable/user_guide/indexing.html#returning-a-view-versus-a-copy\n",
      "  df_ratings[\"rating\"] = scalerTarget.transform(df_ratings[\"rating\"].to_numpy().reshape(-1, 1))\n"
     ]
    },
    {
     "data": {
      "text/plain": "        userId  movieId  rating\n0          770      437    -1.0\n1         1591     2628     0.5\n2         1181      373     0.0\n3         1077     1617     0.5\n4         4802     3160     1.0\n...        ...      ...     ...\n999995     862     1617     0.0\n999996    4251     2797    -0.5\n999997     204     1396     0.5\n999998    5047     1917     0.0\n999999    3157      364     0.0\n\n[1000000 rows x 3 columns]",
      "text/html": "<div>\n<style scoped>\n    .dataframe tbody tr th:only-of-type {\n        vertical-align: middle;\n    }\n\n    .dataframe tbody tr th {\n        vertical-align: top;\n    }\n\n    .dataframe thead th {\n        text-align: right;\n    }\n</style>\n<table border=\"1\" class=\"dataframe\">\n  <thead>\n    <tr style=\"text-align: right;\">\n      <th></th>\n      <th>userId</th>\n      <th>movieId</th>\n      <th>rating</th>\n    </tr>\n  </thead>\n  <tbody>\n    <tr>\n      <th>0</th>\n      <td>770</td>\n      <td>437</td>\n      <td>-1.0</td>\n    </tr>\n    <tr>\n      <th>1</th>\n      <td>1591</td>\n      <td>2628</td>\n      <td>0.5</td>\n    </tr>\n    <tr>\n      <th>2</th>\n      <td>1181</td>\n      <td>373</td>\n      <td>0.0</td>\n    </tr>\n    <tr>\n      <th>3</th>\n      <td>1077</td>\n      <td>1617</td>\n      <td>0.5</td>\n    </tr>\n    <tr>\n      <th>4</th>\n      <td>4802</td>\n      <td>3160</td>\n      <td>1.0</td>\n    </tr>\n    <tr>\n      <th>...</th>\n      <td>...</td>\n      <td>...</td>\n      <td>...</td>\n    </tr>\n    <tr>\n      <th>999995</th>\n      <td>862</td>\n      <td>1617</td>\n      <td>0.0</td>\n    </tr>\n    <tr>\n      <th>999996</th>\n      <td>4251</td>\n      <td>2797</td>\n      <td>-0.5</td>\n    </tr>\n    <tr>\n      <th>999997</th>\n      <td>204</td>\n      <td>1396</td>\n      <td>0.5</td>\n    </tr>\n    <tr>\n      <th>999998</th>\n      <td>5047</td>\n      <td>1917</td>\n      <td>0.0</td>\n    </tr>\n    <tr>\n      <th>999999</th>\n      <td>3157</td>\n      <td>364</td>\n      <td>0.0</td>\n    </tr>\n  </tbody>\n</table>\n<p>1000000 rows × 3 columns</p>\n</div>"
     },
     "execution_count": 13,
     "metadata": {},
     "output_type": "execute_result"
    }
   ],
   "source": [
    "scalerTarget = MinMaxScaler((-1, 1))\n",
    "scalerTarget.fit(df_ratings[\"rating\"].to_numpy().reshape(-1, 1))\n",
    "df_ratings[\"rating\"] = scalerTarget.transform(df_ratings[\"rating\"].to_numpy().reshape(-1, 1))\n",
    "\n",
    "df_ratings"
   ],
   "metadata": {
    "collapsed": false,
    "ExecuteTime": {
     "end_time": "2024-07-07T20:10:50.137554700Z",
     "start_time": "2024-07-07T20:10:50.028441Z"
    }
   },
   "id": "caa14affc57e4b7e",
   "execution_count": 13
  },
  {
   "cell_type": "code",
   "outputs": [
    {
     "name": "stdout",
     "output_type": "stream",
     "text": [
      "        userId  movieId    Action  Adventure  Animation  Children's    Comedy  \\\n",
      "771718    4021     2300  3.573643   3.579268   4.354167    3.841463  3.911504   \n",
      "521462    5433     2173  2.886364   2.653465   2.363636    2.235294  3.143590   \n",
      "137361    5535      649  3.634615   3.333333   2.666667    2.294118  3.454545   \n",
      "404985    4726       48  3.823529   3.866667   4.416667    3.882353  3.769231   \n",
      "910092    3056      292  3.658065   3.794118   3.944444    4.071429  3.634921   \n",
      "...        ...      ...       ...        ...        ...         ...       ...   \n",
      "491263    4064     2970  2.750000   2.760684   3.559322    3.045872  2.974576   \n",
      "791624     329     3039  2.729032   2.479339   3.310345    2.647887  2.698413   \n",
      "470924    1057     2288  3.558140   3.457143   3.575000    3.714286  3.870370   \n",
      "491755    1499     2353  3.756757   3.793103   4.500000    3.727273  4.027778   \n",
      "128037    2915     2542  3.944444   3.533333   3.500000    3.500000  3.777778   \n",
      "\n",
      "           Crime  Documentary     Drama   Fantasy  Film-Noir    Horror  \\\n",
      "771718  3.925000         0.00  3.871560  3.714286   4.769231  3.758621   \n",
      "521462  3.296875         4.00  3.366516  2.458333   2.900000  2.270833   \n",
      "137361  4.043478         0.00  3.846939  3.666667   4.500000  2.714286   \n",
      "404985  4.187500         4.00  3.583333  3.666667   5.000000  3.181818   \n",
      "910092  3.703704         0.00  3.909091  3.869565   4.000000  3.451613   \n",
      "...          ...          ...       ...       ...        ...       ...   \n",
      "491263  3.344262         3.75  3.271574  2.675676   4.285714  2.718750   \n",
      "791624  2.886364         3.00  2.989796  2.371429   3.333333  2.531915   \n",
      "470924  3.285714         0.00  4.163265  3.200000   4.000000  3.444444   \n",
      "491755  3.375000         0.00  4.434783  3.666667   5.000000  4.333333   \n",
      "128037  4.125000         5.00  3.720000  3.000000   4.000000  3.500000   \n",
      "\n",
      "         Musical   Mystery   Romance    Sci-Fi  Thriller       War   Western  \n",
      "771718  4.146341  4.111111  3.896552  3.519337  3.759615  4.145833  3.800000  \n",
      "521462  2.230769  3.277778  3.134328  2.624339  3.134409  3.205128  3.333333  \n",
      "137361  2.363636  3.500000  3.444444  3.387097  3.920000  4.208333  4.272727  \n",
      "404985  3.916667  3.777778  3.511628  3.708333  3.773585  3.923077  3.666667  \n",
      "910092  4.000000  3.250000  3.538462  3.628571  3.563380  4.058824  3.500000  \n",
      "...          ...       ...       ...       ...       ...       ...       ...  \n",
      "491263  3.440678  3.216216  3.222222  2.752066  3.082090  3.500000  3.217391  \n",
      "791624  3.027027  2.344828  2.715517  2.625000  2.546154  3.166667  2.142857  \n",
      "470924  3.941176  4.500000  3.785714  3.347826  3.944444  4.000000  3.846154  \n",
      "491755  3.000000  4.600000  3.909091  3.804878  4.036364  4.000000  3.000000  \n",
      "128037  3.800000  4.000000  3.666667  3.866667  4.076923  3.888889  4.000000  \n",
      "\n",
      "[800000 rows x 20 columns]\n",
      "        userId  movieId                               title  Action  \\\n",
      "771718    4021     2300                       the producers       0   \n",
      "521462    5433     2173  the navigator: a mediaeval odyssey       0   \n",
      "137361    5535      649         cold fever (á köldum klaka)       0   \n",
      "404985    4726       48                          pocahontas       0   \n",
      "910092    3056      292                            outbreak       1   \n",
      "...        ...      ...                                 ...     ...   \n",
      "491263    4064     2970                        fitzcarraldo       0   \n",
      "791624     329     3039                      trading places       0   \n",
      "470924    1057     2288                           the thing       1   \n",
      "491755    1499     2353                  enemy of the state       1   \n",
      "128037    2915     2542   lock, stock & two smoking barrels       0   \n",
      "\n",
      "        Adventure  Animation  Children's  Comedy  Crime  Documentary  ...  \\\n",
      "771718          0          0           0       1      0            0  ...   \n",
      "521462          1          0           0       0      0            0  ...   \n",
      "137361          0          0           0       1      0            0  ...   \n",
      "404985          0          1           1       0      0            0  ...   \n",
      "910092          0          0           0       0      0            0  ...   \n",
      "...           ...        ...         ...     ...    ...          ...  ...   \n",
      "491263          1          0           0       0      0            0  ...   \n",
      "791624          0          0           0       1      0            0  ...   \n",
      "470924          0          0           0       0      0            0  ...   \n",
      "491755          0          0           0       0      0            0  ...   \n",
      "128037          0          0           0       1      1            0  ...   \n",
      "\n",
      "        Fantasy  Film-Noir  Horror  Musical  Mystery  Romance  Sci-Fi  \\\n",
      "771718        0          0       0        1        0        0       0   \n",
      "521462        1          0       0        0        0        0       1   \n",
      "137361        0          0       0        0        0        0       0   \n",
      "404985        0          0       0        1        0        1       0   \n",
      "910092        0          0       0        0        0        0       0   \n",
      "...         ...        ...     ...      ...      ...      ...     ...   \n",
      "491263        0          0       0        0        0        0       0   \n",
      "791624        0          0       0        0        0        0       0   \n",
      "470924        0          0       1        0        0        0       1   \n",
      "491755        0          0       0        0        0        0       0   \n",
      "128037        0          0       0        0        0        0       0   \n",
      "\n",
      "        Thriller  War  Western  \n",
      "771718         0    0        0  \n",
      "521462         0    0        0  \n",
      "137361         0    0        0  \n",
      "404985         0    0        0  \n",
      "910092         1    0        0  \n",
      "...          ...  ...      ...  \n",
      "491263         0    0        0  \n",
      "791624         0    0        0  \n",
      "470924         1    0        0  \n",
      "491755         1    0        0  \n",
      "128037         1    0        0  \n",
      "\n",
      "[800000 rows x 21 columns]\n",
      "        userId  movieId  rating\n",
      "771718    4021     2300     1.0\n",
      "521462    5433     2173     0.0\n",
      "137361    5535      649     1.0\n",
      "404985    4726       48    -0.5\n",
      "910092    3056      292     0.5\n",
      "...        ...      ...     ...\n",
      "491263    4064     2970     0.0\n",
      "791624     329     3039     0.5\n",
      "470924    1057     2288     0.0\n",
      "491755    1499     2353     1.0\n",
      "128037    2915     2542     0.5\n",
      "\n",
      "[800000 rows x 3 columns]\n"
     ]
    }
   ],
   "source": [
    "user_train, user_test = train_test_split(\n",
    "    df_features_users, train_size=0.80, shuffle=True, random_state=1\n",
    ")\n",
    "\n",
    "movie_train, movie_test = train_test_split(\n",
    "    df_features_movies, train_size=0.80, shuffle=True, random_state=1\n",
    ")\n",
    "\n",
    "rating_train, rating_test = train_test_split(\n",
    "    df_ratings, train_size=0.80, shuffle=True, random_state=1\n",
    ")\n",
    "\n",
    "print(user_train)\n",
    "print(movie_train)\n",
    "print(rating_train)"
   ],
   "metadata": {
    "collapsed": false,
    "ExecuteTime": {
     "end_time": "2024-07-07T20:10:50.707447100Z",
     "start_time": "2024-07-07T20:10:50.060442600Z"
    }
   },
   "id": "6a925197162ce7b2",
   "execution_count": 14
  },
  {
   "cell_type": "markdown",
   "source": [
    "The goal of this project is to build a recommendation system.\n",
    "The recommendation will do the following:\n",
    "- based on 2 users, recommend a movie that the two users could both like\n",
    "\n",
    "The 2 users can be either ids or simply made up users from preferences.\n",
    "\n",
    "Here is the plan:\n",
    "- We create a movie-movie similarity matrix\n",
    "- We build a new common-user that will have the average features of the two users\n",
    "- We get N movies that are the most similar to the movies that the two users have in common\n",
    "- We estimate the rating of the common-user for each of these N movies (using the neural network)\n",
    "- We recommend the movie with the highest estimated rating\n"
   ],
   "metadata": {
    "collapsed": false
   },
   "id": "145d1032c05431e"
  },
  {
   "cell_type": "markdown",
   "source": [
    "Building the movie-movie similarity matrix"
   ],
   "metadata": {
    "collapsed": false
   },
   "id": "b6381ce9ea0aa042"
  },
  {
   "cell_type": "code",
   "outputs": [
    {
     "data": {
      "text/plain": "         Action  Adventure  Animation  Children's  Comedy  Crime  Documentary  \\\nmovieId                                                                         \n437           0          0          0           0       1      0            0   \n2628          1          1          0           0       0      0            0   \n373           0          0          0           0       0      0            0   \n1617          0          0          0           0       0      1            0   \n3160          0          0          0           0       0      0            0   \n...         ...        ...        ...         ...     ...    ...          ...   \n1709          0          0          0           0       0      0            0   \n2619          0          0          0           0       0      0            0   \n3842          0          0          0           0       0      0            0   \n3172          0          1          0           0       0      0            0   \n2277          0          0          0           0       0      0            0   \n\n         Drama  Fantasy  Film-Noir  Horror  Musical  Mystery  Romance  Sci-Fi  \\\nmovieId                                                                         \n437          0        0          0       0        0        0        0       0   \n2628         0        1          0       0        0        0        0       1   \n373          0        0          0       0        0        0        0       0   \n1617         0        0          1       0        0        1        0       0   \n3160         1        0          0       0        0        0        0       0   \n...        ...      ...        ...     ...      ...      ...      ...     ...   \n1709         0        0          0       0        0        0        0       0   \n2619         1        0          0       0        0        0        0       0   \n3842         0        0          0       1        0        0        0       0   \n3172         0        0          0       0        0        0        0       0   \n2277         1        0          0       0        0        0        0       0   \n\n         Thriller  War  Western  \nmovieId                          \n437             0    0        0  \n2628            0    0        0  \n373             1    0        0  \n1617            1    0        0  \n3160            0    0        0  \n...           ...  ...      ...  \n1709            1    0        0  \n2619            0    0        0  \n3842            0    0        0  \n3172            0    0        0  \n2277            0    0        0  \n\n[3706 rows x 18 columns]",
      "text/html": "<div>\n<style scoped>\n    .dataframe tbody tr th:only-of-type {\n        vertical-align: middle;\n    }\n\n    .dataframe tbody tr th {\n        vertical-align: top;\n    }\n\n    .dataframe thead th {\n        text-align: right;\n    }\n</style>\n<table border=\"1\" class=\"dataframe\">\n  <thead>\n    <tr style=\"text-align: right;\">\n      <th></th>\n      <th>Action</th>\n      <th>Adventure</th>\n      <th>Animation</th>\n      <th>Children's</th>\n      <th>Comedy</th>\n      <th>Crime</th>\n      <th>Documentary</th>\n      <th>Drama</th>\n      <th>Fantasy</th>\n      <th>Film-Noir</th>\n      <th>Horror</th>\n      <th>Musical</th>\n      <th>Mystery</th>\n      <th>Romance</th>\n      <th>Sci-Fi</th>\n      <th>Thriller</th>\n      <th>War</th>\n      <th>Western</th>\n    </tr>\n    <tr>\n      <th>movieId</th>\n      <th></th>\n      <th></th>\n      <th></th>\n      <th></th>\n      <th></th>\n      <th></th>\n      <th></th>\n      <th></th>\n      <th></th>\n      <th></th>\n      <th></th>\n      <th></th>\n      <th></th>\n      <th></th>\n      <th></th>\n      <th></th>\n      <th></th>\n      <th></th>\n    </tr>\n  </thead>\n  <tbody>\n    <tr>\n      <th>437</th>\n      <td>0</td>\n      <td>0</td>\n      <td>0</td>\n      <td>0</td>\n      <td>1</td>\n      <td>0</td>\n      <td>0</td>\n      <td>0</td>\n      <td>0</td>\n      <td>0</td>\n      <td>0</td>\n      <td>0</td>\n      <td>0</td>\n      <td>0</td>\n      <td>0</td>\n      <td>0</td>\n      <td>0</td>\n      <td>0</td>\n    </tr>\n    <tr>\n      <th>2628</th>\n      <td>1</td>\n      <td>1</td>\n      <td>0</td>\n      <td>0</td>\n      <td>0</td>\n      <td>0</td>\n      <td>0</td>\n      <td>0</td>\n      <td>1</td>\n      <td>0</td>\n      <td>0</td>\n      <td>0</td>\n      <td>0</td>\n      <td>0</td>\n      <td>1</td>\n      <td>0</td>\n      <td>0</td>\n      <td>0</td>\n    </tr>\n    <tr>\n      <th>373</th>\n      <td>0</td>\n      <td>0</td>\n      <td>0</td>\n      <td>0</td>\n      <td>0</td>\n      <td>0</td>\n      <td>0</td>\n      <td>0</td>\n      <td>0</td>\n      <td>0</td>\n      <td>0</td>\n      <td>0</td>\n      <td>0</td>\n      <td>0</td>\n      <td>0</td>\n      <td>1</td>\n      <td>0</td>\n      <td>0</td>\n    </tr>\n    <tr>\n      <th>1617</th>\n      <td>0</td>\n      <td>0</td>\n      <td>0</td>\n      <td>0</td>\n      <td>0</td>\n      <td>1</td>\n      <td>0</td>\n      <td>0</td>\n      <td>0</td>\n      <td>1</td>\n      <td>0</td>\n      <td>0</td>\n      <td>1</td>\n      <td>0</td>\n      <td>0</td>\n      <td>1</td>\n      <td>0</td>\n      <td>0</td>\n    </tr>\n    <tr>\n      <th>3160</th>\n      <td>0</td>\n      <td>0</td>\n      <td>0</td>\n      <td>0</td>\n      <td>0</td>\n      <td>0</td>\n      <td>0</td>\n      <td>1</td>\n      <td>0</td>\n      <td>0</td>\n      <td>0</td>\n      <td>0</td>\n      <td>0</td>\n      <td>0</td>\n      <td>0</td>\n      <td>0</td>\n      <td>0</td>\n      <td>0</td>\n    </tr>\n    <tr>\n      <th>...</th>\n      <td>...</td>\n      <td>...</td>\n      <td>...</td>\n      <td>...</td>\n      <td>...</td>\n      <td>...</td>\n      <td>...</td>\n      <td>...</td>\n      <td>...</td>\n      <td>...</td>\n      <td>...</td>\n      <td>...</td>\n      <td>...</td>\n      <td>...</td>\n      <td>...</td>\n      <td>...</td>\n      <td>...</td>\n      <td>...</td>\n    </tr>\n    <tr>\n      <th>1709</th>\n      <td>0</td>\n      <td>0</td>\n      <td>0</td>\n      <td>0</td>\n      <td>0</td>\n      <td>0</td>\n      <td>0</td>\n      <td>0</td>\n      <td>0</td>\n      <td>0</td>\n      <td>0</td>\n      <td>0</td>\n      <td>0</td>\n      <td>0</td>\n      <td>0</td>\n      <td>1</td>\n      <td>0</td>\n      <td>0</td>\n    </tr>\n    <tr>\n      <th>2619</th>\n      <td>0</td>\n      <td>0</td>\n      <td>0</td>\n      <td>0</td>\n      <td>0</td>\n      <td>0</td>\n      <td>0</td>\n      <td>1</td>\n      <td>0</td>\n      <td>0</td>\n      <td>0</td>\n      <td>0</td>\n      <td>0</td>\n      <td>0</td>\n      <td>0</td>\n      <td>0</td>\n      <td>0</td>\n      <td>0</td>\n    </tr>\n    <tr>\n      <th>3842</th>\n      <td>0</td>\n      <td>0</td>\n      <td>0</td>\n      <td>0</td>\n      <td>0</td>\n      <td>0</td>\n      <td>0</td>\n      <td>0</td>\n      <td>0</td>\n      <td>0</td>\n      <td>1</td>\n      <td>0</td>\n      <td>0</td>\n      <td>0</td>\n      <td>0</td>\n      <td>0</td>\n      <td>0</td>\n      <td>0</td>\n    </tr>\n    <tr>\n      <th>3172</th>\n      <td>0</td>\n      <td>1</td>\n      <td>0</td>\n      <td>0</td>\n      <td>0</td>\n      <td>0</td>\n      <td>0</td>\n      <td>0</td>\n      <td>0</td>\n      <td>0</td>\n      <td>0</td>\n      <td>0</td>\n      <td>0</td>\n      <td>0</td>\n      <td>0</td>\n      <td>0</td>\n      <td>0</td>\n      <td>0</td>\n    </tr>\n    <tr>\n      <th>2277</th>\n      <td>0</td>\n      <td>0</td>\n      <td>0</td>\n      <td>0</td>\n      <td>0</td>\n      <td>0</td>\n      <td>0</td>\n      <td>1</td>\n      <td>0</td>\n      <td>0</td>\n      <td>0</td>\n      <td>0</td>\n      <td>0</td>\n      <td>0</td>\n      <td>0</td>\n      <td>0</td>\n      <td>0</td>\n      <td>0</td>\n    </tr>\n  </tbody>\n</table>\n<p>3706 rows × 18 columns</p>\n</div>"
     },
     "execution_count": 15,
     "metadata": {},
     "output_type": "execute_result"
    }
   ],
   "source": [
    "# Remove the userId column, and remove duplicated movieIds\n",
    "df_features_movies = df_features_movies.drop(columns=['userId']).drop_duplicates(subset=['movieId'])\n",
    "\n",
    "# Remove the title column and reset index to movieId\n",
    "df_features_movies = df_features_movies.drop(columns=['title']).set_index('movieId')\n",
    "\n",
    "df_features_movies"
   ],
   "metadata": {
    "collapsed": false,
    "ExecuteTime": {
     "end_time": "2024-07-07T20:10:50.779445900Z",
     "start_time": "2024-07-07T20:10:50.698442100Z"
    }
   },
   "id": "ab3ec6f1e974eb4f",
   "execution_count": 15
  },
  {
   "cell_type": "code",
   "outputs": [
    {
     "data": {
      "text/plain": "movieId  437   2628  373   1617  3160  3240      3004      3328      1356  \\\nmovieId                                                                     \n437       1.0   0.0   0.0   0.0   0.0   1.0  0.707107  0.000000  0.000000   \n2628      0.0   1.0   0.0   0.0   0.0   0.0  0.000000  0.000000  0.866025   \n373       0.0   0.0   1.0   0.5   0.0   0.0  0.000000  0.000000  0.000000   \n1617      0.0   0.0   0.5   1.0   0.0   0.0  0.000000  0.353553  0.000000   \n3160      0.0   0.0   0.0   0.0   1.0   0.0  0.000000  0.707107  0.000000   \n...       ...   ...   ...   ...   ...   ...       ...       ...       ...   \n1709      0.0   0.0   1.0   0.5   0.0   0.0  0.000000  0.000000  0.000000   \n2619      0.0   0.0   0.0   0.0   1.0   0.0  0.000000  0.707107  0.000000   \n3842      0.0   0.0   0.0   0.0   0.0   0.0  0.000000  0.000000  0.000000   \n3172      0.0   0.5   0.0   0.0   0.0   0.0  0.000000  0.000000  0.577350   \n2277      0.0   0.0   0.0   0.0   1.0   0.0  0.000000  0.707107  0.000000   \n\nmovieId      230   ...  3779      3229  651   792   2254  1709  2619  3842  \\\nmovieId            ...                                                       \n437      0.000000  ...   0.0  0.000000   1.0   0.0   0.0   0.0   0.0   0.0   \n2628     0.000000  ...   0.5  0.000000   0.0   0.5   0.0   0.0   0.0   0.0   \n373      0.707107  ...   0.0  0.000000   0.0   0.0   0.0   1.0   0.0   0.0   \n1617     0.353553  ...   0.0  0.353553   0.0   0.0   0.0   0.5   0.0   0.0   \n3160     0.707107  ...   0.0  0.707107   0.0   0.0   1.0   0.0   1.0   0.0   \n...           ...  ...   ...       ...   ...   ...   ...   ...   ...   ...   \n1709     0.707107  ...   0.0  0.000000   0.0   0.0   0.0   1.0   0.0   0.0   \n2619     0.707107  ...   0.0  0.707107   0.0   0.0   1.0   0.0   1.0   0.0   \n3842     0.000000  ...   0.0  0.000000   0.0   0.0   0.0   0.0   0.0   1.0   \n3172     0.000000  ...   0.0  0.000000   0.0   0.0   0.0   0.0   0.0   0.0   \n2277     0.707107  ...   0.0  0.707107   0.0   0.0   1.0   0.0   1.0   0.0   \n\nmovieId  3172  2277  \nmovieId              \n437       0.0   0.0  \n2628      0.5   0.0  \n373       0.0   0.0  \n1617      0.0   0.0  \n3160      0.0   1.0  \n...       ...   ...  \n1709      0.0   0.0  \n2619      0.0   1.0  \n3842      0.0   0.0  \n3172      1.0   0.0  \n2277      0.0   1.0  \n\n[3706 rows x 3706 columns]",
      "text/html": "<div>\n<style scoped>\n    .dataframe tbody tr th:only-of-type {\n        vertical-align: middle;\n    }\n\n    .dataframe tbody tr th {\n        vertical-align: top;\n    }\n\n    .dataframe thead th {\n        text-align: right;\n    }\n</style>\n<table border=\"1\" class=\"dataframe\">\n  <thead>\n    <tr style=\"text-align: right;\">\n      <th>movieId</th>\n      <th>437</th>\n      <th>2628</th>\n      <th>373</th>\n      <th>1617</th>\n      <th>3160</th>\n      <th>3240</th>\n      <th>3004</th>\n      <th>3328</th>\n      <th>1356</th>\n      <th>230</th>\n      <th>...</th>\n      <th>3779</th>\n      <th>3229</th>\n      <th>651</th>\n      <th>792</th>\n      <th>2254</th>\n      <th>1709</th>\n      <th>2619</th>\n      <th>3842</th>\n      <th>3172</th>\n      <th>2277</th>\n    </tr>\n    <tr>\n      <th>movieId</th>\n      <th></th>\n      <th></th>\n      <th></th>\n      <th></th>\n      <th></th>\n      <th></th>\n      <th></th>\n      <th></th>\n      <th></th>\n      <th></th>\n      <th></th>\n      <th></th>\n      <th></th>\n      <th></th>\n      <th></th>\n      <th></th>\n      <th></th>\n      <th></th>\n      <th></th>\n      <th></th>\n      <th></th>\n    </tr>\n  </thead>\n  <tbody>\n    <tr>\n      <th>437</th>\n      <td>1.0</td>\n      <td>0.0</td>\n      <td>0.0</td>\n      <td>0.0</td>\n      <td>0.0</td>\n      <td>1.0</td>\n      <td>0.707107</td>\n      <td>0.000000</td>\n      <td>0.000000</td>\n      <td>0.000000</td>\n      <td>...</td>\n      <td>0.0</td>\n      <td>0.000000</td>\n      <td>1.0</td>\n      <td>0.0</td>\n      <td>0.0</td>\n      <td>0.0</td>\n      <td>0.0</td>\n      <td>0.0</td>\n      <td>0.0</td>\n      <td>0.0</td>\n    </tr>\n    <tr>\n      <th>2628</th>\n      <td>0.0</td>\n      <td>1.0</td>\n      <td>0.0</td>\n      <td>0.0</td>\n      <td>0.0</td>\n      <td>0.0</td>\n      <td>0.000000</td>\n      <td>0.000000</td>\n      <td>0.866025</td>\n      <td>0.000000</td>\n      <td>...</td>\n      <td>0.5</td>\n      <td>0.000000</td>\n      <td>0.0</td>\n      <td>0.5</td>\n      <td>0.0</td>\n      <td>0.0</td>\n      <td>0.0</td>\n      <td>0.0</td>\n      <td>0.5</td>\n      <td>0.0</td>\n    </tr>\n    <tr>\n      <th>373</th>\n      <td>0.0</td>\n      <td>0.0</td>\n      <td>1.0</td>\n      <td>0.5</td>\n      <td>0.0</td>\n      <td>0.0</td>\n      <td>0.000000</td>\n      <td>0.000000</td>\n      <td>0.000000</td>\n      <td>0.707107</td>\n      <td>...</td>\n      <td>0.0</td>\n      <td>0.000000</td>\n      <td>0.0</td>\n      <td>0.0</td>\n      <td>0.0</td>\n      <td>1.0</td>\n      <td>0.0</td>\n      <td>0.0</td>\n      <td>0.0</td>\n      <td>0.0</td>\n    </tr>\n    <tr>\n      <th>1617</th>\n      <td>0.0</td>\n      <td>0.0</td>\n      <td>0.5</td>\n      <td>1.0</td>\n      <td>0.0</td>\n      <td>0.0</td>\n      <td>0.000000</td>\n      <td>0.353553</td>\n      <td>0.000000</td>\n      <td>0.353553</td>\n      <td>...</td>\n      <td>0.0</td>\n      <td>0.353553</td>\n      <td>0.0</td>\n      <td>0.0</td>\n      <td>0.0</td>\n      <td>0.5</td>\n      <td>0.0</td>\n      <td>0.0</td>\n      <td>0.0</td>\n      <td>0.0</td>\n    </tr>\n    <tr>\n      <th>3160</th>\n      <td>0.0</td>\n      <td>0.0</td>\n      <td>0.0</td>\n      <td>0.0</td>\n      <td>1.0</td>\n      <td>0.0</td>\n      <td>0.000000</td>\n      <td>0.707107</td>\n      <td>0.000000</td>\n      <td>0.707107</td>\n      <td>...</td>\n      <td>0.0</td>\n      <td>0.707107</td>\n      <td>0.0</td>\n      <td>0.0</td>\n      <td>1.0</td>\n      <td>0.0</td>\n      <td>1.0</td>\n      <td>0.0</td>\n      <td>0.0</td>\n      <td>1.0</td>\n    </tr>\n    <tr>\n      <th>...</th>\n      <td>...</td>\n      <td>...</td>\n      <td>...</td>\n      <td>...</td>\n      <td>...</td>\n      <td>...</td>\n      <td>...</td>\n      <td>...</td>\n      <td>...</td>\n      <td>...</td>\n      <td>...</td>\n      <td>...</td>\n      <td>...</td>\n      <td>...</td>\n      <td>...</td>\n      <td>...</td>\n      <td>...</td>\n      <td>...</td>\n      <td>...</td>\n      <td>...</td>\n      <td>...</td>\n    </tr>\n    <tr>\n      <th>1709</th>\n      <td>0.0</td>\n      <td>0.0</td>\n      <td>1.0</td>\n      <td>0.5</td>\n      <td>0.0</td>\n      <td>0.0</td>\n      <td>0.000000</td>\n      <td>0.000000</td>\n      <td>0.000000</td>\n      <td>0.707107</td>\n      <td>...</td>\n      <td>0.0</td>\n      <td>0.000000</td>\n      <td>0.0</td>\n      <td>0.0</td>\n      <td>0.0</td>\n      <td>1.0</td>\n      <td>0.0</td>\n      <td>0.0</td>\n      <td>0.0</td>\n      <td>0.0</td>\n    </tr>\n    <tr>\n      <th>2619</th>\n      <td>0.0</td>\n      <td>0.0</td>\n      <td>0.0</td>\n      <td>0.0</td>\n      <td>1.0</td>\n      <td>0.0</td>\n      <td>0.000000</td>\n      <td>0.707107</td>\n      <td>0.000000</td>\n      <td>0.707107</td>\n      <td>...</td>\n      <td>0.0</td>\n      <td>0.707107</td>\n      <td>0.0</td>\n      <td>0.0</td>\n      <td>1.0</td>\n      <td>0.0</td>\n      <td>1.0</td>\n      <td>0.0</td>\n      <td>0.0</td>\n      <td>1.0</td>\n    </tr>\n    <tr>\n      <th>3842</th>\n      <td>0.0</td>\n      <td>0.0</td>\n      <td>0.0</td>\n      <td>0.0</td>\n      <td>0.0</td>\n      <td>0.0</td>\n      <td>0.000000</td>\n      <td>0.000000</td>\n      <td>0.000000</td>\n      <td>0.000000</td>\n      <td>...</td>\n      <td>0.0</td>\n      <td>0.000000</td>\n      <td>0.0</td>\n      <td>0.0</td>\n      <td>0.0</td>\n      <td>0.0</td>\n      <td>0.0</td>\n      <td>1.0</td>\n      <td>0.0</td>\n      <td>0.0</td>\n    </tr>\n    <tr>\n      <th>3172</th>\n      <td>0.0</td>\n      <td>0.5</td>\n      <td>0.0</td>\n      <td>0.0</td>\n      <td>0.0</td>\n      <td>0.0</td>\n      <td>0.000000</td>\n      <td>0.000000</td>\n      <td>0.577350</td>\n      <td>0.000000</td>\n      <td>...</td>\n      <td>0.0</td>\n      <td>0.000000</td>\n      <td>0.0</td>\n      <td>0.0</td>\n      <td>0.0</td>\n      <td>0.0</td>\n      <td>0.0</td>\n      <td>0.0</td>\n      <td>1.0</td>\n      <td>0.0</td>\n    </tr>\n    <tr>\n      <th>2277</th>\n      <td>0.0</td>\n      <td>0.0</td>\n      <td>0.0</td>\n      <td>0.0</td>\n      <td>1.0</td>\n      <td>0.0</td>\n      <td>0.000000</td>\n      <td>0.707107</td>\n      <td>0.000000</td>\n      <td>0.707107</td>\n      <td>...</td>\n      <td>0.0</td>\n      <td>0.707107</td>\n      <td>0.0</td>\n      <td>0.0</td>\n      <td>1.0</td>\n      <td>0.0</td>\n      <td>1.0</td>\n      <td>0.0</td>\n      <td>0.0</td>\n      <td>1.0</td>\n    </tr>\n  </tbody>\n</table>\n<p>3706 rows × 3706 columns</p>\n</div>"
     },
     "execution_count": 16,
     "metadata": {},
     "output_type": "execute_result"
    }
   ],
   "source": [
    "# Compute the cosine similarity between the movies\n",
    "movie_similarity = cosine_similarity(df_features_movies)\n",
    "\n",
    "movie_similarity = pd.DataFrame(movie_similarity, index=df_features_movies.index, columns=df_features_movies.index)\n",
    "\n",
    "movie_similarity"
   ],
   "metadata": {
    "collapsed": false,
    "ExecuteTime": {
     "end_time": "2024-07-07T20:10:50.919450200Z",
     "start_time": "2024-07-07T20:10:50.772441900Z"
    }
   },
   "id": "38fb1749c0fb1a65",
   "execution_count": 16
  },
  {
   "cell_type": "code",
   "outputs": [
    {
     "data": {
      "text/plain": "movieId\n2355    1.000000\n1064    1.000000\n2142    1.000000\n3611    1.000000\n3754    1.000000\n2354    1.000000\n3114    1.000000\n3751    1.000000\n2141    1.000000\n588     0.866025\nName: 1, dtype: float64"
     },
     "execution_count": 17,
     "metadata": {},
     "output_type": "execute_result"
    }
   ],
   "source": [
    "# Function that returns the n most similar movies to a given movie (but not the movie itself)\n",
    "def get_similar_movies(movieId, n):\n",
    "    result = movie_similarity.loc[movieId].sort_values(ascending=False).head(n+1)\n",
    "    try:\n",
    "        result = result.drop(movieId)\n",
    "    except:\n",
    "        pass\n",
    "    return result.head(n)\n",
    "\n",
    "get_similar_movies(1, 10)"
   ],
   "metadata": {
    "collapsed": false,
    "ExecuteTime": {
     "end_time": "2024-07-07T20:10:50.920440200Z",
     "start_time": "2024-07-07T20:10:50.870440700Z"
    }
   },
   "id": "d5f0f56497a9f1c1",
   "execution_count": 17
  },
  {
   "cell_type": "markdown",
   "source": [
    "Getting a common user"
   ],
   "metadata": {
    "collapsed": false
   },
   "id": "74673bffec7f6188"
  },
  {
   "cell_type": "code",
   "outputs": [
    {
     "data": {
      "text/plain": "          Action  Adventure  Animation  Children's    Comedy     Crime  \\\nuserId                                                                   \n770     2.946721   2.900901   3.268293    2.493976  2.799479  3.389831   \n1591    4.285714   4.000000   3.800000    3.700000  4.155039  4.450000   \n1181    2.802941   2.735849   2.736842    2.417910  2.739872  2.946903   \n1077    4.019231   3.785714   2.727273    3.000000  3.617647  4.138889   \n4802    3.735043   3.830986   3.705882    3.500000  4.106481  4.016667   \n...          ...        ...        ...         ...       ...       ...   \n951     4.000000   4.000000   4.533333    4.750000  4.857143  0.000000   \n4525    4.000000   4.000000   0.000000    0.000000  3.800000  3.500000   \n997     4.111111   4.000000   3.500000    3.500000  3.818182  3.000000   \n4396    3.571429   4.000000   4.000000    4.000000  4.000000  3.545455   \n421     4.444444   4.200000   4.000000    4.000000  5.000000  1.000000   \n\n        Documentary     Drama   Fantasy  Film-Noir    Horror   Musical  \\\nuserId                                                                   \n770        3.000000  3.068027  2.642857   2.857143  2.847826  3.090909   \n1591       5.000000  4.573333  3.666667   5.000000  3.846154  4.000000   \n1181       2.809524  2.904362  2.514286   3.354839  2.590361  3.000000   \n1077       4.000000  4.125828  2.666667   4.235294  4.240000  3.333333   \n4802       5.000000  4.198413  4.333333   4.350000  3.816327  3.913043   \n...             ...       ...       ...        ...       ...       ...   \n951        0.000000  4.500000  0.000000   5.000000  5.000000  4.000000   \n4525       0.000000  4.090909  3.000000   0.000000  0.000000  0.000000   \n997        0.000000  4.071429  0.000000   0.000000  2.000000  0.000000   \n4396       4.000000  3.538462  0.000000   2.000000  2.500000  0.000000   \n421        0.000000  3.000000  4.000000   0.000000  4.000000  0.000000   \n\n         Mystery   Romance    Sci-Fi  Thriller       War   Western  \nuserId                                                              \n770     3.529412  2.880000  2.831858  3.114504  3.228571  3.600000  \n1591    4.333333  4.437500  4.188679  4.521739  4.666667  3.750000  \n1181    2.833333  2.719577  2.809816  2.900000  3.020408  2.872340  \n1077    4.333333  3.892857  4.000000  4.127273  4.142857  4.214286  \n4802    4.064516  3.975610  3.793103  4.009615  4.294118  4.166667  \n...          ...       ...       ...       ...       ...       ...  \n951     0.000000  0.000000  3.000000  4.666667  0.000000  0.000000  \n4525    0.000000  4.000000  3.666667  3.000000  4.214286  0.000000  \n997     0.000000  3.750000  4.200000  4.142857  4.666667  0.000000  \n4396    2.000000  4.000000  0.000000  3.500000  4.000000  0.000000  \n421     4.500000  4.400000  4.500000  4.454545  5.000000  0.000000  \n\n[6040 rows x 18 columns]",
      "text/html": "<div>\n<style scoped>\n    .dataframe tbody tr th:only-of-type {\n        vertical-align: middle;\n    }\n\n    .dataframe tbody tr th {\n        vertical-align: top;\n    }\n\n    .dataframe thead th {\n        text-align: right;\n    }\n</style>\n<table border=\"1\" class=\"dataframe\">\n  <thead>\n    <tr style=\"text-align: right;\">\n      <th></th>\n      <th>Action</th>\n      <th>Adventure</th>\n      <th>Animation</th>\n      <th>Children's</th>\n      <th>Comedy</th>\n      <th>Crime</th>\n      <th>Documentary</th>\n      <th>Drama</th>\n      <th>Fantasy</th>\n      <th>Film-Noir</th>\n      <th>Horror</th>\n      <th>Musical</th>\n      <th>Mystery</th>\n      <th>Romance</th>\n      <th>Sci-Fi</th>\n      <th>Thriller</th>\n      <th>War</th>\n      <th>Western</th>\n    </tr>\n    <tr>\n      <th>userId</th>\n      <th></th>\n      <th></th>\n      <th></th>\n      <th></th>\n      <th></th>\n      <th></th>\n      <th></th>\n      <th></th>\n      <th></th>\n      <th></th>\n      <th></th>\n      <th></th>\n      <th></th>\n      <th></th>\n      <th></th>\n      <th></th>\n      <th></th>\n      <th></th>\n    </tr>\n  </thead>\n  <tbody>\n    <tr>\n      <th>770</th>\n      <td>2.946721</td>\n      <td>2.900901</td>\n      <td>3.268293</td>\n      <td>2.493976</td>\n      <td>2.799479</td>\n      <td>3.389831</td>\n      <td>3.000000</td>\n      <td>3.068027</td>\n      <td>2.642857</td>\n      <td>2.857143</td>\n      <td>2.847826</td>\n      <td>3.090909</td>\n      <td>3.529412</td>\n      <td>2.880000</td>\n      <td>2.831858</td>\n      <td>3.114504</td>\n      <td>3.228571</td>\n      <td>3.600000</td>\n    </tr>\n    <tr>\n      <th>1591</th>\n      <td>4.285714</td>\n      <td>4.000000</td>\n      <td>3.800000</td>\n      <td>3.700000</td>\n      <td>4.155039</td>\n      <td>4.450000</td>\n      <td>5.000000</td>\n      <td>4.573333</td>\n      <td>3.666667</td>\n      <td>5.000000</td>\n      <td>3.846154</td>\n      <td>4.000000</td>\n      <td>4.333333</td>\n      <td>4.437500</td>\n      <td>4.188679</td>\n      <td>4.521739</td>\n      <td>4.666667</td>\n      <td>3.750000</td>\n    </tr>\n    <tr>\n      <th>1181</th>\n      <td>2.802941</td>\n      <td>2.735849</td>\n      <td>2.736842</td>\n      <td>2.417910</td>\n      <td>2.739872</td>\n      <td>2.946903</td>\n      <td>2.809524</td>\n      <td>2.904362</td>\n      <td>2.514286</td>\n      <td>3.354839</td>\n      <td>2.590361</td>\n      <td>3.000000</td>\n      <td>2.833333</td>\n      <td>2.719577</td>\n      <td>2.809816</td>\n      <td>2.900000</td>\n      <td>3.020408</td>\n      <td>2.872340</td>\n    </tr>\n    <tr>\n      <th>1077</th>\n      <td>4.019231</td>\n      <td>3.785714</td>\n      <td>2.727273</td>\n      <td>3.000000</td>\n      <td>3.617647</td>\n      <td>4.138889</td>\n      <td>4.000000</td>\n      <td>4.125828</td>\n      <td>2.666667</td>\n      <td>4.235294</td>\n      <td>4.240000</td>\n      <td>3.333333</td>\n      <td>4.333333</td>\n      <td>3.892857</td>\n      <td>4.000000</td>\n      <td>4.127273</td>\n      <td>4.142857</td>\n      <td>4.214286</td>\n    </tr>\n    <tr>\n      <th>4802</th>\n      <td>3.735043</td>\n      <td>3.830986</td>\n      <td>3.705882</td>\n      <td>3.500000</td>\n      <td>4.106481</td>\n      <td>4.016667</td>\n      <td>5.000000</td>\n      <td>4.198413</td>\n      <td>4.333333</td>\n      <td>4.350000</td>\n      <td>3.816327</td>\n      <td>3.913043</td>\n      <td>4.064516</td>\n      <td>3.975610</td>\n      <td>3.793103</td>\n      <td>4.009615</td>\n      <td>4.294118</td>\n      <td>4.166667</td>\n    </tr>\n    <tr>\n      <th>...</th>\n      <td>...</td>\n      <td>...</td>\n      <td>...</td>\n      <td>...</td>\n      <td>...</td>\n      <td>...</td>\n      <td>...</td>\n      <td>...</td>\n      <td>...</td>\n      <td>...</td>\n      <td>...</td>\n      <td>...</td>\n      <td>...</td>\n      <td>...</td>\n      <td>...</td>\n      <td>...</td>\n      <td>...</td>\n      <td>...</td>\n    </tr>\n    <tr>\n      <th>951</th>\n      <td>4.000000</td>\n      <td>4.000000</td>\n      <td>4.533333</td>\n      <td>4.750000</td>\n      <td>4.857143</td>\n      <td>0.000000</td>\n      <td>0.000000</td>\n      <td>4.500000</td>\n      <td>0.000000</td>\n      <td>5.000000</td>\n      <td>5.000000</td>\n      <td>4.000000</td>\n      <td>0.000000</td>\n      <td>0.000000</td>\n      <td>3.000000</td>\n      <td>4.666667</td>\n      <td>0.000000</td>\n      <td>0.000000</td>\n    </tr>\n    <tr>\n      <th>4525</th>\n      <td>4.000000</td>\n      <td>4.000000</td>\n      <td>0.000000</td>\n      <td>0.000000</td>\n      <td>3.800000</td>\n      <td>3.500000</td>\n      <td>0.000000</td>\n      <td>4.090909</td>\n      <td>3.000000</td>\n      <td>0.000000</td>\n      <td>0.000000</td>\n      <td>0.000000</td>\n      <td>0.000000</td>\n      <td>4.000000</td>\n      <td>3.666667</td>\n      <td>3.000000</td>\n      <td>4.214286</td>\n      <td>0.000000</td>\n    </tr>\n    <tr>\n      <th>997</th>\n      <td>4.111111</td>\n      <td>4.000000</td>\n      <td>3.500000</td>\n      <td>3.500000</td>\n      <td>3.818182</td>\n      <td>3.000000</td>\n      <td>0.000000</td>\n      <td>4.071429</td>\n      <td>0.000000</td>\n      <td>0.000000</td>\n      <td>2.000000</td>\n      <td>0.000000</td>\n      <td>0.000000</td>\n      <td>3.750000</td>\n      <td>4.200000</td>\n      <td>4.142857</td>\n      <td>4.666667</td>\n      <td>0.000000</td>\n    </tr>\n    <tr>\n      <th>4396</th>\n      <td>3.571429</td>\n      <td>4.000000</td>\n      <td>4.000000</td>\n      <td>4.000000</td>\n      <td>4.000000</td>\n      <td>3.545455</td>\n      <td>4.000000</td>\n      <td>3.538462</td>\n      <td>0.000000</td>\n      <td>2.000000</td>\n      <td>2.500000</td>\n      <td>0.000000</td>\n      <td>2.000000</td>\n      <td>4.000000</td>\n      <td>0.000000</td>\n      <td>3.500000</td>\n      <td>4.000000</td>\n      <td>0.000000</td>\n    </tr>\n    <tr>\n      <th>421</th>\n      <td>4.444444</td>\n      <td>4.200000</td>\n      <td>4.000000</td>\n      <td>4.000000</td>\n      <td>5.000000</td>\n      <td>1.000000</td>\n      <td>0.000000</td>\n      <td>3.000000</td>\n      <td>4.000000</td>\n      <td>0.000000</td>\n      <td>4.000000</td>\n      <td>0.000000</td>\n      <td>4.500000</td>\n      <td>4.400000</td>\n      <td>4.500000</td>\n      <td>4.454545</td>\n      <td>5.000000</td>\n      <td>0.000000</td>\n    </tr>\n  </tbody>\n</table>\n<p>6040 rows × 18 columns</p>\n</div>"
     },
     "execution_count": 18,
     "metadata": {},
     "output_type": "execute_result"
    }
   ],
   "source": [
    "# Remove the movieId column, and remove duplicated userIds\n",
    "df_features_users = df_features_users.drop(columns=['movieId']).drop_duplicates(subset=['userId'])\n",
    "\n",
    "# Reset index to userId\n",
    "df_features_users = df_features_users.set_index('userId')\n",
    "\n",
    "df_features_users"
   ],
   "metadata": {
    "collapsed": false,
    "ExecuteTime": {
     "end_time": "2024-07-07T20:10:51.054497500Z",
     "start_time": "2024-07-07T20:10:50.886444Z"
    }
   },
   "id": "e292b6e44f94fb7f",
   "execution_count": 18
  },
  {
   "cell_type": "code",
   "outputs": [
    {
     "data": {
      "text/plain": "Action         3.850000\nAdventure      3.868421\nAnimation      2.055556\nChildren's     2.125000\nComedy         3.851429\nCrime          3.791667\nDocumentary    0.000000\nDrama          4.163653\nFantasy        3.500000\nFilm-Noir      2.000000\nHorror         1.500000\nMusical        2.142857\nMystery        1.666667\nRomance        3.687500\nSci-Fi         3.960784\nThriller       3.575269\nWar            4.366667\nWestern        2.166667\ndtype: float64"
     },
     "execution_count": 19,
     "metadata": {},
     "output_type": "execute_result"
    }
   ],
   "source": [
    "# Function that returns the average features of two users\n",
    "def get_common_user(user_id1, user_id2):\n",
    "    return (df_features_users.loc[user_id1] + df_features_users.loc[user_id2]) / 2\n",
    "\n",
    "def get_common_user_from_preferences(user1_preferences, user2_preferences):\n",
    "    return (user1_preferences + user2_preferences) / 2\n",
    "\n",
    "get_common_user(1, 2)"
   ],
   "metadata": {
    "collapsed": false,
    "ExecuteTime": {
     "end_time": "2024-07-07T20:10:51.056466300Z",
     "start_time": "2024-07-07T20:10:50.962441600Z"
    }
   },
   "id": "8218799c44e68172",
   "execution_count": 19
  },
  {
   "cell_type": "markdown",
   "source": [
    "## The Neural Network model"
   ],
   "metadata": {
    "collapsed": false
   },
   "id": "405b26a1b37c430a"
  },
  {
   "cell_type": "code",
   "outputs": [
    {
     "data": {
      "text/plain": "\u001B[1mModel: \"functional_2\"\u001B[0m\n",
      "text/html": "<pre style=\"white-space:pre;overflow-x:auto;line-height:normal;font-family:Menlo,'DejaVu Sans Mono',consolas,'Courier New',monospace\"><span style=\"font-weight: bold\">Model: \"functional_2\"</span>\n</pre>\n"
     },
     "metadata": {},
     "output_type": "display_data"
    },
    {
     "data": {
      "text/plain": "┏━━━━━━━━━━━━━━━━━━━━━┳━━━━━━━━━━━━━━━━━━━┳━━━━━━━━━━━━┳━━━━━━━━━━━━━━━━━━━┓\n┃\u001B[1m \u001B[0m\u001B[1mLayer (type)       \u001B[0m\u001B[1m \u001B[0m┃\u001B[1m \u001B[0m\u001B[1mOutput Shape     \u001B[0m\u001B[1m \u001B[0m┃\u001B[1m \u001B[0m\u001B[1m   Param #\u001B[0m\u001B[1m \u001B[0m┃\u001B[1m \u001B[0m\u001B[1mConnected to     \u001B[0m\u001B[1m \u001B[0m┃\n┡━━━━━━━━━━━━━━━━━━━━━╇━━━━━━━━━━━━━━━━━━━╇━━━━━━━━━━━━╇━━━━━━━━━━━━━━━━━━━┩\n│ input_layer         │ (\u001B[38;5;45mNone\u001B[0m, \u001B[38;5;34m18\u001B[0m)        │          \u001B[38;5;34m0\u001B[0m │ -                 │\n│ (\u001B[38;5;33mInputLayer\u001B[0m)        │                   │            │                   │\n├─────────────────────┼───────────────────┼────────────┼───────────────────┤\n│ input_layer_2       │ (\u001B[38;5;45mNone\u001B[0m, \u001B[38;5;34m18\u001B[0m)        │          \u001B[38;5;34m0\u001B[0m │ -                 │\n│ (\u001B[38;5;33mInputLayer\u001B[0m)        │                   │            │                   │\n├─────────────────────┼───────────────────┼────────────┼───────────────────┤\n│ sequential          │ (\u001B[38;5;45mNone\u001B[0m, \u001B[38;5;34m1\u001B[0m)         │     \u001B[38;5;34m13,313\u001B[0m │ input_layer[\u001B[38;5;34m0\u001B[0m][\u001B[38;5;34m0\u001B[0m] │\n│ (\u001B[38;5;33mSequential\u001B[0m)        │                   │            │                   │\n├─────────────────────┼───────────────────┼────────────┼───────────────────┤\n│ sequential_1        │ (\u001B[38;5;45mNone\u001B[0m, \u001B[38;5;34m1\u001B[0m)         │     \u001B[38;5;34m13,313\u001B[0m │ input_layer_2[\u001B[38;5;34m0\u001B[0m]… │\n│ (\u001B[38;5;33mSequential\u001B[0m)        │                   │            │                   │\n├─────────────────────┼───────────────────┼────────────┼───────────────────┤\n│ dot (\u001B[38;5;33mDot\u001B[0m)           │ (\u001B[38;5;45mNone\u001B[0m, \u001B[38;5;34m1\u001B[0m)         │          \u001B[38;5;34m0\u001B[0m │ sequential[\u001B[38;5;34m0\u001B[0m][\u001B[38;5;34m0\u001B[0m], │\n│                     │                   │            │ sequential_1[\u001B[38;5;34m0\u001B[0m][\u001B[38;5;34m…\u001B[0m │\n└─────────────────────┴───────────────────┴────────────┴───────────────────┘\n",
      "text/html": "<pre style=\"white-space:pre;overflow-x:auto;line-height:normal;font-family:Menlo,'DejaVu Sans Mono',consolas,'Courier New',monospace\">┏━━━━━━━━━━━━━━━━━━━━━┳━━━━━━━━━━━━━━━━━━━┳━━━━━━━━━━━━┳━━━━━━━━━━━━━━━━━━━┓\n┃<span style=\"font-weight: bold\"> Layer (type)        </span>┃<span style=\"font-weight: bold\"> Output Shape      </span>┃<span style=\"font-weight: bold\">    Param # </span>┃<span style=\"font-weight: bold\"> Connected to      </span>┃\n┡━━━━━━━━━━━━━━━━━━━━━╇━━━━━━━━━━━━━━━━━━━╇━━━━━━━━━━━━╇━━━━━━━━━━━━━━━━━━━┩\n│ input_layer         │ (<span style=\"color: #00d7ff; text-decoration-color: #00d7ff\">None</span>, <span style=\"color: #00af00; text-decoration-color: #00af00\">18</span>)        │          <span style=\"color: #00af00; text-decoration-color: #00af00\">0</span> │ -                 │\n│ (<span style=\"color: #0087ff; text-decoration-color: #0087ff\">InputLayer</span>)        │                   │            │                   │\n├─────────────────────┼───────────────────┼────────────┼───────────────────┤\n│ input_layer_2       │ (<span style=\"color: #00d7ff; text-decoration-color: #00d7ff\">None</span>, <span style=\"color: #00af00; text-decoration-color: #00af00\">18</span>)        │          <span style=\"color: #00af00; text-decoration-color: #00af00\">0</span> │ -                 │\n│ (<span style=\"color: #0087ff; text-decoration-color: #0087ff\">InputLayer</span>)        │                   │            │                   │\n├─────────────────────┼───────────────────┼────────────┼───────────────────┤\n│ sequential          │ (<span style=\"color: #00d7ff; text-decoration-color: #00d7ff\">None</span>, <span style=\"color: #00af00; text-decoration-color: #00af00\">1</span>)         │     <span style=\"color: #00af00; text-decoration-color: #00af00\">13,313</span> │ input_layer[<span style=\"color: #00af00; text-decoration-color: #00af00\">0</span>][<span style=\"color: #00af00; text-decoration-color: #00af00\">0</span>] │\n│ (<span style=\"color: #0087ff; text-decoration-color: #0087ff\">Sequential</span>)        │                   │            │                   │\n├─────────────────────┼───────────────────┼────────────┼───────────────────┤\n│ sequential_1        │ (<span style=\"color: #00d7ff; text-decoration-color: #00d7ff\">None</span>, <span style=\"color: #00af00; text-decoration-color: #00af00\">1</span>)         │     <span style=\"color: #00af00; text-decoration-color: #00af00\">13,313</span> │ input_layer_2[<span style=\"color: #00af00; text-decoration-color: #00af00\">0</span>]… │\n│ (<span style=\"color: #0087ff; text-decoration-color: #0087ff\">Sequential</span>)        │                   │            │                   │\n├─────────────────────┼───────────────────┼────────────┼───────────────────┤\n│ dot (<span style=\"color: #0087ff; text-decoration-color: #0087ff\">Dot</span>)           │ (<span style=\"color: #00d7ff; text-decoration-color: #00d7ff\">None</span>, <span style=\"color: #00af00; text-decoration-color: #00af00\">1</span>)         │          <span style=\"color: #00af00; text-decoration-color: #00af00\">0</span> │ sequential[<span style=\"color: #00af00; text-decoration-color: #00af00\">0</span>][<span style=\"color: #00af00; text-decoration-color: #00af00\">0</span>], │\n│                     │                   │            │ sequential_1[<span style=\"color: #00af00; text-decoration-color: #00af00\">0</span>][<span style=\"color: #00af00; text-decoration-color: #00af00\">…</span> │\n└─────────────────────┴───────────────────┴────────────┴───────────────────┘\n</pre>\n"
     },
     "metadata": {},
     "output_type": "display_data"
    },
    {
     "data": {
      "text/plain": "\u001B[1m Total params: \u001B[0m\u001B[38;5;34m26,626\u001B[0m (104.01 KB)\n",
      "text/html": "<pre style=\"white-space:pre;overflow-x:auto;line-height:normal;font-family:Menlo,'DejaVu Sans Mono',consolas,'Courier New',monospace\"><span style=\"font-weight: bold\"> Total params: </span><span style=\"color: #00af00; text-decoration-color: #00af00\">26,626</span> (104.01 KB)\n</pre>\n"
     },
     "metadata": {},
     "output_type": "display_data"
    },
    {
     "data": {
      "text/plain": "\u001B[1m Trainable params: \u001B[0m\u001B[38;5;34m26,626\u001B[0m (104.01 KB)\n",
      "text/html": "<pre style=\"white-space:pre;overflow-x:auto;line-height:normal;font-family:Menlo,'DejaVu Sans Mono',consolas,'Courier New',monospace\"><span style=\"font-weight: bold\"> Trainable params: </span><span style=\"color: #00af00; text-decoration-color: #00af00\">26,626</span> (104.01 KB)\n</pre>\n"
     },
     "metadata": {},
     "output_type": "display_data"
    },
    {
     "data": {
      "text/plain": "\u001B[1m Non-trainable params: \u001B[0m\u001B[38;5;34m0\u001B[0m (0.00 B)\n",
      "text/html": "<pre style=\"white-space:pre;overflow-x:auto;line-height:normal;font-family:Menlo,'DejaVu Sans Mono',consolas,'Courier New',monospace\"><span style=\"font-weight: bold\"> Non-trainable params: </span><span style=\"color: #00af00; text-decoration-color: #00af00\">0</span> (0.00 B)\n</pre>\n"
     },
     "metadata": {},
     "output_type": "display_data"
    }
   ],
   "source": [
    "user_NN = tf.keras.models.Sequential(\n",
    "    [\n",
    "        tf.keras.layers.Dense(128, activation='relu'),\n",
    "        tf.keras.layers.Dense(64, activation='relu'),\n",
    "        tf.keras.layers.Dense(32, activation='relu'),\n",
    "        tf.keras.layers.Dense(16, activation='relu'),\n",
    "        tf.keras.layers.Dense(1, activation='linear')\n",
    "    ]\n",
    ")\n",
    "\n",
    "movie_NN = tf.keras.models.Sequential(\n",
    "    [\n",
    "        tf.keras.layers.Dense(128, activation='relu'),\n",
    "        tf.keras.layers.Dense(64, activation='relu'),\n",
    "        tf.keras.layers.Dense(32, activation='relu'),\n",
    "        tf.keras.layers.Dense(16, activation='relu'),\n",
    "        tf.keras.layers.Dense(1, activation='linear')\n",
    "    ]\n",
    ")\n",
    "\n",
    "input_user = tf.keras.layers.Input(shape=(18,))\n",
    "vu = user_NN(input_user)\n",
    "\n",
    "input_movie = tf.keras.layers.Input(shape=(18,))\n",
    "vm = movie_NN(input_movie)\n",
    "\n",
    "dot = tf.keras.layers.Dot(axes=1)([vu, vm])\n",
    "\n",
    "model = tf.keras.models.Model(inputs=[input_user, input_movie], outputs=dot)\n",
    "\n",
    "model.compile(optimizer='adam', loss='mean_squared_error')\n",
    "\n",
    "model.summary()"
   ],
   "metadata": {
    "collapsed": false,
    "ExecuteTime": {
     "end_time": "2024-07-07T20:10:51.205441100Z",
     "start_time": "2024-07-07T20:10:50.979441300Z"
    }
   },
   "id": "654dc65ed2ad1ddb",
   "execution_count": 20
  },
  {
   "cell_type": "code",
   "outputs": [
    {
     "name": "stdout",
     "output_type": "stream",
     "text": [
      "Epoch 1/5\n",
      "\u001B[1m25000/25000\u001B[0m \u001B[32m━━━━━━━━━━━━━━━━━━━━\u001B[0m\u001B[37m\u001B[0m \u001B[1m36s\u001B[0m 1ms/step - loss: 0.2682 - val_loss: 0.2579\n",
      "Epoch 2/5\n",
      "\u001B[1m25000/25000\u001B[0m \u001B[32m━━━━━━━━━━━━━━━━━━━━\u001B[0m\u001B[37m\u001B[0m \u001B[1m34s\u001B[0m 1ms/step - loss: 0.2585 - val_loss: 0.2570\n",
      "Epoch 3/5\n",
      "\u001B[1m25000/25000\u001B[0m \u001B[32m━━━━━━━━━━━━━━━━━━━━\u001B[0m\u001B[37m\u001B[0m \u001B[1m34s\u001B[0m 1ms/step - loss: 0.2569 - val_loss: 0.2575\n",
      "Epoch 4/5\n",
      "\u001B[1m25000/25000\u001B[0m \u001B[32m━━━━━━━━━━━━━━━━━━━━\u001B[0m\u001B[37m\u001B[0m \u001B[1m34s\u001B[0m 1ms/step - loss: 0.2574 - val_loss: 0.2568\n",
      "Epoch 5/5\n",
      "\u001B[1m25000/25000\u001B[0m \u001B[32m━━━━━━━━━━━━━━━━━━━━\u001B[0m\u001B[37m\u001B[0m \u001B[1m34s\u001B[0m 1ms/step - loss: 0.2568 - val_loss: 0.2572\n"
     ]
    },
    {
     "data": {
      "text/plain": "<keras.src.callbacks.history.History at 0x18cb58ec940>"
     },
     "execution_count": 21,
     "metadata": {},
     "output_type": "execute_result"
    }
   ],
   "source": [
    "# Train the model\n",
    "nb_epochs = 5\n",
    "\n",
    "model.fit(\n",
    "        [user_train.loc[:, \"Action\":].to_numpy(), movie_train.loc[:, \"Action\":].to_numpy()],\n",
    "        rating_train.loc[:, \"rating\":].to_numpy(),\n",
    "        epochs=nb_epochs,\n",
    "        validation_data=([user_test.loc[:, \"Action\":].to_numpy(), movie_test.loc[:, \"Action\":].to_numpy()], rating_test.loc[:, \"rating\":].to_numpy()),\n",
    "    )\n"
   ],
   "metadata": {
    "collapsed": false,
    "ExecuteTime": {
     "end_time": "2024-07-07T20:13:43.064005100Z",
     "start_time": "2024-07-07T20:10:51.103441300Z"
    }
   },
   "id": "9188cc1ab5668e97",
   "execution_count": 21
  },
  {
   "cell_type": "code",
   "outputs": [
    {
     "data": {
      "text/plain": "array([[4.505598]], dtype=float32)"
     },
     "execution_count": 22,
     "metadata": {},
     "output_type": "execute_result"
    }
   ],
   "source": [
    "def predict_rating(user, movie):\n",
    "    # If the input is a pandas series, we need to convert it to a dataframe with one row\n",
    "    if isinstance(user, pd.Series):\n",
    "        user = pd.DataFrame(user).T\n",
    "    if isinstance(movie, pd.Series):\n",
    "        movie = pd.DataFrame(movie).T\n",
    "    \n",
    "    # The movie input is a pandas series, we need to convert it to a dataframe with one row\n",
    "    prediction = model.predict([user.loc[:, \"Action\":].to_numpy().astype(np.float64), movie.loc[:, \"Action\":].to_numpy().astype(np.float64)], verbose=0)\n",
    "    prediction = scalerTarget.inverse_transform(prediction)\n",
    "    return prediction\n",
    "\n",
    "predict_rating(user_train.loc[1], movie_train.loc[1])"
   ],
   "metadata": {
    "collapsed": false,
    "ExecuteTime": {
     "end_time": "2024-07-07T20:13:43.211081800Z",
     "start_time": "2024-07-07T20:13:43.025004400Z"
    }
   },
   "id": "e035fe3270e8f1f2",
   "execution_count": 22
  },
  {
   "cell_type": "markdown",
   "source": [
    "## Evaluation of the model\n",
    "\n",
    "We put side by side the true rating and the predicted rating"
   ],
   "metadata": {
    "collapsed": false
   },
   "id": "1c591592b6279169"
  },
  {
   "cell_type": "code",
   "outputs": [
    {
     "name": "stdout",
     "output_type": "stream",
     "text": [
      "\u001B[1m6250/6250\u001B[0m \u001B[32m━━━━━━━━━━━━━━━━━━━━\u001B[0m\u001B[37m\u001B[0m \u001B[1m6s\u001B[0m 997us/step\n"
     ]
    },
    {
     "data": {
      "text/plain": "        userId  movieId  rating  prediction\n276826    5382     3527     4.0    4.201886\n849425    1987      353     3.0    3.391023\n504499    3934     1355     2.0    2.867301\n601054    3951     2470     4.0    3.504226\n980221    1116      574     5.0    4.238135\n...        ...      ...     ...         ...\n555867    4081      608     5.0    4.454309\n30004     3970     1333     4.0    3.149508\n124730    3626     3827     4.0    3.382864\n195783    2689     2571     5.0    4.454379\n32132     5795     2932     2.0    3.295485\n\n[200000 rows x 4 columns]",
      "text/html": "<div>\n<style scoped>\n    .dataframe tbody tr th:only-of-type {\n        vertical-align: middle;\n    }\n\n    .dataframe tbody tr th {\n        vertical-align: top;\n    }\n\n    .dataframe thead th {\n        text-align: right;\n    }\n</style>\n<table border=\"1\" class=\"dataframe\">\n  <thead>\n    <tr style=\"text-align: right;\">\n      <th></th>\n      <th>userId</th>\n      <th>movieId</th>\n      <th>rating</th>\n      <th>prediction</th>\n    </tr>\n  </thead>\n  <tbody>\n    <tr>\n      <th>276826</th>\n      <td>5382</td>\n      <td>3527</td>\n      <td>4.0</td>\n      <td>4.201886</td>\n    </tr>\n    <tr>\n      <th>849425</th>\n      <td>1987</td>\n      <td>353</td>\n      <td>3.0</td>\n      <td>3.391023</td>\n    </tr>\n    <tr>\n      <th>504499</th>\n      <td>3934</td>\n      <td>1355</td>\n      <td>2.0</td>\n      <td>2.867301</td>\n    </tr>\n    <tr>\n      <th>601054</th>\n      <td>3951</td>\n      <td>2470</td>\n      <td>4.0</td>\n      <td>3.504226</td>\n    </tr>\n    <tr>\n      <th>980221</th>\n      <td>1116</td>\n      <td>574</td>\n      <td>5.0</td>\n      <td>4.238135</td>\n    </tr>\n    <tr>\n      <th>...</th>\n      <td>...</td>\n      <td>...</td>\n      <td>...</td>\n      <td>...</td>\n    </tr>\n    <tr>\n      <th>555867</th>\n      <td>4081</td>\n      <td>608</td>\n      <td>5.0</td>\n      <td>4.454309</td>\n    </tr>\n    <tr>\n      <th>30004</th>\n      <td>3970</td>\n      <td>1333</td>\n      <td>4.0</td>\n      <td>3.149508</td>\n    </tr>\n    <tr>\n      <th>124730</th>\n      <td>3626</td>\n      <td>3827</td>\n      <td>4.0</td>\n      <td>3.382864</td>\n    </tr>\n    <tr>\n      <th>195783</th>\n      <td>2689</td>\n      <td>2571</td>\n      <td>5.0</td>\n      <td>4.454379</td>\n    </tr>\n    <tr>\n      <th>32132</th>\n      <td>5795</td>\n      <td>2932</td>\n      <td>2.0</td>\n      <td>3.295485</td>\n    </tr>\n  </tbody>\n</table>\n<p>200000 rows × 4 columns</p>\n</div>"
     },
     "execution_count": 23,
     "metadata": {},
     "output_type": "execute_result"
    }
   ],
   "source": [
    "# Evaluate the model\n",
    "y_pred = model.predict([user_test.loc[:, \"Action\":].to_numpy(), movie_test.loc[:, \"Action\":].to_numpy()])\n",
    "y_pu = scalerTarget.inverse_transform(y_pred)\n",
    "y_true_u = scalerTarget.inverse_transform(rating_test[\"rating\"].to_numpy().reshape(-1, 1))\n",
    "result = rating_test.copy()\n",
    "result[\"rating\"] = y_true_u.flatten()\n",
    "result[\"prediction\"] = y_pu.flatten()\n",
    "\n",
    "result"
   ],
   "metadata": {
    "collapsed": false,
    "ExecuteTime": {
     "end_time": "2024-07-07T20:13:50.995086600Z",
     "start_time": "2024-07-07T20:13:43.215084Z"
    }
   },
   "id": "7f76a2570385afdc",
   "execution_count": 23
  },
  {
   "cell_type": "code",
   "outputs": [
    {
     "name": "stdout",
     "output_type": "stream",
     "text": [
      "Standard deviation of the model:  1.0107720835667742\n"
     ]
    }
   ],
   "source": [
    "# Compute the standard deviation\n",
    "std = np.std(result[\"rating\"] - result[\"prediction\"])\n",
    "print(\"Standard deviation of the model: \", std)"
   ],
   "metadata": {
    "collapsed": false,
    "ExecuteTime": {
     "end_time": "2024-07-07T20:13:51.037102200Z",
     "start_time": "2024-07-07T20:13:50.994081800Z"
    }
   },
   "id": "95b920256e55c8c4",
   "execution_count": 24
  },
  {
   "cell_type": "markdown",
   "source": [
    "## Recommendation system"
   ],
   "metadata": {
    "collapsed": false
   },
   "id": "9f4d2be9583ac444"
  },
  {
   "cell_type": "code",
   "outputs": [
    {
     "data": {
      "text/plain": "[1024,\n 3588,\n 2821,\n 1029,\n 1032,\n 3594,\n 783,\n 1681,\n 2579,\n 661,\n 1688,\n 2842,\n 3741,\n 2080,\n 2081,\n 1061,\n 3111,\n 2344,\n 168,\n 2092,\n 3759,\n 2096,\n 3517,\n 1213,\n 3775,\n 3447,\n 321,\n 2370,\n 334,\n 592,\n 1489,\n 594,\n 2771,\n 1363,\n 3805,\n 3165,\n 3304,\n 874,\n 1131,\n 364,\n 2421,\n 2422,\n 631,\n 245,\n 1404,\n 1533]"
     },
     "execution_count": 25,
     "metadata": {},
     "output_type": "execute_result"
    }
   ],
   "source": [
    "# Function that returns the 100 most similar movies to the movies that two users have rated (50 each)\n",
    "def get_most_similars(user_id1, user_id2):\n",
    "    # Get the movies that user1 and user2 have rated the highest\n",
    "    user1_movies = df_ratings.loc[df_ratings['userId'] == user_id1].sort_values(by='rating', ascending=False).head(5)\n",
    "    user2_movies = df_ratings.loc[df_ratings['userId'] == user_id2].sort_values(by='rating', ascending=False).head(5)\n",
    "    \n",
    "    # Get the 10 most similar movies to each of the movies that user1 and user2 have rated\n",
    "    similar_movies = []\n",
    "    for movieId in user1_movies['movieId']:\n",
    "        similar_movies.extend(get_similar_movies(movieId, 10).index)\n",
    "    for movieId in user2_movies['movieId']:\n",
    "        similar_movies.extend(get_similar_movies(movieId, 10).index)\n",
    "    \n",
    "    if user_id1 == user_id2:\n",
    "        similar_movies = list(set(similar_movies))\n",
    "    else:\n",
    "        # Remove the movies that user1 and user2 have rated\n",
    "        similar_movies = list(set(similar_movies) - set(user1_movies['movieId']) - set(user2_movies['movieId']))\n",
    "    \n",
    "    return similar_movies\n",
    "\n",
    "get_most_similars(1, 2)"
   ],
   "metadata": {
    "collapsed": false,
    "ExecuteTime": {
     "end_time": "2024-07-07T20:13:51.071083100Z",
     "start_time": "2024-07-07T20:13:51.013084400Z"
    }
   },
   "id": "8dbe0fe54881ddb3",
   "execution_count": 25
  },
  {
   "cell_type": "code",
   "outputs": [
    {
     "data": {
      "text/plain": "   movieId      title                           genres\n0        1  toy story  [Animation, Children's, Comedy]",
      "text/html": "<div>\n<style scoped>\n    .dataframe tbody tr th:only-of-type {\n        vertical-align: middle;\n    }\n\n    .dataframe tbody tr th {\n        vertical-align: top;\n    }\n\n    .dataframe thead th {\n        text-align: right;\n    }\n</style>\n<table border=\"1\" class=\"dataframe\">\n  <thead>\n    <tr style=\"text-align: right;\">\n      <th></th>\n      <th>movieId</th>\n      <th>title</th>\n      <th>genres</th>\n    </tr>\n  </thead>\n  <tbody>\n    <tr>\n      <th>0</th>\n      <td>1</td>\n      <td>toy story</td>\n      <td>[Animation, Children's, Comedy]</td>\n    </tr>\n  </tbody>\n</table>\n</div>"
     },
     "execution_count": 26,
     "metadata": {},
     "output_type": "execute_result"
    }
   ],
   "source": [
    "# Function that returns the title of a movie given its movieId, to make the recommendation more user-friendly\n",
    "\n",
    "def get_movie_info(movieId):\n",
    "    return df_movies.loc[df_movies['movieId'] == movieId]\n",
    "\n",
    "get_movie_info(1)"
   ],
   "metadata": {
    "collapsed": false,
    "ExecuteTime": {
     "end_time": "2024-07-07T20:13:51.104081Z",
     "start_time": "2024-07-07T20:13:51.042084500Z"
    }
   },
   "id": "decb630649942afe",
   "execution_count": 26
  },
  {
   "cell_type": "markdown",
   "source": [
    "#### Recommendation function for two users with ids"
   ],
   "metadata": {
    "collapsed": false
   },
   "id": "2011235a481fc269"
  },
  {
   "cell_type": "code",
   "outputs": [
    {
     "data": {
      "text/plain": "    movieId        title        genres\n40       41  richard iii  [Drama, War]",
      "text/html": "<div>\n<style scoped>\n    .dataframe tbody tr th:only-of-type {\n        vertical-align: middle;\n    }\n\n    .dataframe tbody tr th {\n        vertical-align: top;\n    }\n\n    .dataframe thead th {\n        text-align: right;\n    }\n</style>\n<table border=\"1\" class=\"dataframe\">\n  <thead>\n    <tr style=\"text-align: right;\">\n      <th></th>\n      <th>movieId</th>\n      <th>title</th>\n      <th>genres</th>\n    </tr>\n  </thead>\n  <tbody>\n    <tr>\n      <th>40</th>\n      <td>41</td>\n      <td>richard iii</td>\n      <td>[Drama, War]</td>\n    </tr>\n  </tbody>\n</table>\n</div>"
     },
     "metadata": {},
     "output_type": "display_data"
    },
    {
     "data": {
      "text/plain": "Crime          4.622222\nHorror         4.500000\nMusical        4.500000\nThriller       4.375862\nWar            4.343750\nDrama          4.287879\nAction         4.269592\nSci-Fi         4.255263\nAdventure      4.032353\nComedy         3.785714\nFantasy        3.500000\nRomance        3.281250\nDocumentary    2.500000\nMystery        2.500000\nAnimation      2.300000\nChildren's     2.062500\nFilm-Noir      2.000000\nWestern        0.000000\ndtype: float64"
     },
     "metadata": {},
     "output_type": "display_data"
    }
   ],
   "source": [
    "# Recommandation function\n",
    "def recommand_common_movie_from_user_ids(user_id1, user_id2):\n",
    "    common_user = get_common_user(user_id1, user_id2)\n",
    "    most_similars = get_most_similars(user_id1, user_id2)\n",
    "    \n",
    "    best_movie = None\n",
    "    best_rating = -1\n",
    "    for movieId in most_similars:\n",
    "        rating = predict_rating(common_user, df_features_movies.loc[movieId])\n",
    "        if rating > best_rating:\n",
    "            best_rating = rating\n",
    "            best_movie = movieId\n",
    "            \n",
    "    return get_movie_info(best_movie)\n",
    "\n",
    "display(recommand_common_movie_from_user_ids(65, 756))\n",
    "display(get_common_user(65, 756).sort_values(ascending=False))"
   ],
   "metadata": {
    "collapsed": false,
    "ExecuteTime": {
     "end_time": "2024-07-07T20:13:55.309714900Z",
     "start_time": "2024-07-07T20:13:51.059086200Z"
    }
   },
   "id": "868cc0cc8f7cfb95",
   "execution_count": 27
  },
  {
   "cell_type": "markdown",
   "source": [
    "#### Recommendation function for two made up users from their given preferences"
   ],
   "metadata": {
    "collapsed": false
   },
   "id": "d423dfa432edb01d"
  },
  {
   "cell_type": "code",
   "outputs": [],
   "source": [
    "# Now, we will create a function to build a user preferences dataframe\n",
    "def build_user_preferences(\n",
    "        Action = 0.0,\n",
    "        Adventure = 0.0,\n",
    "        Animation = 0.0,\n",
    "        Childrens = 0.0,\n",
    "        Comedy = 0.0,\n",
    "        Crime = 0.0,\n",
    "        Documentary = 0.0,\n",
    "        Drama = 0.0,\n",
    "        Fantasy = 0.0,\n",
    "        FilmNoir = 0.0,\n",
    "        Horror = 0.0,\n",
    "        Musical = 0.0,\n",
    "        Mystery = 0.0,\n",
    "        Romance = 0.0,\n",
    "        SciFi = 0.0,\n",
    "        Thriller = 0.0,\n",
    "        War = 0.0,\n",
    "        Western = 0.0\n",
    "):\n",
    "    user_prefs =  pd.DataFrame({\n",
    "        'Action': [Action],\n",
    "        'Adventure': [Adventure],\n",
    "        'Animation': [Animation],\n",
    "        'Childrens': [Childrens],\n",
    "        'Comedy': [Comedy],\n",
    "        'Crime': [Crime],\n",
    "        'Documentary': [Documentary],\n",
    "        'Drama': [Drama],\n",
    "        'Fantasy': [Fantasy],\n",
    "        'FilmNoir': [FilmNoir],\n",
    "        'Horror': [Horror],\n",
    "        'Musical': [Musical],\n",
    "        'Mystery': [Mystery],\n",
    "        'Romance': [Romance],\n",
    "        'SciFi': [SciFi],\n",
    "        'Thriller': [Thriller],\n",
    "        'War': [War],\n",
    "        'Western': [Western]\n",
    "    })\n",
    "    \n",
    "    user_prefs = (user_prefs - 2.5) / 2.5\n",
    "    \n",
    "    return user_prefs\n",
    "\n",
    "user_1 = build_user_preferences(Action=5, Adventure=5, SciFi=5)\n",
    "user_2 = build_user_preferences(Action=5, Adventure=5, SciFi=5)"
   ],
   "metadata": {
    "collapsed": false,
    "ExecuteTime": {
     "end_time": "2024-07-07T20:13:55.328715800Z",
     "start_time": "2024-07-07T20:13:55.312716600Z"
    }
   },
   "id": "720ca1d2f675c658",
   "execution_count": 28
  },
  {
   "cell_type": "code",
   "outputs": [
    {
     "data": {
      "text/plain": "4991"
     },
     "execution_count": 29,
     "metadata": {},
     "output_type": "execute_result"
    }
   ],
   "source": [
    "# We need to create a function that gives the closest user to a given user preferences\n",
    "# We will use the cosine similarity for that\n",
    "\n",
    "def get_closest_user(user_preferences):\n",
    "    closest_user = None\n",
    "    closest_similarity = -1\n",
    "    for userId in df_features_users.index:\n",
    "        similarity = cosine_similarity(user_preferences, df_features_users.loc[userId].to_numpy().reshape(1, -1))\n",
    "        if similarity > closest_similarity:\n",
    "            closest_similarity = similarity\n",
    "            closest_user = userId\n",
    "            \n",
    "    return closest_user\n",
    "\n",
    "get_closest_user(user_1)"
   ],
   "metadata": {
    "collapsed": false,
    "ExecuteTime": {
     "end_time": "2024-07-07T20:13:57.488716300Z",
     "start_time": "2024-07-07T20:13:55.326713700Z"
    }
   },
   "id": "acd81e53b1dc2a5f",
   "execution_count": 29
  },
  {
   "cell_type": "code",
   "outputs": [
    {
     "data": {
      "text/plain": "      movieId         title   genres\n3525     3594  center stage  [Drama]",
      "text/html": "<div>\n<style scoped>\n    .dataframe tbody tr th:only-of-type {\n        vertical-align: middle;\n    }\n\n    .dataframe tbody tr th {\n        vertical-align: top;\n    }\n\n    .dataframe thead th {\n        text-align: right;\n    }\n</style>\n<table border=\"1\" class=\"dataframe\">\n  <thead>\n    <tr style=\"text-align: right;\">\n      <th></th>\n      <th>movieId</th>\n      <th>title</th>\n      <th>genres</th>\n    </tr>\n  </thead>\n  <tbody>\n    <tr>\n      <th>3525</th>\n      <td>3594</td>\n      <td>center stage</td>\n      <td>[Drama]</td>\n    </tr>\n  </tbody>\n</table>\n</div>"
     },
     "execution_count": 30,
     "metadata": {},
     "output_type": "execute_result"
    }
   ],
   "source": [
    "# Now we can create the recommendation function\n",
    "def recommand_common_movie_from_user_preferences(user1_preferences, user2_preferences):\n",
    "    closest_user_1 = get_closest_user(user1_preferences)\n",
    "    closest_user_2 = get_closest_user(user2_preferences)\n",
    "    \n",
    "    common_user = get_common_user_from_preferences(user1_preferences, user2_preferences)\n",
    "    most_similars = get_most_similars(closest_user_1, closest_user_2)\n",
    "    \n",
    "    best_movie = None\n",
    "    best_rating = -1\n",
    "    for movieId in most_similars:\n",
    "        rating = predict_rating(common_user, df_features_movies.loc[movieId])\n",
    "        if rating > best_rating:\n",
    "            best_rating = rating\n",
    "            best_movie = movieId\n",
    "            \n",
    "    return get_movie_info(best_movie)\n",
    "\n",
    "recommand_common_movie_from_user_preferences(user_1, user_2)"
   ],
   "metadata": {
    "collapsed": false,
    "ExecuteTime": {
     "end_time": "2024-07-07T20:14:01.646585400Z",
     "start_time": "2024-07-07T20:13:57.492712300Z"
    }
   },
   "id": "e4c0311ae458fba6",
   "execution_count": 30
  },
  {
   "cell_type": "markdown",
   "source": [
    "## Testing the recommendation system with random users\n",
    "We can now test the recommendation system with random users\n",
    "To see if the recommendation is relevant, we will display the preferences of the two users and the recommendation\n",
    "The recommendation should be a movie that is similar to the preferences of the two users\n",
    "If the 2 users prefer comedies, the recommendation should be a comedy, etc."
   ],
   "metadata": {
    "collapsed": false
   },
   "id": "e61193f5fd13fb21"
  },
  {
   "cell_type": "code",
   "outputs": [
    {
     "name": "stdout",
     "output_type": "stream",
     "text": [
      "User 1: \n"
     ]
    },
    {
     "data": {
      "text/plain": "   Action  Adventure  Animation  Childrens  Comedy  Crime  Documentary  Drama  \\\n0     0.2        1.0        0.2        0.2    -0.6   -0.2          0.6   -0.6   \n\n   Fantasy  FilmNoir  Horror  Musical  Mystery  Romance  SciFi  Thriller  War  \\\n0      0.6       0.6    -0.6     -0.2      0.2      0.2   -1.0       0.6 -0.6   \n\n   Western  \n0     -1.0  ",
      "text/html": "<div>\n<style scoped>\n    .dataframe tbody tr th:only-of-type {\n        vertical-align: middle;\n    }\n\n    .dataframe tbody tr th {\n        vertical-align: top;\n    }\n\n    .dataframe thead th {\n        text-align: right;\n    }\n</style>\n<table border=\"1\" class=\"dataframe\">\n  <thead>\n    <tr style=\"text-align: right;\">\n      <th></th>\n      <th>Action</th>\n      <th>Adventure</th>\n      <th>Animation</th>\n      <th>Childrens</th>\n      <th>Comedy</th>\n      <th>Crime</th>\n      <th>Documentary</th>\n      <th>Drama</th>\n      <th>Fantasy</th>\n      <th>FilmNoir</th>\n      <th>Horror</th>\n      <th>Musical</th>\n      <th>Mystery</th>\n      <th>Romance</th>\n      <th>SciFi</th>\n      <th>Thriller</th>\n      <th>War</th>\n      <th>Western</th>\n    </tr>\n  </thead>\n  <tbody>\n    <tr>\n      <th>0</th>\n      <td>0.2</td>\n      <td>1.0</td>\n      <td>0.2</td>\n      <td>0.2</td>\n      <td>-0.6</td>\n      <td>-0.2</td>\n      <td>0.6</td>\n      <td>-0.6</td>\n      <td>0.6</td>\n      <td>0.6</td>\n      <td>-0.6</td>\n      <td>-0.2</td>\n      <td>0.2</td>\n      <td>0.2</td>\n      <td>-1.0</td>\n      <td>0.6</td>\n      <td>-0.6</td>\n      <td>-1.0</td>\n    </tr>\n  </tbody>\n</table>\n</div>"
     },
     "metadata": {},
     "output_type": "display_data"
    },
    {
     "name": "stdout",
     "output_type": "stream",
     "text": [
      "User 2: \n"
     ]
    },
    {
     "data": {
      "text/plain": "   Action  Adventure  Animation  Childrens  Comedy  Crime  Documentary  Drama  \\\n0    -1.0        1.0       -1.0        0.6    -0.2    1.0          1.0   -0.2   \n\n   Fantasy  FilmNoir  Horror  Musical  Mystery  Romance  SciFi  Thriller  War  \\\n0      0.2       0.6     0.6     -0.2     -0.6      1.0    0.6       0.6 -0.6   \n\n   Western  \n0     -0.6  ",
      "text/html": "<div>\n<style scoped>\n    .dataframe tbody tr th:only-of-type {\n        vertical-align: middle;\n    }\n\n    .dataframe tbody tr th {\n        vertical-align: top;\n    }\n\n    .dataframe thead th {\n        text-align: right;\n    }\n</style>\n<table border=\"1\" class=\"dataframe\">\n  <thead>\n    <tr style=\"text-align: right;\">\n      <th></th>\n      <th>Action</th>\n      <th>Adventure</th>\n      <th>Animation</th>\n      <th>Childrens</th>\n      <th>Comedy</th>\n      <th>Crime</th>\n      <th>Documentary</th>\n      <th>Drama</th>\n      <th>Fantasy</th>\n      <th>FilmNoir</th>\n      <th>Horror</th>\n      <th>Musical</th>\n      <th>Mystery</th>\n      <th>Romance</th>\n      <th>SciFi</th>\n      <th>Thriller</th>\n      <th>War</th>\n      <th>Western</th>\n    </tr>\n  </thead>\n  <tbody>\n    <tr>\n      <th>0</th>\n      <td>-1.0</td>\n      <td>1.0</td>\n      <td>-1.0</td>\n      <td>0.6</td>\n      <td>-0.2</td>\n      <td>1.0</td>\n      <td>1.0</td>\n      <td>-0.2</td>\n      <td>0.2</td>\n      <td>0.6</td>\n      <td>0.6</td>\n      <td>-0.2</td>\n      <td>-0.6</td>\n      <td>1.0</td>\n      <td>0.6</td>\n      <td>0.6</td>\n      <td>-0.6</td>\n      <td>-0.6</td>\n    </tr>\n  </tbody>\n</table>\n</div>"
     },
     "metadata": {},
     "output_type": "display_data"
    },
    {
     "name": "stdout",
     "output_type": "stream",
     "text": [
      "Recommendation: \n"
     ]
    },
    {
     "data": {
      "text/plain": "     movieId            title            genres\n789      799  the frighteners  [Comedy, Horror]",
      "text/html": "<div>\n<style scoped>\n    .dataframe tbody tr th:only-of-type {\n        vertical-align: middle;\n    }\n\n    .dataframe tbody tr th {\n        vertical-align: top;\n    }\n\n    .dataframe thead th {\n        text-align: right;\n    }\n</style>\n<table border=\"1\" class=\"dataframe\">\n  <thead>\n    <tr style=\"text-align: right;\">\n      <th></th>\n      <th>movieId</th>\n      <th>title</th>\n      <th>genres</th>\n    </tr>\n  </thead>\n  <tbody>\n    <tr>\n      <th>789</th>\n      <td>799</td>\n      <td>the frighteners</td>\n      <td>[Comedy, Horror]</td>\n    </tr>\n  </tbody>\n</table>\n</div>"
     },
     "metadata": {},
     "output_type": "display_data"
    },
    {
     "name": "stdout",
     "output_type": "stream",
     "text": [
      " ----- \n",
      "User 1: \n"
     ]
    },
    {
     "data": {
      "text/plain": "   Action  Adventure  Animation  Childrens  Comedy  Crime  Documentary  Drama  \\\n0     1.0        0.6       -0.6       -1.0    -0.2   -0.6         -0.6    1.0   \n\n   Fantasy  FilmNoir  Horror  Musical  Mystery  Romance  SciFi  Thriller  War  \\\n0     -0.6       0.6    -0.6     -1.0      1.0     -0.6    0.6       0.2 -1.0   \n\n   Western  \n0      1.0  ",
      "text/html": "<div>\n<style scoped>\n    .dataframe tbody tr th:only-of-type {\n        vertical-align: middle;\n    }\n\n    .dataframe tbody tr th {\n        vertical-align: top;\n    }\n\n    .dataframe thead th {\n        text-align: right;\n    }\n</style>\n<table border=\"1\" class=\"dataframe\">\n  <thead>\n    <tr style=\"text-align: right;\">\n      <th></th>\n      <th>Action</th>\n      <th>Adventure</th>\n      <th>Animation</th>\n      <th>Childrens</th>\n      <th>Comedy</th>\n      <th>Crime</th>\n      <th>Documentary</th>\n      <th>Drama</th>\n      <th>Fantasy</th>\n      <th>FilmNoir</th>\n      <th>Horror</th>\n      <th>Musical</th>\n      <th>Mystery</th>\n      <th>Romance</th>\n      <th>SciFi</th>\n      <th>Thriller</th>\n      <th>War</th>\n      <th>Western</th>\n    </tr>\n  </thead>\n  <tbody>\n    <tr>\n      <th>0</th>\n      <td>1.0</td>\n      <td>0.6</td>\n      <td>-0.6</td>\n      <td>-1.0</td>\n      <td>-0.2</td>\n      <td>-0.6</td>\n      <td>-0.6</td>\n      <td>1.0</td>\n      <td>-0.6</td>\n      <td>0.6</td>\n      <td>-0.6</td>\n      <td>-1.0</td>\n      <td>1.0</td>\n      <td>-0.6</td>\n      <td>0.6</td>\n      <td>0.2</td>\n      <td>-1.0</td>\n      <td>1.0</td>\n    </tr>\n  </tbody>\n</table>\n</div>"
     },
     "metadata": {},
     "output_type": "display_data"
    },
    {
     "name": "stdout",
     "output_type": "stream",
     "text": [
      "User 2: \n"
     ]
    },
    {
     "data": {
      "text/plain": "   Action  Adventure  Animation  Childrens  Comedy  Crime  Documentary  Drama  \\\n0    -1.0       -0.6        1.0       -1.0    -0.2    1.0         -1.0    0.6   \n\n   Fantasy  FilmNoir  Horror  Musical  Mystery  Romance  SciFi  Thriller  War  \\\n0     -0.2       0.6    -0.6      0.6     -0.2      0.2   -1.0      -0.2  0.6   \n\n   Western  \n0      1.0  ",
      "text/html": "<div>\n<style scoped>\n    .dataframe tbody tr th:only-of-type {\n        vertical-align: middle;\n    }\n\n    .dataframe tbody tr th {\n        vertical-align: top;\n    }\n\n    .dataframe thead th {\n        text-align: right;\n    }\n</style>\n<table border=\"1\" class=\"dataframe\">\n  <thead>\n    <tr style=\"text-align: right;\">\n      <th></th>\n      <th>Action</th>\n      <th>Adventure</th>\n      <th>Animation</th>\n      <th>Childrens</th>\n      <th>Comedy</th>\n      <th>Crime</th>\n      <th>Documentary</th>\n      <th>Drama</th>\n      <th>Fantasy</th>\n      <th>FilmNoir</th>\n      <th>Horror</th>\n      <th>Musical</th>\n      <th>Mystery</th>\n      <th>Romance</th>\n      <th>SciFi</th>\n      <th>Thriller</th>\n      <th>War</th>\n      <th>Western</th>\n    </tr>\n  </thead>\n  <tbody>\n    <tr>\n      <th>0</th>\n      <td>-1.0</td>\n      <td>-0.6</td>\n      <td>1.0</td>\n      <td>-1.0</td>\n      <td>-0.2</td>\n      <td>1.0</td>\n      <td>-1.0</td>\n      <td>0.6</td>\n      <td>-0.2</td>\n      <td>0.6</td>\n      <td>-0.6</td>\n      <td>0.6</td>\n      <td>-0.2</td>\n      <td>0.2</td>\n      <td>-1.0</td>\n      <td>-0.2</td>\n      <td>0.6</td>\n      <td>1.0</td>\n    </tr>\n  </tbody>\n</table>\n</div>"
     },
     "metadata": {},
     "output_type": "display_data"
    },
    {
     "name": "stdout",
     "output_type": "stream",
     "text": [
      "Recommendation: \n"
     ]
    },
    {
     "data": {
      "text/plain": "      movieId     title    genres\n2795     2864  splendor  [Comedy]",
      "text/html": "<div>\n<style scoped>\n    .dataframe tbody tr th:only-of-type {\n        vertical-align: middle;\n    }\n\n    .dataframe tbody tr th {\n        vertical-align: top;\n    }\n\n    .dataframe thead th {\n        text-align: right;\n    }\n</style>\n<table border=\"1\" class=\"dataframe\">\n  <thead>\n    <tr style=\"text-align: right;\">\n      <th></th>\n      <th>movieId</th>\n      <th>title</th>\n      <th>genres</th>\n    </tr>\n  </thead>\n  <tbody>\n    <tr>\n      <th>2795</th>\n      <td>2864</td>\n      <td>splendor</td>\n      <td>[Comedy]</td>\n    </tr>\n  </tbody>\n</table>\n</div>"
     },
     "metadata": {},
     "output_type": "display_data"
    },
    {
     "name": "stdout",
     "output_type": "stream",
     "text": [
      " ----- \n",
      "User 1: \n"
     ]
    },
    {
     "data": {
      "text/plain": "   Action  Adventure  Animation  Childrens  Comedy  Crime  Documentary  Drama  \\\n0     0.6        0.2        0.2       -1.0     0.2   -0.2          0.6    1.0   \n\n   Fantasy  FilmNoir  Horror  Musical  Mystery  Romance  SciFi  Thriller  War  \\\n0      0.2       0.6     0.6      1.0      0.6      1.0    1.0      -0.6 -1.0   \n\n   Western  \n0      0.6  ",
      "text/html": "<div>\n<style scoped>\n    .dataframe tbody tr th:only-of-type {\n        vertical-align: middle;\n    }\n\n    .dataframe tbody tr th {\n        vertical-align: top;\n    }\n\n    .dataframe thead th {\n        text-align: right;\n    }\n</style>\n<table border=\"1\" class=\"dataframe\">\n  <thead>\n    <tr style=\"text-align: right;\">\n      <th></th>\n      <th>Action</th>\n      <th>Adventure</th>\n      <th>Animation</th>\n      <th>Childrens</th>\n      <th>Comedy</th>\n      <th>Crime</th>\n      <th>Documentary</th>\n      <th>Drama</th>\n      <th>Fantasy</th>\n      <th>FilmNoir</th>\n      <th>Horror</th>\n      <th>Musical</th>\n      <th>Mystery</th>\n      <th>Romance</th>\n      <th>SciFi</th>\n      <th>Thriller</th>\n      <th>War</th>\n      <th>Western</th>\n    </tr>\n  </thead>\n  <tbody>\n    <tr>\n      <th>0</th>\n      <td>0.6</td>\n      <td>0.2</td>\n      <td>0.2</td>\n      <td>-1.0</td>\n      <td>0.2</td>\n      <td>-0.2</td>\n      <td>0.6</td>\n      <td>1.0</td>\n      <td>0.2</td>\n      <td>0.6</td>\n      <td>0.6</td>\n      <td>1.0</td>\n      <td>0.6</td>\n      <td>1.0</td>\n      <td>1.0</td>\n      <td>-0.6</td>\n      <td>-1.0</td>\n      <td>0.6</td>\n    </tr>\n  </tbody>\n</table>\n</div>"
     },
     "metadata": {},
     "output_type": "display_data"
    },
    {
     "name": "stdout",
     "output_type": "stream",
     "text": [
      "User 2: \n"
     ]
    },
    {
     "data": {
      "text/plain": "   Action  Adventure  Animation  Childrens  Comedy  Crime  Documentary  Drama  \\\n0    -0.2        0.6        1.0        0.2     0.2    1.0         -0.2    0.2   \n\n   Fantasy  FilmNoir  Horror  Musical  Mystery  Romance  SciFi  Thriller  War  \\\n0     -1.0      -1.0    -1.0     -0.6     -1.0     -1.0   -0.2       0.2  0.6   \n\n   Western  \n0      0.2  ",
      "text/html": "<div>\n<style scoped>\n    .dataframe tbody tr th:only-of-type {\n        vertical-align: middle;\n    }\n\n    .dataframe tbody tr th {\n        vertical-align: top;\n    }\n\n    .dataframe thead th {\n        text-align: right;\n    }\n</style>\n<table border=\"1\" class=\"dataframe\">\n  <thead>\n    <tr style=\"text-align: right;\">\n      <th></th>\n      <th>Action</th>\n      <th>Adventure</th>\n      <th>Animation</th>\n      <th>Childrens</th>\n      <th>Comedy</th>\n      <th>Crime</th>\n      <th>Documentary</th>\n      <th>Drama</th>\n      <th>Fantasy</th>\n      <th>FilmNoir</th>\n      <th>Horror</th>\n      <th>Musical</th>\n      <th>Mystery</th>\n      <th>Romance</th>\n      <th>SciFi</th>\n      <th>Thriller</th>\n      <th>War</th>\n      <th>Western</th>\n    </tr>\n  </thead>\n  <tbody>\n    <tr>\n      <th>0</th>\n      <td>-0.2</td>\n      <td>0.6</td>\n      <td>1.0</td>\n      <td>0.2</td>\n      <td>0.2</td>\n      <td>1.0</td>\n      <td>-0.2</td>\n      <td>0.2</td>\n      <td>-1.0</td>\n      <td>-1.0</td>\n      <td>-1.0</td>\n      <td>-0.6</td>\n      <td>-1.0</td>\n      <td>-1.0</td>\n      <td>-0.2</td>\n      <td>0.2</td>\n      <td>0.6</td>\n      <td>0.2</td>\n    </tr>\n  </tbody>\n</table>\n</div>"
     },
     "metadata": {},
     "output_type": "display_data"
    },
    {
     "name": "stdout",
     "output_type": "stream",
     "text": [
      "Recommendation: \n"
     ]
    },
    {
     "data": {
      "text/plain": "      movieId    title                                      genres\n2253     2322  soldier  [Action, Adventure, Sci-Fi, Thriller, War]",
      "text/html": "<div>\n<style scoped>\n    .dataframe tbody tr th:only-of-type {\n        vertical-align: middle;\n    }\n\n    .dataframe tbody tr th {\n        vertical-align: top;\n    }\n\n    .dataframe thead th {\n        text-align: right;\n    }\n</style>\n<table border=\"1\" class=\"dataframe\">\n  <thead>\n    <tr style=\"text-align: right;\">\n      <th></th>\n      <th>movieId</th>\n      <th>title</th>\n      <th>genres</th>\n    </tr>\n  </thead>\n  <tbody>\n    <tr>\n      <th>2253</th>\n      <td>2322</td>\n      <td>soldier</td>\n      <td>[Action, Adventure, Sci-Fi, Thriller, War]</td>\n    </tr>\n  </tbody>\n</table>\n</div>"
     },
     "metadata": {},
     "output_type": "display_data"
    },
    {
     "name": "stdout",
     "output_type": "stream",
     "text": [
      " ----- \n",
      "User 1: \n"
     ]
    },
    {
     "data": {
      "text/plain": "   Action  Adventure  Animation  Childrens  Comedy  Crime  Documentary  Drama  \\\n0     0.6        0.6        0.2        1.0    -1.0   -1.0          1.0    1.0   \n\n   Fantasy  FilmNoir  Horror  Musical  Mystery  Romance  SciFi  Thriller  War  \\\n0     -0.6       0.6     1.0      0.2      0.6      0.2   -1.0      -1.0 -1.0   \n\n   Western  \n0      0.6  ",
      "text/html": "<div>\n<style scoped>\n    .dataframe tbody tr th:only-of-type {\n        vertical-align: middle;\n    }\n\n    .dataframe tbody tr th {\n        vertical-align: top;\n    }\n\n    .dataframe thead th {\n        text-align: right;\n    }\n</style>\n<table border=\"1\" class=\"dataframe\">\n  <thead>\n    <tr style=\"text-align: right;\">\n      <th></th>\n      <th>Action</th>\n      <th>Adventure</th>\n      <th>Animation</th>\n      <th>Childrens</th>\n      <th>Comedy</th>\n      <th>Crime</th>\n      <th>Documentary</th>\n      <th>Drama</th>\n      <th>Fantasy</th>\n      <th>FilmNoir</th>\n      <th>Horror</th>\n      <th>Musical</th>\n      <th>Mystery</th>\n      <th>Romance</th>\n      <th>SciFi</th>\n      <th>Thriller</th>\n      <th>War</th>\n      <th>Western</th>\n    </tr>\n  </thead>\n  <tbody>\n    <tr>\n      <th>0</th>\n      <td>0.6</td>\n      <td>0.6</td>\n      <td>0.2</td>\n      <td>1.0</td>\n      <td>-1.0</td>\n      <td>-1.0</td>\n      <td>1.0</td>\n      <td>1.0</td>\n      <td>-0.6</td>\n      <td>0.6</td>\n      <td>1.0</td>\n      <td>0.2</td>\n      <td>0.6</td>\n      <td>0.2</td>\n      <td>-1.0</td>\n      <td>-1.0</td>\n      <td>-1.0</td>\n      <td>0.6</td>\n    </tr>\n  </tbody>\n</table>\n</div>"
     },
     "metadata": {},
     "output_type": "display_data"
    },
    {
     "name": "stdout",
     "output_type": "stream",
     "text": [
      "User 2: \n"
     ]
    },
    {
     "data": {
      "text/plain": "   Action  Adventure  Animation  Childrens  Comedy  Crime  Documentary  Drama  \\\n0    -0.6       -1.0        0.6        0.6    -0.2   -0.6          0.2   -0.2   \n\n   Fantasy  FilmNoir  Horror  Musical  Mystery  Romance  SciFi  Thriller  War  \\\n0     -0.6       0.6     1.0     -1.0      0.2     -1.0   -1.0      -0.2  0.6   \n\n   Western  \n0     -1.0  ",
      "text/html": "<div>\n<style scoped>\n    .dataframe tbody tr th:only-of-type {\n        vertical-align: middle;\n    }\n\n    .dataframe tbody tr th {\n        vertical-align: top;\n    }\n\n    .dataframe thead th {\n        text-align: right;\n    }\n</style>\n<table border=\"1\" class=\"dataframe\">\n  <thead>\n    <tr style=\"text-align: right;\">\n      <th></th>\n      <th>Action</th>\n      <th>Adventure</th>\n      <th>Animation</th>\n      <th>Childrens</th>\n      <th>Comedy</th>\n      <th>Crime</th>\n      <th>Documentary</th>\n      <th>Drama</th>\n      <th>Fantasy</th>\n      <th>FilmNoir</th>\n      <th>Horror</th>\n      <th>Musical</th>\n      <th>Mystery</th>\n      <th>Romance</th>\n      <th>SciFi</th>\n      <th>Thriller</th>\n      <th>War</th>\n      <th>Western</th>\n    </tr>\n  </thead>\n  <tbody>\n    <tr>\n      <th>0</th>\n      <td>-0.6</td>\n      <td>-1.0</td>\n      <td>0.6</td>\n      <td>0.6</td>\n      <td>-0.2</td>\n      <td>-0.6</td>\n      <td>0.2</td>\n      <td>-0.2</td>\n      <td>-0.6</td>\n      <td>0.6</td>\n      <td>1.0</td>\n      <td>-1.0</td>\n      <td>0.2</td>\n      <td>-1.0</td>\n      <td>-1.0</td>\n      <td>-0.2</td>\n      <td>0.6</td>\n      <td>-1.0</td>\n    </tr>\n  </tbody>\n</table>\n</div>"
     },
     "metadata": {},
     "output_type": "display_data"
    },
    {
     "name": "stdout",
     "output_type": "stream",
     "text": [
      "Recommendation: \n"
     ]
    },
    {
     "data": {
      "text/plain": "      movieId                   title    genres\n1894     1963  take the money and run  [Comedy]",
      "text/html": "<div>\n<style scoped>\n    .dataframe tbody tr th:only-of-type {\n        vertical-align: middle;\n    }\n\n    .dataframe tbody tr th {\n        vertical-align: top;\n    }\n\n    .dataframe thead th {\n        text-align: right;\n    }\n</style>\n<table border=\"1\" class=\"dataframe\">\n  <thead>\n    <tr style=\"text-align: right;\">\n      <th></th>\n      <th>movieId</th>\n      <th>title</th>\n      <th>genres</th>\n    </tr>\n  </thead>\n  <tbody>\n    <tr>\n      <th>1894</th>\n      <td>1963</td>\n      <td>take the money and run</td>\n      <td>[Comedy]</td>\n    </tr>\n  </tbody>\n</table>\n</div>"
     },
     "metadata": {},
     "output_type": "display_data"
    },
    {
     "name": "stdout",
     "output_type": "stream",
     "text": [
      " ----- \n",
      "User 1: \n"
     ]
    },
    {
     "data": {
      "text/plain": "   Action  Adventure  Animation  Childrens  Comedy  Crime  Documentary  Drama  \\\n0     1.0        0.6       -0.6       -0.6     0.2   -0.2         -1.0    0.2   \n\n   Fantasy  FilmNoir  Horror  Musical  Mystery  Romance  SciFi  Thriller  War  \\\n0     -1.0      -0.2     0.2      0.2      1.0     -1.0   -0.2      -1.0  0.6   \n\n   Western  \n0     -0.2  ",
      "text/html": "<div>\n<style scoped>\n    .dataframe tbody tr th:only-of-type {\n        vertical-align: middle;\n    }\n\n    .dataframe tbody tr th {\n        vertical-align: top;\n    }\n\n    .dataframe thead th {\n        text-align: right;\n    }\n</style>\n<table border=\"1\" class=\"dataframe\">\n  <thead>\n    <tr style=\"text-align: right;\">\n      <th></th>\n      <th>Action</th>\n      <th>Adventure</th>\n      <th>Animation</th>\n      <th>Childrens</th>\n      <th>Comedy</th>\n      <th>Crime</th>\n      <th>Documentary</th>\n      <th>Drama</th>\n      <th>Fantasy</th>\n      <th>FilmNoir</th>\n      <th>Horror</th>\n      <th>Musical</th>\n      <th>Mystery</th>\n      <th>Romance</th>\n      <th>SciFi</th>\n      <th>Thriller</th>\n      <th>War</th>\n      <th>Western</th>\n    </tr>\n  </thead>\n  <tbody>\n    <tr>\n      <th>0</th>\n      <td>1.0</td>\n      <td>0.6</td>\n      <td>-0.6</td>\n      <td>-0.6</td>\n      <td>0.2</td>\n      <td>-0.2</td>\n      <td>-1.0</td>\n      <td>0.2</td>\n      <td>-1.0</td>\n      <td>-0.2</td>\n      <td>0.2</td>\n      <td>0.2</td>\n      <td>1.0</td>\n      <td>-1.0</td>\n      <td>-0.2</td>\n      <td>-1.0</td>\n      <td>0.6</td>\n      <td>-0.2</td>\n    </tr>\n  </tbody>\n</table>\n</div>"
     },
     "metadata": {},
     "output_type": "display_data"
    },
    {
     "name": "stdout",
     "output_type": "stream",
     "text": [
      "User 2: \n"
     ]
    },
    {
     "data": {
      "text/plain": "   Action  Adventure  Animation  Childrens  Comedy  Crime  Documentary  Drama  \\\n0     0.2       -0.2       -1.0        1.0     0.6   -0.6          1.0    1.0   \n\n   Fantasy  FilmNoir  Horror  Musical  Mystery  Romance  SciFi  Thriller  War  \\\n0     -1.0       0.6    -0.6      0.6     -1.0      0.6   -1.0      -1.0  0.2   \n\n   Western  \n0     -1.0  ",
      "text/html": "<div>\n<style scoped>\n    .dataframe tbody tr th:only-of-type {\n        vertical-align: middle;\n    }\n\n    .dataframe tbody tr th {\n        vertical-align: top;\n    }\n\n    .dataframe thead th {\n        text-align: right;\n    }\n</style>\n<table border=\"1\" class=\"dataframe\">\n  <thead>\n    <tr style=\"text-align: right;\">\n      <th></th>\n      <th>Action</th>\n      <th>Adventure</th>\n      <th>Animation</th>\n      <th>Childrens</th>\n      <th>Comedy</th>\n      <th>Crime</th>\n      <th>Documentary</th>\n      <th>Drama</th>\n      <th>Fantasy</th>\n      <th>FilmNoir</th>\n      <th>Horror</th>\n      <th>Musical</th>\n      <th>Mystery</th>\n      <th>Romance</th>\n      <th>SciFi</th>\n      <th>Thriller</th>\n      <th>War</th>\n      <th>Western</th>\n    </tr>\n  </thead>\n  <tbody>\n    <tr>\n      <th>0</th>\n      <td>0.2</td>\n      <td>-0.2</td>\n      <td>-1.0</td>\n      <td>1.0</td>\n      <td>0.6</td>\n      <td>-0.6</td>\n      <td>1.0</td>\n      <td>1.0</td>\n      <td>-1.0</td>\n      <td>0.6</td>\n      <td>-0.6</td>\n      <td>0.6</td>\n      <td>-1.0</td>\n      <td>0.6</td>\n      <td>-1.0</td>\n      <td>-1.0</td>\n      <td>0.2</td>\n      <td>-1.0</td>\n    </tr>\n  </tbody>\n</table>\n</div>"
     },
     "metadata": {},
     "output_type": "display_data"
    },
    {
     "name": "stdout",
     "output_type": "stream",
     "text": [
      "Recommendation: \n"
     ]
    },
    {
     "data": {
      "text/plain": "      movieId                   title    genres\n1894     1963  take the money and run  [Comedy]",
      "text/html": "<div>\n<style scoped>\n    .dataframe tbody tr th:only-of-type {\n        vertical-align: middle;\n    }\n\n    .dataframe tbody tr th {\n        vertical-align: top;\n    }\n\n    .dataframe thead th {\n        text-align: right;\n    }\n</style>\n<table border=\"1\" class=\"dataframe\">\n  <thead>\n    <tr style=\"text-align: right;\">\n      <th></th>\n      <th>movieId</th>\n      <th>title</th>\n      <th>genres</th>\n    </tr>\n  </thead>\n  <tbody>\n    <tr>\n      <th>1894</th>\n      <td>1963</td>\n      <td>take the money and run</td>\n      <td>[Comedy]</td>\n    </tr>\n  </tbody>\n</table>\n</div>"
     },
     "metadata": {},
     "output_type": "display_data"
    },
    {
     "name": "stdout",
     "output_type": "stream",
     "text": [
      " ----- \n",
      "User 1: \n"
     ]
    },
    {
     "data": {
      "text/plain": "   Action  Adventure  Animation  Childrens  Comedy  Crime  Documentary  Drama  \\\n0     0.2       -1.0        0.6        1.0     0.2    0.6         -0.2   -1.0   \n\n   Fantasy  FilmNoir  Horror  Musical  Mystery  Romance  SciFi  Thriller  War  \\\n0      0.6       0.6     0.2      0.2     -0.2      0.6    1.0      -1.0 -1.0   \n\n   Western  \n0      1.0  ",
      "text/html": "<div>\n<style scoped>\n    .dataframe tbody tr th:only-of-type {\n        vertical-align: middle;\n    }\n\n    .dataframe tbody tr th {\n        vertical-align: top;\n    }\n\n    .dataframe thead th {\n        text-align: right;\n    }\n</style>\n<table border=\"1\" class=\"dataframe\">\n  <thead>\n    <tr style=\"text-align: right;\">\n      <th></th>\n      <th>Action</th>\n      <th>Adventure</th>\n      <th>Animation</th>\n      <th>Childrens</th>\n      <th>Comedy</th>\n      <th>Crime</th>\n      <th>Documentary</th>\n      <th>Drama</th>\n      <th>Fantasy</th>\n      <th>FilmNoir</th>\n      <th>Horror</th>\n      <th>Musical</th>\n      <th>Mystery</th>\n      <th>Romance</th>\n      <th>SciFi</th>\n      <th>Thriller</th>\n      <th>War</th>\n      <th>Western</th>\n    </tr>\n  </thead>\n  <tbody>\n    <tr>\n      <th>0</th>\n      <td>0.2</td>\n      <td>-1.0</td>\n      <td>0.6</td>\n      <td>1.0</td>\n      <td>0.2</td>\n      <td>0.6</td>\n      <td>-0.2</td>\n      <td>-1.0</td>\n      <td>0.6</td>\n      <td>0.6</td>\n      <td>0.2</td>\n      <td>0.2</td>\n      <td>-0.2</td>\n      <td>0.6</td>\n      <td>1.0</td>\n      <td>-1.0</td>\n      <td>-1.0</td>\n      <td>1.0</td>\n    </tr>\n  </tbody>\n</table>\n</div>"
     },
     "metadata": {},
     "output_type": "display_data"
    },
    {
     "name": "stdout",
     "output_type": "stream",
     "text": [
      "User 2: \n"
     ]
    },
    {
     "data": {
      "text/plain": "   Action  Adventure  Animation  Childrens  Comedy  Crime  Documentary  Drama  \\\n0    -0.2       -1.0        0.2        0.6     0.2   -0.2          0.6   -0.2   \n\n   Fantasy  FilmNoir  Horror  Musical  Mystery  Romance  SciFi  Thriller  War  \\\n0      0.2      -1.0    -0.6      0.2      0.6      0.2   -1.0      -1.0  0.6   \n\n   Western  \n0     -0.6  ",
      "text/html": "<div>\n<style scoped>\n    .dataframe tbody tr th:only-of-type {\n        vertical-align: middle;\n    }\n\n    .dataframe tbody tr th {\n        vertical-align: top;\n    }\n\n    .dataframe thead th {\n        text-align: right;\n    }\n</style>\n<table border=\"1\" class=\"dataframe\">\n  <thead>\n    <tr style=\"text-align: right;\">\n      <th></th>\n      <th>Action</th>\n      <th>Adventure</th>\n      <th>Animation</th>\n      <th>Childrens</th>\n      <th>Comedy</th>\n      <th>Crime</th>\n      <th>Documentary</th>\n      <th>Drama</th>\n      <th>Fantasy</th>\n      <th>FilmNoir</th>\n      <th>Horror</th>\n      <th>Musical</th>\n      <th>Mystery</th>\n      <th>Romance</th>\n      <th>SciFi</th>\n      <th>Thriller</th>\n      <th>War</th>\n      <th>Western</th>\n    </tr>\n  </thead>\n  <tbody>\n    <tr>\n      <th>0</th>\n      <td>-0.2</td>\n      <td>-1.0</td>\n      <td>0.2</td>\n      <td>0.6</td>\n      <td>0.2</td>\n      <td>-0.2</td>\n      <td>0.6</td>\n      <td>-0.2</td>\n      <td>0.2</td>\n      <td>-1.0</td>\n      <td>-0.6</td>\n      <td>0.2</td>\n      <td>0.6</td>\n      <td>0.2</td>\n      <td>-1.0</td>\n      <td>-1.0</td>\n      <td>0.6</td>\n      <td>-0.6</td>\n    </tr>\n  </tbody>\n</table>\n</div>"
     },
     "metadata": {},
     "output_type": "display_data"
    },
    {
     "name": "stdout",
     "output_type": "stream",
     "text": [
      "Recommendation: \n"
     ]
    },
    {
     "data": {
      "text/plain": "    movieId       title                                     genres\n47       48  pocahontas  [Animation, Children's, Musical, Romance]",
      "text/html": "<div>\n<style scoped>\n    .dataframe tbody tr th:only-of-type {\n        vertical-align: middle;\n    }\n\n    .dataframe tbody tr th {\n        vertical-align: top;\n    }\n\n    .dataframe thead th {\n        text-align: right;\n    }\n</style>\n<table border=\"1\" class=\"dataframe\">\n  <thead>\n    <tr style=\"text-align: right;\">\n      <th></th>\n      <th>movieId</th>\n      <th>title</th>\n      <th>genres</th>\n    </tr>\n  </thead>\n  <tbody>\n    <tr>\n      <th>47</th>\n      <td>48</td>\n      <td>pocahontas</td>\n      <td>[Animation, Children's, Musical, Romance]</td>\n    </tr>\n  </tbody>\n</table>\n</div>"
     },
     "metadata": {},
     "output_type": "display_data"
    },
    {
     "name": "stdout",
     "output_type": "stream",
     "text": [
      " ----- \n",
      "User 1: \n"
     ]
    },
    {
     "data": {
      "text/plain": "   Action  Adventure  Animation  Childrens  Comedy  Crime  Documentary  Drama  \\\n0     1.0        1.0        1.0        0.2    -0.2   -1.0         -0.2    0.6   \n\n   Fantasy  FilmNoir  Horror  Musical  Mystery  Romance  SciFi  Thriller  War  \\\n0      0.2      -0.6     0.6      0.6     -1.0      1.0   -1.0       1.0  0.6   \n\n   Western  \n0      0.6  ",
      "text/html": "<div>\n<style scoped>\n    .dataframe tbody tr th:only-of-type {\n        vertical-align: middle;\n    }\n\n    .dataframe tbody tr th {\n        vertical-align: top;\n    }\n\n    .dataframe thead th {\n        text-align: right;\n    }\n</style>\n<table border=\"1\" class=\"dataframe\">\n  <thead>\n    <tr style=\"text-align: right;\">\n      <th></th>\n      <th>Action</th>\n      <th>Adventure</th>\n      <th>Animation</th>\n      <th>Childrens</th>\n      <th>Comedy</th>\n      <th>Crime</th>\n      <th>Documentary</th>\n      <th>Drama</th>\n      <th>Fantasy</th>\n      <th>FilmNoir</th>\n      <th>Horror</th>\n      <th>Musical</th>\n      <th>Mystery</th>\n      <th>Romance</th>\n      <th>SciFi</th>\n      <th>Thriller</th>\n      <th>War</th>\n      <th>Western</th>\n    </tr>\n  </thead>\n  <tbody>\n    <tr>\n      <th>0</th>\n      <td>1.0</td>\n      <td>1.0</td>\n      <td>1.0</td>\n      <td>0.2</td>\n      <td>-0.2</td>\n      <td>-1.0</td>\n      <td>-0.2</td>\n      <td>0.6</td>\n      <td>0.2</td>\n      <td>-0.6</td>\n      <td>0.6</td>\n      <td>0.6</td>\n      <td>-1.0</td>\n      <td>1.0</td>\n      <td>-1.0</td>\n      <td>1.0</td>\n      <td>0.6</td>\n      <td>0.6</td>\n    </tr>\n  </tbody>\n</table>\n</div>"
     },
     "metadata": {},
     "output_type": "display_data"
    },
    {
     "name": "stdout",
     "output_type": "stream",
     "text": [
      "User 2: \n"
     ]
    },
    {
     "data": {
      "text/plain": "   Action  Adventure  Animation  Childrens  Comedy  Crime  Documentary  Drama  \\\n0     1.0        0.6       -0.2        1.0    -1.0    1.0          0.2    0.2   \n\n   Fantasy  FilmNoir  Horror  Musical  Mystery  Romance  SciFi  Thriller  War  \\\n0      0.6      -0.2    -0.2     -0.2     -0.2      1.0    0.6      -1.0  0.2   \n\n   Western  \n0     -0.2  ",
      "text/html": "<div>\n<style scoped>\n    .dataframe tbody tr th:only-of-type {\n        vertical-align: middle;\n    }\n\n    .dataframe tbody tr th {\n        vertical-align: top;\n    }\n\n    .dataframe thead th {\n        text-align: right;\n    }\n</style>\n<table border=\"1\" class=\"dataframe\">\n  <thead>\n    <tr style=\"text-align: right;\">\n      <th></th>\n      <th>Action</th>\n      <th>Adventure</th>\n      <th>Animation</th>\n      <th>Childrens</th>\n      <th>Comedy</th>\n      <th>Crime</th>\n      <th>Documentary</th>\n      <th>Drama</th>\n      <th>Fantasy</th>\n      <th>FilmNoir</th>\n      <th>Horror</th>\n      <th>Musical</th>\n      <th>Mystery</th>\n      <th>Romance</th>\n      <th>SciFi</th>\n      <th>Thriller</th>\n      <th>War</th>\n      <th>Western</th>\n    </tr>\n  </thead>\n  <tbody>\n    <tr>\n      <th>0</th>\n      <td>1.0</td>\n      <td>0.6</td>\n      <td>-0.2</td>\n      <td>1.0</td>\n      <td>-1.0</td>\n      <td>1.0</td>\n      <td>0.2</td>\n      <td>0.2</td>\n      <td>0.6</td>\n      <td>-0.2</td>\n      <td>-0.2</td>\n      <td>-0.2</td>\n      <td>-0.2</td>\n      <td>1.0</td>\n      <td>0.6</td>\n      <td>-1.0</td>\n      <td>0.2</td>\n      <td>-0.2</td>\n    </tr>\n  </tbody>\n</table>\n</div>"
     },
     "metadata": {},
     "output_type": "display_data"
    },
    {
     "name": "stdout",
     "output_type": "stream",
     "text": [
      "Recommendation: \n"
     ]
    },
    {
     "data": {
      "text/plain": "      movieId                     title                        genres\n3084     3153  the 7th voyage of sinbad  [Action, Adventure, Fantasy]",
      "text/html": "<div>\n<style scoped>\n    .dataframe tbody tr th:only-of-type {\n        vertical-align: middle;\n    }\n\n    .dataframe tbody tr th {\n        vertical-align: top;\n    }\n\n    .dataframe thead th {\n        text-align: right;\n    }\n</style>\n<table border=\"1\" class=\"dataframe\">\n  <thead>\n    <tr style=\"text-align: right;\">\n      <th></th>\n      <th>movieId</th>\n      <th>title</th>\n      <th>genres</th>\n    </tr>\n  </thead>\n  <tbody>\n    <tr>\n      <th>3084</th>\n      <td>3153</td>\n      <td>the 7th voyage of sinbad</td>\n      <td>[Action, Adventure, Fantasy]</td>\n    </tr>\n  </tbody>\n</table>\n</div>"
     },
     "metadata": {},
     "output_type": "display_data"
    },
    {
     "name": "stdout",
     "output_type": "stream",
     "text": [
      " ----- \n",
      "User 1: \n"
     ]
    },
    {
     "data": {
      "text/plain": "   Action  Adventure  Animation  Childrens  Comedy  Crime  Documentary  Drama  \\\n0     0.6       -1.0       -1.0       -0.6     1.0    0.2         -0.2   -0.6   \n\n   Fantasy  FilmNoir  Horror  Musical  Mystery  Romance  SciFi  Thriller  War  \\\n0      1.0      -0.2     1.0     -1.0     -1.0      0.2    0.6       0.6  0.2   \n\n   Western  \n0     -1.0  ",
      "text/html": "<div>\n<style scoped>\n    .dataframe tbody tr th:only-of-type {\n        vertical-align: middle;\n    }\n\n    .dataframe tbody tr th {\n        vertical-align: top;\n    }\n\n    .dataframe thead th {\n        text-align: right;\n    }\n</style>\n<table border=\"1\" class=\"dataframe\">\n  <thead>\n    <tr style=\"text-align: right;\">\n      <th></th>\n      <th>Action</th>\n      <th>Adventure</th>\n      <th>Animation</th>\n      <th>Childrens</th>\n      <th>Comedy</th>\n      <th>Crime</th>\n      <th>Documentary</th>\n      <th>Drama</th>\n      <th>Fantasy</th>\n      <th>FilmNoir</th>\n      <th>Horror</th>\n      <th>Musical</th>\n      <th>Mystery</th>\n      <th>Romance</th>\n      <th>SciFi</th>\n      <th>Thriller</th>\n      <th>War</th>\n      <th>Western</th>\n    </tr>\n  </thead>\n  <tbody>\n    <tr>\n      <th>0</th>\n      <td>0.6</td>\n      <td>-1.0</td>\n      <td>-1.0</td>\n      <td>-0.6</td>\n      <td>1.0</td>\n      <td>0.2</td>\n      <td>-0.2</td>\n      <td>-0.6</td>\n      <td>1.0</td>\n      <td>-0.2</td>\n      <td>1.0</td>\n      <td>-1.0</td>\n      <td>-1.0</td>\n      <td>0.2</td>\n      <td>0.6</td>\n      <td>0.6</td>\n      <td>0.2</td>\n      <td>-1.0</td>\n    </tr>\n  </tbody>\n</table>\n</div>"
     },
     "metadata": {},
     "output_type": "display_data"
    },
    {
     "name": "stdout",
     "output_type": "stream",
     "text": [
      "User 2: \n"
     ]
    },
    {
     "data": {
      "text/plain": "   Action  Adventure  Animation  Childrens  Comedy  Crime  Documentary  Drama  \\\n0    -1.0       -0.2        0.2        0.2    -0.2   -0.6          0.6   -0.6   \n\n   Fantasy  FilmNoir  Horror  Musical  Mystery  Romance  SciFi  Thriller  War  \\\n0     -0.2      -0.2     0.6      1.0     -0.6     -1.0   -0.6       1.0  0.6   \n\n   Western  \n0     -1.0  ",
      "text/html": "<div>\n<style scoped>\n    .dataframe tbody tr th:only-of-type {\n        vertical-align: middle;\n    }\n\n    .dataframe tbody tr th {\n        vertical-align: top;\n    }\n\n    .dataframe thead th {\n        text-align: right;\n    }\n</style>\n<table border=\"1\" class=\"dataframe\">\n  <thead>\n    <tr style=\"text-align: right;\">\n      <th></th>\n      <th>Action</th>\n      <th>Adventure</th>\n      <th>Animation</th>\n      <th>Childrens</th>\n      <th>Comedy</th>\n      <th>Crime</th>\n      <th>Documentary</th>\n      <th>Drama</th>\n      <th>Fantasy</th>\n      <th>FilmNoir</th>\n      <th>Horror</th>\n      <th>Musical</th>\n      <th>Mystery</th>\n      <th>Romance</th>\n      <th>SciFi</th>\n      <th>Thriller</th>\n      <th>War</th>\n      <th>Western</th>\n    </tr>\n  </thead>\n  <tbody>\n    <tr>\n      <th>0</th>\n      <td>-1.0</td>\n      <td>-0.2</td>\n      <td>0.2</td>\n      <td>0.2</td>\n      <td>-0.2</td>\n      <td>-0.6</td>\n      <td>0.6</td>\n      <td>-0.6</td>\n      <td>-0.2</td>\n      <td>-0.2</td>\n      <td>0.6</td>\n      <td>1.0</td>\n      <td>-0.6</td>\n      <td>-1.0</td>\n      <td>-0.6</td>\n      <td>1.0</td>\n      <td>0.6</td>\n      <td>-1.0</td>\n    </tr>\n  </tbody>\n</table>\n</div>"
     },
     "metadata": {},
     "output_type": "display_data"
    },
    {
     "name": "stdout",
     "output_type": "stream",
     "text": [
      "Recommendation: \n"
     ]
    },
    {
     "data": {
      "text/plain": "      movieId     title           genres\n2491     2560  ravenous  [Drama, Horror]",
      "text/html": "<div>\n<style scoped>\n    .dataframe tbody tr th:only-of-type {\n        vertical-align: middle;\n    }\n\n    .dataframe tbody tr th {\n        vertical-align: top;\n    }\n\n    .dataframe thead th {\n        text-align: right;\n    }\n</style>\n<table border=\"1\" class=\"dataframe\">\n  <thead>\n    <tr style=\"text-align: right;\">\n      <th></th>\n      <th>movieId</th>\n      <th>title</th>\n      <th>genres</th>\n    </tr>\n  </thead>\n  <tbody>\n    <tr>\n      <th>2491</th>\n      <td>2560</td>\n      <td>ravenous</td>\n      <td>[Drama, Horror]</td>\n    </tr>\n  </tbody>\n</table>\n</div>"
     },
     "metadata": {},
     "output_type": "display_data"
    },
    {
     "name": "stdout",
     "output_type": "stream",
     "text": [
      " ----- \n",
      "User 1: \n"
     ]
    },
    {
     "data": {
      "text/plain": "   Action  Adventure  Animation  Childrens  Comedy  Crime  Documentary  Drama  \\\n0     1.0        1.0       -0.2       -0.6     0.6    0.6          0.2    1.0   \n\n   Fantasy  FilmNoir  Horror  Musical  Mystery  Romance  SciFi  Thriller  War  \\\n0      0.2       1.0     0.2      0.2     -0.6      1.0    0.6      -1.0  0.6   \n\n   Western  \n0      0.6  ",
      "text/html": "<div>\n<style scoped>\n    .dataframe tbody tr th:only-of-type {\n        vertical-align: middle;\n    }\n\n    .dataframe tbody tr th {\n        vertical-align: top;\n    }\n\n    .dataframe thead th {\n        text-align: right;\n    }\n</style>\n<table border=\"1\" class=\"dataframe\">\n  <thead>\n    <tr style=\"text-align: right;\">\n      <th></th>\n      <th>Action</th>\n      <th>Adventure</th>\n      <th>Animation</th>\n      <th>Childrens</th>\n      <th>Comedy</th>\n      <th>Crime</th>\n      <th>Documentary</th>\n      <th>Drama</th>\n      <th>Fantasy</th>\n      <th>FilmNoir</th>\n      <th>Horror</th>\n      <th>Musical</th>\n      <th>Mystery</th>\n      <th>Romance</th>\n      <th>SciFi</th>\n      <th>Thriller</th>\n      <th>War</th>\n      <th>Western</th>\n    </tr>\n  </thead>\n  <tbody>\n    <tr>\n      <th>0</th>\n      <td>1.0</td>\n      <td>1.0</td>\n      <td>-0.2</td>\n      <td>-0.6</td>\n      <td>0.6</td>\n      <td>0.6</td>\n      <td>0.2</td>\n      <td>1.0</td>\n      <td>0.2</td>\n      <td>1.0</td>\n      <td>0.2</td>\n      <td>0.2</td>\n      <td>-0.6</td>\n      <td>1.0</td>\n      <td>0.6</td>\n      <td>-1.0</td>\n      <td>0.6</td>\n      <td>0.6</td>\n    </tr>\n  </tbody>\n</table>\n</div>"
     },
     "metadata": {},
     "output_type": "display_data"
    },
    {
     "name": "stdout",
     "output_type": "stream",
     "text": [
      "User 2: \n"
     ]
    },
    {
     "data": {
      "text/plain": "   Action  Adventure  Animation  Childrens  Comedy  Crime  Documentary  Drama  \\\n0    -0.2        0.6       -0.6        0.6     0.2   -1.0          0.6   -1.0   \n\n   Fantasy  FilmNoir  Horror  Musical  Mystery  Romance  SciFi  Thriller  War  \\\n0      0.6       1.0     0.2      0.6      0.2      1.0    0.2      -1.0  0.2   \n\n   Western  \n0     -0.2  ",
      "text/html": "<div>\n<style scoped>\n    .dataframe tbody tr th:only-of-type {\n        vertical-align: middle;\n    }\n\n    .dataframe tbody tr th {\n        vertical-align: top;\n    }\n\n    .dataframe thead th {\n        text-align: right;\n    }\n</style>\n<table border=\"1\" class=\"dataframe\">\n  <thead>\n    <tr style=\"text-align: right;\">\n      <th></th>\n      <th>Action</th>\n      <th>Adventure</th>\n      <th>Animation</th>\n      <th>Childrens</th>\n      <th>Comedy</th>\n      <th>Crime</th>\n      <th>Documentary</th>\n      <th>Drama</th>\n      <th>Fantasy</th>\n      <th>FilmNoir</th>\n      <th>Horror</th>\n      <th>Musical</th>\n      <th>Mystery</th>\n      <th>Romance</th>\n      <th>SciFi</th>\n      <th>Thriller</th>\n      <th>War</th>\n      <th>Western</th>\n    </tr>\n  </thead>\n  <tbody>\n    <tr>\n      <th>0</th>\n      <td>-0.2</td>\n      <td>0.6</td>\n      <td>-0.6</td>\n      <td>0.6</td>\n      <td>0.2</td>\n      <td>-1.0</td>\n      <td>0.6</td>\n      <td>-1.0</td>\n      <td>0.6</td>\n      <td>1.0</td>\n      <td>0.2</td>\n      <td>0.6</td>\n      <td>0.2</td>\n      <td>1.0</td>\n      <td>0.2</td>\n      <td>-1.0</td>\n      <td>0.2</td>\n      <td>-0.2</td>\n    </tr>\n  </tbody>\n</table>\n</div>"
     },
     "metadata": {},
     "output_type": "display_data"
    },
    {
     "name": "stdout",
     "output_type": "stream",
     "text": [
      "Recommendation: \n"
     ]
    },
    {
     "data": {
      "text/plain": "     movieId        title                        genres\n647      653  dragonheart  [Action, Adventure, Fantasy]",
      "text/html": "<div>\n<style scoped>\n    .dataframe tbody tr th:only-of-type {\n        vertical-align: middle;\n    }\n\n    .dataframe tbody tr th {\n        vertical-align: top;\n    }\n\n    .dataframe thead th {\n        text-align: right;\n    }\n</style>\n<table border=\"1\" class=\"dataframe\">\n  <thead>\n    <tr style=\"text-align: right;\">\n      <th></th>\n      <th>movieId</th>\n      <th>title</th>\n      <th>genres</th>\n    </tr>\n  </thead>\n  <tbody>\n    <tr>\n      <th>647</th>\n      <td>653</td>\n      <td>dragonheart</td>\n      <td>[Action, Adventure, Fantasy]</td>\n    </tr>\n  </tbody>\n</table>\n</div>"
     },
     "metadata": {},
     "output_type": "display_data"
    },
    {
     "name": "stdout",
     "output_type": "stream",
     "text": [
      " ----- \n",
      "User 1: \n"
     ]
    },
    {
     "data": {
      "text/plain": "   Action  Adventure  Animation  Childrens  Comedy  Crime  Documentary  Drama  \\\n0     0.2        0.6        1.0       -0.6     0.6    1.0         -1.0    1.0   \n\n   Fantasy  FilmNoir  Horror  Musical  Mystery  Romance  SciFi  Thriller  War  \\\n0      0.2       0.6    -0.6     -1.0      1.0      0.6   -0.2       0.6 -0.6   \n\n   Western  \n0     -0.6  ",
      "text/html": "<div>\n<style scoped>\n    .dataframe tbody tr th:only-of-type {\n        vertical-align: middle;\n    }\n\n    .dataframe tbody tr th {\n        vertical-align: top;\n    }\n\n    .dataframe thead th {\n        text-align: right;\n    }\n</style>\n<table border=\"1\" class=\"dataframe\">\n  <thead>\n    <tr style=\"text-align: right;\">\n      <th></th>\n      <th>Action</th>\n      <th>Adventure</th>\n      <th>Animation</th>\n      <th>Childrens</th>\n      <th>Comedy</th>\n      <th>Crime</th>\n      <th>Documentary</th>\n      <th>Drama</th>\n      <th>Fantasy</th>\n      <th>FilmNoir</th>\n      <th>Horror</th>\n      <th>Musical</th>\n      <th>Mystery</th>\n      <th>Romance</th>\n      <th>SciFi</th>\n      <th>Thriller</th>\n      <th>War</th>\n      <th>Western</th>\n    </tr>\n  </thead>\n  <tbody>\n    <tr>\n      <th>0</th>\n      <td>0.2</td>\n      <td>0.6</td>\n      <td>1.0</td>\n      <td>-0.6</td>\n      <td>0.6</td>\n      <td>1.0</td>\n      <td>-1.0</td>\n      <td>1.0</td>\n      <td>0.2</td>\n      <td>0.6</td>\n      <td>-0.6</td>\n      <td>-1.0</td>\n      <td>1.0</td>\n      <td>0.6</td>\n      <td>-0.2</td>\n      <td>0.6</td>\n      <td>-0.6</td>\n      <td>-0.6</td>\n    </tr>\n  </tbody>\n</table>\n</div>"
     },
     "metadata": {},
     "output_type": "display_data"
    },
    {
     "name": "stdout",
     "output_type": "stream",
     "text": [
      "User 2: \n"
     ]
    },
    {
     "data": {
      "text/plain": "   Action  Adventure  Animation  Childrens  Comedy  Crime  Documentary  Drama  \\\n0    -0.6        1.0       -1.0       -0.6     0.6    1.0          0.2    0.6   \n\n   Fantasy  FilmNoir  Horror  Musical  Mystery  Romance  SciFi  Thriller  War  \\\n0      1.0      -0.6    -1.0      0.6     -0.2     -1.0   -0.2       0.2  0.2   \n\n   Western  \n0     -0.6  ",
      "text/html": "<div>\n<style scoped>\n    .dataframe tbody tr th:only-of-type {\n        vertical-align: middle;\n    }\n\n    .dataframe tbody tr th {\n        vertical-align: top;\n    }\n\n    .dataframe thead th {\n        text-align: right;\n    }\n</style>\n<table border=\"1\" class=\"dataframe\">\n  <thead>\n    <tr style=\"text-align: right;\">\n      <th></th>\n      <th>Action</th>\n      <th>Adventure</th>\n      <th>Animation</th>\n      <th>Childrens</th>\n      <th>Comedy</th>\n      <th>Crime</th>\n      <th>Documentary</th>\n      <th>Drama</th>\n      <th>Fantasy</th>\n      <th>FilmNoir</th>\n      <th>Horror</th>\n      <th>Musical</th>\n      <th>Mystery</th>\n      <th>Romance</th>\n      <th>SciFi</th>\n      <th>Thriller</th>\n      <th>War</th>\n      <th>Western</th>\n    </tr>\n  </thead>\n  <tbody>\n    <tr>\n      <th>0</th>\n      <td>-0.6</td>\n      <td>1.0</td>\n      <td>-1.0</td>\n      <td>-0.6</td>\n      <td>0.6</td>\n      <td>1.0</td>\n      <td>0.2</td>\n      <td>0.6</td>\n      <td>1.0</td>\n      <td>-0.6</td>\n      <td>-1.0</td>\n      <td>0.6</td>\n      <td>-0.2</td>\n      <td>-1.0</td>\n      <td>-0.2</td>\n      <td>0.2</td>\n      <td>0.2</td>\n      <td>-0.6</td>\n    </tr>\n  </tbody>\n</table>\n</div>"
     },
     "metadata": {},
     "output_type": "display_data"
    },
    {
     "name": "stdout",
     "output_type": "stream",
     "text": [
      "Recommendation: \n"
     ]
    },
    {
     "data": {
      "text/plain": "      movieId               title             genres\n3284     3353  the closer you get  [Comedy, Romance]",
      "text/html": "<div>\n<style scoped>\n    .dataframe tbody tr th:only-of-type {\n        vertical-align: middle;\n    }\n\n    .dataframe tbody tr th {\n        vertical-align: top;\n    }\n\n    .dataframe thead th {\n        text-align: right;\n    }\n</style>\n<table border=\"1\" class=\"dataframe\">\n  <thead>\n    <tr style=\"text-align: right;\">\n      <th></th>\n      <th>movieId</th>\n      <th>title</th>\n      <th>genres</th>\n    </tr>\n  </thead>\n  <tbody>\n    <tr>\n      <th>3284</th>\n      <td>3353</td>\n      <td>the closer you get</td>\n      <td>[Comedy, Romance]</td>\n    </tr>\n  </tbody>\n</table>\n</div>"
     },
     "metadata": {},
     "output_type": "display_data"
    },
    {
     "name": "stdout",
     "output_type": "stream",
     "text": [
      " ----- \n"
     ]
    }
   ],
   "source": [
    "# We will create two random users and recommend a movie for them\n",
    "for i in range(10):\n",
    "    user_1 = build_user_preferences(\n",
    "        Action=np.random.randint(0, 6),\n",
    "        Adventure=np.random.randint(0, 6),\n",
    "        Animation=np.random.randint(0, 6),\n",
    "        Childrens=np.random.randint(0, 6),\n",
    "        Comedy=np.random.randint(0, 6),\n",
    "        Crime=np.random.randint(0, 6),\n",
    "        Documentary=np.random.randint(0, 6),\n",
    "        Drama=np.random.randint(0, 6),\n",
    "        Fantasy=np.random.randint(0, 6),\n",
    "        FilmNoir=np.random.randint(0, 6),\n",
    "        Horror=np.random.randint(0, 6),\n",
    "        Musical=np.random.randint(0, 6),\n",
    "        Mystery=np.random.randint(0, 6),\n",
    "        Romance=np.random.randint(0, 6),\n",
    "        SciFi=np.random.randint(0, 6),\n",
    "        Thriller=np.random.randint(0, 6),\n",
    "        War=np.random.randint(0, 6),\n",
    "        Western=np.random.randint(0, 6)\n",
    "    )\n",
    "    user_2 = build_user_preferences(\n",
    "        Action=np.random.randint(0, 6),\n",
    "        Adventure=np.random.randint(0, 6),\n",
    "        Animation=np.random.randint(0, 6),\n",
    "        Childrens=np.random.randint(0, 6),\n",
    "        Comedy=np.random.randint(0, 6),\n",
    "        Crime=np.random.randint(0, 6),\n",
    "        Documentary=np.random.randint(0, 6),\n",
    "        Drama=np.random.randint(0, 6),\n",
    "        Fantasy=np.random.randint(0, 6),\n",
    "        FilmNoir=np.random.randint(0, 6),\n",
    "        Horror=np.random.randint(0, 6),\n",
    "        Musical=np.random.randint(0, 6),\n",
    "        Mystery=np.random.randint(0, 6),\n",
    "        Romance=np.random.randint(0, 6),\n",
    "        SciFi=np.random.randint(0, 6),\n",
    "        Thriller=np.random.randint(0, 6),\n",
    "        War=np.random.randint(0, 6),\n",
    "        Western=np.random.randint(0, 6)\n",
    "    )\n",
    "    reco = recommand_common_movie_from_user_preferences(user_1, user_2)\n",
    "    print(\"User 1: \")\n",
    "    display(user_1)\n",
    "    print(\"User 2: \")\n",
    "    display(user_2)\n",
    "    print(\"Recommendation: \")\n",
    "    display(reco)\n",
    "    print(\" ----- \")"
   ],
   "metadata": {
    "collapsed": false,
    "ExecuteTime": {
     "end_time": "2024-07-07T20:15:10.176622900Z",
     "start_time": "2024-07-07T20:14:01.657590200Z"
    }
   },
   "id": "44aa5103f6527e10",
   "execution_count": 31
  },
  {
   "cell_type": "markdown",
   "source": [
    "## Conclusion\n",
    "\n",
    "We can see that the recommendation system works most of the time.\n",
    "But there are some cases where the recommendation is not relevant.\n",
    "\n",
    "We can also criticize the model itself not being that good, as the standard deviation of the model is quite high.\n",
    "The thing is, even with higher epochs, the model doesn't seem to improve that much, and the loss doesn't decrease that much.\n",
    "\n",
    "We could try to improve the model by adding more layers or more neurons, but as the dataset is quite small, and the training time is already quite long, we will not have time to improve this model, unfortunately."
   ],
   "metadata": {
    "collapsed": false
   },
   "id": "bd4730b789ddf398"
  },
  {
   "cell_type": "code",
   "outputs": [],
   "source": [],
   "metadata": {
    "collapsed": false
   },
   "id": "1c5af3c76ea49edb"
  }
 ],
 "metadata": {
  "kernelspec": {
   "display_name": "Python 3",
   "language": "python",
   "name": "python3"
  },
  "language_info": {
   "codemirror_mode": {
    "name": "ipython",
    "version": 2
   },
   "file_extension": ".py",
   "mimetype": "text/x-python",
   "name": "python",
   "nbconvert_exporter": "python",
   "pygments_lexer": "ipython2",
   "version": "2.7.6"
  }
 },
 "nbformat": 4,
 "nbformat_minor": 5
}
